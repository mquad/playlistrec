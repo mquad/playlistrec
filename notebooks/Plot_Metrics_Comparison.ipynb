{
 "metadata": {
  "name": ""
 },
 "nbformat": 3,
 "nbformat_minor": 0,
 "worksheets": [
  {
   "cells": [
    {
     "cell_type": "code",
     "collapsed": false,
     "input": [
      "import json\n",
      "import copy\n",
      "\n",
      "conf = {}\n",
      "\n",
      "conf['split'] = {}\n",
      "conf['split']['reclistSize'] = 100\n",
      "conf['split']['callParams'] = {}\n",
      "conf['split']['excludeAlreadyListenedTest'] = True\n",
      "conf['split']['name'] = '0_1SPLIT_1413851857_sessionsession_1413851857'\n",
      "conf['split']['minEventsPerUser'] = 5\n",
      "conf['split']['inputData'] = 's3n://contentwise-research-poli/split2.split/0_1SPLIT_1413851857_sessionsession_1413851857/'\n",
      "#conf['split']['inputData'] = 's3n://contentwise-research-poli/30musicdataset/newFormat/relations/sessions.idomaar'\n",
      "conf['split']['bucketName'] = 'contentwise-research-poli'\n",
      "conf['split']['percUsTr'] = 0.05\n",
      "conf['split']['ts'] = int(0.75 * (1421745857 - 1390209860) + 1390209860) - 10000\n",
      "conf['split']['minEventPerSession'] = 5\n",
      "conf['split']['onlineTrainingLength'] = 5\n",
      "conf['split']['GTlength'] = 5\n",
      "conf['split']['minEventPerSessionTraining'] = 10\n",
      "conf['split']['minEventPerSessionTest'] = 11\n",
      "conf['split']['mode'] = 'session'\n",
      "conf['split']['forceSplitCreation'] = False\n",
      "\n",
      "conf['evaluation'] = {}\n",
      "conf['evaluation']['metric'] = {}\n",
      "conf['evaluation']['metric']['type'] = 'recall'\n",
      "conf['evaluation']['metric']['prop'] = {}\n",
      "conf['evaluation']['metric']['prop']['N'] = [1,2,5,10,15,20,25,50,100]\n",
      "conf['evaluation']['name'] = 'recall@N'\n",
      "\n",
      "conf['general'] = {}\n",
      "conf['general']['clientname'] = \"split2.split\"\n",
      "conf['general']['bucketName'] = 'contentwise-research-poli'\n",
      "conf['general']['tmpDir'] = \"/tmp\"\n"
     ],
     "language": "python",
     "metadata": {},
     "outputs": [],
     "prompt_number": 1
    },
    {
     "cell_type": "code",
     "collapsed": false,
     "input": [
      "import matplotlib.pyplot as plt\n",
      "from matplotlib import cm\n",
      "\n",
      "def bar_plot(x, y, labels, metric):\n",
      "    n_groups = len(x)\n",
      "    \n",
      "    fig, ax = plt.subplots()\n",
      "    \n",
      "    index = np.arange(n_groups)\n",
      "    bar_width = float(1)/len(y)\n",
      "    \n",
      "    opacity = 0.4\n",
      "    \n",
      "    for idx, label_y in enumerate(zip(labels, y)):\n",
      "        label, values = label_y\n",
      "        plt.bar(index + idx*bar_width, values, bar_width,\n",
      "                alpha=opacity,\n",
      "                color=cm.jet(float(idx)/len(y)),\n",
      "                label=label)\n",
      "\n",
      "    plt.xlabel('N')\n",
      "    plt.ylabel(metric)\n",
      "    plt.xticks(index, x)\n",
      "    plt.legend(loc=2)\n",
      "    \n",
      "    plt.tight_layout()\n",
      "    #plt.show()\n",
      "    plt.savefig('comparison.png')"
     ],
     "language": "python",
     "metadata": {},
     "outputs": [],
     "prompt_number": 53
    },
    {
     "cell_type": "code",
     "collapsed": false,
     "input": [
      "import boto\n",
      "import json\n",
      "import numpy as np\n",
      "from os import path\n",
      "\n",
      "s3 = boto.connect_s3()\n",
      "mybucket = s3.get_bucket(conf['general']['bucketName'])\n",
      "base_path = path.join('s3n://', conf['general']['bucketName'])\n",
      "rec_path = path.join(conf['general']['clientname'], conf['split'][\"name\"], 'Rec')"
     ],
     "language": "python",
     "metadata": {},
     "outputs": [],
     "prompt_number": 12
    },
    {
     "cell_type": "code",
     "collapsed": false,
     "input": [
      "# list all /metrics folders for the given algorithm\n",
      "metrics_end = path.join(conf['evaluation']['name'], 'metrics', '_SUCCESS')\n",
      "_success_len = len('_SUCCESS')"
     ],
     "language": "python",
     "metadata": {},
     "outputs": [],
     "prompt_number": 13
    },
    {
     "cell_type": "code",
     "collapsed": false,
     "input": [
      "#SAGH\n",
      "algo_path = path.join(rec_path, 'SAGH_100#0/')\n",
      "metric_folders = [k.name[:-_success_len] for k in mybucket.list(prefix=algo_path) if k.name.endswith(metrics_end)]"
     ],
     "language": "python",
     "metadata": {},
     "outputs": [],
     "prompt_number": 39
    },
    {
     "cell_type": "code",
     "collapsed": false,
     "input": [
      "#ImplicitPlaylists\n",
      "algo_path = path.join(rec_path, 'ImplicitPlaylist_exp_0.400000_clustSim_0.100000_5')\n",
      "metric_folders += [k.name[:-_success_len] for k in mybucket.list(prefix=algo_path) if k.name.endswith(metrics_end)]"
     ],
     "language": "python",
     "metadata": {},
     "outputs": [],
     "prompt_number": 40
    },
    {
     "cell_type": "code",
     "collapsed": false,
     "input": [
      "#LibFM\n",
      "algo_path = path.join(rec_path, 'LibFM_fixed_leaveoneout#True#unique_max#16#avg#1#individual#1')\n",
      "metric_folders += [k.name[:-_success_len] for k in mybucket.list(prefix=algo_path) if k.name.endswith(metrics_end)]"
     ],
     "language": "python",
     "metadata": {},
     "outputs": [],
     "prompt_number": 41
    },
    {
     "cell_type": "code",
     "collapsed": false,
     "input": [
      "print metric_folders[:10]"
     ],
     "language": "python",
     "metadata": {},
     "outputs": [
      {
       "output_type": "stream",
       "stream": "stdout",
       "text": [
        "[u'split2.split/0_1SPLIT_1413851857_sessionsession_1413851857/Rec/SAGH_100#0/recall@N/metrics/', u'split2.split/0_1SPLIT_1413851857_sessionsession_1413851857/Rec/ImplicitPlaylist_exp_0.400000_clustSim_0.100000_5#0.4#0.1/recall@N/metrics/', u'split2.split/0_1SPLIT_1413851857_sessionsession_1413851857/Rec/LibFM_fixed_leaveoneout#True#unique_max#16#avg#1#individual#1/recall@N/metrics/']\n"
       ]
      }
     ],
     "prompt_number": 42
    },
    {
     "cell_type": "code",
     "collapsed": false,
     "input": [
      "metrics = [\n",
      "    (mf.split('/')[-4],\n",
      "    sc.textFile(path.join(base_path, mf))\\\n",
      "    .map(lambda x : json.loads(x))\\\n",
      "    .map(lambda x: x['evaluation']['value'])\\\n",
      "    .collect()\n",
      "    )\n",
      "    for mf in metric_folders\n",
      "    ]"
     ],
     "language": "python",
     "metadata": {},
     "outputs": [],
     "prompt_number": 43
    },
    {
     "cell_type": "code",
     "collapsed": false,
     "input": [
      "print metrics"
     ],
     "language": "python",
     "metadata": {},
     "outputs": [
      {
       "output_type": "stream",
       "stream": "stdout",
       "text": [
        "[(u'SAGH_100#0', [0.013274653626731867, 0.02517359413202934, 0.056117359413202936, 0.08973431132844335, 0.11230643846780766, 0.12987123064384679, 0.14378484107579462, 0.18256560717196413, 0.2092192339038305]), (u'ImplicitPlaylist_exp_0.400000_clustSim_0.100000_5#0.4#0.1', [0.00878239608801956, 0.018484107579462103, 0.049127954360228196, 0.08876935615321924, 0.12473349633251833, 0.15698777506112468, 0.18769030154849226, 0.30980929095354526, 0.4797913610431948]), (u'LibFM_fixed_leaveoneout#True#unique_max#16#avg#1#individual#1', [4.5639771801141e-05, 6.519967400162999e-05, 0.00016299918500407498, 0.00044335778321108395, 0.0006911165444172779, 0.0009388753056234719, 0.0011149144254278729, 0.0020537897310513448, 0.0034360228198859004])]\n"
       ]
      }
     ],
     "prompt_number": 44
    },
    {
     "cell_type": "code",
     "collapsed": false,
     "input": [
      "labels, y = zip(*metrics)"
     ],
     "language": "python",
     "metadata": {},
     "outputs": [],
     "prompt_number": 45
    },
    {
     "cell_type": "code",
     "collapsed": false,
     "input": [
      "N=8\n",
      "x_up_to_N = conf['evaluation']['metric']['prop']['N'][:N]\n",
      "y_up_to_N = [v[:N] for v in y]\n",
      "x_up_to_N"
     ],
     "language": "python",
     "metadata": {},
     "outputs": [
      {
       "metadata": {},
       "output_type": "pyout",
       "prompt_number": 48,
       "text": [
        "[1, 2, 5, 10, 15, 20, 25, 50]"
       ]
      }
     ],
     "prompt_number": 48
    },
    {
     "cell_type": "code",
     "collapsed": false,
     "input": [
      "import matplotlib.pylab as pylab\n",
      "pylab.rcParams['figure.figsize'] = 16, 12  # that's default image size for this interactive session\n",
      "bar_plot(x_up_to_N, y_up_to_N, labels, conf['evaluation']['name'])"
     ],
     "language": "python",
     "metadata": {},
     "outputs": [
      {
       "metadata": {},
       "output_type": "display_data",
       "png": "[encoded data removed]",
       "text": [
        "<matplotlib.figure.Figure at 0x7f62d3a0ee10>"
       ]
      }
     ],
     "prompt_number": 54
    },
    {
     "cell_type": "code",
     "collapsed": false,
     "input": [],
     "language": "python",
     "metadata": {},
     "outputs": [
      {
       "metadata": {},
       "output_type": "display_data",
       "text": [
        "<matplotlib.figure.Figure at 0x7f62d3a0ec90>"
       ]
      }
     ],
     "prompt_number": 52
    },
    {
     "cell_type": "code",
     "collapsed": false,
     "input": [],
     "language": "python",
     "metadata": {},
     "outputs": []
    }
   ],
   "metadata": {}
  }
 ]
}
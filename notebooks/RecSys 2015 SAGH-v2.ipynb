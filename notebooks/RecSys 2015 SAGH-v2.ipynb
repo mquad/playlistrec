{
 "metadata": {
  "name": ""
 },
 "nbformat": 3,
 "nbformat_minor": 0,
 "worksheets": [
  {
   "cells": [
    {
     "cell_type": "code",
     "collapsed": false,
     "input": [
      "execfile('/home/massimo/workspace/spark-scripts/music/scripts/ToBeUploaded/split.py')\n",
      "execfile('/home/massimo/workspace/spark-scripts/music/scripts/ToBeUploaded/utils.py')\n",
      "execfile('/home/massimo/workspace/spark-scripts/music/scripts/ToBeUploaded/eval.py')"
     ],
     "language": "python",
     "metadata": {},
     "outputs": []
    },
    {
     "cell_type": "code",
     "collapsed": false,
     "input": [
      "import json\n",
      "import copy\n",
      "\n",
      "conf = {}\n",
      "\n",
      "conf['split'] = {}\n",
      "conf['split']['reclistSize'] = 100\n",
      "conf['split']['callParams'] = {}\n",
      "conf['split']['excludeAlreadyListenedTest'] = True\n",
      "conf['split']['name'] = 'giroCompletoTestMultipleConfs_excludeTrue'\n",
      "conf['split']['minEventsPerUser'] = 5\n",
      "conf['split']['inputData'] = 's3n://contentwise-research-poli/30musicdataset/newFormat/relations/sessions.idomaar'\n",
      "conf['split']['bucketName'] = 'contentwise-research-poli'\n",
      "conf['split']['percUsTr'] = 0.05\n",
      "conf['split']['ts'] = int(0.75 * (1421745857 - 1390209860) + 1390209860) - 10000\n",
      "conf['split']['minEventPerSession'] = 5\n",
      "conf['split']['onlineTrainingLength'] = 5\n",
      "conf['split']['GTlength'] = 5\n",
      "conf['split']['minEventPerSessionTraining'] = 10\n",
      "conf['split']['minEventPerSessionTest'] = 11\n",
      "conf['split']['mode'] = 'session'\n",
      "conf['split']['forceSplitCreation'] = False\n",
      "\n",
      "conf['evaluation'] = {}\n",
      "conf['evaluation']['metric'] = {}\n",
      "conf['evaluation']['metric']['type'] = 'recall'\n",
      "conf['evaluation']['metric']['prop'] = {}\n",
      "conf['evaluation']['metric']['prop']['N'] = [1,2,5,10,15,20,25,50,100]\n",
      "conf['evaluation']['name'] = 'recall@N'\n",
      "\n",
      "conf['general'] = {}\n",
      "conf['general']['clientname'] = 'split'\n",
      "conf['general']['bucketName'] = 'contentwise-research-poli'\n",
      "conf['general']['tracksPath'] = '30Mdataset/entities/tracks.idomaar.gz'\n",
      "\n",
      "conf['algo'] = {}\n",
      "conf['algo']['name'] = 'SAGH'\n",
      "conf['algo']['props'] = {}\n",
      "# ***** EXAMPLE OF CONFIGURATION *****#\n",
      "conf['algo']['props']['numGH'] = 10\n",
      "conf['algo']['props']['skipTh'] = 0\n",
      "# ****** END EXAMPLE ****************#"
     ],
     "language": "python",
     "metadata": {},
     "outputs": []
    },
    {
     "cell_type": "heading",
     "level": 1,
     "metadata": {},
     "source": [
      "SAGH"
     ]
    },
    {
     "cell_type": "code",
     "collapsed": false,
     "input": [
      "basePath = path.join('s3n://', conf['general']['bucketName'])\n",
      "trackPath = path.join(basePath, '30Mdataset/entities/tracks.idomaar.gz')\n",
      "trackRDD = sc.textFile(trackPath).cache()\n",
      "train,test = loadDataset(conf) #loads training and test users events, then generates the train and test splits"
     ],
     "language": "python",
     "metadata": {},
     "outputs": []
    },
    {
     "cell_type": "code",
     "collapsed": false,
     "input": [
      "import json\n",
      "def readJson(x,field='artists',pos=4):\n",
      "    ##if field == \"\": return json.loads(x[pos])\n",
      "    return json.loads(x[pos])[field]\n",
      "\n",
      "## artistLookupRDD = (trackId, artistID)\n",
      "tabSplit = lambda x: x.split(\"\\t\")\n",
      "ext = lambda x: (int(x[1]), int(readJson(x)[0]['id']))\n",
      "artistLookupRDD = trackRDD.map(tabSplit).map(ext).distinct().persist()\n",
      "artistLookupRDD.first()"
     ],
     "language": "python",
     "metadata": {},
     "outputs": []
    },
    {
     "cell_type": "code",
     "collapsed": false,
     "input": [
      "## (trackId,sessionId)\n",
      "ext = lambda x: ([(k['id'],k['playratio'], x['id']) for k in x['linkedinfo']['objects']])\n",
      "th = conf['algo']['props']['skipTh']\n",
      "batchTrainingRDD = train.flatMap(lambda x: ext(json.loads(x))).filter(lambda x: x[1] > th)\\\n",
      "                .map(lambda x: (int(x[0]), int(x[2]))).persist()\n"
     ],
     "language": "python",
     "metadata": {},
     "outputs": []
    },
    {
     "cell_type": "code",
     "collapsed": false,
     "input": [
      "batchTrainingRDD.take(10)"
     ],
     "language": "python",
     "metadata": {},
     "outputs": []
    },
    {
     "cell_type": "code",
     "collapsed": false,
     "input": [
      "## sessionId, (trackId, artistId)\n",
      "joinedRDD = artistLookupRDD.join(batchTrainingRDD).map(lambda x: (x[1][1],(x[0],x[1][0]))).persist()\n"
     ],
     "language": "python",
     "metadata": {},
     "outputs": []
    },
    {
     "cell_type": "code",
     "collapsed": false,
     "input": [
      "joinedRDD.take(10)"
     ],
     "language": "python",
     "metadata": {},
     "outputs": []
    },
    {
     "cell_type": "heading",
     "level": 2,
     "metadata": {},
     "source": [
      "Greatist Hits of each artist (i.e., the top n most popular tracks for each artist)"
     ]
    },
    {
     "cell_type": "code",
     "collapsed": false,
     "input": [
      "## top popular track per artist\n",
      "## trackId_artistId\n",
      "from operator import add\n",
      "parser = lambda x: (x[1], 1)\n",
      "prep = lambda x: (x[0][1], [(x[0][0], x[1])])\n",
      "\n",
      "def sorter(x,n):\n",
      "    if type(x[1]) != list: \n",
      "        result = list()\n",
      "        result.append(x[1])\n",
      "        return result\n",
      "    a = x[1]\n",
      "    if len(a) <= n: n=len(a)\n",
      "    return (x[0],sorted(a,key=lambda k: -k[1])[0:n])\n",
      "\n",
      "numGH = conf['algo']['props']['numGH']\n",
      "sort = lambda x: sorter(x, numGH)\n",
      "uni = lambda x: x[1] > 1\n",
      "\n",
      "artistGreatistHitsRDD = joinedRDD.map(parser).reduceByKey(add).filter(uni).map(prep).reduceByKey(add).map(sort)"
     ],
     "language": "python",
     "metadata": {},
     "outputs": []
    },
    {
     "cell_type": "code",
     "collapsed": false,
     "input": [
      "artistGreatistHitsRDD.take(10)"
     ],
     "language": "python",
     "metadata": {},
     "outputs": []
    },
    {
     "cell_type": "heading",
     "level": 2,
     "metadata": {},
     "source": [
      "Recommendation:  parsing the request"
     ]
    },
    {
     "cell_type": "code",
     "collapsed": false,
     "input": [
      "ext2 = lambda x: [(int(x['id']), int(l['id']), l['playratio']) for l in x['linkedinfo']['objects']]\n",
      "recReqRDD =  test.flatMap(lambda x: ext2(json.loads(x)))\\\n",
      "            .filter(lambda x: x[2] > th).map(lambda x: (x[1], x[0])).join(artistLookupRDD)\\\n",
      "            .map(lambda x: ((x[1][1], x[1][0]), [(x[0])])).reduceByKey(add)\\\n",
      "            .map(lambda x: (x[0][0], (x[0][1], x[1])))\n"
     ],
     "language": "python",
     "metadata": {},
     "outputs": []
    },
    {
     "cell_type": "code",
     "collapsed": false,
     "input": [
      "recReqRDD.take(10)"
     ],
     "language": "python",
     "metadata": {},
     "outputs": []
    },
    {
     "cell_type": "heading",
     "level": 2,
     "metadata": {},
     "source": [
      "SAGH"
     ]
    },
    {
     "cell_type": "code",
     "collapsed": false,
     "input": [
      "joinedRec = recReqRDD.join(artistGreatistHitsRDD).persist()\n",
      "joinedRec.count()"
     ],
     "language": "python",
     "metadata": {},
     "outputs": []
    },
    {
     "cell_type": "code",
     "collapsed": false,
     "input": [
      "def validator(x):\n",
      "    recID = x[1][0][0]\n",
      "    trackList = x[1][0][1]\n",
      "    recList = x[1][1]\n",
      "    rec = [l for l in recList if l[0] not in trackList]\n",
      "    return (recID,rec)\n",
      "\n",
      "val = lambda x: validator(x)\n",
      "\n",
      "def sorter(x,length):\n",
      "    a = x[1]\n",
      "    if len(a) > length: length = len(a) \n",
      "    return sorted(a,key=lambda k: -k[1])[0:length]\n",
      "\n",
      "recLength = conf['split']['reclistSize']\n",
      "s = lambda x: (x[0], sorter(x, recLength))\n",
      "\n",
      "rec = joinedRec.map(val).reduceByKey(add).map(s)"
     ],
     "language": "python",
     "metadata": {},
     "outputs": []
    },
    {
     "cell_type": "code",
     "collapsed": false,
     "input": [
      "rec.take(10)"
     ],
     "language": "python",
     "metadata": {},
     "outputs": []
    },
    {
     "cell_type": "code",
     "collapsed": false,
     "input": [
      "#Generate recommendations in the right format, then test\n",
      "def addResponse(reqJson, respJson):\n",
      "    req = json.loads(reqJson)\n",
      "    req['linkedinfo'].update({'response': respJson})\n",
      "    return json.dumps(req)\n",
      "\n",
      "def formatResponse(rank_list, response_size=100):\n",
      "    return [{'type': 'track', 'id': id, 'rank': rank} for rank, (id, _) in enumerate(rank_list[:response_size])]\n",
      "\n",
      "responses = test.map(lambda x: (json.loads(x)['id'], x))\\\n",
      "    .join(rec)\\\n",
      "    .map(lambda x: addResponse(x[1][0], formatResponse(x[1][1], json.loads(x[1][0])['properties']['reclistSize'])))"
     ],
     "language": "python",
     "metadata": {},
     "outputs": []
    },
    {
     "cell_type": "code",
     "collapsed": false,
     "input": [
      "saveRecommendations(conf, responses, overwrite=True)"
     ],
     "language": "python",
     "metadata": {},
     "outputs": []
    },
    {
     "cell_type": "code",
     "collapsed": false,
     "input": [
      "computeMetrics(conf)"
     ],
     "language": "python",
     "metadata": {},
     "outputs": []
    },
    {
     "cell_type": "code",
     "collapsed": false,
     "input": [],
     "language": "python",
     "metadata": {},
     "outputs": []
    }
   ],
   "metadata": {}
  }
 ]
}
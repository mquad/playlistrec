{
 "cells": [
  {
   "cell_type": "code",
   "execution_count": 1,
   "metadata": {
    "collapsed": false
   },
   "outputs": [],
   "source": [
    "conf = {}\n",
    "\n",
    "conf['split'] = {}\n",
    "conf['split']['reclistSize'] = 100\n",
    "conf['split']['callParams'] = {}\n",
    "conf['split']['excludeAlreadyListenedTest'] = True\n",
    "conf['split']['name'] = '0_1SPLIT_1413851857_sessionsession_1413851857'\n",
    "conf['split']['minEventsPerUser'] = 5\n",
    "conf['split']['inputData'] = 's3n://contentwise-research-poli/0_1SPLIT_1413851857_sessionsession_1413851857'\n",
    "#conf['split']['inputData'] = 's3n://contentwise-research-poli/30musicdataset/newFormat/relations/sessions.idomaar'\n",
    "conf['split']['bucketName'] = 'contentwise-research-poli'\n",
    "conf['split']['percUsTr'] = 0.05\n",
    "conf['split']['ts'] = int(0.75 * (1421745857 - 1390209860) + 1390209860) - 10000\n",
    "conf['split']['minEventPerSession'] = 5\n",
    "conf['split']['onlineTrainingLength'] = 5\n",
    "conf['split']['GTlength'] = 5\n",
    "conf['split']['minEventPerSessionTraining'] = 10\n",
    "conf['split']['minEventPerSessionTest'] = 11\n",
    "conf['split']['mode'] = 'session'\n",
    "conf['split']['forceSplitCreation'] = False\n",
    "\n",
    "conf['evaluation'] = {}\n",
    "conf['evaluation']['metric'] = {}\n",
    "conf['evaluation']['metric']['type'] = 'recall'\n",
    "conf['evaluation']['metric']['prop'] = {}\n",
    "conf['evaluation']['metric']['prop']['N'] = [1,2,5,10,15,20,25,50,100]\n",
    "conf['evaluation']['name'] = 'recall@N'\n",
    "\n",
    "conf['general'] = {}\n",
    "conf['general']['clientname'] = \"split2.split\"\n",
    "conf['general']['bucketName'] = 'contentwise-research-poli'\n",
    "conf['general']['tmpDir'] = \"/tmp\"\n",
    "\n",
    "conf['algo'] = {}\n",
    "conf['algo']['name'] = 'ImplicitPlaylistFallBack'\n",
    "\n"
   ]
  },
  {
   "cell_type": "code",
   "execution_count": 2,
   "metadata": {
    "collapsed": false
   },
   "outputs": [],
   "source": [
    "import matplotlib.pyplot as plt\n",
    "from matplotlib import cm\n",
    "\n",
    "def bar_plot(x, y, labels, metric):\n",
    "    n_groups = len(x)\n",
    "    \n",
    "    fig, ax = plt.subplots()\n",
    "    \n",
    "    index = np.arange(n_groups)\n",
    "    bar_width = float(1)/len(y)\n",
    "    \n",
    "    opacity = 0.4\n",
    "    \n",
    "    for idx, label_y in enumerate(zip(labels, y)):\n",
    "        label, values = label_y\n",
    "        plt.bar(index + idx*bar_width, values, bar_width,\n",
    "                alpha=opacity,\n",
    "                color=cm.jet(float(idx)/len(y)),\n",
    "                label=label)\n",
    "\n",
    "    plt.xlabel('N')\n",
    "    plt.ylabel(metric)\n",
    "    plt.xticks(index, x)\n",
    "    #plt.legend(loc=2)\n",
    "    \n",
    "    plt.tight_layout()\n",
    "    plt.show()\n"
   ]
  },
  {
   "cell_type": "code",
   "execution_count": 3,
   "metadata": {
    "collapsed": false
   },
   "outputs": [
    {
     "name": "stdout",
     "output_type": "stream",
     "text": [
      "split2.split/0_1SPLIT_1413851857_sessionsession_1413851857/Rec/ImplicitPlaylistFallBack\n"
     ]
    }
   ],
   "source": [
    "import boto\n",
    "import json\n",
    "import numpy as np\n",
    "from os import path\n",
    "\n",
    "s3 = boto.connect_s3()\n",
    "mybucket = s3.get_bucket(conf['general']['bucketName'])\n",
    "base_path = path.join('s3n://', conf['general']['bucketName'])\n",
    "rec_path = path.join(conf['general']['clientname'], conf['split'][\"name\"], 'Rec')\n",
    "algo_path = path.join(rec_path, conf['algo']['name'])\n",
    "print algo_path"
   ]
  },
  {
   "cell_type": "code",
   "execution_count": 4,
   "metadata": {
    "collapsed": false
   },
   "outputs": [],
   "source": [
    "# list all /metrics folders for the given algorithm\n",
    "metrics_end = path.join(conf['evaluation']['name'], 'metrics', '_SUCCESS')\n",
    "_success_len = len('_SUCCESS')\n",
    "metric_folders = [k.name[:-_success_len] for k in mybucket.list(prefix=algo_path) if k.name.endswith(metrics_end)]"
   ]
  },
  {
   "cell_type": "code",
   "execution_count": 5,
   "metadata": {
    "collapsed": false
   },
   "outputs": [
    {
     "name": "stdout",
     "output_type": "stream",
     "text": [
      "[u'split2.split/0_1SPLIT_1413851857_sessionsession_1413851857/Rec/ImplicitPlaylistFallBack_shk_10_clustSim_0100_decay_0100_numGH100skipTh0#10#SAGH#01#01/recall@N/metrics/', u'split2.split/0_1SPLIT_1413851857_sessionsession_1413851857/Rec/ImplicitPlaylistFallBack_shk_10_clustSim_0100_decay_0300_numGH100skipTh0#10#SAGH#03#01/recall@N/metrics/', u'split2.split/0_1SPLIT_1413851857_sessionsession_1413851857/Rec/ImplicitPlaylistFallBack_shk_10_clustSim_0100_decay_0500_numGH100skipTh0#10#SAGH#05#01/recall@N/metrics/', u'split2.split/0_1SPLIT_1413851857_sessionsession_1413851857/Rec/ImplicitPlaylistFallBack_shk_10_clustSim_0100_decay_0700_numGH100skipTh0#10#SAGH#07#01/recall@N/metrics/', u'split2.split/0_1SPLIT_1413851857_sessionsession_1413851857/Rec/ImplicitPlaylistFallBack_shk_10_clustSim_0100_decay_0900_numGH100skipTh0#10#SAGH#09#01/recall@N/metrics/', u'split2.split/0_1SPLIT_1413851857_sessionsession_1413851857/Rec/ImplicitPlaylistFallBack_shk_10_clustSim_0300_decay_0100_numGH100skipTh0#10#SAGH#01#03/recall@N/metrics/', u'split2.split/0_1SPLIT_1413851857_sessionsession_1413851857/Rec/ImplicitPlaylistFallBack_shk_10_clustSim_0300_decay_0700_numGH100skipTh0#10#SAGH#07#03/recall@N/metrics/', u'split2.split/0_1SPLIT_1413851857_sessionsession_1413851857/Rec/ImplicitPlaylistFallBack_shk_10_clustSim_0300_decay_0900_numGH100skipTh0#10#SAGH#09#03/recall@N/metrics/', u'split2.split/0_1SPLIT_1413851857_sessionsession_1413851857/Rec/ImplicitPlaylistFallBack_shk_10_clustSim_0500_decay_0100_numGH100skipTh0#10#SAGH#01#05/recall@N/metrics/', u'split2.split/0_1SPLIT_1413851857_sessionsession_1413851857/Rec/ImplicitPlaylistFallBack_shk_10_clustSim_0500_decay_0300_numGH100skipTh0#10#SAGH#03#05/recall@N/metrics/']\n"
     ]
    }
   ],
   "source": [
    "print metric_folders[:10]"
   ]
  },
  {
   "cell_type": "code",
   "execution_count": 6,
   "metadata": {
    "collapsed": false
   },
   "outputs": [
    {
     "data": {
      "text/plain": [
       "147"
      ]
     },
     "execution_count": 6,
     "metadata": {},
     "output_type": "execute_result"
    }
   ],
   "source": [
    "len(metric_folders)"
   ]
  },
  {
   "cell_type": "code",
   "execution_count": null,
   "metadata": {
    "collapsed": false
   },
   "outputs": [],
   "source": [
    "metrics = [\n",
    "    (mf.split('/')[-4],\n",
    "    sc.textFile(path.join(base_path, mf))\\\n",
    "    .map(lambda x : json.loads(x))\\\n",
    "    .map(lambda x: x['evaluation']['value'])\\\n",
    "    .collect()\n",
    "    )\n",
    "    for mf in metric_folders\n",
    "    ]"
   ]
  },
  {
   "cell_type": "code",
   "execution_count": null,
   "metadata": {
    "collapsed": false
   },
   "outputs": [],
   "source": [
    "print metrics"
   ]
  },
  {
   "cell_type": "code",
   "execution_count": null,
   "metadata": {
    "collapsed": false
   },
   "outputs": [],
   "source": [
    "labels, y = zip(*metrics)"
   ]
  },
  {
   "cell_type": "code",
   "execution_count": null,
   "metadata": {
    "collapsed": false
   },
   "outputs": [],
   "source": [
    "N=3\n",
    "x_up_to_N = conf['evaluation']['metric']['prop']['N'][:N]\n",
    "y_up_to_N = [v[:N] for v in y]\n",
    "x_up_to_N"
   ]
  },
  {
   "cell_type": "code",
   "execution_count": null,
   "metadata": {
    "collapsed": false
   },
   "outputs": [],
   "source": [
    "import matplotlib.pylab as pylab\n",
    "pylab.rcParams['figure.figsize'] = 16, 12  # that's default image size for this interactive session\n",
    "bar_plot(x_up_to_N, y_up_to_N, labels, conf['evaluation']['name'])"
   ]
  },
  {
   "cell_type": "code",
   "execution_count": null,
   "metadata": {
    "collapsed": true
   },
   "outputs": [],
   "source": []
  }
 ],
 "metadata": {
  "kernelspec": {
   "display_name": "Python 2",
   "language": "python",
   "name": "python2"
  },
  "language_info": {
   "codemirror_mode": {
    "name": "ipython",
    "version": 2
   },
   "file_extension": ".py",
   "mimetype": "text/x-python",
   "name": "python",
   "nbconvert_exporter": "python",
   "pygments_lexer": "ipython2",
   "version": "2.7.6"
  }
 },
 "nbformat": 4,
 "nbformat_minor": 0
}

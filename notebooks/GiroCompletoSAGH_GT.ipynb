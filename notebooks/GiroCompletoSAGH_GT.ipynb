{
 "cells": [
  {
   "cell_type": "code",
   "execution_count": 43,
   "metadata": {
    "collapsed": true
   },
   "outputs": [],
   "source": [
    "execfile('../spark-scripts/split.py')\n",
    "execfile('../spark-scripts/utils.py')\n",
    "execfile('../spark-scripts/eval.py')\n",
    "execfile('../spark-scripts/SAGHFunctions.py')\n",
    "execfile('../spark-scripts/SAGHMain.py')"
   ]
  },
  {
   "cell_type": "code",
   "execution_count": 44,
   "metadata": {
    "collapsed": true
   },
   "outputs": [],
   "source": [
    "import json\n",
    "import copy\n",
    "\n",
    "conf = {}\n",
    "\n",
    "conf['split'] = {}\n",
    "conf['split']['reclistSize'] = 100\n",
    "conf['split']['callParams'] = {}\n",
    "conf['split']['excludeAlreadyListenedTest'] = True\n",
    "conf['split']['name'] = 'SenzaRipetizioni_nuovoEval1total_1413851857'\n",
    "conf['split']['minEventsPerUser'] = 5\n",
    "conf['split']['inputData'] = 's3n://contentwise-research-poli/split22.split/SenzaRipetizioni_nuovoEval1total_1413851857/'\n",
    "#conf['split']['inputData'] = 's3n://contentwise-research-poli/30musicdataset/newFormat/relations/sessions.idomaar'\n",
    "conf['split']['bucketName'] = 'contentwise-research-poli'\n",
    "conf['split']['percUsTr'] = 0.05\n",
    "conf['split']['ts'] = int(0.75 * (1421745857 - 1390209860) + 1390209860) - 10000\n",
    "conf['split']['minEventPerSession'] = 5\n",
    "conf['split']['onlineTrainingLength'] = 5\n",
    "conf['split']['GTlength'] = 1\n",
    "conf['split']['minEventPerSessionTraining'] = 10\n",
    "conf['split']['minEventPerSessionTest'] = 11\n",
    "conf['split']['mode'] = 'session'\n",
    "conf['split']['forceSplitCreation'] = False\n",
    "\n",
    "conf['evaluation'] = {}\n",
    "conf['evaluation']['metric'] = {}\n",
    "conf['evaluation']['metric']['type'] = 'recall'\n",
    "conf['evaluation']['metric']['prop'] = {}\n",
    "conf['evaluation']['metric']['prop']['N'] = [1,2,5,10,15,20,25,50,100]\n",
    "conf['evaluation']['name'] = 'recall@N'\n",
    "\n",
    "conf['general'] = {}\n",
    "conf['general']['clientname'] = \"split22.split\"\n",
    "conf['general']['bucketName'] = 'contentwise-research-poli'\n",
    "conf['general']['tracksPath'] = '30Mdataset/entities/tracks.idomaar.gz'\n",
    "\n",
    "conf['algo'] = {}\n",
    "conf['algo']['name'] = 'SAGH'\n",
    "conf['algo']['props'] = {}\n",
    "# ***** EXAMPLE OF CONFIGURATION *****#\n",
    "conf['algo']['props']['numGH'] = 100\n",
    "conf['algo']['props']['skipTh'] = 0\n",
    "# ****** END EXAMPLE ****************#"
   ]
  },
  {
   "cell_type": "code",
   "execution_count": 7,
   "metadata": {
    "collapsed": true
   },
   "outputs": [],
   "source": [
    "artistLookupRDD = loadArtistLookup(conf)\n",
    "train,test = loadDataset(conf)\n",
    "artistLookupRDD.cache()\n",
    "train.cache()\n",
    "test.cache()"
   ]
  },
  {
   "cell_type": "code",
   "execution_count": 45,
   "metadata": {
    "collapsed": false
   },
   "outputs": [
    {
     "name": "stdout",
     "output_type": "stream",
     "text": [
      "split/giroCompletoTestMultipleConfs_excludeTrue/Rec/SAGH_10#0 successfully deleted.\n",
      "Recommendations successfully written to s3n://contentwise-research-poli/split/giroCompletoTestMultipleConfs_excludeTrue/Rec/SAGH_10#0/recommendations\n",
      "recall@N successfully written to s3n://contentwise-research-poli/split/giroCompletoTestMultipleConfs_excludeTrue/Rec/SAGH_10#0/recall@N/metrics\n"
     ]
    }
   ],
   "source": [
    "from os import path\n",
    "basePath = path.join(\"s3n://\", conf['general']['bucketName'], conf['general']['clientname'])\n",
    "splitPath = path.join(basePath, conf['split']['name'])\n",
    "\n",
    "numGHList = [100]\n",
    "skipThList = [0]\n",
    "\n",
    "for th in skipThList:\n",
    "    conf['algo']['props']['skipTh'] = th\n",
    "    batchTrainingRDD = (train\n",
    "                        .flatMap(lambda x: ext(json.loads(x))).filter(lambda x: x[1] > th)\n",
    "                        .map(lambda x: (int(x[0]), int(x[2])))\n",
    "                        .cache())\n",
    "    recReqRDD = parseRequests(artistLookupRDD, test, th, conf).cache()\n",
    "    \n",
    "    for numGH in numGHList:\n",
    "        recJsonRdd = generateRecommendationsSAGH(batchTrainingRDD, recReqRDD, artistLookupRDD, test, numGH, conf)\n",
    "        saveRecommendations(conf, recJsonRdd, overwrite=True)\n",
    "        computeMetrics(conf)"
   ]
  }
 ],
 "metadata": {
  "kernelspec": {
   "display_name": "Python 2",
   "language": "python",
   "name": "python2"
  },
  "language_info": {
   "codemirror_mode": {
    "name": "ipython",
    "version": 2
   },
   "file_extension": ".py",
   "mimetype": "text/x-python",
   "name": "python",
   "nbconvert_exporter": "python",
   "pygments_lexer": "ipython2",
   "version": "2.7.6"
  }
 },
 "nbformat": 4,
 "nbformat_minor": 0
}

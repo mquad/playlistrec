{
 "metadata": {
  "name": "",
  "signature": "sha256:6c0b8e144cf5b87ad6bae0cf0ed4bf4e71fc823bd2c919b51f949b9a100f2f78"
 },
 "nbformat": 3,
 "nbformat_minor": 0,
 "worksheets": [
  {
   "cells": [
    {
     "cell_type": "markdown",
     "metadata": {},
     "source": [
      "$$c = \\sqrt{a^2 + b^2}$$"
     ]
    },
    {
     "cell_type": "code",
     "collapsed": false,
     "input": [],
     "language": "python",
     "metadata": {},
     "outputs": []
    }
   ],
   "metadata": {}
  }
 ]
}
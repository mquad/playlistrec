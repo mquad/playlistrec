{
 "metadata": {
  "name": "",
  "signature": "sha256:68b20617457ce3b60183d547d7980dedbe8468f11e97a62ca8527ad6af1c01ac"
 },
 "nbformat": 3,
 "nbformat_minor": 0,
 "worksheets": [
  {
   "cells": [
    {
     "cell_type": "heading",
     "level": 1,
     "metadata": {},
     "source": [
      "Reading the conf file"
     ]
    },
    {
     "cell_type": "code",
     "collapsed": false,
     "input": [
      "import json\n",
      "import copy\n",
      "\n",
      "conf = {}\n",
      "\n",
      "conf['split'] = {}\n",
      "conf['split']['reclistSize'] = 100\n",
      "conf['split']['callParams'] = {}\n",
      "conf['split']['excludeAlreadyListenedTest'] = True\n",
      "conf['split']['name'] = 'giroCompletoLibFMMultipleConfs'\n",
      "conf['split']['minEventsPerUser'] = 5\n",
      "#conf['split']['inputData'] = 's3n://contentwise-research-poli/30musicdataset/newFormat/relations/sessions.idomaar/part-00000'\n",
      "conf['split']['inputData'] = 's3n://contentwise-research-poli/30musicdataset/newFormat/relations/sessions.idomaar'\n",
      "conf['split']['bucketName'] = 'contentwise-research-poli'\n",
      "conf['split']['percUsTr'] = 0.05\n",
      "conf['split']['ts'] = int(0.75 * (1421745857 - 1390209860) + 1390209860) - 10000\n",
      "conf['split']['minEventPerSession'] = 5\n",
      "conf['split']['onlineTrainingLength'] = 5\n",
      "conf['split']['GTlength'] = 5\n",
      "conf['split']['minEventPerSessionTraining'] = 10\n",
      "conf['split']['minEventPerSessionTest'] = 11\n",
      "conf['split']['mode'] = 'session'\n",
      "conf['split']['forceSplitCreation'] = False\n",
      "\n",
      "conf['evaluation'] = {}\n",
      "conf['evaluation']['metric'] = {}\n",
      "conf['evaluation']['metric']['type'] = 'recall'\n",
      "conf['evaluation']['metric']['prop'] = {}\n",
      "conf['evaluation']['metric']['prop']['N'] = [1,2,5,10,15,20,25,50,100]\n",
      "conf['evaluation']['name'] = 'recall@N'\n",
      "\n",
      "conf['general'] = {}\n",
      "conf['general']['clientname'] = \"split\"\n",
      "conf['general']['bucketName'] = 'contentwise-research-poli'\n",
      "\n",
      "conf['algo'] = {}\n",
      "conf['algo']['name'] = 'LibFM'\n",
      "conf['algo']['props'] = {}\n",
      "conf['algo']['props']['collaborativity'] = 'individual' #collaborative-all, collaborative-knn (only individual implemented)\n",
      "conf['algo']['props']['trainCreation'] = 'leaveoneout' #leaveoneout,sequential implemented\n",
      "conf['algo']['props']['trainFileDir'] = \"/home/roberto/Desktop/testSparkLibFM/trains/\" #has to be a valid dir\n",
      "#conf['algo']['props']['libFMCallAndOptions'] = \"/opt/libfm-1.42.src/bin/./libFM -task r -dim '1,1,8' \"#contains also libFM parameters\n",
      "#calmbiare il path di libFM nel ciclo for\n",
      "\n",
      "\n",
      "configList = []\n",
      "configJsonList = []\n",
      "for exclude in [True,False]:\n",
      "    for trainCreation in [\"leaveoneout\",\"sequential\"]:\n",
      "        for latentSize in [2,4,8,16,32]:\n",
      "            \n",
      "            conf['split']['excludeAlreadyListenedTest'] = str(exclude)\n",
      "            conf['algo']['props'][\"trainCreation\"] = trainCreation\n",
      "            conf['split']['name'] = 'giroCompletoTestMultipleConfs_exclude' + str(exclude)\n",
      "            conf['algo']['name'] = 'LibFM' + '_trainCreation_' + str(trainCreation) + \"_latentSize_\" + str(latentSize)\n",
      "            conf['algo']['props']['libFMCallAndOptions'] = \"/opt/libfm-1.42.src/bin/./libFM -task r -dim '1,1,\" + str(latentSize) + ' \"\n",
      "            configList.append(copy.deepcopy(conf))\n",
      "            configJsonList.append(json.dumps(copy.deepcopy(conf)))\n",
      "\n",
      "\n",
      "\n",
      "\n"
     ],
     "language": "python",
     "metadata": {},
     "outputs": [
      {
       "output_type": "stream",
       "stream": "stdout",
       "text": [
        "True\n",
        "True\n",
        "True\n",
        "True\n",
        "True\n",
        "True\n",
        "True\n",
        "True\n",
        "True\n",
        "False\n",
        "False\n",
        "False\n",
        "False\n",
        "False\n",
        "False\n",
        "False\n",
        "False\n",
        "False\n"
       ]
      }
     ],
     "prompt_number": 57
    },
    {
     "cell_type": "code",
     "collapsed": false,
     "input": [
      "for conf in configList:\n",
      "    print conf['algo']['name'] + \" \" + conf['split']['name']\n",
      "    \n"
     ],
     "language": "python",
     "metadata": {},
     "outputs": [
      {
       "output_type": "stream",
       "stream": "stdout",
       "text": [
        "ImplicitPlaylist_exp_0.5_clustSim_0.3 giroCompletoTestMultipleConfs_excludeTrue\n",
        "ImplicitPlaylist_exp_0.5_clustSim_0.5 giroCompletoTestMultipleConfs_excludeTrue\n",
        "ImplicitPlaylist_exp_0.5_clustSim_0.7 giroCompletoTestMultipleConfs_excludeTrue\n",
        "ImplicitPlaylist_exp_0.7_clustSim_0.3 giroCompletoTestMultipleConfs_excludeTrue\n",
        "ImplicitPlaylist_exp_0.7_clustSim_0.5 giroCompletoTestMultipleConfs_excludeTrue\n",
        "ImplicitPlaylist_exp_0.7_clustSim_0.7 giroCompletoTestMultipleConfs_excludeTrue\n",
        "ImplicitPlaylist_exp_0.9_clustSim_0.3 giroCompletoTestMultipleConfs_excludeTrue\n",
        "ImplicitPlaylist_exp_0.9_clustSim_0.5 giroCompletoTestMultipleConfs_excludeTrue\n",
        "ImplicitPlaylist_exp_0.9_clustSim_0.7 giroCompletoTestMultipleConfs_excludeTrue\n",
        "ImplicitPlaylist_exp_0.5_clustSim_0.3 giroCompletoTestMultipleConfs_excludeFalse\n",
        "ImplicitPlaylist_exp_0.5_clustSim_0.5 giroCompletoTestMultipleConfs_excludeFalse\n",
        "ImplicitPlaylist_exp_0.5_clustSim_0.7 giroCompletoTestMultipleConfs_excludeFalse\n",
        "ImplicitPlaylist_exp_0.7_clustSim_0.3 giroCompletoTestMultipleConfs_excludeFalse\n",
        "ImplicitPlaylist_exp_0.7_clustSim_0.5 giroCompletoTestMultipleConfs_excludeFalse\n",
        "ImplicitPlaylist_exp_0.7_clustSim_0.7 giroCompletoTestMultipleConfs_excludeFalse\n",
        "ImplicitPlaylist_exp_0.9_clustSim_0.3 giroCompletoTestMultipleConfs_excludeFalse\n",
        "ImplicitPlaylist_exp_0.9_clustSim_0.5 giroCompletoTestMultipleConfs_excludeFalse\n",
        "ImplicitPlaylist_exp_0.9_clustSim_0.7 giroCompletoTestMultipleConfs_excludeFalse\n"
       ]
      }
     ],
     "prompt_number": 65
    },
    {
     "cell_type": "heading",
     "level": 2,
     "metadata": {},
     "source": [
      "Splitting"
     ]
    },
    {
     "cell_type": "code",
     "collapsed": false,
     "input": [
      "execfile('/home/roberto/spark-scripts/music/scripts/ToBeUploaded/split.py')"
     ],
     "language": "python",
     "metadata": {},
     "outputs": [],
     "prompt_number": 59
    },
    {
     "cell_type": "code",
     "collapsed": false,
     "input": [
      "for conf in configList:\n",
      "    splitter(conf)"
     ],
     "language": "python",
     "metadata": {},
     "outputs": [
      {
       "output_type": "stream",
       "stream": "stdout",
       "text": [
        "Split already done\n",
        "Split already done"
       ]
      },
      {
       "output_type": "stream",
       "stream": "stdout",
       "text": [
        "\n",
        "Split already done"
       ]
      },
      {
       "output_type": "stream",
       "stream": "stdout",
       "text": [
        "\n",
        "Split already done"
       ]
      },
      {
       "output_type": "stream",
       "stream": "stdout",
       "text": [
        "\n",
        "Split already done"
       ]
      },
      {
       "output_type": "stream",
       "stream": "stdout",
       "text": [
        "\n",
        "Split already done"
       ]
      },
      {
       "output_type": "stream",
       "stream": "stdout",
       "text": [
        "\n",
        "Split already done"
       ]
      },
      {
       "output_type": "stream",
       "stream": "stdout",
       "text": [
        "\n",
        "Split already done"
       ]
      },
      {
       "output_type": "stream",
       "stream": "stdout",
       "text": [
        "\n",
        "Split already done"
       ]
      },
      {
       "output_type": "stream",
       "stream": "stdout",
       "text": [
        "\n",
        "Split already done"
       ]
      },
      {
       "output_type": "stream",
       "stream": "stdout",
       "text": [
        "\n",
        "Split already done"
       ]
      },
      {
       "output_type": "stream",
       "stream": "stdout",
       "text": [
        "\n",
        "Split already done"
       ]
      },
      {
       "output_type": "stream",
       "stream": "stdout",
       "text": [
        "\n",
        "Split already done"
       ]
      },
      {
       "output_type": "stream",
       "stream": "stdout",
       "text": [
        "\n",
        "Split already done"
       ]
      },
      {
       "output_type": "stream",
       "stream": "stdout",
       "text": [
        "\n",
        "Split already done"
       ]
      },
      {
       "output_type": "stream",
       "stream": "stdout",
       "text": [
        "\n",
        "Split already done"
       ]
      },
      {
       "output_type": "stream",
       "stream": "stdout",
       "text": [
        "\n",
        "Split already done"
       ]
      },
      {
       "output_type": "stream",
       "stream": "stdout",
       "text": [
        "\n"
       ]
      }
     ],
     "prompt_number": 60
    },
    {
     "cell_type": "heading",
     "level": 2,
     "metadata": {},
     "source": [
      "Recommend!"
     ]
    },
    {
     "cell_type": "code",
     "collapsed": false,
     "input": [
      "execfile('/home/roberto/spark-scripts/music/scripts/ToBeUploaded/utils.py')\n",
      "execfile('/home/roberto/spark-scripts/music/scripts/ToBeUploaded/FMAlgoFunctions.py')\n",
      "execfile('/home/roberto/spark-scripts/music/scripts/ToBeUploaded/FMAlgoMain.py')\n",
      "\n",
      "for configJson in configJsonList:\n",
      "    recommendations = executeFMAlgo(configJson)\n",
      "    saveRecommendations(configJson,recommendations)"
     ],
     "language": "python",
     "metadata": {},
     "outputs": [
      {
       "output_type": "stream",
       "stream": "stdout",
       "text": [
        "{\"general\": {\"bucketName\": \"contentwise-research-poli\", \"clientname\": \"split\"}, \"evaluation\": {\"metric\": {\"type\": \"recall\", \"prop\": {\"N\": [1, 2, 5, 10, 15, 20, 25, 50, 100]}}, \"name\": \"recall@N\"}, \"algo\": {\"name\": \"ImplicitPlaylist_exp_0.5_clustSim_0.3\", \"props\": {\"sessionJaccardShrinkage\": 5, \"clusterSimilarityThreshold\": 0.3, \"expDecayFactor\": 0.5}}, \"split\": {\"minEventPerSessionTest\": 11, \"onlineTrainingLength\": 5, \"name\": \"giroCompletoTestMultipleConfs_excludeTrue\", \"minEventPerSessionTraining\": 10, \"callParams\": {}, \"ts\": 1413851857, \"percUsTr\": 0.05, \"inputData\": \"s3n://contentwise-research-poli/30musicdataset/newFormat/relations/sessions.idomaar/part-00000\", \"GTlength\": 5, \"bucketName\": \"contentwise-research-poli\", \"reclistSize\": 100, \"minEventPerSession\": 5, \"forceSplitCreation\": false, \"minEventsPerUser\": 5, \"excludeAlreadyListenedTest\": \"True\", \"mode\": \"session\"}}\n",
        "s3n://contentwise-research-poli/split/giroCompletoTestMultipleConfs_excludeTrue/Rec/ImplicitPlaylist_exp_0.5_clustSim_0.3/recommendations"
       ]
      }
     ]
    },
    {
     "cell_type": "heading",
     "level": 2,
     "metadata": {},
     "source": [
      "Evaluation"
     ]
    },
    {
     "cell_type": "code",
     "collapsed": false,
     "input": [
      "execfile('/home/roberto/spark-scripts/music/scripts/ToBeUploaded/eval.py')"
     ],
     "language": "python",
     "metadata": {},
     "outputs": []
    },
    {
     "cell_type": "code",
     "collapsed": false,
     "input": [
      "for conf in configList:\n",
      "    computeMetrics(conf)"
     ],
     "language": "python",
     "metadata": {},
     "outputs": []
    },
    {
     "cell_type": "code",
     "collapsed": false,
     "input": [
      "for conf in configList:\n",
      "    print sc.textFile(\"s3n://contentwise-research-poli/split/\" + conf['split']['name'] +  \"/Rec/\" + conf['algo']['name'] +\"/recall@N/metrics\").collect()"
     ],
     "language": "python",
     "metadata": {},
     "outputs": [
      {
       "output_type": "stream",
       "stream": "stdout",
       "text": [
        "[u'{\"type\": \"metric\", \"ts\": 1431706718.820006, \"id\": -1, \"linkedinfo\": {\"subjects\": [{\"splitName\": \"giroCompletoTestMultipleConfs_excludeTrue\", \"algoName\": \"ImplicitPlaylist_exp_0.5_clustSim_0.3\"}]}, \"evaluation\": {\"value\": 0.009578153658039535, \"N\": 1}, \"properties\": {\"name\": \"recall@N\"}}', u'{\"type\": \"metric\", \"ts\": 1431706719.710782, \"id\": -1, \"linkedinfo\": {\"subjects\": [{\"splitName\": \"giroCompletoTestMultipleConfs_excludeTrue\", \"algoName\": \"ImplicitPlaylist_exp_0.5_clustSim_0.3\"}]}, \"evaluation\": {\"value\": 0.019360097819441615, \"N\": 2}, \"properties\": {\"name\": \"recall@N\"}}', u'{\"type\": \"metric\", \"ts\": 1431706720.142732, \"id\": -1, \"linkedinfo\": {\"subjects\": [{\"splitName\": \"giroCompletoTestMultipleConfs_excludeTrue\", \"algoName\": \"ImplicitPlaylist_exp_0.5_clustSim_0.3\"}]}, \"evaluation\": {\"value\": 0.04992867332382311, \"N\": 5}, \"properties\": {\"name\": \"recall@N\"}}', u'{\"type\": \"metric\", \"ts\": 1431706720.529803, \"id\": -1, \"linkedinfo\": {\"subjects\": [{\"splitName\": \"giroCompletoTestMultipleConfs_excludeTrue\", \"algoName\": \"ImplicitPlaylist_exp_0.5_clustSim_0.3\"}]}, \"evaluation\": {\"value\": 0.07927450580802935, \"N\": 10}, \"properties\": {\"name\": \"recall@N\"}}', u'{\"type\": \"metric\", \"ts\": 1431706720.988862, \"id\": -1, \"linkedinfo\": {\"subjects\": [{\"splitName\": \"giroCompletoTestMultipleConfs_excludeTrue\", \"algoName\": \"ImplicitPlaylist_exp_0.5_clustSim_0.3\"}]}, \"evaluation\": {\"value\": 0.11371510087629916, \"N\": 15}, \"properties\": {\"name\": \"recall@N\"}}', u'{\"type\": \"metric\", \"ts\": 1431706721.40532, \"id\": -1, \"linkedinfo\": {\"subjects\": [{\"splitName\": \"giroCompletoTestMultipleConfs_excludeTrue\", \"algoName\": \"ImplicitPlaylist_exp_0.5_clustSim_0.3\"}]}, \"evaluation\": {\"value\": 0.14713674342775626, \"N\": 20}, \"properties\": {\"name\": \"recall@N\"}}', u'{\"type\": \"metric\", \"ts\": 1431706721.797263, \"id\": -1, \"linkedinfo\": {\"subjects\": [{\"splitName\": \"giroCompletoTestMultipleConfs_excludeTrue\", \"algoName\": \"ImplicitPlaylist_exp_0.5_clustSim_0.3\"}]}, \"evaluation\": {\"value\": 0.17424088037497454, \"N\": 25}, \"properties\": {\"name\": \"recall@N\"}}', u'{\"type\": \"metric\", \"ts\": 1431706722.222407, \"id\": -1, \"linkedinfo\": {\"subjects\": [{\"splitName\": \"giroCompletoTestMultipleConfs_excludeTrue\", \"algoName\": \"ImplicitPlaylist_exp_0.5_clustSim_0.3\"}]}, \"evaluation\": {\"value\": 0.26044426329733034, \"N\": 50}, \"properties\": {\"name\": \"recall@N\"}}', u'{\"type\": \"metric\", \"ts\": 1431706722.69178, \"id\": -1, \"linkedinfo\": {\"subjects\": [{\"splitName\": \"giroCompletoTestMultipleConfs_excludeTrue\", \"algoName\": \"ImplicitPlaylist_exp_0.5_clustSim_0.3\"}]}, \"evaluation\": {\"value\": 0.3460362747095985, \"N\": 100}, \"properties\": {\"name\": \"recall@N\"}}']\n",
        "[u'{\"type\": \"metric\", \"ts\": 1431707085.084075, \"id\": -1, \"linkedinfo\": {\"subjects\": [{\"splitName\": \"giroCompletoTestMultipleConfs_excludeTrue\", \"algoName\": \"ImplicitPlaylist_exp_0.5_clustSim_0.5\"}]}, \"evaluation\": {\"value\": 0.0065212961076013855, \"N\": 1}, \"properties\": {\"name\": \"recall@N\"}}', u'{\"type\": \"metric\", \"ts\": 1431707085.900699, \"id\": -1, \"linkedinfo\": {\"subjects\": [{\"splitName\": \"giroCompletoTestMultipleConfs_excludeTrue\", \"algoName\": \"ImplicitPlaylist_exp_0.5_clustSim_0.5\"}]}, \"evaluation\": {\"value\": 0.012635011208477685, \"N\": 2}, \"properties\": {\"name\": \"recall@N\"}}', u'{\"type\": \"metric\", \"ts\": 1431707086.32558, \"id\": -1, \"linkedinfo\": {\"subjects\": [{\"splitName\": \"giroCompletoTestMultipleConfs_excludeTrue\", \"algoName\": \"ImplicitPlaylist_exp_0.5_clustSim_0.5\"}]}, \"evaluation\": {\"value\": 0.029957203994293864, \"N\": 5}, \"properties\": {\"name\": \"recall@N\"}}', u'{\"type\": \"metric\", \"ts\": 1431707086.742121, \"id\": -1, \"linkedinfo\": {\"subjects\": [{\"splitName\": \"giroCompletoTestMultipleConfs_excludeTrue\", \"algoName\": \"ImplicitPlaylist_exp_0.5_clustSim_0.5\"}]}, \"evaluation\": {\"value\": 0.04442632973303444, \"N\": 10}, \"properties\": {\"name\": \"recall@N\"}}', u'{\"type\": \"metric\", \"ts\": 1431707087.16566, \"id\": -1, \"linkedinfo\": {\"subjects\": [{\"splitName\": \"giroCompletoTestMultipleConfs_excludeTrue\", \"algoName\": \"ImplicitPlaylist_exp_0.5_clustSim_0.5\"}]}, \"evaluation\": {\"value\": 0.06480538006928876, \"N\": 15}, \"properties\": {\"name\": \"recall@N\"}}', u'{\"type\": \"metric\", \"ts\": 1431707087.632957, \"id\": -1, \"linkedinfo\": {\"subjects\": [{\"splitName\": \"giroCompletoTestMultipleConfs_excludeTrue\", \"algoName\": \"ImplicitPlaylist_exp_0.5_clustSim_0.5\"}]}, \"evaluation\": {\"value\": 0.08640717342571837, \"N\": 20}, \"properties\": {\"name\": \"recall@N\"}}', u'{\"type\": \"metric\", \"ts\": 1431707088.068528, \"id\": -1, \"linkedinfo\": {\"subjects\": [{\"splitName\": \"giroCompletoTestMultipleConfs_excludeTrue\", \"algoName\": \"ImplicitPlaylist_exp_0.5_clustSim_0.5\"}]}, \"evaluation\": {\"value\": 0.10189525168127166, \"N\": 25}, \"properties\": {\"name\": \"recall@N\"}}', u'{\"type\": \"metric\", \"ts\": 1431707088.527953, \"id\": -1, \"linkedinfo\": {\"subjects\": [{\"splitName\": \"giroCompletoTestMultipleConfs_excludeTrue\", \"algoName\": \"ImplicitPlaylist_exp_0.5_clustSim_0.5\"}]}, \"evaluation\": {\"value\": 0.16507030772366008, \"N\": 50}, \"properties\": {\"name\": \"recall@N\"}}', u'{\"type\": \"metric\", \"ts\": 1431707088.961322, \"id\": -1, \"linkedinfo\": {\"subjects\": [{\"splitName\": \"giroCompletoTestMultipleConfs_excludeTrue\", \"algoName\": \"ImplicitPlaylist_exp_0.5_clustSim_0.5\"}]}, \"evaluation\": {\"value\": 0.21377623802730794, \"N\": 100}, \"properties\": {\"name\": \"recall@N\"}}']"
       ]
      },
      {
       "output_type": "stream",
       "stream": "stdout",
       "text": [
        "\n",
        "[u'{\"type\": \"metric\", \"ts\": 1431707435.009159, \"id\": -1, \"linkedinfo\": {\"subjects\": [{\"splitName\": \"giroCompletoTestMultipleConfs_excludeTrue\", \"algoName\": \"ImplicitPlaylist_exp_0.5_clustSim_0.7\"}]}, \"evaluation\": {\"value\": 0.0018341145302628898, \"N\": 1}, \"properties\": {\"name\": \"recall@N\"}}', u'{\"type\": \"metric\", \"ts\": 1431707435.849467, \"id\": -1, \"linkedinfo\": {\"subjects\": [{\"splitName\": \"giroCompletoTestMultipleConfs_excludeTrue\", \"algoName\": \"ImplicitPlaylist_exp_0.5_clustSim_0.7\"}]}, \"evaluation\": {\"value\": 0.0034644385571632364, \"N\": 2}, \"properties\": {\"name\": \"recall@N\"}}', u'{\"type\": \"metric\", \"ts\": 1431707436.292801, \"id\": -1, \"linkedinfo\": {\"subjects\": [{\"splitName\": \"giroCompletoTestMultipleConfs_excludeTrue\", \"algoName\": \"ImplicitPlaylist_exp_0.5_clustSim_0.7\"}]}, \"evaluation\": {\"value\": 0.012023639698390055, \"N\": 5}, \"properties\": {\"name\": \"recall@N\"}}', u'{\"type\": \"metric\", \"ts\": 1431707436.712927, \"id\": -1, \"linkedinfo\": {\"subjects\": [{\"splitName\": \"giroCompletoTestMultipleConfs_excludeTrue\", \"algoName\": \"ImplicitPlaylist_exp_0.5_clustSim_0.7\"}]}, \"evaluation\": {\"value\": 0.016914611779091093, \"N\": 10}, \"properties\": {\"name\": \"recall@N\"}}', u'{\"type\": \"metric\", \"ts\": 1431707437.137693, \"id\": -1, \"linkedinfo\": {\"subjects\": [{\"splitName\": \"giroCompletoTestMultipleConfs_excludeTrue\", \"algoName\": \"ImplicitPlaylist_exp_0.5_clustSim_0.7\"}]}, \"evaluation\": {\"value\": 0.024251069900142655, \"N\": 15}, \"properties\": {\"name\": \"recall@N\"}}', u'{\"type\": \"metric\", \"ts\": 1431707437.53009, \"id\": -1, \"linkedinfo\": {\"subjects\": [{\"splitName\": \"giroCompletoTestMultipleConfs_excludeTrue\", \"algoName\": \"ImplicitPlaylist_exp_0.5_clustSim_0.7\"}]}, \"evaluation\": {\"value\": 0.030976156511106582, \"N\": 20}, \"properties\": {\"name\": \"recall@N\"}}', u'{\"type\": \"metric\", \"ts\": 1431707437.958088, \"id\": -1, \"linkedinfo\": {\"subjects\": [{\"splitName\": \"giroCompletoTestMultipleConfs_excludeTrue\", \"algoName\": \"ImplicitPlaylist_exp_0.5_clustSim_0.7\"}]}, \"evaluation\": {\"value\": 0.03444059506826982, \"N\": 25}, \"properties\": {\"name\": \"recall@N\"}}', u'{\"type\": \"metric\", \"ts\": 1431707438.373103, \"id\": -1, \"linkedinfo\": {\"subjects\": [{\"splitName\": \"giroCompletoTestMultipleConfs_excludeTrue\", \"algoName\": \"ImplicitPlaylist_exp_0.5_clustSim_0.7\"}]}, \"evaluation\": {\"value\": 0.05828408396168738, \"N\": 50}, \"properties\": {\"name\": \"recall@N\"}}', u'{\"type\": \"metric\", \"ts\": 1431707438.77314, \"id\": -1, \"linkedinfo\": {\"subjects\": [{\"splitName\": \"giroCompletoTestMultipleConfs_excludeTrue\", \"algoName\": \"ImplicitPlaylist_exp_0.5_clustSim_0.7\"}]}, \"evaluation\": {\"value\": 0.07377216221724067, \"N\": 100}, \"properties\": {\"name\": \"recall@N\"}}']"
       ]
      },
      {
       "output_type": "stream",
       "stream": "stdout",
       "text": [
        "\n",
        "[u'{\"type\": \"metric\", \"ts\": 1431707799.449443, \"id\": -1, \"linkedinfo\": {\"subjects\": [{\"splitName\": \"giroCompletoTestMultipleConfs_excludeTrue\", \"algoName\": \"ImplicitPlaylist_exp_0.7_clustSim_0.3\"}]}, \"evaluation\": {\"value\": 0.009170572651314449, \"N\": 1}, \"properties\": {\"name\": \"recall@N\"}}', u'{\"type\": \"metric\", \"ts\": 1431707800.322175, \"id\": -1, \"linkedinfo\": {\"subjects\": [{\"splitName\": \"giroCompletoTestMultipleConfs_excludeTrue\", \"algoName\": \"ImplicitPlaylist_exp_0.7_clustSim_0.3\"}]}, \"evaluation\": {\"value\": 0.01915630731607907, \"N\": 2}, \"properties\": {\"name\": \"recall@N\"}}', u'{\"type\": \"metric\", \"ts\": 1431707800.697179, \"id\": -1, \"linkedinfo\": {\"subjects\": [{\"splitName\": \"giroCompletoTestMultipleConfs_excludeTrue\", \"algoName\": \"ImplicitPlaylist_exp_0.7_clustSim_0.3\"}]}, \"evaluation\": {\"value\": 0.049113511310372934, \"N\": 5}, \"properties\": {\"name\": \"recall@N\"}}', u'{\"type\": \"metric\", \"ts\": 1431707801.140823, \"id\": -1, \"linkedinfo\": {\"subjects\": [{\"splitName\": \"giroCompletoTestMultipleConfs_excludeTrue\", \"algoName\": \"ImplicitPlaylist_exp_0.7_clustSim_0.3\"}]}, \"evaluation\": {\"value\": 0.07825555329121663, \"N\": 10}, \"properties\": {\"name\": \"recall@N\"}}', u'{\"type\": \"metric\", \"ts\": 1431707801.574505, \"id\": -1, \"linkedinfo\": {\"subjects\": [{\"splitName\": \"giroCompletoTestMultipleConfs_excludeTrue\", \"algoName\": \"ImplicitPlaylist_exp_0.7_clustSim_0.3\"}]}, \"evaluation\": {\"value\": 0.11167719584267373, \"N\": 15}, \"properties\": {\"name\": \"recall@N\"}}', u'{\"type\": \"metric\", \"ts\": 1431707801.995066, \"id\": -1, \"linkedinfo\": {\"subjects\": [{\"splitName\": \"giroCompletoTestMultipleConfs_excludeTrue\", \"algoName\": \"ImplicitPlaylist_exp_0.7_clustSim_0.3\"}]}, \"evaluation\": {\"value\": 0.1448950478907683, \"N\": 20}, \"properties\": {\"name\": \"recall@N\"}}', u'{\"type\": \"metric\", \"ts\": 1431707802.445312, \"id\": -1, \"linkedinfo\": {\"subjects\": [{\"splitName\": \"giroCompletoTestMultipleConfs_excludeTrue\", \"algoName\": \"ImplicitPlaylist_exp_0.7_clustSim_0.3\"}]}, \"evaluation\": {\"value\": 0.17199918483798654, \"N\": 25}, \"properties\": {\"name\": \"recall@N\"}}', u'{\"type\": \"metric\", \"ts\": 1431707802.877213, \"id\": -1, \"linkedinfo\": {\"subjects\": [{\"splitName\": \"giroCompletoTestMultipleConfs_excludeTrue\", \"algoName\": \"ImplicitPlaylist_exp_0.7_clustSim_0.3\"}]}, \"evaluation\": {\"value\": 0.2598328917872427, \"N\": 50}, \"properties\": {\"name\": \"recall@N\"}}', u'{\"type\": \"metric\", \"ts\": 1431707803.275029, \"id\": -1, \"linkedinfo\": {\"subjects\": [{\"splitName\": \"giroCompletoTestMultipleConfs_excludeTrue\", \"algoName\": \"ImplicitPlaylist_exp_0.7_clustSim_0.3\"}]}, \"evaluation\": {\"value\": 0.34644385571632363, \"N\": 100}, \"properties\": {\"name\": \"recall@N\"}}']"
       ]
      },
      {
       "output_type": "stream",
       "stream": "stdout",
       "text": [
        "\n",
        "[u'{\"type\": \"metric\", \"ts\": 1431708166.927056, \"id\": -1, \"linkedinfo\": {\"subjects\": [{\"splitName\": \"giroCompletoTestMultipleConfs_excludeTrue\", \"algoName\": \"ImplicitPlaylist_exp_0.7_clustSim_0.5\"}]}, \"evaluation\": {\"value\": 0.0065212961076013855, \"N\": 1}, \"properties\": {\"name\": \"recall@N\"}}', u'{\"type\": \"metric\", \"ts\": 1431708167.759937, \"id\": -1, \"linkedinfo\": {\"subjects\": [{\"splitName\": \"giroCompletoTestMultipleConfs_excludeTrue\", \"algoName\": \"ImplicitPlaylist_exp_0.7_clustSim_0.5\"}]}, \"evaluation\": {\"value\": 0.012635011208477685, \"N\": 2}, \"properties\": {\"name\": \"recall@N\"}}', u'{\"type\": \"metric\", \"ts\": 1431708168.220836, \"id\": -1, \"linkedinfo\": {\"subjects\": [{\"splitName\": \"giroCompletoTestMultipleConfs_excludeTrue\", \"algoName\": \"ImplicitPlaylist_exp_0.7_clustSim_0.5\"}]}, \"evaluation\": {\"value\": 0.029957203994293864, \"N\": 5}, \"properties\": {\"name\": \"recall@N\"}}', u'{\"type\": \"metric\", \"ts\": 1431708168.633635, \"id\": -1, \"linkedinfo\": {\"subjects\": [{\"splitName\": \"giroCompletoTestMultipleConfs_excludeTrue\", \"algoName\": \"ImplicitPlaylist_exp_0.7_clustSim_0.5\"}]}, \"evaluation\": {\"value\": 0.04442632973303444, \"N\": 10}, \"properties\": {\"name\": \"recall@N\"}}', u'{\"type\": \"metric\", \"ts\": 1431708169.057409, \"id\": -1, \"linkedinfo\": {\"subjects\": [{\"splitName\": \"giroCompletoTestMultipleConfs_excludeTrue\", \"algoName\": \"ImplicitPlaylist_exp_0.7_clustSim_0.5\"}]}, \"evaluation\": {\"value\": 0.0639902180558386, \"N\": 15}, \"properties\": {\"name\": \"recall@N\"}}', u'{\"type\": \"metric\", \"ts\": 1431708169.473758, \"id\": -1, \"linkedinfo\": {\"subjects\": [{\"splitName\": \"giroCompletoTestMultipleConfs_excludeTrue\", \"algoName\": \"ImplicitPlaylist_exp_0.7_clustSim_0.5\"}]}, \"evaluation\": {\"value\": 0.08559201141226819, \"N\": 20}, \"properties\": {\"name\": \"recall@N\"}}', u'{\"type\": \"metric\", \"ts\": 1431708169.917148, \"id\": -1, \"linkedinfo\": {\"subjects\": [{\"splitName\": \"giroCompletoTestMultipleConfs_excludeTrue\", \"algoName\": \"ImplicitPlaylist_exp_0.7_clustSim_0.5\"}]}, \"evaluation\": {\"value\": 0.10108008966782148, \"N\": 25}, \"properties\": {\"name\": \"recall@N\"}}', u'{\"type\": \"metric\", \"ts\": 1431708170.381356, \"id\": -1, \"linkedinfo\": {\"subjects\": [{\"splitName\": \"giroCompletoTestMultipleConfs_excludeTrue\", \"algoName\": \"ImplicitPlaylist_exp_0.7_clustSim_0.5\"}]}, \"evaluation\": {\"value\": 0.16507030772366008, \"N\": 50}, \"properties\": {\"name\": \"recall@N\"}}', u'{\"type\": \"metric\", \"ts\": 1431708170.804482, \"id\": -1, \"linkedinfo\": {\"subjects\": [{\"splitName\": \"giroCompletoTestMultipleConfs_excludeTrue\", \"algoName\": \"ImplicitPlaylist_exp_0.7_clustSim_0.5\"}]}, \"evaluation\": {\"value\": 0.21275728551049522, \"N\": 100}, \"properties\": {\"name\": \"recall@N\"}}']"
       ]
      },
      {
       "output_type": "stream",
       "stream": "stdout",
       "text": [
        "\n",
        "[u'{\"type\": \"metric\", \"ts\": 1431708536.428049, \"id\": -1, \"linkedinfo\": {\"subjects\": [{\"splitName\": \"giroCompletoTestMultipleConfs_excludeTrue\", \"algoName\": \"ImplicitPlaylist_exp_0.7_clustSim_0.7\"}]}, \"evaluation\": {\"value\": 0.0018341145302628898, \"N\": 1}, \"properties\": {\"name\": \"recall@N\"}}', u'{\"type\": \"metric\", \"ts\": 1431708537.240549, \"id\": -1, \"linkedinfo\": {\"subjects\": [{\"splitName\": \"giroCompletoTestMultipleConfs_excludeTrue\", \"algoName\": \"ImplicitPlaylist_exp_0.7_clustSim_0.7\"}]}, \"evaluation\": {\"value\": 0.0034644385571632364, \"N\": 2}, \"properties\": {\"name\": \"recall@N\"}}', u'{\"type\": \"metric\", \"ts\": 1431708537.681563, \"id\": -1, \"linkedinfo\": {\"subjects\": [{\"splitName\": \"giroCompletoTestMultipleConfs_excludeTrue\", \"algoName\": \"ImplicitPlaylist_exp_0.7_clustSim_0.7\"}]}, \"evaluation\": {\"value\": 0.012023639698390055, \"N\": 5}, \"properties\": {\"name\": \"recall@N\"}}', u'{\"type\": \"metric\", \"ts\": 1431708538.109455, \"id\": -1, \"linkedinfo\": {\"subjects\": [{\"splitName\": \"giroCompletoTestMultipleConfs_excludeTrue\", \"algoName\": \"ImplicitPlaylist_exp_0.7_clustSim_0.7\"}]}, \"evaluation\": {\"value\": 0.016914611779091093, \"N\": 10}, \"properties\": {\"name\": \"recall@N\"}}', u'{\"type\": \"metric\", \"ts\": 1431708538.520925, \"id\": -1, \"linkedinfo\": {\"subjects\": [{\"splitName\": \"giroCompletoTestMultipleConfs_excludeTrue\", \"algoName\": \"ImplicitPlaylist_exp_0.7_clustSim_0.7\"}]}, \"evaluation\": {\"value\": 0.024251069900142655, \"N\": 15}, \"properties\": {\"name\": \"recall@N\"}}', u'{\"type\": \"metric\", \"ts\": 1431708538.94501, \"id\": -1, \"linkedinfo\": {\"subjects\": [{\"splitName\": \"giroCompletoTestMultipleConfs_excludeTrue\", \"algoName\": \"ImplicitPlaylist_exp_0.7_clustSim_0.7\"}]}, \"evaluation\": {\"value\": 0.030976156511106582, \"N\": 20}, \"properties\": {\"name\": \"recall@N\"}}', u'{\"type\": \"metric\", \"ts\": 1431708539.373547, \"id\": -1, \"linkedinfo\": {\"subjects\": [{\"splitName\": \"giroCompletoTestMultipleConfs_excludeTrue\", \"algoName\": \"ImplicitPlaylist_exp_0.7_clustSim_0.7\"}]}, \"evaluation\": {\"value\": 0.034033014061544735, \"N\": 25}, \"properties\": {\"name\": \"recall@N\"}}', u'{\"type\": \"metric\", \"ts\": 1431708539.793947, \"id\": -1, \"linkedinfo\": {\"subjects\": [{\"splitName\": \"giroCompletoTestMultipleConfs_excludeTrue\", \"algoName\": \"ImplicitPlaylist_exp_0.7_clustSim_0.7\"}]}, \"evaluation\": {\"value\": 0.05828408396168738, \"N\": 50}, \"properties\": {\"name\": \"recall@N\"}}', u'{\"type\": \"metric\", \"ts\": 1431708540.284884, \"id\": -1, \"linkedinfo\": {\"subjects\": [{\"splitName\": \"giroCompletoTestMultipleConfs_excludeTrue\", \"algoName\": \"ImplicitPlaylist_exp_0.7_clustSim_0.7\"}]}, \"evaluation\": {\"value\": 0.07377216221724067, \"N\": 100}, \"properties\": {\"name\": \"recall@N\"}}']"
       ]
      },
      {
       "output_type": "stream",
       "stream": "stdout",
       "text": [
        "\n",
        "[u'{\"type\": \"metric\", \"ts\": 1431708914.456702, \"id\": -1, \"linkedinfo\": {\"subjects\": [{\"splitName\": \"giroCompletoTestMultipleConfs_excludeTrue\", \"algoName\": \"ImplicitPlaylist_exp_0.9_clustSim_0.3\"}]}, \"evaluation\": {\"value\": 0.008966782147951905, \"N\": 1}, \"properties\": {\"name\": \"recall@N\"}}', u'{\"type\": \"metric\", \"ts\": 1431708915.319563, \"id\": -1, \"linkedinfo\": {\"subjects\": [{\"splitName\": \"giroCompletoTestMultipleConfs_excludeTrue\", \"algoName\": \"ImplicitPlaylist_exp_0.9_clustSim_0.3\"}]}, \"evaluation\": {\"value\": 0.01895251681271653, \"N\": 2}, \"properties\": {\"name\": \"recall@N\"}}', u'{\"type\": \"metric\", \"ts\": 1431708915.764639, \"id\": -1, \"linkedinfo\": {\"subjects\": [{\"splitName\": \"giroCompletoTestMultipleConfs_excludeTrue\", \"algoName\": \"ImplicitPlaylist_exp_0.9_clustSim_0.3\"}]}, \"evaluation\": {\"value\": 0.04890972080701039, \"N\": 5}, \"properties\": {\"name\": \"recall@N\"}}', u'{\"type\": \"metric\", \"ts\": 1431708916.222584, \"id\": -1, \"linkedinfo\": {\"subjects\": [{\"splitName\": \"giroCompletoTestMultipleConfs_excludeTrue\", \"algoName\": \"ImplicitPlaylist_exp_0.9_clustSim_0.3\"}]}, \"evaluation\": {\"value\": 0.07805176278785408, \"N\": 10}, \"properties\": {\"name\": \"recall@N\"}}', u'{\"type\": \"metric\", \"ts\": 1431708916.660563, \"id\": -1, \"linkedinfo\": {\"subjects\": [{\"splitName\": \"giroCompletoTestMultipleConfs_excludeTrue\", \"algoName\": \"ImplicitPlaylist_exp_0.9_clustSim_0.3\"}]}, \"evaluation\": {\"value\": 0.11147340533931119, \"N\": 15}, \"properties\": {\"name\": \"recall@N\"}}', u'{\"type\": \"metric\", \"ts\": 1431708917.097361, \"id\": -1, \"linkedinfo\": {\"subjects\": [{\"splitName\": \"giroCompletoTestMultipleConfs_excludeTrue\", \"algoName\": \"ImplicitPlaylist_exp_0.9_clustSim_0.3\"}]}, \"evaluation\": {\"value\": 0.14469125738740574, \"N\": 20}, \"properties\": {\"name\": \"recall@N\"}}', u'{\"type\": \"metric\", \"ts\": 1431708917.509332, \"id\": -1, \"linkedinfo\": {\"subjects\": [{\"splitName\": \"giroCompletoTestMultipleConfs_excludeTrue\", \"algoName\": \"ImplicitPlaylist_exp_0.9_clustSim_0.3\"}]}, \"evaluation\": {\"value\": 0.171795394334624, \"N\": 25}, \"properties\": {\"name\": \"recall@N\"}}', u'{\"type\": \"metric\", \"ts\": 1431708917.957844, \"id\": -1, \"linkedinfo\": {\"subjects\": [{\"splitName\": \"giroCompletoTestMultipleConfs_excludeTrue\", \"algoName\": \"ImplicitPlaylist_exp_0.9_clustSim_0.3\"}]}, \"evaluation\": {\"value\": 0.2584063582637049, \"N\": 50}, \"properties\": {\"name\": \"recall@N\"}}', u'{\"type\": \"metric\", \"ts\": 1431708918.386562, \"id\": -1, \"linkedinfo\": {\"subjects\": [{\"splitName\": \"giroCompletoTestMultipleConfs_excludeTrue\", \"algoName\": \"ImplicitPlaylist_exp_0.9_clustSim_0.3\"}]}, \"evaluation\": {\"value\": 0.34481353168942325, \"N\": 100}, \"properties\": {\"name\": \"recall@N\"}}']"
       ]
      },
      {
       "output_type": "stream",
       "stream": "stdout",
       "text": [
        "\n",
        "[u'{\"type\": \"metric\", \"ts\": 1431709288.247067, \"id\": -1, \"linkedinfo\": {\"subjects\": [{\"splitName\": \"giroCompletoTestMultipleConfs_excludeTrue\", \"algoName\": \"ImplicitPlaylist_exp_0.9_clustSim_0.5\"}]}, \"evaluation\": {\"value\": 0.0065212961076013855, \"N\": 1}, \"properties\": {\"name\": \"recall@N\"}}', u'{\"type\": \"metric\", \"ts\": 1431709289.106119, \"id\": -1, \"linkedinfo\": {\"subjects\": [{\"splitName\": \"giroCompletoTestMultipleConfs_excludeTrue\", \"algoName\": \"ImplicitPlaylist_exp_0.9_clustSim_0.5\"}]}, \"evaluation\": {\"value\": 0.012431220705115141, \"N\": 2}, \"properties\": {\"name\": \"recall@N\"}}', u'{\"type\": \"metric\", \"ts\": 1431709289.56655, \"id\": -1, \"linkedinfo\": {\"subjects\": [{\"splitName\": \"giroCompletoTestMultipleConfs_excludeTrue\", \"algoName\": \"ImplicitPlaylist_exp_0.9_clustSim_0.5\"}]}, \"evaluation\": {\"value\": 0.029753413490931323, \"N\": 5}, \"properties\": {\"name\": \"recall@N\"}}', u'{\"type\": \"metric\", \"ts\": 1431709289.981475, \"id\": -1, \"linkedinfo\": {\"subjects\": [{\"splitName\": \"giroCompletoTestMultipleConfs_excludeTrue\", \"algoName\": \"ImplicitPlaylist_exp_0.9_clustSim_0.5\"}]}, \"evaluation\": {\"value\": 0.0442225392296719, \"N\": 10}, \"properties\": {\"name\": \"recall@N\"}}', u'{\"type\": \"metric\", \"ts\": 1431709290.425688, \"id\": -1, \"linkedinfo\": {\"subjects\": [{\"splitName\": \"giroCompletoTestMultipleConfs_excludeTrue\", \"algoName\": \"ImplicitPlaylist_exp_0.9_clustSim_0.5\"}]}, \"evaluation\": {\"value\": 0.0639902180558386, \"N\": 15}, \"properties\": {\"name\": \"recall@N\"}}', u'{\"type\": \"metric\", \"ts\": 1431709290.849517, \"id\": -1, \"linkedinfo\": {\"subjects\": [{\"splitName\": \"giroCompletoTestMultipleConfs_excludeTrue\", \"algoName\": \"ImplicitPlaylist_exp_0.9_clustSim_0.5\"}]}, \"evaluation\": {\"value\": 0.08559201141226819, \"N\": 20}, \"properties\": {\"name\": \"recall@N\"}}', u'{\"type\": \"metric\", \"ts\": 1431709291.282106, \"id\": -1, \"linkedinfo\": {\"subjects\": [{\"splitName\": \"giroCompletoTestMultipleConfs_excludeTrue\", \"algoName\": \"ImplicitPlaylist_exp_0.9_clustSim_0.5\"}]}, \"evaluation\": {\"value\": 0.10087629916445894, \"N\": 25}, \"properties\": {\"name\": \"recall@N\"}}', u'{\"type\": \"metric\", \"ts\": 1431709291.707018, \"id\": -1, \"linkedinfo\": {\"subjects\": [{\"splitName\": \"giroCompletoTestMultipleConfs_excludeTrue\", \"algoName\": \"ImplicitPlaylist_exp_0.9_clustSim_0.5\"}]}, \"evaluation\": {\"value\": 0.16405135520684735, \"N\": 50}, \"properties\": {\"name\": \"recall@N\"}}', u'{\"type\": \"metric\", \"ts\": 1431709292.104934, \"id\": -1, \"linkedinfo\": {\"subjects\": [{\"splitName\": \"giroCompletoTestMultipleConfs_excludeTrue\", \"algoName\": \"ImplicitPlaylist_exp_0.9_clustSim_0.5\"}]}, \"evaluation\": {\"value\": 0.21214591400040758, \"N\": 100}, \"properties\": {\"name\": \"recall@N\"}}']"
       ]
      },
      {
       "output_type": "stream",
       "stream": "stdout",
       "text": [
        "\n",
        "[u'{\"type\": \"metric\", \"ts\": 1431709648.651987, \"id\": -1, \"linkedinfo\": {\"subjects\": [{\"splitName\": \"giroCompletoTestMultipleConfs_excludeTrue\", \"algoName\": \"ImplicitPlaylist_exp_0.9_clustSim_0.7\"}]}, \"evaluation\": {\"value\": 0.0018341145302628898, \"N\": 1}, \"properties\": {\"name\": \"recall@N\"}}', u'{\"type\": \"metric\", \"ts\": 1431709649.456373, \"id\": -1, \"linkedinfo\": {\"subjects\": [{\"splitName\": \"giroCompletoTestMultipleConfs_excludeTrue\", \"algoName\": \"ImplicitPlaylist_exp_0.9_clustSim_0.7\"}]}, \"evaluation\": {\"value\": 0.0034644385571632364, \"N\": 2}, \"properties\": {\"name\": \"recall@N\"}}', u'{\"type\": \"metric\", \"ts\": 1431709649.850365, \"id\": -1, \"linkedinfo\": {\"subjects\": [{\"splitName\": \"giroCompletoTestMultipleConfs_excludeTrue\", \"algoName\": \"ImplicitPlaylist_exp_0.9_clustSim_0.7\"}]}, \"evaluation\": {\"value\": 0.012023639698390055, \"N\": 5}, \"properties\": {\"name\": \"recall@N\"}}', u'{\"type\": \"metric\", \"ts\": 1431709650.289473, \"id\": -1, \"linkedinfo\": {\"subjects\": [{\"splitName\": \"giroCompletoTestMultipleConfs_excludeTrue\", \"algoName\": \"ImplicitPlaylist_exp_0.9_clustSim_0.7\"}]}, \"evaluation\": {\"value\": 0.016914611779091093, \"N\": 10}, \"properties\": {\"name\": \"recall@N\"}}', u'{\"type\": \"metric\", \"ts\": 1431709650.713746, \"id\": -1, \"linkedinfo\": {\"subjects\": [{\"splitName\": \"giroCompletoTestMultipleConfs_excludeTrue\", \"algoName\": \"ImplicitPlaylist_exp_0.9_clustSim_0.7\"}]}, \"evaluation\": {\"value\": 0.024251069900142655, \"N\": 15}, \"properties\": {\"name\": \"recall@N\"}}', u'{\"type\": \"metric\", \"ts\": 1431709651.149013, \"id\": -1, \"linkedinfo\": {\"subjects\": [{\"splitName\": \"giroCompletoTestMultipleConfs_excludeTrue\", \"algoName\": \"ImplicitPlaylist_exp_0.9_clustSim_0.7\"}]}, \"evaluation\": {\"value\": 0.030976156511106582, \"N\": 20}, \"properties\": {\"name\": \"recall@N\"}}', u'{\"type\": \"metric\", \"ts\": 1431709651.634535, \"id\": -1, \"linkedinfo\": {\"subjects\": [{\"splitName\": \"giroCompletoTestMultipleConfs_excludeTrue\", \"algoName\": \"ImplicitPlaylist_exp_0.9_clustSim_0.7\"}]}, \"evaluation\": {\"value\": 0.034033014061544735, \"N\": 25}, \"properties\": {\"name\": \"recall@N\"}}', u'{\"type\": \"metric\", \"ts\": 1431709652.057911, \"id\": -1, \"linkedinfo\": {\"subjects\": [{\"splitName\": \"giroCompletoTestMultipleConfs_excludeTrue\", \"algoName\": \"ImplicitPlaylist_exp_0.9_clustSim_0.7\"}]}, \"evaluation\": {\"value\": 0.05828408396168738, \"N\": 50}, \"properties\": {\"name\": \"recall@N\"}}', u'{\"type\": \"metric\", \"ts\": 1431709652.463184, \"id\": -1, \"linkedinfo\": {\"subjects\": [{\"splitName\": \"giroCompletoTestMultipleConfs_excludeTrue\", \"algoName\": \"ImplicitPlaylist_exp_0.9_clustSim_0.7\"}]}, \"evaluation\": {\"value\": 0.07336458121051559, \"N\": 100}, \"properties\": {\"name\": \"recall@N\"}}']"
       ]
      },
      {
       "output_type": "stream",
       "stream": "stdout",
       "text": [
        "\n",
        "[u'{\"type\": \"metric\", \"ts\": 1431710022.320474, \"id\": -1, \"linkedinfo\": {\"subjects\": [{\"splitName\": \"giroCompletoTestMultipleConfs_excludeFalse\", \"algoName\": \"ImplicitPlaylist_exp_0.5_clustSim_0.3\"}]}, \"evaluation\": {\"value\": 0.008784473953013279, \"N\": 1}, \"properties\": {\"name\": \"recall@N\"}}', u'{\"type\": \"metric\", \"ts\": 1431710023.216116, \"id\": -1, \"linkedinfo\": {\"subjects\": [{\"splitName\": \"giroCompletoTestMultipleConfs_excludeFalse\", \"algoName\": \"ImplicitPlaylist_exp_0.5_clustSim_0.3\"}]}, \"evaluation\": {\"value\": 0.017364657814096015, \"N\": 2}, \"properties\": {\"name\": \"recall@N\"}}', u'{\"type\": \"metric\", \"ts\": 1431710023.626923, \"id\": -1, \"linkedinfo\": {\"subjects\": [{\"splitName\": \"giroCompletoTestMultipleConfs_excludeFalse\", \"algoName\": \"ImplicitPlaylist_exp_0.5_clustSim_0.3\"}]}, \"evaluation\": {\"value\": 0.042492339121552605, \"N\": 5}, \"properties\": {\"name\": \"recall@N\"}}', u'{\"type\": \"metric\", \"ts\": 1431710024.055992, \"id\": -1, \"linkedinfo\": {\"subjects\": [{\"splitName\": \"giroCompletoTestMultipleConfs_excludeFalse\", \"algoName\": \"ImplicitPlaylist_exp_0.5_clustSim_0.3\"}]}, \"evaluation\": {\"value\": 0.06782431052093973, \"N\": 10}, \"properties\": {\"name\": \"recall@N\"}}', u'{\"type\": \"metric\", \"ts\": 1431710024.494618, \"id\": -1, \"linkedinfo\": {\"subjects\": [{\"splitName\": \"giroCompletoTestMultipleConfs_excludeFalse\", \"algoName\": \"ImplicitPlaylist_exp_0.5_clustSim_0.3\"}]}, \"evaluation\": {\"value\": 0.09765066394279877, \"N\": 15}, \"properties\": {\"name\": \"recall@N\"}}', u'{\"type\": \"metric\", \"ts\": 1431710024.90913, \"id\": -1, \"linkedinfo\": {\"subjects\": [{\"splitName\": \"giroCompletoTestMultipleConfs_excludeFalse\", \"algoName\": \"ImplicitPlaylist_exp_0.5_clustSim_0.3\"}]}, \"evaluation\": {\"value\": 0.12625127681307458, \"N\": 20}, \"properties\": {\"name\": \"recall@N\"}}', u'{\"type\": \"metric\", \"ts\": 1431710025.342372, \"id\": -1, \"linkedinfo\": {\"subjects\": [{\"splitName\": \"giroCompletoTestMultipleConfs_excludeFalse\", \"algoName\": \"ImplicitPlaylist_exp_0.5_clustSim_0.3\"}]}, \"evaluation\": {\"value\": 0.15423901940755874, \"N\": 25}, \"properties\": {\"name\": \"recall@N\"}}', u'{\"type\": \"metric\", \"ts\": 1431710025.772164, \"id\": -1, \"linkedinfo\": {\"subjects\": [{\"splitName\": \"giroCompletoTestMultipleConfs_excludeFalse\", \"algoName\": \"ImplicitPlaylist_exp_0.5_clustSim_0.3\"}]}, \"evaluation\": {\"value\": 0.2365679264555669, \"N\": 50}, \"properties\": {\"name\": \"recall@N\"}}', u'{\"type\": \"metric\", \"ts\": 1431710026.181463, \"id\": -1, \"linkedinfo\": {\"subjects\": [{\"splitName\": \"giroCompletoTestMultipleConfs_excludeFalse\", \"algoName\": \"ImplicitPlaylist_exp_0.5_clustSim_0.3\"}]}, \"evaluation\": {\"value\": 0.32522982635342185, \"N\": 100}, \"properties\": {\"name\": \"recall@N\"}}']"
       ]
      },
      {
       "output_type": "stream",
       "stream": "stdout",
       "text": [
        "\n",
        "[u'{\"type\": \"metric\", \"ts\": 1431710392.255486, \"id\": -1, \"linkedinfo\": {\"subjects\": [{\"splitName\": \"giroCompletoTestMultipleConfs_excludeFalse\", \"algoName\": \"ImplicitPlaylist_exp_0.5_clustSim_0.5\"}]}, \"evaluation\": {\"value\": 0.006945863125638407, \"N\": 1}, \"properties\": {\"name\": \"recall@N\"}}', u'{\"type\": \"metric\", \"ts\": 1431710393.111413, \"id\": -1, \"linkedinfo\": {\"subjects\": [{\"splitName\": \"giroCompletoTestMultipleConfs_excludeFalse\", \"algoName\": \"ImplicitPlaylist_exp_0.5_clustSim_0.5\"}]}, \"evaluation\": {\"value\": 0.012870275791624107, \"N\": 2}, \"properties\": {\"name\": \"recall@N\"}}', u'{\"type\": \"metric\", \"ts\": 1431710393.536716, \"id\": -1, \"linkedinfo\": {\"subjects\": [{\"splitName\": \"giroCompletoTestMultipleConfs_excludeFalse\", \"algoName\": \"ImplicitPlaylist_exp_0.5_clustSim_0.5\"}]}, \"evaluation\": {\"value\": 0.030439223697650664, \"N\": 5}, \"properties\": {\"name\": \"recall@N\"}}', u'{\"type\": \"metric\", \"ts\": 1431710393.945651, \"id\": -1, \"linkedinfo\": {\"subjects\": [{\"splitName\": \"giroCompletoTestMultipleConfs_excludeFalse\", \"algoName\": \"ImplicitPlaylist_exp_0.5_clustSim_0.5\"}]}, \"evaluation\": {\"value\": 0.04473953013278856, \"N\": 10}, \"properties\": {\"name\": \"recall@N\"}}', u'{\"type\": \"metric\", \"ts\": 1431710394.35357, \"id\": -1, \"linkedinfo\": {\"subjects\": [{\"splitName\": \"giroCompletoTestMultipleConfs_excludeFalse\", \"algoName\": \"ImplicitPlaylist_exp_0.5_clustSim_0.5\"}]}, \"evaluation\": {\"value\": 0.06475995914198161, \"N\": 15}, \"properties\": {\"name\": \"recall@N\"}}', u'{\"type\": \"metric\", \"ts\": 1431710394.772971, \"id\": -1, \"linkedinfo\": {\"subjects\": [{\"splitName\": \"giroCompletoTestMultipleConfs_excludeFalse\", \"algoName\": \"ImplicitPlaylist_exp_0.5_clustSim_0.5\"}]}, \"evaluation\": {\"value\": 0.08478038815117467, \"N\": 20}, \"properties\": {\"name\": \"recall@N\"}}', u'{\"type\": \"metric\", \"ts\": 1431710395.244984, \"id\": -1, \"linkedinfo\": {\"subjects\": [{\"splitName\": \"giroCompletoTestMultipleConfs_excludeFalse\", \"algoName\": \"ImplicitPlaylist_exp_0.5_clustSim_0.5\"}]}, \"evaluation\": {\"value\": 0.10010214504596528, \"N\": 25}, \"properties\": {\"name\": \"recall@N\"}}', u'{\"type\": \"metric\", \"ts\": 1431710395.711129, \"id\": -1, \"linkedinfo\": {\"subjects\": [{\"splitName\": \"giroCompletoTestMultipleConfs_excludeFalse\", \"algoName\": \"ImplicitPlaylist_exp_0.5_clustSim_0.5\"}]}, \"evaluation\": {\"value\": 0.1644535240040858, \"N\": 50}, \"properties\": {\"name\": \"recall@N\"}}', u'{\"type\": \"metric\", \"ts\": 1431710396.151582, \"id\": -1, \"linkedinfo\": {\"subjects\": [{\"splitName\": \"giroCompletoTestMultipleConfs_excludeFalse\", \"algoName\": \"ImplicitPlaylist_exp_0.5_clustSim_0.5\"}]}, \"evaluation\": {\"value\": 0.21001021450459653, \"N\": 100}, \"properties\": {\"name\": \"recall@N\"}}']"
       ]
      },
      {
       "output_type": "stream",
       "stream": "stdout",
       "text": [
        "\n",
        "[u'{\"type\": \"metric\", \"ts\": 1431710752.692909, \"id\": -1, \"linkedinfo\": {\"subjects\": [{\"splitName\": \"giroCompletoTestMultipleConfs_excludeFalse\", \"algoName\": \"ImplicitPlaylist_exp_0.5_clustSim_0.7\"}]}, \"evaluation\": {\"value\": 0.0024514811031664963, \"N\": 1}, \"properties\": {\"name\": \"recall@N\"}}', u'{\"type\": \"metric\", \"ts\": 1431710753.501528, \"id\": -1, \"linkedinfo\": {\"subjects\": [{\"splitName\": \"giroCompletoTestMultipleConfs_excludeFalse\", \"algoName\": \"ImplicitPlaylist_exp_0.5_clustSim_0.7\"}]}, \"evaluation\": {\"value\": 0.0036772216547497445, \"N\": 2}, \"properties\": {\"name\": \"recall@N\"}}', u'{\"type\": \"metric\", \"ts\": 1431710753.912954, \"id\": -1, \"linkedinfo\": {\"subjects\": [{\"splitName\": \"giroCompletoTestMultipleConfs_excludeFalse\", \"algoName\": \"ImplicitPlaylist_exp_0.5_clustSim_0.7\"}]}, \"evaluation\": {\"value\": 0.011644535240040858, \"N\": 5}, \"properties\": {\"name\": \"recall@N\"}}', u'{\"type\": \"metric\", \"ts\": 1431710754.305144, \"id\": -1, \"linkedinfo\": {\"subjects\": [{\"splitName\": \"giroCompletoTestMultipleConfs_excludeFalse\", \"algoName\": \"ImplicitPlaylist_exp_0.5_clustSim_0.7\"}]}, \"evaluation\": {\"value\": 0.016138917262512768, \"N\": 10}, \"properties\": {\"name\": \"recall@N\"}}', u'{\"type\": \"metric\", \"ts\": 1431710754.777036, \"id\": -1, \"linkedinfo\": {\"subjects\": [{\"splitName\": \"giroCompletoTestMultipleConfs_excludeFalse\", \"algoName\": \"ImplicitPlaylist_exp_0.5_clustSim_0.7\"}]}, \"evaluation\": {\"value\": 0.023697650663942797, \"N\": 15}, \"properties\": {\"name\": \"recall@N\"}}', u'{\"type\": \"metric\", \"ts\": 1431710755.189053, \"id\": -1, \"linkedinfo\": {\"subjects\": [{\"splitName\": \"giroCompletoTestMultipleConfs_excludeFalse\", \"algoName\": \"ImplicitPlaylist_exp_0.5_clustSim_0.7\"}]}, \"evaluation\": {\"value\": 0.028600612870275793, \"N\": 20}, \"properties\": {\"name\": \"recall@N\"}}', u'{\"type\": \"metric\", \"ts\": 1431710755.618677, \"id\": -1, \"linkedinfo\": {\"subjects\": [{\"splitName\": \"giroCompletoTestMultipleConfs_excludeFalse\", \"algoName\": \"ImplicitPlaylist_exp_0.5_clustSim_0.7\"}]}, \"evaluation\": {\"value\": 0.03207354443309499, \"N\": 25}, \"properties\": {\"name\": \"recall@N\"}}', u'{\"type\": \"metric\", \"ts\": 1431710756.045122, \"id\": -1, \"linkedinfo\": {\"subjects\": [{\"splitName\": \"giroCompletoTestMultipleConfs_excludeFalse\", \"algoName\": \"ImplicitPlaylist_exp_0.5_clustSim_0.7\"}]}, \"evaluation\": {\"value\": 0.05515832482124617, \"N\": 50}, \"properties\": {\"name\": \"recall@N\"}}', u'{\"type\": \"metric\", \"ts\": 1431710756.479692, \"id\": -1, \"linkedinfo\": {\"subjects\": [{\"splitName\": \"giroCompletoTestMultipleConfs_excludeFalse\", \"algoName\": \"ImplicitPlaylist_exp_0.5_clustSim_0.7\"}]}, \"evaluation\": {\"value\": 0.07068437180796731, \"N\": 100}, \"properties\": {\"name\": \"recall@N\"}}']"
       ]
      },
      {
       "output_type": "stream",
       "stream": "stdout",
       "text": [
        "\n",
        "[u'{\"type\": \"metric\", \"ts\": 1431711113.633762, \"id\": -1, \"linkedinfo\": {\"subjects\": [{\"splitName\": \"giroCompletoTestMultipleConfs_excludeFalse\", \"algoName\": \"ImplicitPlaylist_exp_0.7_clustSim_0.3\"}]}, \"evaluation\": {\"value\": 0.008988764044943821, \"N\": 1}, \"properties\": {\"name\": \"recall@N\"}}', u'{\"type\": \"metric\", \"ts\": 1431711114.501807, \"id\": -1, \"linkedinfo\": {\"subjects\": [{\"splitName\": \"giroCompletoTestMultipleConfs_excludeFalse\", \"algoName\": \"ImplicitPlaylist_exp_0.7_clustSim_0.3\"}]}, \"evaluation\": {\"value\": 0.0177732379979571, \"N\": 2}, \"properties\": {\"name\": \"recall@N\"}}', u'{\"type\": \"metric\", \"ts\": 1431711114.956684, \"id\": -1, \"linkedinfo\": {\"subjects\": [{\"splitName\": \"giroCompletoTestMultipleConfs_excludeFalse\", \"algoName\": \"ImplicitPlaylist_exp_0.7_clustSim_0.3\"}]}, \"evaluation\": {\"value\": 0.04269662921348315, \"N\": 5}, \"properties\": {\"name\": \"recall@N\"}}', u'{\"type\": \"metric\", \"ts\": 1431711115.351663, \"id\": -1, \"linkedinfo\": {\"subjects\": [{\"splitName\": \"giroCompletoTestMultipleConfs_excludeFalse\", \"algoName\": \"ImplicitPlaylist_exp_0.7_clustSim_0.3\"}]}, \"evaluation\": {\"value\": 0.06823289070480082, \"N\": 10}, \"properties\": {\"name\": \"recall@N\"}}', u'{\"type\": \"metric\", \"ts\": 1431711115.769902, \"id\": -1, \"linkedinfo\": {\"subjects\": [{\"splitName\": \"giroCompletoTestMultipleConfs_excludeFalse\", \"algoName\": \"ImplicitPlaylist_exp_0.7_clustSim_0.3\"}]}, \"evaluation\": {\"value\": 0.09703779366700716, \"N\": 15}, \"properties\": {\"name\": \"recall@N\"}}', u'{\"type\": \"metric\", \"ts\": 1431711116.173624, \"id\": -1, \"linkedinfo\": {\"subjects\": [{\"splitName\": \"giroCompletoTestMultipleConfs_excludeFalse\", \"algoName\": \"ImplicitPlaylist_exp_0.7_clustSim_0.3\"}]}, \"evaluation\": {\"value\": 0.1254341164453524, \"N\": 20}, \"properties\": {\"name\": \"recall@N\"}}', u'{\"type\": \"metric\", \"ts\": 1431711116.590475, \"id\": -1, \"linkedinfo\": {\"subjects\": [{\"splitName\": \"giroCompletoTestMultipleConfs_excludeFalse\", \"algoName\": \"ImplicitPlaylist_exp_0.7_clustSim_0.3\"}]}, \"evaluation\": {\"value\": 0.15383043922369766, \"N\": 25}, \"properties\": {\"name\": \"recall@N\"}}', u'{\"type\": \"metric\", \"ts\": 1431711117.007297, \"id\": -1, \"linkedinfo\": {\"subjects\": [{\"splitName\": \"giroCompletoTestMultipleConfs_excludeFalse\", \"algoName\": \"ImplicitPlaylist_exp_0.7_clustSim_0.3\"}]}, \"evaluation\": {\"value\": 0.23820224719101124, \"N\": 50}, \"properties\": {\"name\": \"recall@N\"}}', u'{\"type\": \"metric\", \"ts\": 1431711117.465252, \"id\": -1, \"linkedinfo\": {\"subjects\": [{\"splitName\": \"giroCompletoTestMultipleConfs_excludeFalse\", \"algoName\": \"ImplicitPlaylist_exp_0.7_clustSim_0.3\"}]}, \"evaluation\": {\"value\": 0.3258426966292135, \"N\": 100}, \"properties\": {\"name\": \"recall@N\"}}']"
       ]
      },
      {
       "output_type": "stream",
       "stream": "stdout",
       "text": [
        "\n",
        "[u'{\"type\": \"metric\", \"ts\": 1431711473.299142, \"id\": -1, \"linkedinfo\": {\"subjects\": [{\"splitName\": \"giroCompletoTestMultipleConfs_excludeFalse\", \"algoName\": \"ImplicitPlaylist_exp_0.7_clustSim_0.5\"}]}, \"evaluation\": {\"value\": 0.006945863125638407, \"N\": 1}, \"properties\": {\"name\": \"recall@N\"}}', u'{\"type\": \"metric\", \"ts\": 1431711474.161188, \"id\": -1, \"linkedinfo\": {\"subjects\": [{\"splitName\": \"giroCompletoTestMultipleConfs_excludeFalse\", \"algoName\": \"ImplicitPlaylist_exp_0.7_clustSim_0.5\"}]}, \"evaluation\": {\"value\": 0.012870275791624107, \"N\": 2}, \"properties\": {\"name\": \"recall@N\"}}', u'{\"type\": \"metric\", \"ts\": 1431711474.581226, \"id\": -1, \"linkedinfo\": {\"subjects\": [{\"splitName\": \"giroCompletoTestMultipleConfs_excludeFalse\", \"algoName\": \"ImplicitPlaylist_exp_0.7_clustSim_0.5\"}]}, \"evaluation\": {\"value\": 0.030439223697650664, \"N\": 5}, \"properties\": {\"name\": \"recall@N\"}}', u'{\"type\": \"metric\", \"ts\": 1431711475.02564, \"id\": -1, \"linkedinfo\": {\"subjects\": [{\"splitName\": \"giroCompletoTestMultipleConfs_excludeFalse\", \"algoName\": \"ImplicitPlaylist_exp_0.7_clustSim_0.5\"}]}, \"evaluation\": {\"value\": 0.04473953013278856, \"N\": 10}, \"properties\": {\"name\": \"recall@N\"}}', u'{\"type\": \"metric\", \"ts\": 1431711475.462186, \"id\": -1, \"linkedinfo\": {\"subjects\": [{\"splitName\": \"giroCompletoTestMultipleConfs_excludeFalse\", \"algoName\": \"ImplicitPlaylist_exp_0.7_clustSim_0.5\"}]}, \"evaluation\": {\"value\": 0.06394279877425944, \"N\": 15}, \"properties\": {\"name\": \"recall@N\"}}', u'{\"type\": \"metric\", \"ts\": 1431711475.905216, \"id\": -1, \"linkedinfo\": {\"subjects\": [{\"splitName\": \"giroCompletoTestMultipleConfs_excludeFalse\", \"algoName\": \"ImplicitPlaylist_exp_0.7_clustSim_0.5\"}]}, \"evaluation\": {\"value\": 0.0839632277834525, \"N\": 20}, \"properties\": {\"name\": \"recall@N\"}}', u'{\"type\": \"metric\", \"ts\": 1431711476.307173, \"id\": -1, \"linkedinfo\": {\"subjects\": [{\"splitName\": \"giroCompletoTestMultipleConfs_excludeFalse\", \"algoName\": \"ImplicitPlaylist_exp_0.7_clustSim_0.5\"}]}, \"evaluation\": {\"value\": 0.09928498467824311, \"N\": 25}, \"properties\": {\"name\": \"recall@N\"}}', u'{\"type\": \"metric\", \"ts\": 1431711476.731758, \"id\": -1, \"linkedinfo\": {\"subjects\": [{\"splitName\": \"giroCompletoTestMultipleConfs_excludeFalse\", \"algoName\": \"ImplicitPlaylist_exp_0.7_clustSim_0.5\"}]}, \"evaluation\": {\"value\": 0.1644535240040858, \"N\": 50}, \"properties\": {\"name\": \"recall@N\"}}', u'{\"type\": \"metric\", \"ts\": 1431711477.146355, \"id\": -1, \"linkedinfo\": {\"subjects\": [{\"splitName\": \"giroCompletoTestMultipleConfs_excludeFalse\", \"algoName\": \"ImplicitPlaylist_exp_0.7_clustSim_0.5\"}]}, \"evaluation\": {\"value\": 0.2093973442288049, \"N\": 100}, \"properties\": {\"name\": \"recall@N\"}}']"
       ]
      },
      {
       "output_type": "stream",
       "stream": "stdout",
       "text": [
        "\n",
        "[u'{\"type\": \"metric\", \"ts\": 1431711837.898044, \"id\": -1, \"linkedinfo\": {\"subjects\": [{\"splitName\": \"giroCompletoTestMultipleConfs_excludeFalse\", \"algoName\": \"ImplicitPlaylist_exp_0.7_clustSim_0.7\"}]}, \"evaluation\": {\"value\": 0.0024514811031664963, \"N\": 1}, \"properties\": {\"name\": \"recall@N\"}}', u'{\"type\": \"metric\", \"ts\": 1431711838.687196, \"id\": -1, \"linkedinfo\": {\"subjects\": [{\"splitName\": \"giroCompletoTestMultipleConfs_excludeFalse\", \"algoName\": \"ImplicitPlaylist_exp_0.7_clustSim_0.7\"}]}, \"evaluation\": {\"value\": 0.0036772216547497445, \"N\": 2}, \"properties\": {\"name\": \"recall@N\"}}', u'{\"type\": \"metric\", \"ts\": 1431711839.086194, \"id\": -1, \"linkedinfo\": {\"subjects\": [{\"splitName\": \"giroCompletoTestMultipleConfs_excludeFalse\", \"algoName\": \"ImplicitPlaylist_exp_0.7_clustSim_0.7\"}]}, \"evaluation\": {\"value\": 0.011644535240040858, \"N\": 5}, \"properties\": {\"name\": \"recall@N\"}}', u'{\"type\": \"metric\", \"ts\": 1431711839.578335, \"id\": -1, \"linkedinfo\": {\"subjects\": [{\"splitName\": \"giroCompletoTestMultipleConfs_excludeFalse\", \"algoName\": \"ImplicitPlaylist_exp_0.7_clustSim_0.7\"}]}, \"evaluation\": {\"value\": 0.016138917262512768, \"N\": 10}, \"properties\": {\"name\": \"recall@N\"}}', u'{\"type\": \"metric\", \"ts\": 1431711840.036955, \"id\": -1, \"linkedinfo\": {\"subjects\": [{\"splitName\": \"giroCompletoTestMultipleConfs_excludeFalse\", \"algoName\": \"ImplicitPlaylist_exp_0.7_clustSim_0.7\"}]}, \"evaluation\": {\"value\": 0.023697650663942797, \"N\": 15}, \"properties\": {\"name\": \"recall@N\"}}', u'{\"type\": \"metric\", \"ts\": 1431711840.436458, \"id\": -1, \"linkedinfo\": {\"subjects\": [{\"splitName\": \"giroCompletoTestMultipleConfs_excludeFalse\", \"algoName\": \"ImplicitPlaylist_exp_0.7_clustSim_0.7\"}]}, \"evaluation\": {\"value\": 0.028600612870275793, \"N\": 20}, \"properties\": {\"name\": \"recall@N\"}}', u'{\"type\": \"metric\", \"ts\": 1431711840.881426, \"id\": -1, \"linkedinfo\": {\"subjects\": [{\"splitName\": \"giroCompletoTestMultipleConfs_excludeFalse\", \"algoName\": \"ImplicitPlaylist_exp_0.7_clustSim_0.7\"}]}, \"evaluation\": {\"value\": 0.03248212461695608, \"N\": 25}, \"properties\": {\"name\": \"recall@N\"}}', u'{\"type\": \"metric\", \"ts\": 1431711841.31059, \"id\": -1, \"linkedinfo\": {\"subjects\": [{\"splitName\": \"giroCompletoTestMultipleConfs_excludeFalse\", \"algoName\": \"ImplicitPlaylist_exp_0.7_clustSim_0.7\"}]}, \"evaluation\": {\"value\": 0.05515832482124617, \"N\": 50}, \"properties\": {\"name\": \"recall@N\"}}', u'{\"type\": \"metric\", \"ts\": 1431711841.734945, \"id\": -1, \"linkedinfo\": {\"subjects\": [{\"splitName\": \"giroCompletoTestMultipleConfs_excludeFalse\", \"algoName\": \"ImplicitPlaylist_exp_0.7_clustSim_0.7\"}]}, \"evaluation\": {\"value\": 0.07068437180796731, \"N\": 100}, \"properties\": {\"name\": \"recall@N\"}}']"
       ]
      },
      {
       "output_type": "stream",
       "stream": "stdout",
       "text": [
        "\n",
        "[u'{\"type\": \"metric\", \"ts\": 1431712206.204639, \"id\": -1, \"linkedinfo\": {\"subjects\": [{\"splitName\": \"giroCompletoTestMultipleConfs_excludeFalse\", \"algoName\": \"ImplicitPlaylist_exp_0.9_clustSim_0.3\"}]}, \"evaluation\": {\"value\": 0.008580183861082738, \"N\": 1}, \"properties\": {\"name\": \"recall@N\"}}', u'{\"type\": \"metric\", \"ts\": 1431712207.061324, \"id\": -1, \"linkedinfo\": {\"subjects\": [{\"splitName\": \"giroCompletoTestMultipleConfs_excludeFalse\", \"algoName\": \"ImplicitPlaylist_exp_0.9_clustSim_0.3\"}]}, \"evaluation\": {\"value\": 0.017568947906026557, \"N\": 2}, \"properties\": {\"name\": \"recall@N\"}}', u'{\"type\": \"metric\", \"ts\": 1431712207.50892, \"id\": -1, \"linkedinfo\": {\"subjects\": [{\"splitName\": \"giroCompletoTestMultipleConfs_excludeFalse\", \"algoName\": \"ImplicitPlaylist_exp_0.9_clustSim_0.3\"}]}, \"evaluation\": {\"value\": 0.04228804902962206, \"N\": 5}, \"properties\": {\"name\": \"recall@N\"}}', u'{\"type\": \"metric\", \"ts\": 1431712207.916521, \"id\": -1, \"linkedinfo\": {\"subjects\": [{\"splitName\": \"giroCompletoTestMultipleConfs_excludeFalse\", \"algoName\": \"ImplicitPlaylist_exp_0.9_clustSim_0.3\"}]}, \"evaluation\": {\"value\": 0.06782431052093973, \"N\": 10}, \"properties\": {\"name\": \"recall@N\"}}', u'{\"type\": \"metric\", \"ts\": 1431712208.341058, \"id\": -1, \"linkedinfo\": {\"subjects\": [{\"splitName\": \"giroCompletoTestMultipleConfs_excludeFalse\", \"algoName\": \"ImplicitPlaylist_exp_0.9_clustSim_0.3\"}]}, \"evaluation\": {\"value\": 0.09622063329928499, \"N\": 15}, \"properties\": {\"name\": \"recall@N\"}}', u'{\"type\": \"metric\", \"ts\": 1431712208.73214, \"id\": -1, \"linkedinfo\": {\"subjects\": [{\"splitName\": \"giroCompletoTestMultipleConfs_excludeFalse\", \"algoName\": \"ImplicitPlaylist_exp_0.9_clustSim_0.3\"}]}, \"evaluation\": {\"value\": 0.12482124616956078, \"N\": 20}, \"properties\": {\"name\": \"recall@N\"}}', u'{\"type\": \"metric\", \"ts\": 1431712209.148534, \"id\": -1, \"linkedinfo\": {\"subjects\": [{\"splitName\": \"giroCompletoTestMultipleConfs_excludeFalse\", \"algoName\": \"ImplicitPlaylist_exp_0.9_clustSim_0.3\"}]}, \"evaluation\": {\"value\": 0.15321756894790603, \"N\": 25}, \"properties\": {\"name\": \"recall@N\"}}', u'{\"type\": \"metric\", \"ts\": 1431712209.614727, \"id\": -1, \"linkedinfo\": {\"subjects\": [{\"splitName\": \"giroCompletoTestMultipleConfs_excludeFalse\", \"algoName\": \"ImplicitPlaylist_exp_0.9_clustSim_0.3\"}]}, \"evaluation\": {\"value\": 0.23677221654749744, \"N\": 50}, \"properties\": {\"name\": \"recall@N\"}}', u'{\"type\": \"metric\", \"ts\": 1431712210.033304, \"id\": -1, \"linkedinfo\": {\"subjects\": [{\"splitName\": \"giroCompletoTestMultipleConfs_excludeFalse\", \"algoName\": \"ImplicitPlaylist_exp_0.9_clustSim_0.3\"}]}, \"evaluation\": {\"value\": 0.32420837589376916, \"N\": 100}, \"properties\": {\"name\": \"recall@N\"}}']"
       ]
      },
      {
       "output_type": "stream",
       "stream": "stdout",
       "text": [
        "\n",
        "[u'{\"type\": \"metric\", \"ts\": 1431712566.070191, \"id\": -1, \"linkedinfo\": {\"subjects\": [{\"splitName\": \"giroCompletoTestMultipleConfs_excludeFalse\", \"algoName\": \"ImplicitPlaylist_exp_0.9_clustSim_0.5\"}]}, \"evaluation\": {\"value\": 0.006945863125638407, \"N\": 1}, \"properties\": {\"name\": \"recall@N\"}}', u'{\"type\": \"metric\", \"ts\": 1431712566.922778, \"id\": -1, \"linkedinfo\": {\"subjects\": [{\"splitName\": \"giroCompletoTestMultipleConfs_excludeFalse\", \"algoName\": \"ImplicitPlaylist_exp_0.9_clustSim_0.5\"}]}, \"evaluation\": {\"value\": 0.012665985699693565, \"N\": 2}, \"properties\": {\"name\": \"recall@N\"}}', u'{\"type\": \"metric\", \"ts\": 1431712567.30907, \"id\": -1, \"linkedinfo\": {\"subjects\": [{\"splitName\": \"giroCompletoTestMultipleConfs_excludeFalse\", \"algoName\": \"ImplicitPlaylist_exp_0.9_clustSim_0.5\"}]}, \"evaluation\": {\"value\": 0.030234933605720122, \"N\": 5}, \"properties\": {\"name\": \"recall@N\"}}', u'{\"type\": \"metric\", \"ts\": 1431712567.737079, \"id\": -1, \"linkedinfo\": {\"subjects\": [{\"splitName\": \"giroCompletoTestMultipleConfs_excludeFalse\", \"algoName\": \"ImplicitPlaylist_exp_0.9_clustSim_0.5\"}]}, \"evaluation\": {\"value\": 0.044535240040858015, \"N\": 10}, \"properties\": {\"name\": \"recall@N\"}}', u'{\"type\": \"metric\", \"ts\": 1431712568.14657, \"id\": -1, \"linkedinfo\": {\"subjects\": [{\"splitName\": \"giroCompletoTestMultipleConfs_excludeFalse\", \"algoName\": \"ImplicitPlaylist_exp_0.9_clustSim_0.5\"}]}, \"evaluation\": {\"value\": 0.0637385086823289, \"N\": 15}, \"properties\": {\"name\": \"recall@N\"}}', u'{\"type\": \"metric\", \"ts\": 1431712568.549418, \"id\": -1, \"linkedinfo\": {\"subjects\": [{\"splitName\": \"giroCompletoTestMultipleConfs_excludeFalse\", \"algoName\": \"ImplicitPlaylist_exp_0.9_clustSim_0.5\"}]}, \"evaluation\": {\"value\": 0.08375893769152196, \"N\": 20}, \"properties\": {\"name\": \"recall@N\"}}', u'{\"type\": \"metric\", \"ts\": 1431712568.957805, \"id\": -1, \"linkedinfo\": {\"subjects\": [{\"splitName\": \"giroCompletoTestMultipleConfs_excludeFalse\", \"algoName\": \"ImplicitPlaylist_exp_0.9_clustSim_0.5\"}]}, \"evaluation\": {\"value\": 0.09908069458631256, \"N\": 25}, \"properties\": {\"name\": \"recall@N\"}}', u'{\"type\": \"metric\", \"ts\": 1431712569.365708, \"id\": -1, \"linkedinfo\": {\"subjects\": [{\"splitName\": \"giroCompletoTestMultipleConfs_excludeFalse\", \"algoName\": \"ImplicitPlaylist_exp_0.9_clustSim_0.5\"}]}, \"evaluation\": {\"value\": 0.1634320735444331, \"N\": 50}, \"properties\": {\"name\": \"recall@N\"}}', u'{\"type\": \"metric\", \"ts\": 1431712569.809832, \"id\": -1, \"linkedinfo\": {\"subjects\": [{\"splitName\": \"giroCompletoTestMultipleConfs_excludeFalse\", \"algoName\": \"ImplicitPlaylist_exp_0.9_clustSim_0.5\"}]}, \"evaluation\": {\"value\": 0.2093973442288049, \"N\": 100}, \"properties\": {\"name\": \"recall@N\"}}']"
       ]
      },
      {
       "output_type": "stream",
       "stream": "stdout",
       "text": [
        "\n",
        "[u'{\"type\": \"metric\", \"ts\": 1431712927.076996, \"id\": -1, \"linkedinfo\": {\"subjects\": [{\"splitName\": \"giroCompletoTestMultipleConfs_excludeFalse\", \"algoName\": \"ImplicitPlaylist_exp_0.9_clustSim_0.7\"}]}, \"evaluation\": {\"value\": 0.0024514811031664963, \"N\": 1}, \"properties\": {\"name\": \"recall@N\"}}', u'{\"type\": \"metric\", \"ts\": 1431712927.955813, \"id\": -1, \"linkedinfo\": {\"subjects\": [{\"splitName\": \"giroCompletoTestMultipleConfs_excludeFalse\", \"algoName\": \"ImplicitPlaylist_exp_0.9_clustSim_0.7\"}]}, \"evaluation\": {\"value\": 0.0036772216547497445, \"N\": 2}, \"properties\": {\"name\": \"recall@N\"}}', u'{\"type\": \"metric\", \"ts\": 1431712928.434497, \"id\": -1, \"linkedinfo\": {\"subjects\": [{\"splitName\": \"giroCompletoTestMultipleConfs_excludeFalse\", \"algoName\": \"ImplicitPlaylist_exp_0.9_clustSim_0.7\"}]}, \"evaluation\": {\"value\": 0.011644535240040858, \"N\": 5}, \"properties\": {\"name\": \"recall@N\"}}', u'{\"type\": \"metric\", \"ts\": 1431712928.855843, \"id\": -1, \"linkedinfo\": {\"subjects\": [{\"splitName\": \"giroCompletoTestMultipleConfs_excludeFalse\", \"algoName\": \"ImplicitPlaylist_exp_0.9_clustSim_0.7\"}]}, \"evaluation\": {\"value\": 0.016138917262512768, \"N\": 10}, \"properties\": {\"name\": \"recall@N\"}}', u'{\"type\": \"metric\", \"ts\": 1431712929.262361, \"id\": -1, \"linkedinfo\": {\"subjects\": [{\"splitName\": \"giroCompletoTestMultipleConfs_excludeFalse\", \"algoName\": \"ImplicitPlaylist_exp_0.9_clustSim_0.7\"}]}, \"evaluation\": {\"value\": 0.023697650663942797, \"N\": 15}, \"properties\": {\"name\": \"recall@N\"}}', u'{\"type\": \"metric\", \"ts\": 1431712929.669258, \"id\": -1, \"linkedinfo\": {\"subjects\": [{\"splitName\": \"giroCompletoTestMultipleConfs_excludeFalse\", \"algoName\": \"ImplicitPlaylist_exp_0.9_clustSim_0.7\"}]}, \"evaluation\": {\"value\": 0.028600612870275793, \"N\": 20}, \"properties\": {\"name\": \"recall@N\"}}', u'{\"type\": \"metric\", \"ts\": 1431712930.11674, \"id\": -1, \"linkedinfo\": {\"subjects\": [{\"splitName\": \"giroCompletoTestMultipleConfs_excludeFalse\", \"algoName\": \"ImplicitPlaylist_exp_0.9_clustSim_0.7\"}]}, \"evaluation\": {\"value\": 0.03248212461695608, \"N\": 25}, \"properties\": {\"name\": \"recall@N\"}}', u'{\"type\": \"metric\", \"ts\": 1431712930.596576, \"id\": -1, \"linkedinfo\": {\"subjects\": [{\"splitName\": \"giroCompletoTestMultipleConfs_excludeFalse\", \"algoName\": \"ImplicitPlaylist_exp_0.9_clustSim_0.7\"}]}, \"evaluation\": {\"value\": 0.05515832482124617, \"N\": 50}, \"properties\": {\"name\": \"recall@N\"}}', u'{\"type\": \"metric\", \"ts\": 1431712931.046744, \"id\": -1, \"linkedinfo\": {\"subjects\": [{\"splitName\": \"giroCompletoTestMultipleConfs_excludeFalse\", \"algoName\": \"ImplicitPlaylist_exp_0.9_clustSim_0.7\"}]}, \"evaluation\": {\"value\": 0.07027579162410623, \"N\": 100}, \"properties\": {\"name\": \"recall@N\"}}']"
       ]
      },
      {
       "output_type": "stream",
       "stream": "stdout",
       "text": [
        "\n"
       ]
      }
     ],
     "prompt_number": 72
    },
    {
     "cell_type": "code",
     "collapsed": false,
     "input": [],
     "language": "python",
     "metadata": {},
     "outputs": []
    }
   ],
   "metadata": {}
  }
 ]
}
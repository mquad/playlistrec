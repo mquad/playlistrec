{
 "metadata": {
  "name": "",
  "signature": "sha256:8c1120c74ce54524d1e3eb19785971920040045a23eac43b098c0cf8e44004b6"
 },
 "nbformat": 3,
 "nbformat_minor": 0,
 "worksheets": [
  {
   "cells": [
    {
     "cell_type": "code",
     "collapsed": false,
     "input": [
      "import sys\n",
      "import numpy as np\n",
      "import itertools\n",
      "from pyspark import SparkContext\n",
      "\n",
      "(USERNAME, ARTIST, TRACK, LOVED, FROM_PLAYLIST, TIMESTAMP, PLAYTIME, SESSION, DURATION) = range(0, 9)\n",
      "\n",
      "\n",
      "def parse_line(line, sep=\"##\"):\n",
      "    line_split = line.split(sep)\n",
      "    return line_split[USERNAME], line_split[ARTIST], line_split[TRACK], int(line_split[LOVED]), \\\n",
      "        int(line_split[FROM_PLAYLIST]), int(line_split[TIMESTAMP]),int(line_split[PLAYTIME]), int(line_split[SESSION]), int(line_split[DURATION])\n",
      "\n",
      "\n",
      "def parse_playlist_line(line):\n",
      "    line_split = line.split(\"\\t\")\n",
      "    user = line_split[0]\n",
      "    playlist = line_split[1].split(\"##\")\n",
      "    playlist_of_tuples = []\n",
      "    for i in range(0,len(playlist)-1):\n",
      "        playlist_of_tuples.append(tuple(playlist[i].split(\"/_/\")))\n",
      "    return user,playlist_of_tuples\n",
      "\n",
      "\n",
      "def compute_similarity(valueTuple):\n",
      "    playlists = valueTuple[0]\n",
      "    session_playlist = valueTuple[1][1]\n",
      "    maxJaccard = -1\n",
      "    for playlist in playlists:\n",
      "        currJaccard = compute_jaccard_index(set(session_playlist),set(playlist))\n",
      "        if currJaccard > maxJaccard:\n",
      "            maxJaccard = currJaccard\n",
      "    return maxJaccard\n",
      "\n",
      "def compute_similarity_levshtein(valueTuple):\n",
      "    playlists = valueTuple[0]\n",
      "    session_playlist = valueTuple[1][1]\n",
      "    maxJaccard = -1\n",
      "    bestPlaylist = None\n",
      "    for playlist in playlists:\n",
      "        currJaccard = compute_jaccard_index(set(session_playlist),set(playlist))\n",
      "        if currJaccard > maxJaccard:\n",
      "            maxJaccard = currJaccard\n",
      "            bestPlaylist = playlist\n",
      "    return levenshtein(session_playlist,bestPlaylist)\n",
      "\n",
      "def aggregateForUser(line):\n",
      "    return line[0][0],(line[0][1],line[1])\n",
      "\n",
      "def compute_jaccard_index(set_1,set_2):\n",
      "    n = len(set_1.intersection(set_2))\n",
      "    den = float(len(set_1) + len(set_2) - n)\n",
      "    if n == 0 or den == 0:\n",
      "        return 0\n",
      "    return n/float(len(set_1) + len(set_2) - n)\n",
      "\n",
      "def fun2OverOrderedSet(lista):\n",
      "    setres = set()\n",
      "    if len(lista) > 1:\n",
      "        for i in range(0,len(lista)-1):\n",
      "            if lista[i] != lista[i+1]:\n",
      "                setres.add((lista[i],lista[i+1]))\n",
      "    return setres\n",
      "\n",
      "def omega(sessions,playlists):\n",
      "    P = set()\n",
      "    for playlist in playlists:\n",
      "        for track in playlist:\n",
      "            P.add(track)\n",
      "    S = set()\n",
      "    for session in sessions:\n",
      "        for track in session:\n",
      "            S.add(track)\n",
      "    P2 = set()\n",
      "    for playlist in playlists:\n",
      "        pl = []\n",
      "        for track in playlist:\n",
      "            pl.append(track)\n",
      "        P2 = P2.union(fun2OverOrderedSet(pl))\n",
      "    S2 = set()\n",
      "    for session in sessions:\n",
      "        se = []\n",
      "        for track in session:\n",
      "            se.append(track)\n",
      "        S2 = S2.union(fun2OverOrderedSet(se))\n",
      "    inter = P.intersection(S)\n",
      "    cartprod = itertools.product(inter,repeat=2)\n",
      "    cart2 = set()\n",
      "    for e in cartprod:\n",
      "        cart2.add(e)\n",
      "    return compute_jaccard_index(P2.intersection(cart2),S2.intersection(cart2))\n",
      "\n",
      "\n",
      "def levenshtein(source, target):\n",
      "    if len(source) < len(target):\n",
      "        return levenshtein(target, source)\n",
      "\n",
      "    # So now we have len(source) >= len(target).\n",
      "    if len(target) == 0:\n",
      "        return len(source)\n",
      "\n",
      "    # We call tuple() to force strings to be used as sequences\n",
      "    # ('c', 'a', 't', 's') - numpy uses them as values by default.\n",
      "    source = np.array(tuple(source))\n",
      "    target = np.array(tuple(target))\n",
      "\n",
      "    # We use a dynamic programming algorithm, but with the\n",
      "    # added optimization that we only need the last two rows\n",
      "    # of the matrix.\n",
      "    previous_row = np.arange(target.size + 1)\n",
      "    for s in source:\n",
      "        # Insertion (target grows longer than source):\n",
      "        current_row = previous_row + 1\n",
      "\n",
      "        # Substitution or matching:\n",
      "        # Target and source items are aligned, and either\n",
      "        # are different (cost of 1), or are the same (cost of 0).\n",
      "        current_row[1:] = np.minimum(\n",
      "                current_row[1:],\n",
      "                np.add(previous_row[:-1], target != s))\n",
      "\n",
      "        # Deletion (target grows shorter than source):\n",
      "        current_row[1:] = np.minimum(\n",
      "                current_row[1:],\n",
      "                current_row[0:-1] + 1)\n",
      "\n",
      "        previous_row = current_row\n",
      "\n",
      "    return previous_row[-1]\n",
      "\n",
      "def levenshtein(s, t):\n",
      "        ''' From Wikipedia article; Iterative with two matrix rows. '''\n",
      "        if s == t: return 0\n",
      "        elif len(s) == 0: return len(t)\n",
      "        elif len(t) == 0: return len(s)\n",
      "        v0 = [None] * (len(t) + 1)\n",
      "        v1 = [None] * (len(t) + 1)\n",
      "        for i in xrange(len(v0)):\n",
      "            v0[i] = i\n",
      "        for i in xrange(len(s)):\n",
      "            v1[0] = i + 1\n",
      "            for j in xrange(len(t)):\n",
      "                cost = 0 if s[i] == t[j] else 1\n",
      "                v1[j + 1] = min(v1[j] + 1, v0[j + 1] + 1, v0[j] + cost)\n",
      "            for j in xrange(len(v0)):\n",
      "                v0[j] = v1[j]\n",
      "\n",
      "        return v1[len(t)]\n",
      "\n",
      "def computeOmega(valueTuple):\n",
      "    playlists = valueTuple[0];\n",
      "    agg_sessions = valueTuple[1];\n",
      "    sessions = [];\n",
      "    for agg_session in agg_sessions:\n",
      "        sessions.append(agg_session[1])\n",
      "    if len(playlists) == 0 or len(sessions) == 0:\n",
      "        return 0\n",
      "    return omega(sessions,playlists)\n",
      "\n",
      "def computeIntraSessionOmegaDictionaty(user_session_dict,key1,key2):\n",
      "    inter = user_session_dict[key1]['S1'].intersection(user_session_dict[key2]['S1'])\n",
      "    cartprod = itertools.product(inter,repeat=2)\n",
      "    cart2 = set()\n",
      "    for e in cartprod:\n",
      "        cart2.add(e)\n",
      "    return compute_jaccard_index(user_session_dict[key1]['S2'].intersection(cart2),user_session_dict[key2]['S2'].intersection(cart2))\n",
      "\n",
      "def computeIntraSessionJaccard(list_of_sessions):\n",
      "    user_session_dict = {}\n",
      "    count = 0\n",
      "    for session in list_of_sessions:\n",
      "        session_id = count\n",
      "        count = count + 1\n",
      "        track_list = session[1]\n",
      "        S1 = set()\n",
      "        for track in track_list:\n",
      "            S1.add(track)\n",
      "        user_session_dict[session_id] = {}\n",
      "        user_session_dict[session_id][\"track-set\"] = S1\n",
      "\n",
      "    jaccard_intra_sessions = {}\n",
      "    nsessions = count\n",
      "\n",
      "    for key1 in user_session_dict:\n",
      "        for key2 in user_session_dict:\n",
      "            if key1 == key2:\n",
      "                continue\n",
      "\n",
      "            jaccard_intra_sessions.has_key((key1,key2))\n",
      "            if not(jaccard_intra_sessions.has_key((key1,key2))) and not(jaccard_intra_sessions.has_key((key2,key1))):\n",
      "                jaccard_intra_sessions[(key1,key2)] = compute_jaccard_index(user_session_dict[key1][\"track-set\"],user_session_dict[key2][\"track-set\"])\n",
      "\n",
      "    return jaccard_intra_sessions,nsessions\n",
      "\n",
      "class UnionFind:\n",
      "    def __init__(self):\n",
      "        self.rank = {}\n",
      "        self.parent = {}\n",
      "\n",
      "    def find(self, element):\n",
      "        if element not in self.parent: # leader elements are not in `parent` dict\n",
      "            return element\n",
      "        if self.parent[element] == element:\n",
      "            return element\n",
      "        leader = self.find(self.parent[element]) # search recursively\n",
      "        self.parent[element] = leader # compress path by saving leader as parent\n",
      "        return leader\n",
      "\n",
      "    def union(self, leader1, leader2):\n",
      "        rank1 = self.rank.get(leader1,1)\n",
      "        rank2 = self.rank.get(leader2,1)\n",
      "\n",
      "        if rank1 > rank2: # union by rank\n",
      "            self.parent[leader2] = leader1\n",
      "        elif rank2 > rank1:\n",
      "            self.parent[leader1] = leader2\n",
      "        else: # ranks are equal\n",
      "            self.parent[leader2] = leader1 # favor leader1 arbitrarily\n",
      "            self.rank[leader1] = rank1+1 # increment rank\n",
      "\n",
      "def networks(friends, num_people):\n",
      "    # first process the \"friends\" list to build disjoint sets\n",
      "    network = UnionFind()\n",
      "\n",
      "    for a, b in friends:\n",
      "        network.union(network.find(a), network.find(b))\n",
      "\n",
      "    # now assemble the groups (indexed by an arbitrarily chosen leader)\n",
      "    groups = {}\n",
      "    for person in range(0,num_people):\n",
      "        g = groups.get(network.find(person), [])\n",
      "        g.append(person)\n",
      "        groups[network.find(person)] = g\n",
      "\n",
      "\n",
      "    groupList = []\n",
      "\n",
      "    # now print out the groups (you can call `set` on `g` if you want brackets)\n",
      "    for i, g in enumerate(groups.values()):\n",
      "        groupList.append(len(g))\n",
      "    if len(groupList) == 0:\n",
      "        return 1\n",
      "    np_groupList = np.array(groupList)\n",
      "\n",
      "    return np.mean(np_groupList)\n",
      "\n",
      "def clusterizeSessionsWithMetric(tuple,bins=10):\n",
      "    step = 1/float(bins)\n",
      "    res = []\n",
      "    intra_session_dictionary = tuple[0]\n",
      "    nsessions = tuple[1]\n",
      "    for i in range(0,bins):\n",
      "        threshold = i/float(bins)\n",
      "        filteredListByTh = []\n",
      "        for key in intra_session_dictionary:\n",
      "            # if key == \"nsessions\":\n",
      "            #     continue\n",
      "            if intra_session_dictionary[key]>=threshold:\n",
      "                filteredListByTh.append(key)\n",
      "        net = networks(filteredListByTh,nsessions)\n",
      "        # if i==0:\n",
      "        #     print str(net) + \" \" + str(nsessions) + \"list: \" + str(filteredListByTh)\n",
      "        res.append(net)\n",
      "    return np.array(res)\n",
      "\n",
      "def weightedAverageOfSessionSimilarityClusteredNonNormalized(session_length,similarities,bins):\n",
      "    #np_session_length = np.array(session_length)\n",
      "    cluster_size_to_be_plotted = np.zeros(bins)\n",
      "    total_sessions = 0\n",
      "    for i in range(len(session_length)):\n",
      "        ##numero medio di sessioni per cluster (normalizzato pesandolo per la lunghezza delle sessioni)\n",
      "        np.add(cluster_size_to_be_plotted,similarities[i]*session_length[i],cluster_size_to_be_plotted)\n",
      "        ##non ho ben capito cosa sia\n",
      "        #np.add(cluster_size_to_be_plotted,similarities[i],cluster_size_to_be_plotted)\n",
      "        total_sessions += session_length[i]\n",
      "\n",
      "    return np.dot(cluster_size_to_be_plotted,1/float(total_sessions))\n",
      "\n",
      "\n",
      "def weightedAverageOfSessionSimilarityClusteredNormalized(session_length,similarities,bins):\n",
      "    #np_session_length = np.array(session_length)\n",
      "    cluster_size_to_be_plotted = np.zeros(bins)\n",
      "    total_sessions = 0\n",
      "    for i in range(len(session_length)):\n",
      "        ##numero medio di sessioni per cluster (normalizzato pesandolo per la lunghezza delle sessioni)\n",
      "        #np.add(cluster_size_to_be_plotted,similarities[i]*session_length[i],cluster_size_to_be_plotted)\n",
      "        ##non ho ben capito cosa sia\n",
      "        np.add(cluster_size_to_be_plotted,similarities[i],cluster_size_to_be_plotted)\n",
      "        total_sessions += session_length[i]\n",
      "\n",
      "    return np.dot(cluster_size_to_be_plotted,1/float(total_sessions))\n",
      "\n",
      "def usersAverageOfSessionSimilarityClusteredNormalized(nusers,similarities,bins):\n",
      "    #np_session_length = np.array(session_length)\n",
      "    cluster_size_to_be_plotted = np.zeros(bins)\n",
      "\n",
      "    for i in range(len(session_length)):\n",
      "        ##numero medio di sessioni per cluster (normalizzato pesandolo per la lunghezza delle sessioni)\n",
      "        #np.add(cluster_size_to_be_plotted,similarities[i]*session_length[i],cluster_size_to_be_plotted)\n",
      "        ##non ho ben capito cosa sia\n",
      "        np.add(cluster_size_to_be_plotted,similarities[i],cluster_size_to_be_plotted)\n",
      "\n",
      "    return np.dot(cluster_size_to_be_plotted,1/float(nusers))\n",
      "\n",
      "def createMatlabPlot(x,y,file):\n",
      "    out = open(file,\"w\")\n",
      "    xlist = \"\"\n",
      "    for i in x:\n",
      "        if xlist != \"\":\n",
      "            xlist = xlist + \",\"\n",
      "        xlist = xlist + str(i)\n",
      "    ylist = \"\"\n",
      "    for i in y:\n",
      "        if ylist != \"\":\n",
      "            ylist = ylist + \",\"\n",
      "        ylist = ylist + str(i)\n",
      "    out.write(\"plot([\" + xlist + \"],[\" + ylist + \"]);\")\n",
      "    out.close()\n",
      "\n",
      "\n",
      "\n",
      "def averagePopularityPerUserAllSum(tuples,admittedTuplesFunc=lambda v1,v2: True):\n",
      "    num = 0\n",
      "    den = 0\n",
      "    count = 1\n",
      "    events = 0\n",
      "    for t in tuples:\n",
      "        if admittedTuplesFunc(*t) is False:\n",
      "            continue\n",
      "        num = num + t[0]\n",
      "        den = den + t[1]\n",
      "        count = count + 1\n",
      "        events = events + t[1]\n",
      "    #print \"Users: \" + str(count)\n",
      "    #print \"Support: \" + str(events)\n",
      "    return num/float(den),count\n",
      "\n",
      "def averagePopularityPerUserMeanOfMean(tuples,admittedTuplesFunc=lambda v1,v2: True):\n",
      "    num = 0\n",
      "    den = 0\n",
      "    count = 1\n",
      "    events = 0\n",
      "    for t in tuples:\n",
      "        if admittedTuplesFunc(*t) is False:\n",
      "            continue\n",
      "        num = num + t[0]/float(t[1])\n",
      "        den = den + 1\n",
      "        count = count + 1\n",
      "        events = events + t[1]\n",
      "    #print \"Users: \" + str(count)\n",
      "    #print \"Support: \" + str(events)\n",
      "    return num/float(den),count\n",
      "\n",
      "\n",
      "\n",
      "\n",
      "def reconstrcutDataset(l):\n",
      "    outList = []\n",
      "    total = 0\n",
      "    for e in l:\n",
      "        total = total + e[0]\n",
      "    for e in l:\n",
      "        line = e[1]\n",
      "        outList.append((parse_line(line),total))\n",
      "    return outList\n",
      "\n",
      "dataset_path = \"/home/roberto/Desktop/statistiche_playlists/enriched/dataset_final.csv\"\n",
      "\n"
     ],
     "language": "python",
     "metadata": {},
     "outputs": [],
     "prompt_number": 12
    },
    {
     "cell_type": "code",
     "collapsed": false,
     "input": [
      "events_raw_rdd = sc.textFile(dataset_path)\n",
      "events_rdd = events_raw_rdd.map(lambda line: parse_line(line, \"##\"))\n",
      "\n",
      "averagePopPerUser = events_rdd.map(lambda line: ((line[USERNAME],line[ARTIST],line[TRACK]) , 1) ).reduceByKey(lambda l, r: l+r).map(lambda x: (x[0][0],(x[1],1)) ).reduceByKey(lambda l, r: (l[0] + r[0],l[1]+r[1]) ).map(lambda x: x[1]).collect()\n",
      "\n",
      "event_count = events_raw_rdd.count()"
     ],
     "language": "python",
     "metadata": {},
     "outputs": [],
     "prompt_number": 3
    },
    {
     "cell_type": "markdown",
     "metadata": {
      "variables": {}
     },
     "source": [
      "$t_u =$ numero tracce distinte ascoltate dall\u2019utente $u$ <BR>\n",
      "$e_u =$ numero eventi di ascolto dell\u2019utente $u$ <BR>\n",
      "$p_u = \\frac{e_u}{t_u} =$ numero di (ri)ascolti medio di una canzone (how many times, on average, user $u$ listens to a track)<BR>"
     ]
    },
    {
     "cell_type": "code",
     "collapsed": false,
     "input": [
      "allSumNoLimit,usersNoLimit = averagePopularityPerUserAllSum(averagePopPerUser)\n",
      "meanOfMeansNoLimit,usersNoLimit = averagePopularityPerUserMeanOfMean(averagePopPerUser)"
     ],
     "language": "python",
     "metadata": {},
     "outputs": [],
     "prompt_number": 27
    },
    {
     "cell_type": "markdown",
     "metadata": {
      "variables": {
       "allSumNoLimit": "1.7211116296999216",
       "meanOfMeansNoLimit": "1.7363588760741602",
       "usersNoLimit": "45176"
      }
     },
     "source": [
      "Medie Generali (senza limiti) <BR>\n",
      "Utenti: {{usersNoLimit}} <BR>\n",
      "$\\frac{\\sum_u e_u}{\\sum_u t_u} = $ {{allSumNoLimit}}<BR><BR>\n",
      "$\\frac{\\sum_u p_u}{N(u)} = $ {{meanOfMeansNoLimit}}"
     ]
    },
    {
     "cell_type": "code",
     "collapsed": false,
     "input": [
      "allSumAtLeast100Events,usersAtLeast100Events = averagePopularityPerUserAllSum(averagePopPerUser,lambda v1,v2: v1>100)\n",
      "meanOfMeansAtLeast100Events,usersAtLeast100Events = averagePopularityPerUserMeanOfMean(averagePopPerUser,lambda v1,v2: v1>100)"
     ],
     "language": "python",
     "metadata": {},
     "outputs": [],
     "prompt_number": 28
    },
    {
     "cell_type": "markdown",
     "metadata": {
      "variables": {
       "allSumAtLeast100Events": "1.7256448249718281",
       "meanOfMeansAtLeast100Events": "1.8030583208560627",
       "usersAtLeast100Events": "39598"
      }
     },
     "source": [
      "Per utenti con ascolti > 100 <BR>\n",
      "Utenti: {{usersAtLeast100Events}} <BR>\n",
      "$\\frac{\\sum_u e_u}{\\sum_u t_u} = $ {{allSumAtLeast100Events}}<BR><BR>\n",
      "$\\frac{\\sum_u p_u}{N(u)} = $ {{meanOfMeansAtLeast100Events}}"
     ]
    },
    {
     "cell_type": "code",
     "collapsed": false,
     "input": [
      "allSum200Events,users200Events = averagePopularityPerUserAllSum(averagePopPerUser,lambda v1,v2: v1==200)\n",
      "meanOfMeans200Events,users200Events = averagePopularityPerUserMeanOfMean(averagePopPerUser,lambda v1,v2: v1==200)"
     ],
     "language": "python",
     "metadata": {},
     "outputs": [],
     "prompt_number": 29
    },
    {
     "cell_type": "markdown",
     "metadata": {
      "variables": {
       "allSum200Events": "1.3793658567554576",
       "meanOfMeans200Events": "1.690584702636513",
       "users200Events": "12168"
      }
     },
     "source": [
      "Per utenti con ascolti == 200 <BR>\n",
      "Utenti: {{users200Events}} <BR>\n",
      "$\\frac{\\sum_u e_u}{\\sum_u t_u} = $ {{allSum200Events}}<BR><BR>\n",
      "$\\frac{\\sum_u p_u}{N(u)} = $ {{meanOfMeans200Events}}"
     ]
    },
    {
     "cell_type": "code",
     "collapsed": false,
     "input": [
      "allSumAtLeast1000Events,usersAtLeast1000Events = averagePopularityPerUserAllSum(averagePopPerUser,lambda v1,v2: v1>1000)\n",
      "meanOfMeansAtLeast1000Events,usersAtLeast1000Events = averagePopularityPerUserMeanOfMean(averagePopPerUser,lambda v1,v2: v1>1000)"
     ],
     "language": "python",
     "metadata": {},
     "outputs": [],
     "prompt_number": 30
    },
    {
     "cell_type": "markdown",
     "metadata": {
      "variables": {
       "allSumAtLeast1000Events": "1.9774695756123373",
       "meanOfMeansAtLeast1000Events": "2.2635812200611163",
       "usersAtLeast1000Events": "7033"
      }
     },
     "source": [
      "Per utenti con ascolti > 1000 <BR>\n",
      "Utenti: {{usersAtLeast1000Events}} <BR>\n",
      "$\\frac{\\sum_u e_u}{\\sum_u t_u} = $ {{allSumAtLeast1000Events}}<BR><BR>\n",
      "$\\frac{\\sum_u p_u}{N(u)} = $ {{meanOfMeansAtLeast1000Events}}"
     ]
    },
    {
     "cell_type": "code",
     "collapsed": false,
     "input": [
      "events_rdd_enriched_with_track_playcount = events_raw_rdd.map(lambda rawline:  ((rawline.split(\"##\")[ARTIST],rawline.split(\"##\")[TRACK]) , (1,rawline)) ).groupByKey().flatMap(lambda x: reconstrcutDataset(x[1]))\n",
      "events_rdd_enriched_with_track_playcount.cache()"
     ],
     "language": "python",
     "metadata": {},
     "outputs": [
      {
       "metadata": {},
       "output_type": "pyout",
       "prompt_number": 22,
       "text": [
        "PythonRDD[18] at RDD at PythonRDD.scala:43"
       ]
      }
     ],
     "prompt_number": 22
    },
    {
     "cell_type": "code",
     "collapsed": false,
     "input": [
      "minNumTrackPlayCount = 1\n",
      "\n",
      "filtered = averagePopPerUser_min_playcount_threshold = events_rdd_enriched_with_track_playcount.filter(lambda x: x[1] >= minNumTrackPlayCount)\n",
      "supportAtLeast1Listen = filtered.count()\n",
      "averagePopPerUser_min_playcount_threshold = filtered.map(lambda x: ((x[0][USERNAME],x[0][ARTIST],x[0][TRACK]) , 1 ) ).reduceByKey(lambda l, r: l+r).map(lambda x: (x[0][0],(x[1],1)) ).reduceByKey(lambda l, r: (l[0] + r[0],l[1]+r[1]) ).map(lambda x: x[1]).collect()\n",
      "\n",
      "\n",
      "allSumAtLeast1Listen,usersAtLeast1Listen = averagePopularityPerUserAllSum(averagePopPerUser_min_playcount_threshold)\n",
      "meanOfMeansAtLeast1Listen,usersAtLeast1Listen = averagePopularityPerUserMeanOfMean(averagePopPerUser_min_playcount_threshold)\n"
     ],
     "language": "python",
     "metadata": {},
     "outputs": [],
     "prompt_number": 31
    },
    {
     "cell_type": "markdown",
     "metadata": {
      "variables": {
       "allSumAtLeast1Listen": "1.7211116296999216",
       "event_count": "31351945",
       "meanOfMeansAtLeast1Listen": "1.7363588760741604",
       "supportAtLeast1Listen": "31351945",
       "usersAtLeast1Listen": "45176"
      }
     },
     "source": [
      "Per tracce con ascolti >= 1 <BR>\n",
      "Eventi filtrati: {{supportAtLeast1Listen}} / {{event_count}}<BR>\n",
      "Utenti: {{usersAtLeast1Listen}} <BR>\n",
      "$\\frac{\\sum_u e_u}{\\sum_u t_u} = $ {{allSumAtLeast1Listen}}<BR><BR>\n",
      "$\\frac{\\sum_u p_u}{N(u)} = $ {{meanOfMeansAtLeast1Listen}}"
     ]
    },
    {
     "cell_type": "code",
     "collapsed": false,
     "input": [
      "minNumTrackPlayCount = 2\n",
      "\n",
      "filtered = averagePopPerUser_min_playcount_threshold = events_rdd_enriched_with_track_playcount.filter(lambda x: x[1] >= minNumTrackPlayCount)\n",
      "supportAtLeast2Listen = filtered.count()\n",
      "averagePopPerUser_min_playcount_threshold = filtered.map(lambda x: ((x[0][USERNAME],x[0][ARTIST],x[0][TRACK]) , 1 ) ).reduceByKey(lambda l, r: l+r).map(lambda x: (x[0][0],(x[1],1)) ).reduceByKey(lambda l, r: (l[0] + r[0],l[1]+r[1]) ).map(lambda x: x[1]).collect()\n",
      "\n",
      "\n",
      "allSumAtLeast2Listen,usersAtLeast2Listen = averagePopularityPerUserAllSum(averagePopPerUser_min_playcount_threshold)\n",
      "meanOfMeansAtLeast2Listen,usersAtLeast2Listen = averagePopularityPerUserMeanOfMean(averagePopPerUser_min_playcount_threshold)\n"
     ],
     "language": "python",
     "metadata": {},
     "outputs": [],
     "prompt_number": 32
    },
    {
     "cell_type": "markdown",
     "metadata": {
      "variables": {
       "allSumAtLeast2Listen": "1.8271994047317304",
       "event_count": "31351945",
       "meanOfMeansAtLeast2Listen": "1.8266130981318405",
       "supportAtLeast2Listen": "29015742",
       "usersAtLeast2Listen": "45104"
      }
     },
     "source": [
      "Per tracce con ascolti >= 2 <BR>\n",
      "Eventi filtrati: {{supportAtLeast2Listen}} / {{event_count}}<BR>\n",
      "Utenti: {{usersAtLeast2Listen}} <BR>\n",
      "$\\frac{\\sum_u e_u}{\\sum_u t_u} = $ {{allSumAtLeast2Listen}}<BR><BR>\n",
      "$\\frac{\\sum_u p_u}{N(u)} = $ {{meanOfMeansAtLeast2Listen}}"
     ]
    },
    {
     "cell_type": "code",
     "collapsed": false,
     "input": [
      "minNumTrackPlayCount = 3\n",
      "\n",
      "filtered = averagePopPerUser_min_playcount_threshold = events_rdd_enriched_with_track_playcount.filter(lambda x: x[1] >= minNumTrackPlayCount)\n",
      "supportAtLeast3Listen = filtered.count()\n",
      "averagePopPerUser_min_playcount_threshold = filtered.map(lambda x: ((x[0][USERNAME],x[0][ARTIST],x[0][TRACK]) , 1 ) ).reduceByKey(lambda l, r: l+r).map(lambda x: (x[0][0],(x[1],1)) ).reduceByKey(lambda l, r: (l[0] + r[0],l[1]+r[1]) ).map(lambda x: x[1]).collect()\n",
      "\n",
      "\n",
      "allSumAtLeast3Listen,usersAtLeast3Listen = averagePopularityPerUserAllSum(averagePopPerUser_min_playcount_threshold)\n",
      "meanOfMeansAtLeast3Listen,usersAtLeast3Listen = averagePopularityPerUserMeanOfMean(averagePopPerUser_min_playcount_threshold)\n"
     ],
     "language": "python",
     "metadata": {},
     "outputs": [],
     "prompt_number": 33
    },
    {
     "cell_type": "markdown",
     "metadata": {
      "variables": {
       "allSumAtLeast3Listen": "1.8604948479789865",
       "event_count": "31351945",
       "meanOfMeansAtLeast3Listen": "1.8642782682005765",
       "supportAtLeast3Listen": "27516036",
       "usersAtLeast3Listen": "45026"
      }
     },
     "source": [
      "Per tracce con ascolti >= 3 <BR>\n",
      "Eventi filtrati: {{supportAtLeast3Listen}} / {{event_count}}<BR>\n",
      "Utenti: {{usersAtLeast3Listen}} <BR>\n",
      "$\\frac{\\sum_u e_u}{\\sum_u t_u} = $ {{allSumAtLeast3Listen}}<BR><BR>\n",
      "$\\frac{\\sum_u p_u}{N(u)} = $ {{meanOfMeansAtLeast3Listen}}"
     ]
    },
    {
     "cell_type": "code",
     "collapsed": false,
     "input": [
      "minNumTrackPlayCount = 4\n",
      "\n",
      "filtered = averagePopPerUser_min_playcount_threshold = events_rdd_enriched_with_track_playcount.filter(lambda x: x[1] >= minNumTrackPlayCount)\n",
      "supportAtLeast4Listen = filtered.count()\n",
      "averagePopPerUser_min_playcount_threshold = filtered.map(lambda x: ((x[0][USERNAME],x[0][ARTIST],x[0][TRACK]) , 1 ) ).reduceByKey(lambda l, r: l+r).map(lambda x: (x[0][0],(x[1],1)) ).reduceByKey(lambda l, r: (l[0] + r[0],l[1]+r[1]) ).map(lambda x: x[1]).collect()\n",
      "\n",
      "\n",
      "allSumAtLeast4Listen,usersAtLeast4Listen = averagePopularityPerUserAllSum(averagePopPerUser_min_playcount_threshold)\n",
      "meanOfMeansAtLeast4Listen,usersAtLeast4Listen = averagePopularityPerUserMeanOfMean(averagePopPerUser_min_playcount_threshold)\n"
     ],
     "language": "python",
     "metadata": {},
     "outputs": [],
     "prompt_number": 34
    },
    {
     "cell_type": "markdown",
     "metadata": {
      "variables": {
       "allSumAtLeast4Listen": "1.877325573055882",
       "event_count": "31351945",
       "meanOfMeansAtLeast4Listen": "1.8824510193095856",
       "supportAtLeast4Listen": "26437734",
       "usersAtLeast4Listen": "44972"
      }
     },
     "source": [
      "Per tracce con ascolti >= 4 <BR>\n",
      "Eventi filtrati: {{supportAtLeast4Listen}} / {{event_count}}<BR>\n",
      "Utenti: {{usersAtLeast4Listen}} <BR>\n",
      "$\\frac{\\sum_u e_u}{\\sum_u t_u} = $ {{allSumAtLeast4Listen}}<BR><BR>\n",
      "$\\frac{\\sum_u p_u}{N(u)} = $ {{meanOfMeansAtLeast4Listen}}"
     ]
    },
    {
     "cell_type": "code",
     "collapsed": false,
     "input": [
      "minNumTrackPlayCount = 5\n",
      "\n",
      "filtered = averagePopPerUser_min_playcount_threshold = events_rdd_enriched_with_track_playcount.filter(lambda x: x[1] >= minNumTrackPlayCount)\n",
      "supportAtLeast5Listen = filtered.count()\n",
      "averagePopPerUser_min_playcount_threshold = filtered.map(lambda x: ((x[0][USERNAME],x[0][ARTIST],x[0][TRACK]) , 1 ) ).reduceByKey(lambda l, r: l+r).map(lambda x: (x[0][0],(x[1],1)) ).reduceByKey(lambda l, r: (l[0] + r[0],l[1]+r[1]) ).map(lambda x: x[1]).collect()\n",
      "\n",
      "\n",
      "allSumAtLeast5Listen,usersAtLeast5Listen = averagePopularityPerUserAllSum(averagePopPerUser_min_playcount_threshold)\n",
      "meanOfMeansAtLeast5Listen,usersAtLeast5Listen = averagePopularityPerUserMeanOfMean(averagePopPerUser_min_playcount_threshold)\n"
     ],
     "language": "python",
     "metadata": {},
     "outputs": [],
     "prompt_number": 35
    },
    {
     "cell_type": "markdown",
     "metadata": {
      "variables": {
       "allSum": "1.8604948479789865",
       "event_count": "31351945",
       "meanOfMeans": "1.8642782682005765",
       "support": "27516036",
       "users": "45026"
      }
     },
     "source": [
      "Per tracce con ascolti >= 5 <BR>\n",
      "Eventi filtrati: {{support}} / {{event_count}}<BR>\n",
      "Utenti: {{users}} <BR>\n",
      "$\\frac{\\sum_u e_u}{\\sum_u t_u} = $ {{allSum}}<BR><BR>\n",
      "$\\frac{\\sum_u p_u}{N(u)} = $ {{meanOfMeans}}"
     ]
    },
    {
     "cell_type": "code",
     "collapsed": false,
     "input": [
      "minNumTrackPlayCount = 100\n",
      "\n",
      "filtered = averagePopPerUser_min_playcount_threshold = events_rdd_enriched_with_track_playcount.filter(lambda x: x[1] >= minNumTrackPlayCount)\n",
      "supportAtLeast100Listen = filtered.count()\n",
      "averagePopPerUser_min_playcount_threshold = filtered.map(lambda x: ((x[0][USERNAME],x[0][ARTIST],x[0][TRACK]) , 1 ) ).reduceByKey(lambda l, r: l+r).map(lambda x: (x[0][0],(x[1],1)) ).reduceByKey(lambda l, r: (l[0] + r[0],l[1]+r[1]) ).map(lambda x: x[1]).collect()\n",
      "\n",
      "\n",
      "allSumAtLeast100Listen,usersAtLeast100Listen = averagePopularityPerUserAllSum(averagePopPerUser_min_playcount_threshold)\n",
      "meanOfMeansAtLeast100Listen,usersAtLeast100Listen = averagePopularityPerUserMeanOfMean(averagePopPerUser_min_playcount_threshold)\n",
      "\n",
      "allSumAtLeast100Listen100Events,usersAtLeast100Listen100Events = averagePopularityPerUserAllSum(averagePopPerUser_min_playcount_threshold,lambda v1,v2: v1>100)\n",
      "meanOfMeansAtLeast100Listen100Events,usersAtLeast100Listen100Events = averagePopularityPerUserMeanOfMean(averagePopPerUser_min_playcount_threshold,lambda v1,v2: v1>100)\n",
      "\n"
     ],
     "language": "python",
     "metadata": {},
     "outputs": [],
     "prompt_number": 36
    },
    {
     "cell_type": "markdown",
     "metadata": {
      "variables": {
       "allSumAtLeast100Listen": "1.9578158409987818",
       "allSumAtLeast100Listen100Events": "2.0260672705297798",
       "event_count": "31351945",
       "meanOfMeansAtLeast100Listen": "1.9705539160498386",
       "meanOfMeansAtLeast100Listen100Events": "2.337124214453466",
       "supportAtLeast100Listen": "11815168",
       "usersAtLeast100Listen": "43808",
       "usersAtLeast100Listen100Events": "25252"
      }
     },
     "source": [
      "Per tracce con ascolti >= 100 <BR>\n",
      "Eventi filtrati: {{supportAtLeast100Listen}} / {{event_count}}<BR>\n",
      "Utenti: {{usersAtLeast100Listen}} <BR>\n",
      "$\\frac{\\sum_u e_u}{\\sum_u t_u} = $ {{allSumAtLeast100Listen}} <BR><BR>\n",
      "$\\frac{\\sum_u p_u}{N(u)} = $ {{meanOfMeansAtLeast100Listen}} <BR><BR>\n",
      "Per tracce con ascolti >= 100 e utenti con almeno 100 eventi<BR>\n",
      "Eventi filtrati: {{supportAtLeast100Listen}} / {{event_count}}<BR>\n",
      "Utenti: {{usersAtLeast100Listen100Events}} <BR>\n",
      "$\\frac{\\sum_u e_u}{\\sum_u t_u} = $ {{allSumAtLeast100Listen100Events}}<BR><BR>\n",
      "$\\frac{\\sum_u p_u}{N(u)} = $ {{meanOfMeansAtLeast100Listen100Events}}"
     ]
    },
    {
     "cell_type": "code",
     "collapsed": false,
     "input": [
      "minNumTrackPlayCount = 1000\n",
      "\n",
      "filtered = averagePopPerUser_min_playcount_threshold = events_rdd_enriched_with_track_playcount.filter(lambda x: x[1] >= minNumTrackPlayCount)\n",
      "supportAtLeast1000Listen = filtered.count()\n",
      "averagePopPerUser_min_playcount_threshold = filtered.map(lambda x: ((x[0][USERNAME],x[0][ARTIST],x[0][TRACK]) , 1 ) ).reduceByKey(lambda l, r: l+r).map(lambda x: (x[0][0],(x[1],1)) ).reduceByKey(lambda l, r: (l[0] + r[0],l[1]+r[1]) ).map(lambda x: x[1]).collect()\n",
      "\n",
      "\n",
      "allSumAtLeast1000Listen,usersAtLeast1000Listen = averagePopularityPerUserAllSum(averagePopPerUser_min_playcount_threshold)\n",
      "meanOfMeansAtLeast1000Listen,usersAtLeast1000Listen = averagePopularityPerUserMeanOfMean(averagePopPerUser_min_playcount_threshold)\n",
      "\n",
      "allSumAtLeast1000Listen1000Events,usersAtLeast1000Listen1000Events = averagePopularityPerUserAllSum(averagePopPerUser_min_playcount_threshold,lambda v1,v2: v1>1000)\n",
      "meanOfMeansAtLeast1000Listen1000Events,usersAtLeast1000Listen1000Events = averagePopularityPerUserMeanOfMean(averagePopPerUser_min_playcount_threshold,lambda v1,v2: v1>1000)\n"
     ],
     "language": "python",
     "metadata": {},
     "outputs": [],
     "prompt_number": 38
    },
    {
     "cell_type": "markdown",
     "metadata": {
      "variables": {
       "allSumAtLeast1000Listen": "2.2497558245498315",
       "allSumAtLeast1000Listen1000Events": "7.605230988641573",
       "event_count": "31351945",
       "meanOfMeansAtLeast1000Listen": "2.050657934374963",
       "meanOfMeansAtLeast1000Listen1000Events": "29.429623881314058",
       "supportAtLeast1000Listen": "2476178",
       "usersAtLeast1000Listen": "38750",
       "usersAtLeast1000Listen1000Events": "161"
      }
     },
     "source": [
      "Per tracce con ascolti >= 1000 <BR>\n",
      "Eventi filtrati: {{supportAtLeast1000Listen}} / {{event_count}}<BR>\n",
      "Utenti: {{usersAtLeast1000Listen}} <BR>\n",
      "$\\frac{\\sum_u e_u}{\\sum_u t_u} = $ {{allSumAtLeast1000Listen}} <BR><BR>\n",
      "$\\frac{\\sum_u p_u}{N(u)} = $ {{meanOfMeansAtLeast1000Listen}} <BR><BR>\n",
      "Per tracce con ascolti >= 1000 e utenti con almeno 1000 eventi<BR>\n",
      "Eventi filtrati: {{supportAtLeast1000Listen}} / {{event_count}}<BR>\n",
      "Utenti: {{usersAtLeast1000Listen1000Events}} <BR>\n",
      "$\\frac{\\sum_u e_u}{\\sum_u t_u} = $ {{allSumAtLeast1000Listen1000Events}}<BR><BR>\n",
      "$\\frac{\\sum_u p_u}{N(u)} = $ {{meanOfMeansAtLeast1000Listen1000Events}}"
     ]
    },
    {
     "cell_type": "markdown",
     "metadata": {
      "variables": {}
     },
     "source": [
      "<h1> ANALISI LIKE: </h1>"
     ]
    },
    {
     "cell_type": "code",
     "collapsed": false,
     "input": [
      "events_rdd_filtered = events_rdd.filter(lambda line: line[LOVED]==1)\n",
      "\n",
      "averagePopPerUser = events_rdd_filtered.map(lambda line: ((line[USERNAME],line[ARTIST],line[TRACK]) , 1) ).reduceByKey(lambda l, r: l+r).map(lambda x: (x[0][0],(x[1],1)) ).reduceByKey(lambda l, r: (l[0] + r[0],l[1]+r[1]) ).map(lambda x: x[1]).collect()"
     ],
     "language": "python",
     "metadata": {},
     "outputs": [],
     "prompt_number": 41
    },
    {
     "cell_type": "code",
     "collapsed": false,
     "input": [
      "allSumLikeNoLimit,usersLikeNoLimit = averagePopularityPerUserAllSum(averagePopPerUser)\n",
      "meanOfMeanLikeNoLimit,usersLikeNoLimit = averagePopularityPerUserMeanOfMean(averagePopPerUser)"
     ],
     "language": "python",
     "metadata": {},
     "outputs": [],
     "prompt_number": 42
    },
    {
     "cell_type": "markdown",
     "metadata": {
      "variables": {
       "allSumLikeNoLimit": "2.425590871179096",
       "meanOfMeanLikeNoLimit": "2.1153212040203586",
       "usersLikeNoLimit": "37107"
      }
     },
     "source": [
      "Like <BR>\n",
      "Medie Generali (senza limiti) <BR>\n",
      "Utenti: {{usersLikeNoLimit}} <BR>\n",
      "$\\frac{\\sum_u e_u}{\\sum_u t_u} = $ {{allSumLikeNoLimit}}<BR><BR>\n",
      "$\\frac{\\sum_u p_u}{N(u)} = $ {{meanOfMeanLikeNoLimit}}"
     ]
    },
    {
     "cell_type": "code",
     "collapsed": false,
     "input": [
      "allSumLikeAtLeast100Events,usersLikeAtLeast100Events = averagePopularityPerUserAllSum(averagePopPerUser,lambda v1,v2: v1>100)\n",
      "meanOfMeanLikeAtLeast100Events,usersLikeAtLeast100Events = averagePopularityPerUserMeanOfMean(averagePopPerUser,lambda v1,v2: v1>100)"
     ],
     "language": "python",
     "metadata": {},
     "outputs": [],
     "prompt_number": 43
    },
    {
     "cell_type": "markdown",
     "metadata": {
      "variables": {
       "allSumLikeAtLeast100Events": "2.701986644843584",
       "meanOfMeanLikeAtLeast100Events": "3.4142889385715245",
       "usersLikeAtLeast100Events": "8100"
      }
     },
     "source": [
      "Like <BR>\n",
      "Per utenti con ascolti > 100  <BR>\n",
      "Utenti: {{usersLikeAtLeast100Events}} <BR>\n",
      "$\\frac{\\sum_u e_u}{\\sum_u t_u} = $ {{allSumLikeAtLeast100Events}}<BR><BR>\n",
      "$\\frac{\\sum_u p_u}{N(u)} = $ {{meanOfMeanLikeAtLeast100Events}}"
     ]
    },
    {
     "cell_type": "code",
     "collapsed": false,
     "input": [
      "allSumLike200Events,usersLike200Events = averagePopularityPerUserAllSum(averagePopPerUser,lambda v1,v2: v1 == 200)\n",
      "meanOfMeanLike200Events,usersLike200Events = averagePopularityPerUserMeanOfMean(averagePopPerUser,lambda v1,v2: v1 == 200)"
     ],
     "language": "python",
     "metadata": {},
     "outputs": [],
     "prompt_number": 45
    },
    {
     "cell_type": "markdown",
     "metadata": {
      "variables": {
       "allSumLike200Events": "2.2182254196642686",
       "meanOfMeanLike200Events": "9.616884821168293",
       "usersLike200Events": "38"
      }
     },
     "source": [
      "Like <BR>\n",
      "Per utenti con ascolti == 200  <BR>\n",
      "Utenti: {{usersLike200Events}} <BR>\n",
      "$\\frac{\\sum_u e_u}{\\sum_u t_u} = $ {{allSumLike200Events}}<BR><BR>\n",
      "$\\frac{\\sum_u p_u}{N(u)} = $ {{meanOfMeanLike200Events}}"
     ]
    },
    {
     "cell_type": "code",
     "collapsed": false,
     "input": [
      "allSumLikeAtLeast1000Events,usersLikeAtLeast1000Events = averagePopularityPerUserAllSum(averagePopPerUser,lambda v1,v2: v1>1000)\n",
      "meanOfMeanLikeAtLeast1000Events,usersLikeAtLeast1000Events = averagePopularityPerUserMeanOfMean(averagePopPerUser,lambda v1,v2: v1>1000)"
     ],
     "language": "python",
     "metadata": {},
     "outputs": [],
     "prompt_number": 46
    },
    {
     "cell_type": "markdown",
     "metadata": {
      "variables": {
       "allSumLikeAtLeast1000Events": "4.117996912048189",
       "meanOfMeanLikeAtLeast1000Events": "7.478527218087254",
       "usersLikeAtLeast1000Events": "569"
      }
     },
     "source": [
      "Like <BR>\n",
      "Per utenti con ascolti > 1000  <BR>\n",
      "Utenti: {{usersLikeAtLeast1000Events}} <BR>\n",
      "$\\frac{\\sum_u e_u}{\\sum_u t_u} = $ {{allSumLikeAtLeast1000Events}}<BR><BR>\n",
      "$\\frac{\\sum_u p_u}{N(u)} = $ {{meanOfMeanLikeAtLeast1000Events}}"
     ]
    },
    {
     "cell_type": "code",
     "collapsed": false,
     "input": [
      "events_rdd_enriched_with_track_playcount = events_raw_rdd.map(lambda rawline:  ((rawline.split(\"##\")[ARTIST],rawline.split(\"##\")[TRACK]) , (1,rawline)) ).groupByKey().flatMap(lambda x: reconstrcutDataset(x[1])).filter(lambda x: x[0][LOVED] == 1)\n",
      "events_rdd_enriched_with_track_playcount.cache()"
     ],
     "language": "python",
     "metadata": {},
     "outputs": [
      {
       "metadata": {},
       "output_type": "pyout",
       "prompt_number": 47,
       "text": [
        "PythonRDD[156] at RDD at PythonRDD.scala:43"
       ]
      }
     ],
     "prompt_number": 47
    },
    {
     "cell_type": "code",
     "collapsed": false,
     "input": [
      "minNumTrackPlayCount = 1\n",
      "\n",
      "filtered = averagePopPerUser_min_playcount_threshold = events_rdd_enriched_with_track_playcount.filter(lambda x: x[1] >= minNumTrackPlayCount)\n",
      "supportLikeAtLeast1Listen = filtered.count()\n",
      "averagePopPerUser_min_playcount_threshold = filtered.map(lambda x: ((x[0][USERNAME],x[0][ARTIST],x[0][TRACK]) , 1 ) ).reduceByKey(lambda l, r: l+r).map(lambda x: (x[0][0],(x[1],1)) ).reduceByKey(lambda l, r: (l[0] + r[0],l[1]+r[1]) ).map(lambda x: x[1]).collect()\n",
      "\n",
      "\n",
      "allSumLikeAtLeast1Listen,usersLikeAtLeast1Listen = averagePopularityPerUserAllSum(averagePopPerUser_min_playcount_threshold)\n",
      "meanOfMeansLikeAtLeast1Listen,usersLikeAtLeast1Listen = averagePopularityPerUserMeanOfMean(averagePopPerUser_min_playcount_threshold)\n"
     ],
     "language": "python",
     "metadata": {},
     "outputs": [],
     "prompt_number": 48
    },
    {
     "cell_type": "markdown",
     "metadata": {
      "variables": {
       "allSumLikeAtLeast1Listen": "2.425590871179096",
       "event_count": "31351945",
       "meanOfMeansLikeAtLeast1Listen": "2.115321204020358",
       "supportLikeAtLeast1Listen": "4106341",
       "usersLikeAtLeast1Listen": "37107"
      }
     },
     "source": [
      "Like <BR>\n",
      "Per tracce con ascolti >= 1 <BR>\n",
      "Eventi filtrati: {{supportLikeAtLeast1Listen}} / {{event_count}}<BR>\n",
      "Utenti: {{usersLikeAtLeast1Listen}} <BR>\n",
      "$\\frac{\\sum_u e_u}{\\sum_u t_u} = $ {{allSumLikeAtLeast1Listen}}<BR><BR>\n",
      "$\\frac{\\sum_u p_u}{N(u)} = $ {{meanOfMeansLikeAtLeast1Listen}}"
     ]
    },
    {
     "cell_type": "code",
     "collapsed": false,
     "input": [
      "minNumTrackPlayCount = 2\n",
      "\n",
      "filtered = averagePopPerUser_min_playcount_threshold = events_rdd_enriched_with_track_playcount.filter(lambda x: x[1] >= minNumTrackPlayCount)\n",
      "supportLikeAtLeast2Listen = filtered.count()\n",
      "averagePopPerUser_min_playcount_threshold = filtered.map(lambda x: ((x[0][USERNAME],x[0][ARTIST],x[0][TRACK]) , 1 ) ).reduceByKey(lambda l, r: l+r).map(lambda x: (x[0][0],(x[1],1)) ).reduceByKey(lambda l, r: (l[0] + r[0],l[1]+r[1]) ).map(lambda x: x[1]).collect()\n",
      "\n",
      "\n",
      "allSumLikeAtLeast2Listen,usersLikeAtLeast2Listen = averagePopularityPerUserAllSum(averagePopPerUser_min_playcount_threshold)\n",
      "meanOfMeansLikeAtLeast2Listen,usersLikeAtLeast2Listen = averagePopularityPerUserMeanOfMean(averagePopPerUser_min_playcount_threshold)\n"
     ],
     "language": "python",
     "metadata": {},
     "outputs": [],
     "prompt_number": 49
    },
    {
     "cell_type": "markdown",
     "metadata": {
      "variables": {
       "allSumLikeAtLeast2Listen": "2.538257626699487",
       "event_count": "31351945",
       "meanOfMeansLikeAtLeast2Listen": "2.17508197207001",
       "supportLikeAtLeast2Listen": "3982346",
       "usersLikeAtLeast2Listen": "36857"
      }
     },
     "source": [
      "Like <BR>\n",
      "Per tracce con ascolti >= 2 <BR>\n",
      "Eventi filtrati: {{supportLikeAtLeast2Listen}} / {{event_count}}<BR>\n",
      "Utenti: {{usersLikeAtLeast2Listen}} <BR>\n",
      "$\\frac{\\sum_u e_u}{\\sum_u t_u} = $ {{allSumLikeAtLeast2Listen}}<BR><BR>\n",
      "$\\frac{\\sum_u p_u}{N(u)} = $ {{meanOfMeansLikeAtLeast2Listen}}"
     ]
    },
    {
     "cell_type": "code",
     "collapsed": false,
     "input": [
      "minNumTrackPlayCount = 3\n",
      "\n",
      "filtered = averagePopPerUser_min_playcount_threshold = events_rdd_enriched_with_track_playcount.filter(lambda x: x[1] >= minNumTrackPlayCount)\n",
      "supportLikeAtLeast3Listen = filtered.count()\n",
      "averagePopPerUser_min_playcount_threshold = filtered.map(lambda x: ((x[0][USERNAME],x[0][ARTIST],x[0][TRACK]) , 1 ) ).reduceByKey(lambda l, r: l+r).map(lambda x: (x[0][0],(x[1],1)) ).reduceByKey(lambda l, r: (l[0] + r[0],l[1]+r[1]) ).map(lambda x: x[1]).collect()\n",
      "\n",
      "\n",
      "allSumLikeAtLeast3Listen,usersLikeAtLeast3Listen = averagePopularityPerUserAllSum(averagePopPerUser_min_playcount_threshold)\n",
      "meanOfMeansLikeAtLeast3Listen,usersLikeAtLeast3Listen = averagePopularityPerUserMeanOfMean(averagePopPerUser_min_playcount_threshold)\n"
     ],
     "language": "python",
     "metadata": {},
     "outputs": [],
     "prompt_number": 50
    },
    {
     "cell_type": "markdown",
     "metadata": {
      "variables": {
       "allSumLikeAtLeast3Listen": "2.5928789793230465",
       "event_count": "31351945",
       "meanOfMeansLikeAtLeast3Listen": "2.205076930169041",
       "supportLikeAtLeast3Listen": "3874342",
       "usersLikeAtLeast3Listen": "36699"
      }
     },
     "source": [
      "Like <BR>\n",
      "Per tracce con ascolti >= 3 <BR>\n",
      "Eventi filtrati: {{supportLikeAtLeast3Listen}} / {{event_count}}<BR>\n",
      "Utenti: {{usersLikeAtLeast3Listen}} <BR>\n",
      "$\\frac{\\sum_u e_u}{\\sum_u t_u} = $ {{allSumLikeAtLeast3Listen}}<BR><BR>\n",
      "$\\frac{\\sum_u p_u}{N(u)} = $ {{meanOfMeansLikeAtLeast3Listen}}"
     ]
    },
    {
     "cell_type": "code",
     "collapsed": false,
     "input": [
      "minNumTrackPlayCount = 4\n",
      "\n",
      "filtered = averagePopPerUser_min_playcount_threshold = events_rdd_enriched_with_track_playcount.filter(lambda x: x[1] >= minNumTrackPlayCount)\n",
      "supportLikeAtLeast4Listen = filtered.count()\n",
      "averagePopPerUser_min_playcount_threshold = filtered.map(lambda x: ((x[0][USERNAME],x[0][ARTIST],x[0][TRACK]) , 1 ) ).reduceByKey(lambda l, r: l+r).map(lambda x: (x[0][0],(x[1],1)) ).reduceByKey(lambda l, r: (l[0] + r[0],l[1]+r[1]) ).map(lambda x: x[1]).collect()\n",
      "\n",
      "\n",
      "allSumLikeAtLeast4Listen,usersLikeAtLeast4Listen = averagePopularityPerUserAllSum(averagePopPerUser_min_playcount_threshold)\n",
      "meanOfMeansLikeAtLeast4Listen,usersLikeAtLeast4Listen = averagePopularityPerUserMeanOfMean(averagePopPerUser_min_playcount_threshold)\n"
     ],
     "language": "python",
     "metadata": {},
     "outputs": [],
     "prompt_number": 51
    },
    {
     "cell_type": "markdown",
     "metadata": {
      "variables": {
       "allSumLikeAtLeast4Listen": "2.626454272192421",
       "event_count": "31351945",
       "meanOfMeansLikeAtLeast4Listen": "2.2245578978056737",
       "supportLikeAtLeast4Listen": "3784303",
       "usersLikeAtLeast4Listen": "36552"
      }
     },
     "source": [
      "Like <BR>\n",
      "Per tracce con ascolti >= 4 <BR>\n",
      "Eventi filtrati: {{supportLikeAtLeast4Listen}} / {{event_count}}<BR>\n",
      "Utenti: {{usersLikeAtLeast4Listen}} <BR>\n",
      "$\\frac{\\sum_u e_u}{\\sum_u t_u} = $ {{allSumLikeAtLeast4Listen}}<BR><BR>\n",
      "$\\frac{\\sum_u p_u}{N(u)} = $ {{meanOfMeansLikeAtLeast4Listen}}"
     ]
    },
    {
     "cell_type": "code",
     "collapsed": false,
     "input": [
      "minNumTrackPlayCount = 5\n",
      "\n",
      "filtered = averagePopPerUser_min_playcount_threshold = events_rdd_enriched_with_track_playcount.filter(lambda x: x[1] >= minNumTrackPlayCount)\n",
      "supportLikeAtLeast5Listen = filtered.count()\n",
      "averagePopPerUser_min_playcount_threshold = filtered.map(lambda x: ((x[0][USERNAME],x[0][ARTIST],x[0][TRACK]) , 1 ) ).reduceByKey(lambda l, r: l+r).map(lambda x: (x[0][0],(x[1],1)) ).reduceByKey(lambda l, r: (l[0] + r[0],l[1]+r[1]) ).map(lambda x: x[1]).collect()\n",
      "\n",
      "\n",
      "allSumLikeAtLeast5Listen,usersLikeAtLeast5Listen = averagePopularityPerUserAllSum(averagePopPerUser_min_playcount_threshold)\n",
      "meanOfMeansLikeAtLeast5Listen,usersLikeAtLeast5Listen = averagePopularityPerUserMeanOfMean(averagePopPerUser_min_playcount_threshold)\n"
     ],
     "language": "python",
     "metadata": {},
     "outputs": [],
     "prompt_number": 52
    },
    {
     "cell_type": "markdown",
     "metadata": {
      "variables": {
       "allSumLikeAtLeast5Listen": "2.6500834182301025",
       "event_count": "31351945",
       "meanOfMeansLikeAtLeast5Listen": "2.2398938353372686",
       "supportLikeAtLeast5Listen": "3704223",
       "usersLikeAtLeast5Listen": "36434"
      }
     },
     "source": [
      "Like <BR>\n",
      "Per tracce con ascolti >= 5 <BR>\n",
      "Eventi filtrati: {{supportLikeAtLeast5Listen}} / {{event_count}}<BR>\n",
      "Utenti: {{usersLikeAtLeast5Listen}} <BR>\n",
      "$\\frac{\\sum_u e_u}{\\sum_u t_u} = $ {{allSumLikeAtLeast5Listen}}<BR><BR>\n",
      "$\\frac{\\sum_u p_u}{N(u)} = $ {{meanOfMeansLikeAtLeast5Listen}}"
     ]
    },
    {
     "cell_type": "code",
     "collapsed": false,
     "input": [
      "minNumTrackPlayCount = 100\n",
      "\n",
      "filtered = averagePopPerUser_min_playcount_threshold = events_rdd_enriched_with_track_playcount.filter(lambda x: x[1] >= minNumTrackPlayCount)\n",
      "supportLikeAtLeast100Listen = filtered.count()\n",
      "averagePopPerUser_min_playcount_threshold = filtered.map(lambda x: ((x[0][USERNAME],x[0][ARTIST],x[0][TRACK]) , 1 ) ).reduceByKey(lambda l, r: l+r).map(lambda x: (x[0][0],(x[1],1)) ).reduceByKey(lambda l, r: (l[0] + r[0],l[1]+r[1]) ).map(lambda x: x[1]).collect()\n",
      "\n",
      "\n",
      "allSumLikeAtLeast100Listen,usersLikeAtLeast100Listen = averagePopularityPerUserAllSum(averagePopPerUser_min_playcount_threshold)\n",
      "meanOfMeansLikeAtLeast100Listen,usersLikeAtLeast100Listen = averagePopularityPerUserMeanOfMean(averagePopPerUser_min_playcount_threshold)\n",
      "\n",
      "allSumLikeAtLeast100Listen100Events,usersLikeAtLeast100Listen100Events = averagePopularityPerUserAllSum(averagePopPerUser_min_playcount_threshold,lambda v1,v2: v1>100)\n",
      "meanOfMeansLikeAtLeast100Listen100Events,usersLikeAtLeast100Listen100Events = averagePopularityPerUserMeanOfMean(averagePopPerUser_min_playcount_threshold,lambda v1,v2: v1>100)\n",
      "\n",
      "\n"
     ],
     "language": "python",
     "metadata": {},
     "outputs": [],
     "prompt_number": 54
    },
    {
     "cell_type": "markdown",
     "metadata": {
      "variables": {
       "allSumLikeAtLeast100Listen": "2.782420606194926",
       "allSumLikeAtLeast100Listen100Events": "3.6569106463627414",
       "event_count": "31351945",
       "meanOfMeansLikeAtLeast100Listen": "2.370124525043525",
       "meanOfMeansLikeAtLeast100Listen100Events": "6.062036073816954",
       "supportLikeAtLeast100Listen": "1933390",
       "usersLikeAtLeast100Listen": "32607",
       "usersLikeAtLeast100Listen100Events": "3940"
      }
     },
     "source": [
      "Like <BR>\n",
      "Per tracce con ascolti >= 100 <BR>\n",
      "Eventi filtrati: {{supportLikeAtLeast100Listen}} / {{event_count}}<BR>\n",
      "Utenti: {{usersLikeAtLeast100Listen}} <BR>\n",
      "$\\frac{\\sum_u e_u}{\\sum_u t_u} = $ {{allSumLikeAtLeast100Listen}} <BR><BR>\n",
      "$\\frac{\\sum_u p_u}{N(u)} = $ {{meanOfMeansLikeAtLeast100Listen}} <BR><BR>\n",
      "Per tracce con ascolti >= 100 e utenti con almeno 100 eventi<BR>\n",
      "Eventi filtrati: {{supportLikeAtLeast100Listen}} / {{event_count}}<BR>\n",
      "Utenti: {{usersLikeAtLeast100Listen100Events}} <BR>\n",
      "$\\frac{\\sum_u e_u}{\\sum_u t_u} = $ {{allSumLikeAtLeast100Listen100Events}}<BR><BR>\n",
      "$\\frac{\\sum_u p_u}{N(u)} = $ {{meanOfMeansLikeAtLeast100Listen100Events}}"
     ]
    },
    {
     "cell_type": "code",
     "collapsed": false,
     "input": [
      "minNumTrackPlayCount = 1000\n",
      "\n",
      "filtered = averagePopPerUser_min_playcount_threshold = events_rdd_enriched_with_track_playcount.filter(lambda x: x[1] >= minNumTrackPlayCount)\n",
      "supportLikeAtLeast1000Listen = filtered.count()\n",
      "averagePopPerUser_min_playcount_threshold = filtered.map(lambda x: ((x[0][USERNAME],x[0][ARTIST],x[0][TRACK]) , 1 ) ).reduceByKey(lambda l, r: l+r).map(lambda x: (x[0][0],(x[1],1)) ).reduceByKey(lambda l, r: (l[0] + r[0],l[1]+r[1]) ).map(lambda x: x[1]).collect()\n",
      "\n",
      "\n",
      "allSumLikeAtLeast1000Listen,usersLikeAtLeast1000Listen = averagePopularityPerUserAllSum(averagePopPerUser_min_playcount_threshold)\n",
      "meanOfMeansLikeAtLeast1000Listen,usersLikeAtLeast1000Listen = averagePopularityPerUserMeanOfMean(averagePopPerUser_min_playcount_threshold)\n",
      "\n",
      "allSumLikeAtLeast1000Listen1000Events,usersLikeAtLeast1000Listen1000Events = averagePopularityPerUserAllSum(averagePopPerUser_min_playcount_threshold,lambda v1,v2: v1>1000)\n",
      "meanOfMeansLikeAtLeast1000Listen1000Events,usersLikeAtLeast1000Listen1000Events = averagePopularityPerUserMeanOfMean(averagePopPerUser_min_playcount_threshold,lambda v1,v2: v1>1000)\n"
     ],
     "language": "python",
     "metadata": {},
     "outputs": [],
     "prompt_number": 55
    },
    {
     "cell_type": "markdown",
     "metadata": {
      "variables": {
       "allSumLikeAtLeast1000Listen": "3.1942453455000366",
       "allSumLikeAtLeast1000Listen1000Events": "24.165501165501166",
       "event_count": "31351945",
       "meanOfMeansLikeAtLeast1000Listen": "2.566172718519344",
       "meanOfMeansLikeAtLeast1000Listen1000Events": "125.86003970649848",
       "supportLikeAtLeast1000Listen": "434066",
       "usersLikeAtLeast1000Listen": "20877",
       "usersLikeAtLeast1000Listen1000Events": "28"
      }
     },
     "source": [
      "Like <BR>\n",
      "Per tracce con ascolti >= 1000 <BR>\n",
      "Eventi filtrati: {{supportLikeAtLeast1000Listen}} / {{event_count}}<BR>\n",
      "Utenti: {{usersLikeAtLeast1000Listen}} <BR>\n",
      "$\\frac{\\sum_u e_u}{\\sum_u t_u} = $ {{allSumLikeAtLeast1000Listen}} <BR><BR>\n",
      "$\\frac{\\sum_u p_u}{N(u)} = $ {{meanOfMeansLikeAtLeast1000Listen}} <BR><BR>\n",
      "Per tracce con ascolti >= 1000 e utenti con almeno 1000 eventi<BR>\n",
      "Eventi filtrati: {{supportLikeAtLeast1000Listen}} / {{event_count}}<BR>\n",
      "Utenti: {{usersLikeAtLeast1000Listen1000Events}} <BR>\n",
      "$\\frac{\\sum_u e_u}{\\sum_u t_u} = $ {{allSumLikeAtLeast1000Listen1000Events}}<BR><BR>\n",
      "$\\frac{\\sum_u p_u}{N(u)} = $ {{meanOfMeansLikeAtLeast1000Listen1000Events}}"
     ]
    },
    {
     "cell_type": "markdown",
     "metadata": {
      "variables": {}
     },
     "source": [
      "<h1> ANALISI FROM PLAYLIST: </h1>"
     ]
    },
    {
     "cell_type": "code",
     "collapsed": false,
     "input": [
      "events_rdd_filtered = events_rdd.filter(lambda line: line[FROM_PLAYLIST]==1)\n",
      "\n",
      "averagePopPerUser = events_rdd_filtered.map(lambda line: ((line[USERNAME],line[ARTIST],line[TRACK]) , 1) ).reduceByKey(lambda l, r: l+r).map(lambda x: (x[0][0],(x[1],1)) ).reduceByKey(lambda l, r: (l[0] + r[0],l[1]+r[1]) ).map(lambda x: x[1]).collect()\n"
     ],
     "language": "python",
     "metadata": {},
     "outputs": [],
     "prompt_number": 56
    },
    {
     "cell_type": "code",
     "collapsed": false,
     "input": [
      "allSumFromPlaylistNoLimit,usersFromPlaylistNoLimit = averagePopularityPerUserAllSum(averagePopPerUser)\n",
      "meanOfMeanFromPlaylistNoLimit,usersFromPlaylistNoLimit = averagePopularityPerUserMeanOfMean(averagePopPerUser)"
     ],
     "language": "python",
     "metadata": {},
     "outputs": [],
     "prompt_number": 57
    },
    {
     "cell_type": "markdown",
     "metadata": {
      "variables": {
       "allSumFromPlaylistNoLimit": "2.2841813609489403",
       "meanOfMeanFromPlaylistNoLimit": "1.8112079535950127",
       "usersFromPlaylistNoLimit": "24549"
      }
     },
     "source": [
      "FromPlaylist <BR>\n",
      "Medie Generali (senza limiti) <BR>\n",
      "Utenti: {{usersFromPlaylistNoLimit}} <BR>\n",
      "$\\frac{\\sum_u e_u}{\\sum_u t_u} = $ {{allSumFromPlaylistNoLimit}}<BR><BR>\n",
      "$\\frac{\\sum_u p_u}{N(u)} = $ {{meanOfMeanFromPlaylistNoLimit}}"
     ]
    },
    {
     "cell_type": "code",
     "collapsed": false,
     "input": [
      "allSumFromPlaylistAtLeast100Events,usersFromPlaylistAtLeast100Events = averagePopularityPerUserAllSum(averagePopPerUser,lambda v1,v2: v1>100)\n",
      "meanOfMeanFromPlaylistAtLeast100Events,usersFromPlaylistAtLeast100Events = averagePopularityPerUserMeanOfMean(averagePopPerUser,lambda v1,v2: v1>100)"
     ],
     "language": "python",
     "metadata": {},
     "outputs": [],
     "prompt_number": 59
    },
    {
     "cell_type": "markdown",
     "metadata": {
      "variables": {
       "allSumFromPlaylistAtLeast100Events": "3.511349077553809",
       "meanOfMeanFromPlaylistAtLeast100Events": "5.504769839742265",
       "usersFromPlaylistAtLeast100Events": "1011"
      }
     },
     "source": [
      "FromPlaylist <BR>\n",
      "Per utenti con ascolti > 100 <BR>\n",
      "Utenti: {{usersFromPlaylistAtLeast100Events}} <BR>\n",
      "$\\frac{\\sum_u e_u}{\\sum_u t_u} = $ {{allSumFromPlaylistAtLeast100Events}}<BR><BR>\n",
      "$\\frac{\\sum_u p_u}{N(u)} = $ {{meanOfMeanFromPlaylistAtLeast100Events}}"
     ]
    },
    {
     "cell_type": "code",
     "collapsed": false,
     "input": [
      "allSumFromPlaylist200Events,usersFromPlaylist200Events = averagePopularityPerUserAllSum(averagePopPerUser,lambda v1,v2: v1 == 200)\n",
      "meanOfMeanFromPlaylist200Events,usersFromPlaylist200Events = averagePopularityPerUserMeanOfMean(averagePopPerUser,lambda v1,v2: v1 == 200)"
     ],
     "language": "python",
     "metadata": {},
     "outputs": [],
     "prompt_number": 60
    },
    {
     "cell_type": "markdown",
     "metadata": {
      "variables": {
       "allSumFromPlaylist200Events": "2.203856749311295",
       "meanOfMeanFromPlaylist200Events": "7.7290968030404645",
       "usersFromPlaylist200Events": "5"
      }
     },
     "source": [
      "FromPlaylist <BR>\n",
      "Per utenti con ascolti == 200 <BR>\n",
      "Utenti: {{usersFromPlaylist200Events}} <BR>\n",
      "$\\frac{\\sum_u e_u}{\\sum_u t_u} = $ {{allSumFromPlaylist200Events}}<BR><BR>\n",
      "$\\frac{\\sum_u p_u}{N(u)} = $ {{meanOfMeanFromPlaylist200Events}}"
     ]
    },
    {
     "cell_type": "code",
     "collapsed": false,
     "input": [
      "allSumFromPlaylistAtLeast1000Events,usersFromPlaylistAtLeast1000Events = averagePopularityPerUserAllSum(averagePopPerUser,lambda v1,v2: v1>1000)\n",
      "meanOfMeanFromPlaylistAtLeast1000Events,usersFromPlaylistAtLeast1000Events = averagePopularityPerUserMeanOfMean(averagePopPerUser,lambda v1,v2: v1>1000)"
     ],
     "language": "python",
     "metadata": {},
     "outputs": [],
     "prompt_number": 61
    },
    {
     "cell_type": "markdown",
     "metadata": {
      "variables": {
       "allSumFromPlaylistAtLeast1000Events": "7.331941142453254",
       "meanOfMeanFromPlaylistAtLeast1000Events": "17.204063656105994",
       "usersFromPlaylistAtLeast1000Events": "51"
      }
     },
     "source": [
      "FromPlaylist <BR>\n",
      "Per utenti con ascolti > 1000 <BR>\n",
      "Utenti: {{usersFromPlaylistAtLeast1000Events}} <BR>\n",
      "$\\frac{\\sum_u e_u}{\\sum_u t_u} = $ {{allSumFromPlaylistAtLeast1000Events}}<BR><BR>\n",
      "$\\frac{\\sum_u p_u}{N(u)} = $ {{meanOfMeanFromPlaylistAtLeast1000Events}}"
     ]
    },
    {
     "cell_type": "code",
     "collapsed": false,
     "input": [
      "events_rdd_enriched_with_track_playcount = events_raw_rdd.map(lambda rawline:  ((rawline.split(\"##\")[ARTIST],rawline.split(\"##\")[TRACK]) , (1,rawline)) ).groupByKey().flatMap(lambda x: reconstrcutDataset(x[1])).filter(lambda x: x[0][FROM_PLAYLIST] == 1)\n",
      "events_rdd_enriched_with_track_playcount.cache()"
     ],
     "language": "python",
     "metadata": {},
     "outputs": [
      {
       "metadata": {},
       "output_type": "pyout",
       "prompt_number": 62,
       "text": [
        "PythonRDD[257] at RDD at PythonRDD.scala:43"
       ]
      }
     ],
     "prompt_number": 62
    },
    {
     "cell_type": "code",
     "collapsed": false,
     "input": [
      "minNumTrackPlayCount = 1\n",
      "\n",
      "filtered = averagePopPerUser_min_playcount_threshold = events_rdd_enriched_with_track_playcount.filter(lambda x: x[1] >= minNumTrackPlayCount)\n",
      "supportFromPlaylistAtLeast1Listen = filtered.count()\n",
      "averagePopPerUser_min_playcount_threshold = filtered.map(lambda x: ((x[0][USERNAME],x[0][ARTIST],x[0][TRACK]) , 1 ) ).reduceByKey(lambda l, r: l+r).map(lambda x: (x[0][0],(x[1],1)) ).reduceByKey(lambda l, r: (l[0] + r[0],l[1]+r[1]) ).map(lambda x: x[1]).collect()\n",
      "\n",
      "\n",
      "allSumFromPlaylistAtLeast1Listen,usersFromPlaylistAtLeast1Listen = averagePopularityPerUserAllSum(averagePopPerUser_min_playcount_threshold)\n",
      "meanOfMeansFromPlaylistAtLeast1Listen,usersFromPlaylistAtLeast1Listen = averagePopularityPerUserMeanOfMean(averagePopPerUser_min_playcount_threshold)\n"
     ],
     "language": "python",
     "metadata": {},
     "outputs": [],
     "prompt_number": 63
    },
    {
     "cell_type": "markdown",
     "metadata": {
      "variables": {
       "allSumFromPlaylistAtLeast1Listen": "2.2841813609489403",
       "event_count": "31351945",
       "meanOfMeansFromPlaylistAtLeast1Listen": "1.8112079535950127",
       "supportFromPlaylistAtLeast1Listen": "615829",
       "usersFromPlaylistAtLeast1Listen": "24549"
      }
     },
     "source": [
      "FromPlaylist <BR>\n",
      "Per tracce con ascolti >= 1 <BR>\n",
      "Eventi filtrati: {{supportFromPlaylistAtLeast1Listen}} / {{event_count}}<BR>\n",
      "Utenti: {{usersFromPlaylistAtLeast1Listen}} <BR>\n",
      "$\\frac{\\sum_u e_u}{\\sum_u t_u} = $ {{allSumFromPlaylistAtLeast1Listen}}<BR><BR>\n",
      "$\\frac{\\sum_u p_u}{N(u)} = $ {{meanOfMeansFromPlaylistAtLeast1Listen}}"
     ]
    },
    {
     "cell_type": "code",
     "collapsed": false,
     "input": [
      "minNumTrackPlayCount = 2\n",
      "\n",
      "filtered = averagePopPerUser_min_playcount_threshold = events_rdd_enriched_with_track_playcount.filter(lambda x: x[1] >= minNumTrackPlayCount)\n",
      "supportFromPlaylistAtLeast2Listen = filtered.count()\n",
      "averagePopPerUser_min_playcount_threshold = filtered.map(lambda x: ((x[0][USERNAME],x[0][ARTIST],x[0][TRACK]) , 1 ) ).reduceByKey(lambda l, r: l+r).map(lambda x: (x[0][0],(x[1],1)) ).reduceByKey(lambda l, r: (l[0] + r[0],l[1]+r[1]) ).map(lambda x: x[1]).collect()\n",
      "\n",
      "\n",
      "allSumFromPlaylistAtLeast2Listen,usersFromPlaylistAtLeast2Listen = averagePopularityPerUserAllSum(averagePopPerUser_min_playcount_threshold)\n",
      "meanOfMeansFromPlaylistAtLeast2Listen,usersFromPlaylistAtLeast2Listen = averagePopularityPerUserMeanOfMean(averagePopPerUser_min_playcount_threshold)\n"
     ],
     "language": "python",
     "metadata": {},
     "outputs": [],
     "prompt_number": 64
    },
    {
     "cell_type": "markdown",
     "metadata": {
      "variables": {
       "allSumFromPlaylistAtLeast2Listen": "2.3629109718460666",
       "event_count": "31351945",
       "meanOfMeansFromPlaylistAtLeast2Listen": "1.8473964957195488",
       "supportFromPlaylistAtLeast2Listen": "600255",
       "usersFromPlaylistAtLeast2Listen": "24185"
      }
     },
     "source": [
      "FromPlaylist <BR>\n",
      "Per tracce con ascolti >= 2 <BR>\n",
      "Eventi filtrati: {{supportFromPlaylistAtLeast2Listen}} / {{event_count}}<BR>\n",
      "Utenti: {{usersFromPlaylistAtLeast2Listen}} <BR>\n",
      "$\\frac{\\sum_u e_u}{\\sum_u t_u} = $ {{allSumFromPlaylistAtLeast2Listen}}<BR><BR>\n",
      "$\\frac{\\sum_u p_u}{N(u)} = $ {{meanOfMeansFromPlaylistAtLeast2Listen}}"
     ]
    },
    {
     "cell_type": "code",
     "collapsed": false,
     "input": [
      "minNumTrackPlayCount = 3\n",
      "\n",
      "filtered = averagePopPerUser_min_playcount_threshold = events_rdd_enriched_with_track_playcount.filter(lambda x: x[1] >= minNumTrackPlayCount)\n",
      "supportFromPlaylistAtLeast3Listen = filtered.count()\n",
      "averagePopPerUser_min_playcount_threshold = filtered.map(lambda x: ((x[0][USERNAME],x[0][ARTIST],x[0][TRACK]) , 1 ) ).reduceByKey(lambda l, r: l+r).map(lambda x: (x[0][0],(x[1],1)) ).reduceByKey(lambda l, r: (l[0] + r[0],l[1]+r[1]) ).map(lambda x: x[1]).collect()\n",
      "\n",
      "\n",
      "allSumFromPlaylistAtLeast3Listen,usersFromPlaylistAtLeast3Listen = averagePopularityPerUserAllSum(averagePopPerUser_min_playcount_threshold)\n",
      "meanOfMeansFromPlaylistAtLeast3Listen,usersFromPlaylistAtLeast3Listen = averagePopularityPerUserMeanOfMean(averagePopPerUser_min_playcount_threshold)\n"
     ],
     "language": "python",
     "metadata": {},
     "outputs": [],
     "prompt_number": 65
    },
    {
     "cell_type": "markdown",
     "metadata": {
      "variables": {
       "allSumFromPlaylistAtLeast3Listen": "2.400211098201574",
       "event_count": "31351945",
       "meanOfMeansFromPlaylistAtLeast3Listen": "1.8640356285120994",
       "supportFromPlaylistAtLeast3Listen": "586698",
       "usersFromPlaylistAtLeast3Listen": "23944"
      }
     },
     "source": [
      "FromPlaylist <BR>\n",
      "Per tracce con ascolti >= 3 <BR>\n",
      "Eventi filtrati: {{supportFromPlaylistAtLeast3Listen}} / {{event_count}}<BR>\n",
      "Utenti: {{usersFromPlaylistAtLeast3Listen}} <BR>\n",
      "$\\frac{\\sum_u e_u}{\\sum_u t_u} = $ {{allSumFromPlaylistAtLeast3Listen}}<BR><BR>\n",
      "$\\frac{\\sum_u p_u}{N(u)} = $ {{meanOfMeansFromPlaylistAtLeast3Listen}}"
     ]
    },
    {
     "cell_type": "code",
     "collapsed": false,
     "input": [
      "minNumTrackPlayCount = 4\n",
      "\n",
      "filtered = averagePopPerUser_min_playcount_threshold = events_rdd_enriched_with_track_playcount.filter(lambda x: x[1] >= minNumTrackPlayCount)\n",
      "supportFromPlaylistAtLeast4Listen = filtered.count()\n",
      "averagePopPerUser_min_playcount_threshold = filtered.map(lambda x: ((x[0][USERNAME],x[0][ARTIST],x[0][TRACK]) , 1 ) ).reduceByKey(lambda l, r: l+r).map(lambda x: (x[0][0],(x[1],1)) ).reduceByKey(lambda l, r: (l[0] + r[0],l[1]+r[1]) ).map(lambda x: x[1]).collect()\n",
      "\n",
      "\n",
      "allSumFromPlaylistAtLeast4Listen,usersFromPlaylistAtLeast4Listen = averagePopularityPerUserAllSum(averagePopPerUser_min_playcount_threshold)\n",
      "meanOfMeansFromPlaylistAtLeast4Listen,usersFromPlaylistAtLeast4Listen = averagePopularityPerUserMeanOfMean(averagePopPerUser_min_playcount_threshold)\n"
     ],
     "language": "python",
     "metadata": {},
     "outputs": [],
     "prompt_number": 66
    },
    {
     "cell_type": "markdown",
     "metadata": {
      "variables": {
       "allSumFromPlaylistAtLeast4Listen": "2.4242686187034583",
       "event_count": "31351945",
       "meanOfMeansFromPlaylistAtLeast4Listen": "1.8764399552946387",
       "supportFromPlaylistAtLeast4Listen": "574925",
       "usersFromPlaylistAtLeast4Listen": "23753"
      }
     },
     "source": [
      "FromPlaylist <BR>\n",
      "Per tracce con ascolti >= 4 <BR>\n",
      "Eventi filtrati: {{supportFromPlaylistAtLeast4Listen}} / {{event_count}}<BR>\n",
      "Utenti: {{usersFromPlaylistAtLeast4Listen}} <BR>\n",
      "$\\frac{\\sum_u e_u}{\\sum_u t_u} = $ {{allSumFromPlaylistAtLeast4Listen}}<BR><BR>\n",
      "$\\frac{\\sum_u p_u}{N(u)} = $ {{meanOfMeansFromPlaylistAtLeast4Listen}}"
     ]
    },
    {
     "cell_type": "code",
     "collapsed": false,
     "input": [
      "minNumTrackPlayCount = 5\n",
      "\n",
      "filtered = averagePopPerUser_min_playcount_threshold = events_rdd_enriched_with_track_playcount.filter(lambda x: x[1] >= minNumTrackPlayCount)\n",
      "supportFromPlaylistAtLeast5Listen = filtered.count()\n",
      "averagePopPerUser_min_playcount_threshold = filtered.map(lambda x: ((x[0][USERNAME],x[0][ARTIST],x[0][TRACK]) , 1 ) ).reduceByKey(lambda l, r: l+r).map(lambda x: (x[0][0],(x[1],1)) ).reduceByKey(lambda l, r: (l[0] + r[0],l[1]+r[1]) ).map(lambda x: x[1]).collect()\n",
      "\n",
      "\n",
      "allSumFromPlaylistAtLeast5Listen,usersFromPlaylistAtLeast5Listen = averagePopularityPerUserAllSum(averagePopPerUser_min_playcount_threshold)\n",
      "meanOfMeansFromPlaylistAtLeast5Listen,usersFromPlaylistAtLeast5Listen = averagePopularityPerUserMeanOfMean(averagePopPerUser_min_playcount_threshold)\n"
     ],
     "language": "python",
     "metadata": {},
     "outputs": [],
     "prompt_number": 67
    },
    {
     "cell_type": "markdown",
     "metadata": {
      "variables": {
       "allSumFromPlaylistAtLeast5Listen": "2.440749501615156",
       "event_count": "31351945",
       "meanOfMeansFromPlaylistAtLeast5Listen": "1.883027220201256",
       "supportFromPlaylistAtLeast5Listen": "564416",
       "usersFromPlaylistAtLeast5Listen": "23617"
      }
     },
     "source": [
      "FromPlaylist <BR>\n",
      "Per tracce con ascolti >= 5 <BR>\n",
      "Eventi filtrati: {{supportFromPlaylistAtLeast5Listen}} / {{event_count}}<BR>\n",
      "Utenti: {{usersFromPlaylistAtLeast5Listen}} <BR>\n",
      "$\\frac{\\sum_u e_u}{\\sum_u t_u} = $ {{allSumFromPlaylistAtLeast5Listen}}<BR><BR>\n",
      "$\\frac{\\sum_u p_u}{N(u)} = $ {{meanOfMeansFromPlaylistAtLeast5Listen}}"
     ]
    },
    {
     "cell_type": "code",
     "collapsed": false,
     "input": [
      "minNumTrackPlayCount = 100\n",
      "\n",
      "filtered = averagePopPerUser_min_playcount_threshold = events_rdd_enriched_with_track_playcount.filter(lambda x: x[1] >= minNumTrackPlayCount)\n",
      "supportFromPlaylistAtLeast100Listen = filtered.count()\n",
      "averagePopPerUser_min_playcount_threshold = filtered.map(lambda x: ((x[0][USERNAME],x[0][ARTIST],x[0][TRACK]) , 1 ) ).reduceByKey(lambda l, r: l+r).map(lambda x: (x[0][0],(x[1],1)) ).reduceByKey(lambda l, r: (l[0] + r[0],l[1]+r[1]) ).map(lambda x: x[1]).collect()\n",
      "\n",
      "\n",
      "allSumFromPlaylistAtLeast100Listen,usersFromPlaylistAtLeast100Listen = averagePopularityPerUserAllSum(averagePopPerUser_min_playcount_threshold)\n",
      "meanOfMeansFromPlaylistAtLeast100Listen,usersFromPlaylistAtLeast100Listen = averagePopularityPerUserMeanOfMean(averagePopPerUser_min_playcount_threshold)\n",
      "\n",
      "allSumFromPlaylistAtLeast100Listen100Events,usersFromPlaylistAtLeast100Listen100Events = averagePopularityPerUserAllSum(averagePopPerUser_min_playcount_threshold,lambda v1,v2: v1>100)\n",
      "meanOfMeansFromPlaylistAtLeast100Listen100Events,usersFromPlaylistAtLeast100Listen100Events = averagePopularityPerUserMeanOfMean(averagePopPerUser_min_playcount_threshold,lambda v1,v2: v1>100)\n",
      "\n",
      "\n"
     ],
     "language": "python",
     "metadata": {},
     "outputs": [],
     "prompt_number": 68
    },
    {
     "cell_type": "markdown",
     "metadata": {
      "variables": {
       "allSumFromPlaylistAtLeast100Listen": "2.4980481642964834",
       "allSumFromPlaylistAtLeast100Listen100Events": "5.6120207079422535",
       "event_count": "31351945",
       "meanOfMeansFromPlaylistAtLeast100Listen": "2.0215525098153573",
       "meanOfMeansFromPlaylistAtLeast100Listen100Events": "14.823211260518672",
       "supportFromPlaylistAtLeast100Listen": "306523",
       "usersFromPlaylistAtLeast100Listen": "18913",
       "usersFromPlaylistAtLeast100Listen100Events": "417"
      }
     },
     "source": [
      "FromPlaylist <BR>\n",
      "Per tracce con ascolti >= 100 <BR>\n",
      "Eventi filtrati: {{supportFromPlaylistAtLeast100Listen}} / {{event_count}}<BR>\n",
      "Utenti: {{usersFromPlaylistAtLeast100Listen}} <BR>\n",
      "$\\frac{\\sum_u e_u}{\\sum_u t_u} = $ {{allSumFromPlaylistAtLeast100Listen}} <BR><BR>\n",
      "$\\frac{\\sum_u p_u}{N(u)} = $ {{meanOfMeansFromPlaylistAtLeast100Listen}} <BR><BR>\n",
      "Per tracce con ascolti >= 100 e utenti con almeno 100 eventi<BR>\n",
      "Eventi filtrati: {{supportFromPlaylistAtLeast100Listen}} / {{event_count}}<BR>\n",
      "Utenti: {{usersFromPlaylistAtLeast100Listen100Events}} <BR>\n",
      "$\\frac{\\sum_u e_u}{\\sum_u t_u} = $ {{allSumFromPlaylistAtLeast100Listen100Events}}<BR><BR>\n",
      "$\\frac{\\sum_u p_u}{N(u)} = $ {{meanOfMeansFromPlaylistAtLeast100Listen100Events}}"
     ]
    },
    {
     "cell_type": "code",
     "collapsed": false,
     "input": [
      "minNumTrackPlayCount = 1000\n",
      "\n",
      "filtered = averagePopPerUser_min_playcount_threshold = events_rdd_enriched_with_track_playcount.filter(lambda x: x[1] >= minNumTrackPlayCount)\n",
      "supportFromPlaylistAtLeast1000Listen = filtered.count()\n",
      "averagePopPerUser_min_playcount_threshold = filtered.map(lambda x: ((x[0][USERNAME],x[0][ARTIST],x[0][TRACK]) , 1 ) ).reduceByKey(lambda l, r: l+r).map(lambda x: (x[0][0],(x[1],1)) ).reduceByKey(lambda l, r: (l[0] + r[0],l[1]+r[1]) ).map(lambda x: x[1]).collect()\n",
      "\n",
      "\n",
      "allSumFromPlaylistAtLeast1000Listen,usersFromPlaylistAtLeast1000Listen = averagePopularityPerUserAllSum(averagePopPerUser_min_playcount_threshold)\n",
      "meanOfMeansFromPlaylistAtLeast1000Listen,usersFromPlaylistAtLeast1000Listen = averagePopularityPerUserMeanOfMean(averagePopPerUser_min_playcount_threshold)\n",
      "\n",
      "allSumFromPlaylistAtLeast1000Listen1000Events,usersFromPlaylistAtLeast1000Listen1000Events = averagePopularityPerUserAllSum(averagePopPerUser_min_playcount_threshold,lambda v1,v2: v1>1000)\n",
      "meanOfMeansFromPlaylistAtLeast1000Listen1000Events,usersFromPlaylistAtLeast1000Listen1000Events = averagePopularityPerUserMeanOfMean(averagePopPerUser_min_playcount_threshold,lambda v1,v2: v1>1000)\n",
      "\n"
     ],
     "language": "python",
     "metadata": {},
     "outputs": [],
     "prompt_number": 69
    },
    {
     "cell_type": "markdown",
     "metadata": {
      "variables": {
       "allSumFromPlaylistAtLeast1000Listen": "2.5893707902086414",
       "allSumFromPlaylistAtLeast1000Listen1000Events": "84.75757575757575",
       "event_count": "31351945",
       "meanOfMeansFromPlaylistAtLeast1000Listen": "2.263805842552918",
       "meanOfMeansFromPlaylistAtLeast1000Listen1000Events": "850.1875",
       "supportFromPlaylistAtLeast1000Listen": "63046",
       "usersFromPlaylistAtLeast1000Listen": "8587",
       "usersFromPlaylistAtLeast1000Listen1000Events": "3"
      }
     },
     "source": [
      "FromPlaylist <BR>\n",
      "Per tracce con ascolti >= 1000 <BR>\n",
      "Eventi filtrati: {{supportFromPlaylistAtLeast1000Listen}} / {{event_count}}<BR>\n",
      "Utenti: {{usersFromPlaylistAtLeast1000Listen}} <BR>\n",
      "$\\frac{\\sum_u e_u}{\\sum_u t_u} = $ {{allSumFromPlaylistAtLeast1000Listen}} <BR><BR>\n",
      "$\\frac{\\sum_u p_u}{N(u)} = $ {{meanOfMeansFromPlaylistAtLeast1000Listen}} <BR><BR>\n",
      "Per tracce con ascolti >= 1000 e utenti con almeno 1000 eventi<BR>\n",
      "Eventi filtrati: {{supportFromPlaylistAtLeast1000Listen}} / {{event_count}}<BR>\n",
      "Utenti: {{usersFromPlaylistAtLeast1000Listen1000Events}} <BR>\n",
      "$\\frac{\\sum_u e_u}{\\sum_u t_u} = $ {{allSumFromPlaylistAtLeast1000Listen1000Events}}<BR><BR>\n",
      "$\\frac{\\sum_u p_u}{N(u)} = $ {{meanOfMeansFromPlaylistAtLeast1000Listen1000Events}}"
     ]
    },
    {
     "cell_type": "code",
     "collapsed": false,
     "input": [],
     "language": "python",
     "metadata": {},
     "outputs": []
    }
   ],
   "metadata": {}
  }
 ]
}
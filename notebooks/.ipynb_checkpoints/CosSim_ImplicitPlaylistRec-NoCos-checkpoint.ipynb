{
 "metadata": {
  "name": "",
  "signature": "sha256:1b590f9878864914f8c12f13472fdd6ec361d4c3071d4657d4101839765a6624"
 },
 "nbformat": 3,
 "nbformat_minor": 0,
 "worksheets": [
  {
   "cells": [
    {
     "cell_type": "code",
     "collapsed": false,
     "input": [
      "import json\n",
      "import numpy as np"
     ],
     "language": "python",
     "metadata": {},
     "outputs": [],
     "prompt_number": 1
    },
    {
     "cell_type": "code",
     "collapsed": false,
     "input": [
      "# RECOMMENDER ALGORITHM PARAMETERS\n",
      "EXCLUDE_ALREADY_LISTENED = 0\n",
      "EXP_DECAY_FACTOR = .5\n",
      "REC_LIST_SIZE = 100\n",
      "SESSION_JACCARD_SHRINKAGE = 5\n",
      "CLUSTER_SIMILARITY_THRESHOLD = 0.5"
     ],
     "language": "python",
     "metadata": {},
     "outputs": [],
     "prompt_number": 69
    },
    {
     "cell_type": "code",
     "collapsed": false,
     "input": [
      "import sys\n",
      "import numpy as np\n",
      "import itertools\n",
      "from pyspark import SparkContext\n",
      "\n",
      "(USERNAME, ARTIST, TRACK, LOVED, FROM_PLAYLIST, TIMESTAMP, PLAYTIME, SESSION, DURATION) = range(0, 9)\n",
      "\n",
      "\n",
      "def parse_line(line, sep=\"##\"):\n",
      "    line_split = line.split(sep)\n",
      "    return line_split[USERNAME], line_split[ARTIST], line_split[TRACK], int(line_split[LOVED]), \\\n",
      "        int(line_split[FROM_PLAYLIST]), int(line_split[TIMESTAMP]),int(line_split[PLAYTIME]), int(line_split[SESSION]), int(line_split[DURATION])\n",
      "\n",
      "\n",
      "def parse_playlist_line(line):\n",
      "    line_split = line.split(\"\\t\")\n",
      "    user = line_split[0]\n",
      "    playlist = line_split[1].split(\"##\")\n",
      "    playlist_of_tuples = []\n",
      "    for i in range(0,len(playlist)-1):\n",
      "        playlist_of_tuples.append(tuple(playlist[i].split(\"/_/\")))\n",
      "    return user,playlist_of_tuples\n",
      "\n",
      "\n",
      "def compute_similarity(valueTuple):\n",
      "    playlists = valueTuple[0]\n",
      "    session_playlist = valueTuple[1][1]\n",
      "    maxJaccard = -1\n",
      "    for playlist in playlists:\n",
      "        currJaccard = compute_jaccard_index(set(session_playlist),set(playlist))\n",
      "        if currJaccard > maxJaccard:\n",
      "            maxJaccard = currJaccard\n",
      "    return maxJaccard\n",
      "\n",
      "def compute_similarity_levshtein(valueTuple):\n",
      "    playlists = valueTuple[0]\n",
      "    session_playlist = valueTuple[1][1]\n",
      "    maxJaccard = -1\n",
      "    bestPlaylist = None\n",
      "    for playlist in playlists:\n",
      "        currJaccard = compute_jaccard_index(set(session_playlist),set(playlist))\n",
      "        if currJaccard > maxJaccard:\n",
      "            maxJaccard = currJaccard\n",
      "            bestPlaylist = playlist\n",
      "    return levenshtein(session_playlist,bestPlaylist)\n",
      "\n",
      "def aggregateForUser(line):\n",
      "    return line[0][0],(line[0][1],line[1])\n",
      "\n",
      "def compute_jaccard_index(set_1,set_2,shrinkage=10):\n",
      "    n = len(set_1.intersection(set_2))\n",
      "    den = float(len(set_1) + len(set_2) - n)\n",
      "    if n == 0 or den == 0:\n",
      "        return 0\n",
      "    return n/float(len(set_1) + len(set_2) - n + shrinkage)\n",
      "\n",
      "\n",
      "def fun2OverOrderedSet(lista):\n",
      "    setres = set()\n",
      "    if len(lista) > 1:\n",
      "        for i in range(0,len(lista)-1):\n",
      "            if lista[i] != lista[i+1]:\n",
      "                setres.add((lista[i],lista[i+1]))\n",
      "    return setres\n",
      "\n",
      "def omega(sessions,playlists):\n",
      "    P = set()\n",
      "    for playlist in playlists:\n",
      "        for track in playlist:\n",
      "            P.add(track)\n",
      "    S = set()\n",
      "    for session in sessions:\n",
      "        for track in session:\n",
      "            S.add(track)\n",
      "    P2 = set()\n",
      "    for playlist in playlists:\n",
      "        pl = []\n",
      "        for track in playlist:\n",
      "            pl.append(track)\n",
      "        P2 = P2.union(fun2OverOrderedSet(pl))\n",
      "    S2 = set()\n",
      "    for session in sessions:\n",
      "        se = []\n",
      "        for track in session:\n",
      "            se.append(track)\n",
      "        S2 = S2.union(fun2OverOrderedSet(se))\n",
      "    inter = P.intersection(S)\n",
      "    cartprod = itertools.product(inter,repeat=2)\n",
      "    cart2 = set()\n",
      "    for e in cartprod:\n",
      "        cart2.add(e)\n",
      "    return compute_jaccard_index(P2.intersection(cart2),S2.intersection(cart2))\n",
      "\n",
      "\n",
      "def levenshtein(source, target):\n",
      "    if len(source) < len(target):\n",
      "        return levenshtein(target, source)\n",
      "\n",
      "    # So now we have len(source) >= len(target).\n",
      "    if len(target) == 0:\n",
      "        return len(source)\n",
      "\n",
      "    # We call tuple() to force strings to be used as sequences\n",
      "    # ('c', 'a', 't', 's') - numpy uses them as values by default.\n",
      "    source = np.array(tuple(source))\n",
      "    target = np.array(tuple(target))\n",
      "\n",
      "    # We use a dynamic programming algorithm, but with the\n",
      "    # added optimization that we only need the last two rows\n",
      "    # of the matrix.\n",
      "    previous_row = np.arange(target.size + 1)\n",
      "    for s in source:\n",
      "        # Insertion (target grows longer than source):\n",
      "        current_row = previous_row + 1\n",
      "\n",
      "        # Substitution or matching:\n",
      "        # Target and source items are aligned, and either\n",
      "        # are different (cost of 1), or are the same (cost of 0).\n",
      "        current_row[1:] = np.minimum(\n",
      "                current_row[1:],\n",
      "                np.add(previous_row[:-1], target != s))\n",
      "\n",
      "        # Deletion (target grows shorter than source):\n",
      "        current_row[1:] = np.minimum(\n",
      "                current_row[1:],\n",
      "                current_row[0:-1] + 1)\n",
      "\n",
      "        previous_row = current_row\n",
      "\n",
      "    return previous_row[-1]\n",
      "\n",
      "# def levenshtein(s1, s2):\n",
      "#     if len(s1) < len(s2):\n",
      "#         return levenshtein(s2, s1)\n",
      "#\n",
      "#     # len(s1) >= len(s2)\n",
      "#     if len(s2) == 0:\n",
      "#         return len(s1)\n",
      "#\n",
      "#     previous_row = range(len(s2) + 1)\n",
      "#     for i, c1 in enumerate(s1):\n",
      "#         current_row = [i + 1]\n",
      "#         for j, c2 in enumerate(s2):\n",
      "#             insertions = previous_row[j + 1] + 1 # j+1 instead of j since previous_row and current_row are one character longer\n",
      "#             deletions = current_row[j] + 1       # than s2\n",
      "#             substitutions = previous_row[j] + (c1 != c2)\n",
      "#             current_row.append(min(insertions, deletions, substitutions))\n",
      "#         previous_row = current_row\n",
      "#\n",
      "#     return previous_row[-1]\n",
      "\n",
      "def levenshtein(s, t):\n",
      "        ''' From Wikipedia article; Iterative with two matrix rows. '''\n",
      "        if s == t: return 0\n",
      "        elif len(s) == 0: return len(t)\n",
      "        elif len(t) == 0: return len(s)\n",
      "        v0 = [None] * (len(t) + 1)\n",
      "        v1 = [None] * (len(t) + 1)\n",
      "        for i in xrange(len(v0)):\n",
      "            v0[i] = i\n",
      "        for i in xrange(len(s)):\n",
      "            v1[0] = i + 1\n",
      "            for j in xrange(len(t)):\n",
      "                cost = 0 if s[i] == t[j] else 1\n",
      "                v1[j + 1] = min(v1[j] + 1, v0[j + 1] + 1, v0[j] + cost)\n",
      "            for j in xrange(len(v0)):\n",
      "                v0[j] = v1[j]\n",
      "\n",
      "        return v1[len(t)]\n",
      "\n",
      "def computeOmega(valueTuple):\n",
      "    playlists = valueTuple[0];\n",
      "    agg_sessions = valueTuple[1];\n",
      "    sessions = [];\n",
      "    for agg_session in agg_sessions:\n",
      "        sessions.append(agg_session[1])\n",
      "    if len(playlists) == 0 or len(sessions) == 0:\n",
      "        return 0\n",
      "    return omega(sessions,playlists)\n",
      "\n",
      "def computeIntraSessionOmegaDictionaty(user_session_dict,key1,key2):\n",
      "    inter = user_session_dict[key1]['S1'].intersection(user_session_dict[key2]['S1'])\n",
      "    cartprod = itertools.product(inter,repeat=2)\n",
      "    cart2 = set()\n",
      "    for e in cartprod:\n",
      "        cart2.add(e)\n",
      "    return compute_jaccard_index(user_session_dict[key1]['S2'].intersection(cart2),user_session_dict[key2]['S2'].intersection(cart2))\n",
      "\n",
      "# def computeIntraSessionOmega(list_of_sessions):\n",
      "#     user_session_dict = {}\n",
      "#     for session in list_of_sessions:\n",
      "#         session_id = session[0]\n",
      "#         track_list = session[1]\n",
      "#         S1 = set()\n",
      "#         se = []\n",
      "#         for track in track_list:\n",
      "#             S1.add(track)\n",
      "#             se.append(track)\n",
      "#         user_session_dict[session_id] = {}\n",
      "#         user_session_dict[session_id]['S1'] = S1\n",
      "#         user_session_dict[session_id]['S2'] = fun2OverOrderedSet(se)\n",
      "#\n",
      "#\n",
      "#     omega_intra_sessions = {}\n",
      "#\n",
      "#     for key1 in user_session_dict:\n",
      "#         for key2 in user_session_dict:\n",
      "#             if key1 == key2:\n",
      "#                 continue\n",
      "#\n",
      "#             omega_intra_sessions.has_key((key1,key2))\n",
      "#             if not(omega_intra_sessions.has_key((key1,key2))) and not(omega_intra_sessions.has_key((key2,key1))):\n",
      "#                 omega_intra_sessions[(key1,key2)] = computeIntraSessionOmegaDictionaty(user_session_dict,key1,key2)\n",
      "#\n",
      "#     return omega_intra_sessions\n",
      "\n",
      "def computeIntraSessionJaccard(list_of_sessions):\n",
      "    user_session_dict = {}\n",
      "    count = 0\n",
      "    for session in list_of_sessions:\n",
      "        session_id = count\n",
      "        count = count + 1\n",
      "        track_list = session[1]\n",
      "        S1 = set()\n",
      "        for track in track_list:\n",
      "            S1.add(track)\n",
      "        user_session_dict[session_id] = {}\n",
      "        user_session_dict[session_id][\"track-set\"] = S1\n",
      "        \n",
      "\n",
      "    jaccard_intra_sessions = {}\n",
      "    nsessions = count\n",
      "\n",
      "    for key1 in user_session_dict:\n",
      "        for key2 in user_session_dict:\n",
      "            if key1 == key2:\n",
      "                continue\n",
      "\n",
      "            #jaccard_intra_sessions.has_key((key1,key2))\n",
      "            if not(jaccard_intra_sessions.has_key((key1,key2))) and not(jaccard_intra_sessions.has_key((key2,key1))):\n",
      "                jaccard_intra_sessions[(key1,key2)] = compute_jaccard_index(user_session_dict[key1][\"track-set\"],user_session_dict[key2][\"track-set\"])\n",
      "\n",
      "    return jaccard_intra_sessions,nsessions\n",
      "\n",
      "\n",
      "def computeIntraSessionJaccardOriginalSessionId(list_of_sessions,shrinkage):\n",
      "    user_session_dict = {}\n",
      "    for session in list_of_sessions:\n",
      "        session_id = session[0]\n",
      "        track_list = session[1]\n",
      "        S1 = set()\n",
      "        for track in track_list:\n",
      "            S1.add(track)\n",
      "        user_session_dict[session_id] = {}\n",
      "        user_session_dict[session_id][\"track-set\"] = S1\n",
      "        \n",
      "\n",
      "    jaccard_intra_sessions = {}\n",
      "    nsessions = len(list_of_sessions)\n",
      "\n",
      "    for key1 in user_session_dict:\n",
      "        for key2 in user_session_dict:\n",
      "            if key1 == key2:\n",
      "                continue\n",
      "\n",
      "            #jaccard_intra_sessions.has_key((key1,key2))\n",
      "            if not(jaccard_intra_sessions.has_key((key1,key2))) and not(jaccard_intra_sessions.has_key((key2,key1))):\n",
      "                jaccard_intra_sessions[(key1,key2)] = compute_jaccard_index(user_session_dict[key1][\"track-set\"],user_session_dict[key2][\"track-set\"],shrinkage)\n",
      "\n",
      "    return jaccard_intra_sessions,nsessions\n",
      "\n",
      "# def computeIntraSessionLevsthein(list_of_sessions):\n",
      "#     user_session_dict = {}\n",
      "#     for session in list_of_sessions:\n",
      "#         session_id = session[0]\n",
      "#         track_list = session[1]\n",
      "#         user_session_dict[session_id] = {}\n",
      "#         tlist = []\n",
      "#         for track in track_list:\n",
      "#             tlist.append(track)\n",
      "#         user_session_dict[session_id][\"track_list\"] = tlist\n",
      "#\n",
      "#     levstheins_intra_sessions = {}\n",
      "#\n",
      "#     for key1 in user_session_dict:\n",
      "#         for key2 in user_session_dict:\n",
      "#             if key1 == key2:\n",
      "#                 continue\n",
      "#\n",
      "#             levstheins_intra_sessions.has_key((key1,key2))\n",
      "#             if not(levstheins_intra_sessions.has_key((key1,key2))) and not(levstheins_intra_sessions.has_key((key2,key1))):\n",
      "#                 levstheins_intra_sessions[(key1,key2)] = levenshtein(user_session_dict[key1][\"track_list\"],user_session_dict[key2][\"track_list\"])\n",
      "#\n",
      "#     return levstheins_intra_sessions\n",
      "\n",
      "class UnionFind:\n",
      "    def __init__(self):\n",
      "        self.rank = {}\n",
      "        self.parent = {}\n",
      "\n",
      "    def find(self, element):\n",
      "        if element not in self.parent: # leader elements are not in `parent` dict\n",
      "            return element\n",
      "        if self.parent[element] == element:\n",
      "            return element\n",
      "        leader = self.find(self.parent[element]) # search recursively\n",
      "        self.parent[element] = leader # compress path by saving leader as parent\n",
      "        return leader\n",
      "\n",
      "    def union(self, leader1, leader2):\n",
      "        rank1 = self.rank.get(leader1,1)\n",
      "        rank2 = self.rank.get(leader2,1)\n",
      "\n",
      "        if rank1 > rank2: # union by rank\n",
      "            self.parent[leader2] = leader1\n",
      "        elif rank2 > rank1:\n",
      "            self.parent[leader1] = leader2\n",
      "        else: # ranks are equal\n",
      "            self.parent[leader2] = leader1 # favor leader1 arbitrarily\n",
      "            self.rank[leader1] = rank1+1 # increment rank\n",
      "\n",
      "def networks(friends, num_people):\n",
      "    # first process the \"friends\" list to build disjoint sets\n",
      "    network = UnionFind()\n",
      "\n",
      "    for a, b in friends:\n",
      "        network.union(network.find(a), network.find(b))\n",
      "\n",
      "    # now assemble the groups (indexed by an arbitrarily chosen leader)\n",
      "    groups = {}\n",
      "    for person in range(0,num_people):\n",
      "        g = groups.get(network.find(person), [])\n",
      "        g.append(person)\n",
      "        groups[network.find(person)] = g\n",
      "\n",
      "\n",
      "    groupList = []\n",
      "\n",
      "    # now print out the groups (you can call `set` on `g` if you want brackets)\n",
      "    for i, g in enumerate(groups.values()):\n",
      "        groupList.append(len(g))\n",
      "    if len(groupList) == 0:\n",
      "        return 1\n",
      "    np_groupList = np.array(groupList)\n",
      "\n",
      "    return np.mean(np_groupList)\n",
      "\n",
      "def clusterizeSessionsWithMetric(tuple,bins=10):\n",
      "    step = 1/float(bins)\n",
      "    res = []\n",
      "    intra_session_dictionary = tuple[0]\n",
      "    nsessions = tuple[1]\n",
      "    for i in range(0,bins):\n",
      "        threshold = i/float(bins)\n",
      "        filteredListByTh = []\n",
      "        for key in intra_session_dictionary:\n",
      "            # if key == \"nsessions\":\n",
      "            #     continue\n",
      "            if intra_session_dictionary[key]>=threshold:\n",
      "                filteredListByTh.append(key)\n",
      "        net = networks(filteredListByTh,nsessions)\n",
      "        # if i==0:\n",
      "        #     print str(net) + \" \" + str(nsessions) + \"list: \" + str(filteredListByTh)\n",
      "        res.append(net)\n",
      "    return np.array(res)\n",
      "\n",
      "def filterSessionsByJ(tuple,threshold,bins=10):\n",
      "    step = 1/float(bins)\n",
      "    res = []\n",
      "    intra_session_dictionary = tuple[0]\n",
      "    nsessions = tuple[1]\n",
      "    \n",
      "    res = set()\n",
      "    filteredListByTh = []\n",
      "    for key in intra_session_dictionary:\n",
      "        if intra_session_dictionary[key]>=threshold:\n",
      "            res.update(key)\n",
      "                       \n",
      "    return res\n",
      "\n",
      "def weightedAverageOfSessionSimilarityClusteredNonNormalized(session_length,similarities,bins):\n",
      "    #np_session_length = np.array(session_length)\n",
      "    cluster_size_to_be_plotted = np.zeros(bins)\n",
      "    total_sessions = 0\n",
      "    for i in range(len(session_length)):\n",
      "        ##numero medio di sessioni per cluster (normalizzato pesandolo per la lunghezza delle sessioni)\n",
      "        np.add(cluster_size_to_be_plotted,similarities[i]*session_length[i],cluster_size_to_be_plotted)\n",
      "        ##non ho ben capito cosa sia\n",
      "        #np.add(cluster_size_to_be_plotted,similarities[i],cluster_size_to_be_plotted)\n",
      "        total_sessions += session_length[i]\n",
      "\n",
      "    return np.dot(cluster_size_to_be_plotted,1/float(total_sessions))\n",
      "\n",
      "\n",
      "def weightedAverageOfSessionSimilarityClusteredNormalized(session_length,similarities,bins):\n",
      "    #np_session_length = np.array(session_length)\n",
      "    cluster_size_to_be_plotted = np.zeros(bins)\n",
      "    total_sessions = 0\n",
      "    for i in range(len(session_length)):\n",
      "        ##numero medio di sessioni per cluster (normalizzato pesandolo per la lunghezza delle sessioni)\n",
      "        #np.add(cluster_size_to_be_plotted,similarities[i]*session_length[i],cluster_size_to_be_plotted)\n",
      "        ##non ho ben capito cosa sia\n",
      "        np.add(cluster_size_to_be_plotted,similarities[i],cluster_size_to_be_plotted)\n",
      "        total_sessions += session_length[i]\n",
      "\n",
      "    return np.dot(cluster_size_to_be_plotted,1/float(total_sessions))\n",
      "\n",
      "def topNSimilarityFilter(similarities,n,thIdx=4):\n",
      "    filteredUsersIds = []\n",
      "    arrayOfSimilarities = []\n",
      "    for i in range(len(similarities)):\n",
      "        arrayOfSimilarities.append(similarities[i][thIdx])\n",
      "        \n",
      "    userIndexes = [i[0] for i in sorted(enumerate(arrayOfSimilarities), key=lambda x:x[1])]\n",
      "    end = len(userIndexes)\n",
      "    topUserIndexes = userIndexes[end-n:end]\n",
      "    return topUserIndexes\n",
      "    \n",
      "    \n",
      "    \n",
      "\n",
      "\n",
      "def usersAverageOfSessionSimilarityClusteredNormalized(nusers,similarities,bins):\n",
      "    #np_session_length = np.array(session_length)\n",
      "    cluster_size_to_be_plotted = np.zeros(bins)\n",
      "\n",
      "    for i in range(len(similarities)):\n",
      "        ##numero medio di sessioni per cluster (normalizzato pesandolo per la lunghezza delle sessioni)\n",
      "        #np.add(cluster_size_to_be_plotted,similarities[i]*session_length[i],cluster_size_to_be_plotted)\n",
      "        ##non ho ben capito cosa sia\n",
      "        np.add(cluster_size_to_be_plotted,similarities[i],cluster_size_to_be_plotted)\n",
      "\n",
      "    return np.dot(cluster_size_to_be_plotted,1/float(nusers))\n",
      "\n",
      "def createMatlabPlot(x,y,file,openFileMode=\"w\"):\n",
      "    out = open(file,openFileMode)\n",
      "    xlist = \"\"\n",
      "    for i in x:\n",
      "        if xlist != \"\":\n",
      "            xlist = xlist + \",\"\n",
      "        xlist = xlist + str(i)\n",
      "    ylist = \"\"\n",
      "    for i in y:\n",
      "        if ylist != \"\":\n",
      "            ylist = ylist + \",\"\n",
      "        ylist = ylist + str(i)\n",
      "    out.write(\"plot([\" + xlist + \"],[\" + ylist + \"]);\\n\")\n",
      "    out.close()\n",
      "\n",
      "def createCumulativeMatlabPlotFromArrayOfTuples(arrayOfTuples,file,openFileMode=\"w\"):\n",
      "    out = open(file,openFileMode)\n",
      "    xlist = \"\"\n",
      "    ylist = \"\"\n",
      "    sumY = float(0)\n",
      "    for i in arrayOfTuples:\n",
      "        sumY = sumY + i[1]\n",
      "    for i in arrayOfTuples:\n",
      "        if xlist != \"\":\n",
      "            xlist = xlist + \",\"\n",
      "        if ylist != \"\":\n",
      "            ylist = ylist + \",\"\n",
      "        xlist = xlist + str(i[0])\n",
      "        ylist = ylist + str(i[1]/float(sumY))\n",
      "    \n",
      "    out.write(\"plot([\" + xlist + \"],[\" + ylist + \"]);\\n\")\n",
      "    out.close()\n",
      "\n",
      "def createMatlabPlotFromArrayOfTuples(arrayOfTuples,file,openFileMode=\"w\"):\n",
      "    out = open(file,openFileMode)\n",
      "    xlist = \"\"\n",
      "    ylist = \"\"\n",
      "    for i in arrayOfTuples:\n",
      "        if xlist != \"\":\n",
      "            xlist = xlist + \",\"\n",
      "        if ylist != \"\":\n",
      "            ylist = ylist + \",\"\n",
      "        xlist = xlist + str(i[0])\n",
      "        ylist = ylist + str(i[1])\n",
      "    \n",
      "    out.write(\"plot([\" + xlist + \"],[\" + ylist + \"]);\\n\")\n",
      "    out.close()\n",
      "    \n",
      "def averagePopularityPerUserAllSum(tuples,admittedTuplesFunc=lambda v1,v2: True):\n",
      "    num = 0\n",
      "    den = 0\n",
      "    count = 1\n",
      "    events = 0\n",
      "    for t in tuples:\n",
      "        if admittedTuplesFunc(*t) is False:\n",
      "            continue\n",
      "        num = num + t[0]\n",
      "        den = den + t[1]\n",
      "        count = count + 1\n",
      "        events = events + t[1]\n",
      "    print >> outfile, \"Users: \" + str(count)\n",
      "    print >> outfile, \"Support: \" + str(events)\n",
      "    return num/float(den)\n",
      "\n",
      "def averagePopularityPerUserMeanOfMean(tuples,admittedTuplesFunc=lambda v1,v2: True):\n",
      "    num = 0\n",
      "    den = 0\n",
      "    count = 1\n",
      "    events = 0\n",
      "    for t in tuples:\n",
      "        if admittedTuplesFunc(*t) is False:\n",
      "            continue\n",
      "        num = num + t[0]/float(t[1])\n",
      "        den = den + 1\n",
      "        count = count + 1\n",
      "        events = events + t[1]\n",
      "    print >> outfile, \"Users: \" + str(count)\n",
      "    print >> outfile, \"Support: \" + str(events)\n",
      "    return num/float(den)\n",
      "\n",
      "\n",
      "\n",
      "\n",
      "def reconstrcutDataset(l):\n",
      "    outList = []\n",
      "    total = 0\n",
      "    for e in l:\n",
      "        total = total + e[0]\n",
      "    for e in l:\n",
      "        line = e[1]\n",
      "        outList.append((parse_line(line),total))\n",
      "    return outList\n",
      "\n",
      "def reconstructDataset2(l):\n",
      "    outList = []\n",
      "    for e in l:\n",
      "        outList.append(e)\n",
      "    return outList\n",
      "\n",
      "def computePlayCount(rdd):\n",
      "    return rdd.map(lambda line: ((line[USERNAME],line[ARTIST],line[TRACK]) , 1) ).reduceByKey(lambda l, r: l+r)\\\n",
      ".map(lambda x: (x[1],1) ).reduceByKey(lambda l, r: l+r).sortByKey(True).collect()"
     ],
     "language": "python",
     "metadata": {},
     "outputs": [],
     "prompt_number": 3
    },
    {
     "cell_type": "code",
     "collapsed": false,
     "input": [
      "# rdd1,rdd2 in the form ((row_idx, col_idx), value)\n",
      "def matmul_join(rdd1, rdd2):\n",
      "    rdd1mult = rdd1.map(lambda x: (x[0][1], (x[0][0], x[1])))\n",
      "    rdd2mult = rdd2.map(lambda x: (x[0][1], (x[0][0], x[1])))\n",
      "    return rdd1mult.join(rdd2mult)\\\n",
      "        .map(lambda x: ((x[1][0][0], x[1][1][0]), x[1][0][1] * x[1][1][1]))\\\n",
      "        .reduceByKey(lambda x,y:x+y)\n",
      "\n",
      "'''        \n",
      "def transpose(rdd):\n",
      "    return rdd.map(lambda x:((x[0][1], x[0][0]), x[1]))\n",
      "'''\n",
      "\n",
      "def colsim_join(rdd):\n",
      "    rddmult1 = rdd.map(lambda x: (x[0][0], (x[0][1], x[1])))\n",
      "    rddmult2 = rdd.map(lambda x: (x[0][0], (x[0][1], x[1])))\n",
      "    return rddmult1.join(rddmult2).filter(lambda x: x[1][0][0] != x[1][1][0])\\\n",
      "        .map(lambda x: ((x[1][0][0], x[1][1][0]), x[1][0][1] * x[1][1][1]))\\\n",
      "        .reduceByKey(lambda x,y:x+y)\n",
      "\n",
      "\n"
     ],
     "language": "python",
     "metadata": {},
     "outputs": [],
     "prompt_number": 4
    },
    {
     "cell_type": "code",
     "collapsed": false,
     "input": [
      "percUsTr = 0.7\n",
      "TS = 1391011733\n",
      "minSessionPerUser = 5\n",
      "minEventPerSession = 5\n",
      "onlineTrainingLength = 5\n",
      "GTlength = 5 \n",
      "n = 5\n",
      "minEventPerSessionTraining = 5\n",
      "minEventPerSessionTest = n if n >= onlineTrainingLength + GTlength else onlineTrainingLength + GTlength+1\n",
      "inFile = str('s3n://contentwise-research-poli/split/'+str(TS)+\"_\"+str(percUsTr)+\"_\"+str(minEventPerSessionTraining)\n",
      "            +\"_\"+str(minEventPerSessionTest)+\"/\")\n"
     ],
     "language": "python",
     "metadata": {},
     "outputs": [],
     "prompt_number": 5
    },
    {
     "cell_type": "code",
     "collapsed": false,
     "input": [
      "trainBatch = sc.textFile(inFile+\"train/batchTraining/\").cache()\n",
      "testBatch = sc.textFile(inFile+\"test/batchTraining/\").cache()\n",
      "testOnline = sc.textFile(inFile+\"test/onlineTraining/\").cache()"
     ],
     "language": "python",
     "metadata": {},
     "outputs": [],
     "prompt_number": 6
    },
    {
     "cell_type": "code",
     "collapsed": false,
     "input": [
      "batch = trainBatch.union(testBatch)\n",
      "batch.first()"
     ],
     "language": "python",
     "metadata": {},
     "outputs": [
      {
       "metadata": {},
       "output_type": "pyout",
       "prompt_number": 7,
       "text": [
        "u'event.session\\t1979597\\t1421592330\\t{\"numtracks\":9,\"playtime\":1931}\\t{\"subjects\":[{\"type\":\"user\",\"id\":13312}],\"objects\":[{\"type\":\"track\",\"id\":3532358,\"playstart\":0,\"playtime\":282,\"playratio\":1.00,\"action\":\"play\"},{\"type\":\"track\",\"id\":3532560,\"playstart\":282,\"playtime\":296,\"playratio\":1.14,\"action\":\"play\"},{\"type\":\"track\",\"id\":3532606,\"playstart\":578,\"playtime\":238,\"playratio\":1.00,\"action\":\"play\"},{\"type\":\"track\",\"id\":3532372,\"playstart\":816,\"playtime\":208,\"playratio\":0.99,\"action\":\"play\"},{\"type\":\"track\",\"id\":3532590,\"playstart\":1024,\"playtime\":301,\"playratio\":1.00,\"action\":\"play\"},{\"type\":\"track\",\"id\":3532357,\"playstart\":1325,\"playtime\":197,\"playratio\":1.01,\"action\":\"play\"},{\"type\":\"track\",\"id\":3532619,\"playstart\":1522,\"playtime\":194,\"playratio\":1.00,\"action\":\"play\"},{\"type\":\"track\",\"id\":3532614,\"playstart\":1716,\"playtime\":216,\"playratio\":1.01,\"action\":\"play\"},{\"type\":\"track\",\"id\":3532333,\"playstart\":1932,\"playtime\":-1,\"playratio\":null,\"action\":null}]}'"
       ]
      }
     ],
     "prompt_number": 7
    },
    {
     "cell_type": "code",
     "collapsed": false,
     "input": [
      "tabSplit = lambda x: x.split(\"\\t\")\n",
      "def readJson(x):\n",
      "    return json.loads(x)\n",
      "def flattener(x):\n",
      "    l = list()\n",
      "    uid = int(x['subjects'][0]['id'])\n",
      "    for t in x['objects']:\n",
      "        tid = int(t['id'])\n",
      "        l.append(((uid, tid), 1))\n",
      "    return l\n",
      "userTrackCountRDD = batch.map(tabSplit).map(lambda x: json.loads(x[4]))\\\n",
      "        .flatMap(lambda x: flattener(x)).reduceByKey(lambda x,y: x+y)\n",
      "userTrackCountRDD.persist()\n",
      "userTrackCountRDD.first()"
     ],
     "language": "python",
     "metadata": {},
     "outputs": [
      {
       "metadata": {},
       "output_type": "pyout",
       "prompt_number": 8,
       "text": [
        "((3115, 1866719), 1)"
       ]
      }
     ],
     "prompt_number": 8
    },
    {
     "cell_type": "code",
     "collapsed": false,
     "input": [
      "nusers = userTrackCountRDD.map(lambda x:x[0][0]).distinct().count()\n",
      "ntracks = userTrackCountRDD.map(lambda x:x[0][1]).distinct().count()\n",
      "print \"Num.users: \", nusers\n",
      "print \"Num.tracks: \", ntracks"
     ],
     "language": "python",
     "metadata": {},
     "outputs": [
      {
       "output_type": "stream",
       "stream": "stdout",
       "text": [
        "Num.users:  212\n",
        "Num.tracks:  14598\n"
       ]
      }
     ],
     "prompt_number": 9
    },
    {
     "cell_type": "heading",
     "level": 4,
     "metadata": {},
     "source": [
      "Top Popular Tracks"
     ]
    },
    {
     "cell_type": "code",
     "collapsed": false,
     "input": [
      "'''\n",
      "topPopTracksRDD = userTrackCountRDD.map(lambda x: (x[0][1], x[1]))\\\n",
      "    .reduceByKey(lambda x,y: x+y).map(lambda x:(x[1], x[0])).sortByKey(False)\n",
      "topPopTracksRDD.first()\n",
      "'''"
     ],
     "language": "python",
     "metadata": {},
     "outputs": [
      {
       "metadata": {},
       "output_type": "pyout",
       "prompt_number": 10,
       "text": [
        "'\\ntopPopTracksRDD = userTrackCountRDD.map(lambda x: (x[0][1], x[1]))    .reduceByKey(lambda x,y: x+y).map(lambda x:(x[1], x[0])).sortByKey(False)\\ntopPopTracksRDD.first()\\n'"
       ]
      }
     ],
     "prompt_number": 10
    },
    {
     "cell_type": "heading",
     "level": 1,
     "metadata": {},
     "source": [
      "Implicit Playlist Extraction"
     ]
    },
    {
     "cell_type": "code",
     "collapsed": false,
     "input": [
      "def readJson(data,field):\n",
      "    return json.loads(data)[field]\n",
      "\n",
      "def returnTrackIdListTuple(line):\n",
      "    tracks = []\n",
      "    for i in readJson(line.split(\"\\t\")[4],\"objects\"):\n",
      "        if len(i) > 0:\n",
      "            tracks.append(int(i['id']))\n",
      "    return tracks\n",
      "\n",
      "def unrollPlayListAndAssignCounter(listOfLists):\n",
      "    count = 0\n",
      "    resList = []\n",
      "    for pl in listOfLists:\n",
      "        if len(pl) == 0:\n",
      "            continue\n",
      "        pl_id = int(count)\n",
      "        count += 1\n",
      "        for t in pl:\n",
      "            resList.append( ((pl_id, t), 1) )\n",
      "    return resList\n",
      "    \n",
      "def unrollPlayList(listOfLists):\n",
      "    resList = []\n",
      "    for pl in listOfLists:\n",
      "        if len(pl) == 0:\n",
      "            continue\n",
      "        for t in pl:\n",
      "            resList.append( t )\n",
      "    return resList\n",
      "\n",
      "batch.first()"
     ],
     "language": "python",
     "metadata": {},
     "outputs": [
      {
       "metadata": {},
       "output_type": "pyout",
       "prompt_number": 40,
       "text": [
        "u'event.session\\t1979597\\t1421592330\\t{\"numtracks\":9,\"playtime\":1931}\\t{\"subjects\":[{\"type\":\"user\",\"id\":13312}],\"objects\":[{\"type\":\"track\",\"id\":3532358,\"playstart\":0,\"playtime\":282,\"playratio\":1.00,\"action\":\"play\"},{\"type\":\"track\",\"id\":3532560,\"playstart\":282,\"playtime\":296,\"playratio\":1.14,\"action\":\"play\"},{\"type\":\"track\",\"id\":3532606,\"playstart\":578,\"playtime\":238,\"playratio\":1.00,\"action\":\"play\"},{\"type\":\"track\",\"id\":3532372,\"playstart\":816,\"playtime\":208,\"playratio\":0.99,\"action\":\"play\"},{\"type\":\"track\",\"id\":3532590,\"playstart\":1024,\"playtime\":301,\"playratio\":1.00,\"action\":\"play\"},{\"type\":\"track\",\"id\":3532357,\"playstart\":1325,\"playtime\":197,\"playratio\":1.01,\"action\":\"play\"},{\"type\":\"track\",\"id\":3532619,\"playstart\":1522,\"playtime\":194,\"playratio\":1.00,\"action\":\"play\"},{\"type\":\"track\",\"id\":3532614,\"playstart\":1716,\"playtime\":216,\"playratio\":1.01,\"action\":\"play\"},{\"type\":\"track\",\"id\":3532333,\"playstart\":1932,\"playtime\":-1,\"playratio\":null,\"action\":null}]}'"
       ]
      }
     ],
     "prompt_number": 40
    },
    {
     "cell_type": "code",
     "collapsed": false,
     "input": [
      "def readJson(data,field):\n",
      "    return json.loads(data)[field]\n",
      "\n",
      "def parse_events_idomaar(line):\n",
      "    line_split = line.split(\"\\t\")\n",
      "    #print readJson(line_split[4],\"subjects\")\n",
      "    userId = int(readJson(line_split[4],\"subjects\")[0]['id'])\n",
      "    sessionId = int(line_split[1])\n",
      "    trackList = []\n",
      "    for t in readJson(line.split(\"\\t\")[4],\"objects\"):\n",
      "        trackList.append(int(t[\"id\"]) )\n",
      "    return (userId,sessionId),trackList\n",
      "\n",
      "print parse_events_idomaar(batch.first())"
     ],
     "language": "python",
     "metadata": {},
     "outputs": [
      {
       "output_type": "stream",
       "stream": "stdout",
       "text": [
        "((13312, 1979597), [3532358, 3532560, 3532606, 3532372, 3532590, 3532357, 3532619, 3532614, 3532333])\n"
       ]
      }
     ],
     "prompt_number": 41
    },
    {
     "cell_type": "code",
     "collapsed": false,
     "input": [
      "grouped_user_sessions = batch.map(lambda line: parse_events_idomaar(line))\n",
      "gusPerUser = grouped_user_sessions.map(lambda line: aggregateForUser(line))\n",
      "gusPerUserAggregated = gusPerUser.groupByKey()\n",
      "\n",
      "validSessionIds = gusPerUserAggregated.map(lambda x: filterSessionsByJ(computeIntraSessionJaccardOriginalSessionId(x[1], SESSION_JACCARD_SHRINKAGE), CLUSTER_SIMILARITY_THRESHOLD)).collect()\n",
      "\n",
      "validSessions = set()\n",
      "for sessions in validSessionIds:\n",
      "    validSessions.update(sessions)"
     ],
     "language": "python",
     "metadata": {},
     "outputs": [],
     "prompt_number": 42
    },
    {
     "cell_type": "code",
     "collapsed": false,
     "input": [
      "print validSessions"
     ],
     "language": "python",
     "metadata": {},
     "outputs": [
      {
       "output_type": "stream",
       "stream": "stdout",
       "text": [
        "set([1012320, 522913, 1012323, 522916, 976293, 976294, 976295, 2033704, 2033706, 996887, 1376334, 1376336, 996882, 1528500, 1528503, 42468, 42460, 1283741, 1283742])\n"
       ]
      }
     ],
     "prompt_number": 43
    },
    {
     "cell_type": "code",
     "collapsed": false,
     "input": [
      "events_session_filtered = batch.filter(lambda line: int(line.split(\"\\t\")[1]) in validSessions)\n",
      "'''\n",
      "playlists = events_session_filtered.map(lambda line: (1,parse_events_idomaar(line)[1])).groupByKey()\\\n",
      "    .flatMap(lambda x: unrollPlayListAndAssignCounter(x[1]))\n",
      "\n",
      "playlists.persist()\n",
      "print playlists.count()\n",
      "playlists.first()\n",
      "'''"
     ],
     "language": "python",
     "metadata": {},
     "outputs": [
      {
       "metadata": {},
       "output_type": "pyout",
       "prompt_number": 44,
       "text": [
        "'\\nplaylists = events_session_filtered.map(lambda line: (1,parse_events_idomaar(line)[1])).groupByKey()    .flatMap(lambda x: unrollPlayListAndAssignCounter(x[1]))\\n\\nplaylists.persist()\\nprint playlists.count()\\nplaylists.first()\\n'"
       ]
      }
     ],
     "prompt_number": 44
    },
    {
     "cell_type": "code",
     "collapsed": false,
     "input": [
      "def unrollPlaylists(x):\n",
      "    t_list = x[0]\n",
      "    pl_id = x[1]\n",
      "    res = []\n",
      "    for t in t_list:\n",
      "        res.append( ((pl_id,t) ,1) )\n",
      "    return res\n",
      "    \n",
      "    \n",
      "\n",
      "playlists = events_session_filtered.map(lambda line: parse_events_idomaar(line)[1]).zipWithIndex().flatMap(lambda x: unrollPlaylists(x))\n",
      "playlists.take(20)\n"
     ],
     "language": "python",
     "metadata": {},
     "outputs": [
      {
       "metadata": {},
       "output_type": "pyout",
       "prompt_number": 45,
       "text": [
        "[((0, 1069356), 1),\n",
        " ((0, 1068940), 1),\n",
        " ((0, 1069375), 1),\n",
        " ((0, 1069147), 1),\n",
        " ((0, 1069096), 1),\n",
        " ((0, 1069251), 1),\n",
        " ((0, 1069151), 1),\n",
        " ((0, 1069085), 1),\n",
        " ((0, 1069218), 1),\n",
        " ((0, 1068965), 1),\n",
        " ((0, 1069052), 1),\n",
        " ((0, 1069227), 1),\n",
        " ((0, 1069159), 1),\n",
        " ((0, 1069259), 1),\n",
        " ((0, 1069384), 1),\n",
        " ((0, 1069244), 1),\n",
        " ((0, 1069532), 1),\n",
        " ((0, 1068948), 1),\n",
        " ((1, 3770868), 1),\n",
        " ((1, 3770874), 1)]"
       ]
      }
     ],
     "prompt_number": 45
    },
    {
     "cell_type": "code",
     "collapsed": false,
     "input": [
      "'''\n",
      "def unrollPlayListAndAssignCounter2(listOfStrings):\n",
      "    count = 0\n",
      "    resList = []\n",
      "    for pl in listOfStrings:\n",
      "        pl_split = pl.split(\" \")\n",
      "        if len(pl_split) == 0:\n",
      "            continue\n",
      "        pl_id = int(count)\n",
      "        count += 1\n",
      "        \n",
      "        for t in pl_split:\n",
      "            if t is not \" \" and t is not \"\":\n",
      "                resList.append( ((pl_id, int(t)), 1) )\n",
      "    return resList\n",
      "    \n",
      "def unrollPlayList(listOfLists):\n",
      "    resList = []\n",
      "    for pl in listOfLists:\n",
      "        currPl = \"\"\n",
      "        if len(pl) == 0:\n",
      "            continue\n",
      "        for t in pl:\n",
      "            currPl += str(t) + \" \" \n",
      "        resList.append(currPl)\n",
      "    return resList\n",
      "\n",
      "playlistsD = events_session_filtered.map(lambda line: (1,parse_events_idomaar(line)[1])).groupByKey()\\\n",
      "    .flatMap(lambda x: unrollPlayList(x[1])).distinct()\\\n",
      "    .map(lambda x: (1,x)).groupByKey().flatMap(lambda x: unrollPlayListAndAssignCounter2(x[1]))\n",
      "    \n",
      "playlistsD.count()\n",
      "'''"
     ],
     "language": "python",
     "metadata": {},
     "outputs": [
      {
       "metadata": {},
       "output_type": "pyout",
       "prompt_number": 46,
       "text": [
        "'\\ndef unrollPlayListAndAssignCounter2(listOfStrings):\\n    count = 0\\n    resList = []\\n    for pl in listOfStrings:\\n        pl_split = pl.split(\" \")\\n        if len(pl_split) == 0:\\n            continue\\n        pl_id = int(count)\\n        count += 1\\n        \\n        for t in pl_split:\\n            if t is not \" \" and t is not \"\":\\n                resList.append( ((pl_id, int(t)), 1) )\\n    return resList\\n    \\ndef unrollPlayList(listOfLists):\\n    resList = []\\n    for pl in listOfLists:\\n        currPl = \"\"\\n        if len(pl) == 0:\\n            continue\\n        for t in pl:\\n            currPl += str(t) + \" \" \\n        resList.append(currPl)\\n    return resList\\n\\nplaylistsD = events_session_filtered.map(lambda line: (1,parse_events_idomaar(line)[1])).groupByKey()    .flatMap(lambda x: unrollPlayList(x[1])).distinct()    .map(lambda x: (1,x)).groupByKey().flatMap(lambda x: unrollPlayListAndAssignCounter2(x[1]))\\n    \\nplaylistsD.count()\\n'"
       ]
      }
     ],
     "prompt_number": 46
    },
    {
     "cell_type": "code",
     "collapsed": false,
     "input": [
      "nplaylists = playlists.map(lambda x: x[0]).distinct().count()\n",
      "print \"Num.playlists: \", nplaylists"
     ],
     "language": "python",
     "metadata": {},
     "outputs": [
      {
       "output_type": "stream",
       "stream": "stdout",
       "text": [
        "Num.playlists:  390\n"
       ]
      }
     ],
     "prompt_number": 47
    },
    {
     "cell_type": "code",
     "collapsed": false,
     "input": [
      "playlists.take(10)"
     ],
     "language": "python",
     "metadata": {},
     "outputs": [
      {
       "metadata": {},
       "output_type": "pyout",
       "prompt_number": 48,
       "text": [
        "[((0, 1069356), 1),\n",
        " ((0, 1068940), 1),\n",
        " ((0, 1069375), 1),\n",
        " ((0, 1069147), 1),\n",
        " ((0, 1069096), 1),\n",
        " ((0, 1069251), 1),\n",
        " ((0, 1069151), 1),\n",
        " ((0, 1069085), 1),\n",
        " ((0, 1069218), 1),\n",
        " ((0, 1068965), 1)]"
       ]
      }
     ],
     "prompt_number": 48
    },
    {
     "cell_type": "heading",
     "level": 1,
     "metadata": {},
     "source": [
      "User-Playlist Matrix Generation"
     ]
    },
    {
     "cell_type": "code",
     "collapsed": false,
     "input": [
      "userPlaylistRDD = matmul_join(userTrackCountRDD, playlists)"
     ],
     "language": "python",
     "metadata": {},
     "outputs": [],
     "prompt_number": 49
    },
    {
     "cell_type": "code",
     "collapsed": false,
     "input": [
      "userPlaylistRDD.count()"
     ],
     "language": "python",
     "metadata": {},
     "outputs": [
      {
       "metadata": {},
       "output_type": "pyout",
       "prompt_number": 50,
       "text": [
        "46"
       ]
      }
     ],
     "prompt_number": 50
    },
    {
     "cell_type": "code",
     "collapsed": false,
     "input": [
      "nusers = userPlaylistRDD.map(lambda x:x[0][0]).distinct().count()\n",
      "nplaylists = userPlaylistRDD.map(lambda x:x[0][1]).distinct().count()\n",
      "print 'Num.users: ', nusers\n",
      "print 'Num.playlists: ', nplaylists"
     ],
     "language": "python",
     "metadata": {},
     "outputs": [
      {
       "output_type": "stream",
       "stream": "stdout",
       "text": [
        "Num.users:  24\n",
        "Num.playlists:  19\n"
       ]
      }
     ],
     "prompt_number": 51
    },
    {
     "cell_type": "heading",
     "level": 1,
     "metadata": {},
     "source": [
      "UserSession-Playlist Profile"
     ]
    },
    {
     "cell_type": "code",
     "collapsed": false,
     "input": [
      "testOnline.first()"
     ],
     "language": "python",
     "metadata": {},
     "outputs": [
      {
       "metadata": {},
       "output_type": "pyout",
       "prompt_number": 52,
       "text": [
        "u'recommend\\t2735206\\t1416342695\\t{}\\t[{\"subjects\":[{\"type\": \"user\", \"id\": 33280}],\"object\":[{\"playratio\": 0.6, \"playstart\": 0, \"action\": \"play\", \"playtime\": 117, \"type\": \"track\", \"id\": 26735}, {\"playratio\": 1.01, \"playstart\": 117, \"action\": \"play\", \"playtime\": 131, \"type\": \"track\", \"id\": 26845}, {\"playratio\": 1.0, \"playstart\": 248, \"action\": \"play\", \"playtime\": 166, \"type\": \"track\", \"id\": 27067}, {\"playratio\": 1.01, \"playstart\": 414, \"action\": \"play\", \"playtime\": 137, \"type\": \"track\", \"id\": 27190}, {\"playratio\": 1.0, \"playstart\": 551, \"action\": \"play\", \"playtime\": 166, \"type\": \"track\", \"id\": 27323}, {\"playratio\": 3.92, \"playstart\": 717, \"action\": \"play\", \"playtime\": 729, \"type\": \"track\", \"id\": 27513}]}]'"
       ]
      }
     ],
     "prompt_number": 52
    },
    {
     "cell_type": "code",
     "collapsed": false,
     "input": [
      "def decay(tracks, factor=.5):\n",
      "    w = 1\n",
      "    l = list()\n",
      "    user_session = tracks[0]\n",
      "    print tracks[1][0]['object']\n",
      "    for t in tracks[1][0]['object'][::-1]:\n",
      "        track_id = t['id']\n",
      "        l.append(((user_session, track_id), w))\n",
      "        w *= factor\n",
      "    return l \n",
      "\n",
      "#(((userid, sessionid), trackid), weight)\n",
      "sessionTrackRDD = testOnline.map(lambda x: x.split('\\t'))\\\n",
      "    .map(lambda x:((json.loads(x[4])[0]['subjects'][0]['id'], int(x[1])), json.loads(x[4])))\\\n",
      "    .flatMap(lambda x:decay(x, EXP_DECAY_FACTOR))\n",
      "print '(((userid, sessionid), trackid), weight)'\n",
      "sessionTrackRDD.take(10)"
     ],
     "language": "python",
     "metadata": {},
     "outputs": [
      {
       "output_type": "stream",
       "stream": "stdout",
       "text": [
        "(((userid, sessionid), trackid), weight)\n"
       ]
      },
      {
       "metadata": {},
       "output_type": "pyout",
       "prompt_number": 54,
       "text": [
        "[(((33280, 2735206), 27513), 1),\n",
        " (((33280, 2735206), 27323), 0.5),\n",
        " (((33280, 2735206), 27190), 0.25),\n",
        " (((33280, 2735206), 27067), 0.125),\n",
        " (((33280, 2735206), 26845), 0.0625),\n",
        " (((33280, 2735206), 26735), 0.03125),\n",
        " (((29200, 2024728), 3197013), 1),\n",
        " (((29200, 2024728), 3197014), 0.5),\n",
        " (((29200, 2024728), 3842093), 0.25),\n",
        " (((29200, 2024728), 3175905), 0.125)]"
       ]
      }
     ],
     "prompt_number": 54
    },
    {
     "cell_type": "code",
     "collapsed": false,
     "input": [
      "playlists.take(100)"
     ],
     "language": "python",
     "metadata": {},
     "outputs": [
      {
       "metadata": {},
       "output_type": "pyout",
       "prompt_number": 58,
       "text": [
        "[((0, 1069356), 1),\n",
        " ((0, 1068940), 1),\n",
        " ((0, 1069375), 1),\n",
        " ((0, 1069147), 1),\n",
        " ((0, 1069096), 1),\n",
        " ((0, 1069251), 1),\n",
        " ((0, 1069151), 1),\n",
        " ((0, 1069085), 1),\n",
        " ((0, 1069218), 1),\n",
        " ((0, 1068965), 1),\n",
        " ((0, 1069052), 1),\n",
        " ((0, 1069227), 1),\n",
        " ((0, 1069159), 1),\n",
        " ((0, 1069259), 1),\n",
        " ((0, 1069384), 1),\n",
        " ((0, 1069244), 1),\n",
        " ((0, 1069532), 1),\n",
        " ((0, 1068948), 1),\n",
        " ((1, 3770868), 1),\n",
        " ((1, 3770874), 1),\n",
        " ((1, 375667), 1),\n",
        " ((1, 3770860), 1),\n",
        " ((1, 1069058), 1),\n",
        " ((1, 1069356), 1),\n",
        " ((1, 1068940), 1),\n",
        " ((1, 1069375), 1),\n",
        " ((1, 1069147), 1),\n",
        " ((1, 1069096), 1),\n",
        " ((1, 1069251), 1),\n",
        " ((1, 1069151), 1),\n",
        " ((1, 1069085), 1),\n",
        " ((1, 1069218), 1),\n",
        " ((1, 1068965), 1),\n",
        " ((1, 1069052), 1),\n",
        " ((1, 1069227), 1),\n",
        " ((1, 1069159), 1),\n",
        " ((1, 1069259), 1),\n",
        " ((1, 1069384), 1),\n",
        " ((1, 1069244), 1),\n",
        " ((1, 1069532), 1),\n",
        " ((1, 1068948), 1),\n",
        " ((2, 2402620), 1),\n",
        " ((2, 2402609), 1),\n",
        " ((2, 2402617), 1),\n",
        " ((2, 2402606), 1),\n",
        " ((2, 2402613), 1),\n",
        " ((2, 2402614), 1),\n",
        " ((2, 2402604), 1),\n",
        " ((2, 2402612), 1),\n",
        " ((2, 2402610), 1),\n",
        " ((2, 2402621), 1),\n",
        " ((2, 2402623), 1),\n",
        " ((2, 2402616), 1),\n",
        " ((2, 2402603), 1),\n",
        " ((2, 2402615), 1),\n",
        " ((3, 2402606), 1),\n",
        " ((3, 2402613), 1),\n",
        " ((3, 2402614), 1),\n",
        " ((3, 2402604), 1),\n",
        " ((3, 2402612), 1),\n",
        " ((3, 2402610), 1),\n",
        " ((3, 2402621), 1),\n",
        " ((3, 2402623), 1),\n",
        " ((3, 2402616), 1),\n",
        " ((3, 2402603), 1),\n",
        " ((3, 2402615), 1),\n",
        " ((4, 3579634), 1),\n",
        " ((4, 2830200), 1),\n",
        " ((4, 2830195), 1),\n",
        " ((4, 2830201), 1),\n",
        " ((4, 2830205), 1),\n",
        " ((4, 2830202), 1),\n",
        " ((4, 2830197), 1),\n",
        " ((4, 2830206), 1),\n",
        " ((4, 2830204), 1),\n",
        " ((4, 2830192), 1),\n",
        " ((4, 2830193), 1),\n",
        " ((4, 2830207), 1),\n",
        " ((4, 2830198), 1),\n",
        " ((4, 2830203), 1),\n",
        " ((4, 2830208), 1),\n",
        " ((5, 2830204), 1),\n",
        " ((5, 2830193), 1),\n",
        " ((5, 2830197), 1),\n",
        " ((5, 2830206), 1),\n",
        " ((5, 2830200), 1),\n",
        " ((5, 2830208), 1),\n",
        " ((5, 2830207), 1),\n",
        " ((5, 2830205), 1),\n",
        " ((5, 2830201), 1),\n",
        " ((5, 2830192), 1),\n",
        " ((5, 2830198), 1),\n",
        " ((5, 2830203), 1),\n",
        " ((5, 2830202), 1),\n",
        " ((5, 2830195), 1),\n",
        " ((6, 1231425), 1),\n",
        " ((6, 1230900), 1),\n",
        " ((6, 1229387), 1),\n",
        " ((6, 1229588), 1),\n",
        " ((6, 1229585), 1)]"
       ]
      }
     ],
     "prompt_number": 58
    },
    {
     "cell_type": "code",
     "collapsed": false,
     "input": [
      "sessionPlaylistRDD = matmul_join(sessionTrackRDD, playlists)\n",
      "sessionPlaylistRDD.persist()\n",
      "sessionPlaylistRDD.first()"
     ],
     "language": "python",
     "metadata": {},
     "outputs": [
      {
       "metadata": {},
       "output_type": "pyout",
       "prompt_number": 55,
       "text": [
        "(((41015, 385751), 18), 0.25)"
       ]
      }
     ],
     "prompt_number": 55
    },
    {
     "cell_type": "code",
     "collapsed": false,
     "input": [
      "sessionPlaylistRDD.take(10)"
     ],
     "language": "python",
     "metadata": {},
     "outputs": [
      {
       "metadata": {},
       "output_type": "pyout",
       "prompt_number": 56,
       "text": [
        "[(((41015, 385751), 18), 0.25),\n",
        " (((32624, 2033706), 2), 1.96875),\n",
        " (((32003, 1283742), 4), 1.96875),\n",
        " (((36283, 996882), 8), 3.6875),\n",
        " (((31637, 976294), 11), 3.5625),\n",
        " (((36283, 996887), 8), 3.9375),\n",
        " (((31637, 976293), 12), 3.9375),\n",
        " (((19390, 1376334), 17), 1.96875),\n",
        " (((41015, 385751), 17), 0.25),\n",
        " (((31637, 976295), 11), 3.5625)]"
       ]
      }
     ],
     "prompt_number": 56
    },
    {
     "cell_type": "heading",
     "level": 1,
     "metadata": {},
     "source": [
      "userProfile * PlaylistSimilarityMatrix"
     ]
    },
    {
     "cell_type": "code",
     "collapsed": false,
     "input": [
      "predictedPlaylistRDD = sessionPlaylistRDD\n",
      "predictedPlaylistRDD.take(20)"
     ],
     "language": "python",
     "metadata": {},
     "outputs": [
      {
       "metadata": {},
       "output_type": "pyout",
       "prompt_number": 61,
       "text": [
        "[(((41015, 385751), 18), 0.25),\n",
        " (((32624, 2033706), 2), 1.96875),\n",
        " (((32003, 1283742), 4), 1.96875),\n",
        " (((36283, 996882), 8), 3.6875),\n",
        " (((31637, 976294), 11), 3.5625),\n",
        " (((36283, 996887), 8), 3.9375),\n",
        " (((31637, 976293), 12), 3.9375),\n",
        " (((19390, 1376334), 17), 1.96875),\n",
        " (((41015, 385751), 17), 0.25),\n",
        " (((31637, 976295), 11), 3.5625),\n",
        " (((29350, 1898301), 8), 0.5),\n",
        " (((9267, 1038905), 9), 1.34375),\n",
        " (((17000, 522912), 1), 1.96875),\n",
        " (((17000, 522912), 0), 1.9375),\n",
        " (((9267, 1038905), 8), 1.46875),\n",
        " (((9267, 1038903), 9), 2.75),\n",
        " (((36283, 996882), 9), 6.5625),\n",
        " (((32003, 1283742), 5), 1.9375),\n",
        " (((17000, 522913), 0), 1),\n",
        " (((40250, 264863), 8), 2.6875)]"
       ]
      }
     ],
     "prompt_number": 61
    },
    {
     "cell_type": "code",
     "collapsed": false,
     "input": [
      "playlistTracksRDD = playlists.map(lambda x:(x[0][0], x[0][1])).groupByKey()\n",
      "playlistTracksRDD.first()"
     ],
     "language": "python",
     "metadata": {},
     "outputs": [
      {
       "metadata": {},
       "output_type": "pyout",
       "prompt_number": 62,
       "text": [
        "(0, <pyspark.resultiterable.ResultIterable at 0x7f6ea8316c90>)"
       ]
      }
     ],
     "prompt_number": 62
    },
    {
     "cell_type": "code",
     "collapsed": false,
     "input": [
      "# maps playlist id to its tracks\n",
      "predictedTracksRDD = predictedPlaylistRDD.map(lambda x: (x[0][1], (x[0][0], x[1])))\\\n",
      "    .join(playlistTracksRDD).map(lambda x: ((x[1][0][0], x[1][1]), x[1][0][1]))"
     ],
     "language": "python",
     "metadata": {},
     "outputs": [],
     "prompt_number": 63
    },
    {
     "cell_type": "code",
     "collapsed": false,
     "input": [
      "predictedTracksRDD.first()"
     ],
     "language": "python",
     "metadata": {},
     "outputs": [
      {
       "metadata": {},
       "output_type": "pyout",
       "prompt_number": 64,
       "text": [
        "(((17000, 522912), <pyspark.resultiterable.ResultIterable at 0x7f6ea83f5e90>),\n",
        " 1.9375)"
       ]
      }
     ],
     "prompt_number": 64
    },
    {
     "cell_type": "code",
     "collapsed": false,
     "input": [
      "#computes the recommendation list, by picking the first N tracks from the top scored playlists\n",
      "def bestTracks(pl_rec,excluded_tracks, N=100):\n",
      "    excluded_tracks_set = set(excluded_tracks)\n",
      "    l = list(pl_rec)\n",
      "    l.sort(key=lambda x:float(x[1]), reverse=True)\n",
      "    resList = []\n",
      "    rank = 0\n",
      "    for i in l:\n",
      "        tracks = []\n",
      "        for t in i[0]:\n",
      "            if t not in excluded_tracks_set:\n",
      "                tracks.append((t, rank))\n",
      "                rank += 1\n",
      "        resList.extend(tracks)\n",
      "        if len(resList) >= N:\n",
      "            break\n",
      "    return resList[0:N]\n",
      "\n",
      "\n",
      "sessionPlaylistWeightedRDD = predictedTracksRDD.map(lambda x:(x[0][0],(x[0][1], x[1]))).groupByKey()\n",
      "print sessionPlaylistWeightedRDD.first()\n",
      "predictedTraksWithProfile = sessionTrackRDD.map(lambda x: x[0]).groupByKey().join(sessionPlaylistWeightedRDD)\n",
      "print predictedTraksWithProfile.first()\n",
      "\n",
      "EXCLUDE_ALREADY_LISTENED = 0\n",
      "if EXCLUDE_ALREADY_LISTENED != 0:\n",
      "    predictedTracks = predictedTraksWithProfile.map(lambda x:(x[0], bestTracks(x[1][1],x[1][0], REC_LIST_SIZE)))\n",
      "else:\n",
      "    predictedTracks = predictedTraksWithProfile.map(lambda x:(x[0], bestTracks(x[1][1],[], REC_LIST_SIZE)))\n",
      "print predictedTracks.first()\n"
     ],
     "language": "python",
     "metadata": {},
     "outputs": [
      {
       "output_type": "stream",
       "stream": "stdout",
       "text": [
        "((36283, 996887), <pyspark.resultiterable.ResultIterable object at 0x7f6ea8306590>)\n",
        "((31637, 976294), (<pyspark.resultiterable.ResultIterable object at 0x7f6ea82c3650>, <pyspark.resultiterable.ResultIterable object at 0x7f6ea82c3690>))"
       ]
      },
      {
       "output_type": "stream",
       "stream": "stdout",
       "text": [
        "\n",
        "((31637, 976294), [(3621845, 0), (3621840, 1), (3621851, 2), (3621855, 3), (3621858, 4), (3621830, 5), (3621853, 6), (3621828, 7), (3621841, 8), (3621827, 9), (3621845, 10), (3621840, 11), (3621851, 12), (3621855, 13), (3621858, 14), (3621830, 15), (3621853, 16), (3621828, 17), (3621841, 18), (3621827, 19), (3621845, 20), (3621858, 21), (3621853, 22), (3621828, 23), (3621850, 24), (3621841, 25), (3621857, 26), (3621848, 27), (3621835, 28), (3621827, 29), (3621834, 30), (3621838, 31), (3621836, 32), (3621840, 33), (3621851, 34), (3621855, 35), (3621858, 36), (3621830, 37), (3621853, 38), (3621828, 39), (3621841, 40), (3621827, 41), (3621845, 42), (3621840, 43), (3621851, 44), (3621855, 45), (3621858, 46), (3621830, 47), (3621853, 48), (3621828, 49), (3621841, 50), (3621827, 51), (3621845, 52), (3621858, 53), (3621853, 54), (3621828, 55), (3621850, 56), (3621841, 57), (3621857, 58), (3621848, 59), (3621835, 60), (3621827, 61), (3621834, 62), (3621838, 63), (3621836, 64), (3621837, 65), (3621830, 66), (3621840, 67), (3621849, 68), (3621846, 69), (3621847, 70), (3621829, 71), (3621826, 72), (3621854, 73), (3621842, 74), (3621839, 75), (3621855, 76), (3621851, 77), (3621852, 78), (3621843, 79), (3621856, 80), (3621833, 81), (3621845, 82), (3621840, 83), (3621851, 84), (3621855, 85), (3621858, 86), (3621830, 87), (3621853, 88), (3621828, 89), (3621841, 90), (3621827, 91), (3621845, 92), (3621858, 93), (3621853, 94), (3621828, 95), (3621850, 96), (3621841, 97), (3621857, 98), (3621848, 99)])"
       ]
      },
      {
       "output_type": "stream",
       "stream": "stdout",
       "text": [
        "\n"
       ]
      }
     ],
     "prompt_number": 72
    },
    {
     "cell_type": "code",
     "collapsed": false,
     "input": [
      "#convert the recommended tracks into the required JSON format\n",
      "def recToJson(x):\n",
      "    sep = \"\\t\"\n",
      "    res = \"recommendation\" + sep\n",
      "    res += str(x[0][1]) + sep + \"-1\" + sep + \"{}\" + sep + '{\"objects\":['\n",
      "    trlist = ['{\"type\": \"track\", \"id\": %i, \"rank\": %i}' % (t[0],t[1]) for t in x[1]]\n",
      "    res += \",\".join(trlist)\n",
      "    res += \"]}\"\n",
      "    return res\n",
      "recJsonRDD = predictedTracks.map(lambda x: recToJson(x))"
     ],
     "language": "python",
     "metadata": {},
     "outputs": [],
     "prompt_number": 66
    },
    {
     "cell_type": "code",
     "collapsed": false,
     "input": [
      "recJsonRDD.take(10)"
     ],
     "language": "python",
     "metadata": {},
     "outputs": [
      {
       "metadata": {},
       "output_type": "pyout",
       "prompt_number": 57,
       "text": [
        "['recommendation\\t1038903\\t-1\\t{}\\t{\"objects\":[{\"type\": \"track\", \"id\": 2640029, \"rank\": 0},{\"type\": \"track\", \"id\": 2640050, \"rank\": 1},{\"type\": \"track\", \"id\": 2640050, \"rank\": 2},{\"type\": \"track\", \"id\": 2639961, \"rank\": 3},{\"type\": \"track\", \"id\": 2639995, \"rank\": 4},{\"type\": \"track\", \"id\": 2640029, \"rank\": 5},{\"type\": \"track\", \"id\": 2639961, \"rank\": 6},{\"type\": \"track\", \"id\": 2639961, \"rank\": 7},{\"type\": \"track\", \"id\": 2639995, \"rank\": 8},{\"type\": \"track\", \"id\": 2639995, \"rank\": 9},{\"type\": \"track\", \"id\": 2640029, \"rank\": 10}]}',\n",
        " 'recommendation\\t1038909\\t-1\\t{}\\t{\"objects\":[{\"type\": \"track\", \"id\": 2640029, \"rank\": 0},{\"type\": \"track\", \"id\": 2640050, \"rank\": 1},{\"type\": \"track\", \"id\": 2640050, \"rank\": 2},{\"type\": \"track\", \"id\": 2639966, \"rank\": 3},{\"type\": \"track\", \"id\": 2639966, \"rank\": 4},{\"type\": \"track\", \"id\": 2640047, \"rank\": 5},{\"type\": \"track\", \"id\": 2640047, \"rank\": 6},{\"type\": \"track\", \"id\": 2639850, \"rank\": 7},{\"type\": \"track\", \"id\": 2639990, \"rank\": 8},{\"type\": \"track\", \"id\": 2639990, \"rank\": 9},{\"type\": \"track\", \"id\": 2640035, \"rank\": 10},{\"type\": \"track\", \"id\": 2639961, \"rank\": 11},{\"type\": \"track\", \"id\": 2639995, \"rank\": 12},{\"type\": \"track\", \"id\": 2640029, \"rank\": 13},{\"type\": \"track\", \"id\": 2639966, \"rank\": 14},{\"type\": \"track\", \"id\": 2639966, \"rank\": 15},{\"type\": \"track\", \"id\": 2640047, \"rank\": 16},{\"type\": \"track\", \"id\": 2639850, \"rank\": 17},{\"type\": \"track\", \"id\": 2639990, \"rank\": 18},{\"type\": \"track\", \"id\": 2639990, \"rank\": 19},{\"type\": \"track\", \"id\": 2639990, \"rank\": 20},{\"type\": \"track\", \"id\": 2639990, \"rank\": 21},{\"type\": \"track\", \"id\": 2640035, \"rank\": 22},{\"type\": \"track\", \"id\": 2639961, \"rank\": 23},{\"type\": \"track\", \"id\": 2639961, \"rank\": 24},{\"type\": \"track\", \"id\": 2639995, \"rank\": 25},{\"type\": \"track\", \"id\": 2639995, \"rank\": 26},{\"type\": \"track\", \"id\": 2640029, \"rank\": 27}]}',\n",
        " 'recommendation\\t1376334\\t-1\\t{}\\t{\"objects\":[{\"type\": \"track\", \"id\": 3436332, \"rank\": 0},{\"type\": \"track\", \"id\": 1397370, \"rank\": 1},{\"type\": \"track\", \"id\": 940315, \"rank\": 2},{\"type\": \"track\", \"id\": 2500406, \"rank\": 3},{\"type\": \"track\", \"id\": 1735619, \"rank\": 4},{\"type\": \"track\", \"id\": 230669, \"rank\": 5},{\"type\": \"track\", \"id\": 1914417, \"rank\": 6},{\"type\": \"track\", \"id\": 852220, \"rank\": 7},{\"type\": \"track\", \"id\": 2240049, \"rank\": 8},{\"type\": \"track\", \"id\": 1801075, \"rank\": 9},{\"type\": \"track\", \"id\": 2794893, \"rank\": 10},{\"type\": \"track\", \"id\": 2340855, \"rank\": 11},{\"type\": \"track\", \"id\": 1681676, \"rank\": 12},{\"type\": \"track\", \"id\": 1155597, \"rank\": 13},{\"type\": \"track\", \"id\": 3436389, \"rank\": 14},{\"type\": \"track\", \"id\": 1397306, \"rank\": 15},{\"type\": \"track\", \"id\": 1596523, \"rank\": 16},{\"type\": \"track\", \"id\": 2090289, \"rank\": 17},{\"type\": \"track\", \"id\": 1384932, \"rank\": 18},{\"type\": \"track\", \"id\": 852217, \"rank\": 19},{\"type\": \"track\", \"id\": 3381250, \"rank\": 20},{\"type\": \"track\", \"id\": 475138, \"rank\": 21},{\"type\": \"track\", \"id\": 3431439, \"rank\": 22},{\"type\": \"track\", \"id\": 1397346, \"rank\": 23},{\"type\": \"track\", \"id\": 1171821, \"rank\": 24},{\"type\": \"track\", \"id\": 2239983, \"rank\": 25},{\"type\": \"track\", \"id\": 134859, \"rank\": 26},{\"type\": \"track\", \"id\": 2420764, \"rank\": 27},{\"type\": \"track\", \"id\": 852219, \"rank\": 28},{\"type\": \"track\", \"id\": 519982, \"rank\": 29},{\"type\": \"track\", \"id\": 1735484, \"rank\": 30},{\"type\": \"track\", \"id\": 717236, \"rank\": 31},{\"type\": \"track\", \"id\": 1397280, \"rank\": 32},{\"type\": \"track\", \"id\": 2239934, \"rank\": 33},{\"type\": \"track\", \"id\": 84356, \"rank\": 34},{\"type\": \"track\", \"id\": 1486357, \"rank\": 35},{\"type\": \"track\", \"id\": 668031, \"rank\": 36},{\"type\": \"track\", \"id\": 852218, \"rank\": 37},{\"type\": \"track\", \"id\": 3543338, \"rank\": 38},{\"type\": \"track\", \"id\": 1397364, \"rank\": 39},{\"type\": \"track\", \"id\": 3436257, \"rank\": 40},{\"type\": \"track\", \"id\": 3160000, \"rank\": 41},{\"type\": \"track\", \"id\": 3437182, \"rank\": 42},{\"type\": \"track\", \"id\": 852224, \"rank\": 43},{\"type\": \"track\", \"id\": 2997744, \"rank\": 44},{\"type\": \"track\", \"id\": 3130066, \"rank\": 45},{\"type\": \"track\", \"id\": 2239959, \"rank\": 46},{\"type\": \"track\", \"id\": 1681807, \"rank\": 47},{\"type\": \"track\", \"id\": 2794813, \"rank\": 48},{\"type\": \"track\", \"id\": 3858213, \"rank\": 49},{\"type\": \"track\", \"id\": 1397247, \"rank\": 50},{\"type\": \"track\", \"id\": 1819217, \"rank\": 51},{\"type\": \"track\", \"id\": 3436266, \"rank\": 52},{\"type\": \"track\", \"id\": 2340871, \"rank\": 53},{\"type\": \"track\", \"id\": 852221, \"rank\": 54},{\"type\": \"track\", \"id\": 519990, \"rank\": 55},{\"type\": \"track\", \"id\": 1523075, \"rank\": 56},{\"type\": \"track\", \"id\": 852225, \"rank\": 57},{\"type\": \"track\", \"id\": 1397289, \"rank\": 58},{\"type\": \"track\", \"id\": 3436235, \"rank\": 59},{\"type\": \"track\", \"id\": 2682059, \"rank\": 60},{\"type\": \"track\", \"id\": 3381068, \"rank\": 61},{\"type\": \"track\", \"id\": 3530867, \"rank\": 62},{\"type\": \"track\", \"id\": 504880, \"rank\": 63},{\"type\": \"track\", \"id\": 1378455, \"rank\": 64},{\"type\": \"track\", \"id\": 1157837, \"rank\": 65},{\"type\": \"track\", \"id\": 3543459, \"rank\": 66},{\"type\": \"track\", \"id\": 2240044, \"rank\": 67},{\"type\": \"track\", \"id\": 3464185, \"rank\": 68},{\"type\": \"track\", \"id\": 852222, \"rank\": 69},{\"type\": \"track\", \"id\": 2256144, \"rank\": 70},{\"type\": \"track\", \"id\": 1397253, \"rank\": 71},{\"type\": \"track\", \"id\": 3436246, \"rank\": 72},{\"type\": \"track\", \"id\": 3112898, \"rank\": 73}]}',\n",
        " 'recommendation\\t1469606\\t-1\\t{}\\t{\"objects\":[{\"type\": \"track\", \"id\": 1068940, \"rank\": 0},{\"type\": \"track\", \"id\": 1069375, \"rank\": 1},{\"type\": \"track\", \"id\": 1069147, \"rank\": 2},{\"type\": \"track\", \"id\": 1069096, \"rank\": 3},{\"type\": \"track\", \"id\": 1069251, \"rank\": 4},{\"type\": \"track\", \"id\": 1069151, \"rank\": 5},{\"type\": \"track\", \"id\": 1069085, \"rank\": 6},{\"type\": \"track\", \"id\": 1069218, \"rank\": 7},{\"type\": \"track\", \"id\": 1068965, \"rank\": 8},{\"type\": \"track\", \"id\": 1069052, \"rank\": 9},{\"type\": \"track\", \"id\": 1069227, \"rank\": 10},{\"type\": \"track\", \"id\": 1069159, \"rank\": 11},{\"type\": \"track\", \"id\": 1069259, \"rank\": 12},{\"type\": \"track\", \"id\": 1069384, \"rank\": 13},{\"type\": \"track\", \"id\": 1069244, \"rank\": 14},{\"type\": \"track\", \"id\": 1069532, \"rank\": 15},{\"type\": \"track\", \"id\": 1068948, \"rank\": 16},{\"type\": \"track\", \"id\": 3770868, \"rank\": 17},{\"type\": \"track\", \"id\": 3770874, \"rank\": 18},{\"type\": \"track\", \"id\": 375667, \"rank\": 19},{\"type\": \"track\", \"id\": 3770860, \"rank\": 20},{\"type\": \"track\", \"id\": 1069058, \"rank\": 21},{\"type\": \"track\", \"id\": 1068940, \"rank\": 22},{\"type\": \"track\", \"id\": 1069375, \"rank\": 23},{\"type\": \"track\", \"id\": 1069147, \"rank\": 24},{\"type\": \"track\", \"id\": 1069096, \"rank\": 25},{\"type\": \"track\", \"id\": 1069251, \"rank\": 26},{\"type\": \"track\", \"id\": 1069151, \"rank\": 27},{\"type\": \"track\", \"id\": 1069085, \"rank\": 28},{\"type\": \"track\", \"id\": 1069218, \"rank\": 29},{\"type\": \"track\", \"id\": 1068965, \"rank\": 30},{\"type\": \"track\", \"id\": 1069052, \"rank\": 31},{\"type\": \"track\", \"id\": 1069227, \"rank\": 32},{\"type\": \"track\", \"id\": 1069159, \"rank\": 33},{\"type\": \"track\", \"id\": 1069259, \"rank\": 34},{\"type\": \"track\", \"id\": 1069384, \"rank\": 35},{\"type\": \"track\", \"id\": 1069244, \"rank\": 36},{\"type\": \"track\", \"id\": 1069532, \"rank\": 37},{\"type\": \"track\", \"id\": 1068948, \"rank\": 38}]}',\n",
        " 'recommendation\\t522916\\t-1\\t{}\\t{\"objects\":[{\"type\": \"track\", \"id\": 1069151, \"rank\": 0},{\"type\": \"track\", \"id\": 1069085, \"rank\": 1},{\"type\": \"track\", \"id\": 1069218, \"rank\": 2},{\"type\": \"track\", \"id\": 1068965, \"rank\": 3},{\"type\": \"track\", \"id\": 1069052, \"rank\": 4},{\"type\": \"track\", \"id\": 1069227, \"rank\": 5},{\"type\": \"track\", \"id\": 1069159, \"rank\": 6},{\"type\": \"track\", \"id\": 1069259, \"rank\": 7},{\"type\": \"track\", \"id\": 1069384, \"rank\": 8},{\"type\": \"track\", \"id\": 1069244, \"rank\": 9},{\"type\": \"track\", \"id\": 1069532, \"rank\": 10},{\"type\": \"track\", \"id\": 1068948, \"rank\": 11},{\"type\": \"track\", \"id\": 3770868, \"rank\": 12},{\"type\": \"track\", \"id\": 3770874, \"rank\": 13},{\"type\": \"track\", \"id\": 375667, \"rank\": 14},{\"type\": \"track\", \"id\": 3770860, \"rank\": 15},{\"type\": \"track\", \"id\": 1069058, \"rank\": 16},{\"type\": \"track\", \"id\": 1069151, \"rank\": 17},{\"type\": \"track\", \"id\": 1069085, \"rank\": 18},{\"type\": \"track\", \"id\": 1069218, \"rank\": 19},{\"type\": \"track\", \"id\": 1068965, \"rank\": 20},{\"type\": \"track\", \"id\": 1069052, \"rank\": 21},{\"type\": \"track\", \"id\": 1069227, \"rank\": 22},{\"type\": \"track\", \"id\": 1069159, \"rank\": 23},{\"type\": \"track\", \"id\": 1069259, \"rank\": 24},{\"type\": \"track\", \"id\": 1069384, \"rank\": 25},{\"type\": \"track\", \"id\": 1069244, \"rank\": 26},{\"type\": \"track\", \"id\": 1069532, \"rank\": 27},{\"type\": \"track\", \"id\": 1068948, \"rank\": 28}]}',\n",
        " 'recommendation\\t264863\\t-1\\t{}\\t{\"objects\":[{\"type\": \"track\", \"id\": 2640029, \"rank\": 0},{\"type\": \"track\", \"id\": 2640132, \"rank\": 1},{\"type\": \"track\", \"id\": 2639961, \"rank\": 2},{\"type\": \"track\", \"id\": 2639995, \"rank\": 3},{\"type\": \"track\", \"id\": 2640029, \"rank\": 4},{\"type\": \"track\", \"id\": 2640132, \"rank\": 5},{\"type\": \"track\", \"id\": 2639961, \"rank\": 6},{\"type\": \"track\", \"id\": 2639961, \"rank\": 7},{\"type\": \"track\", \"id\": 2639995, \"rank\": 8},{\"type\": \"track\", \"id\": 2639995, \"rank\": 9},{\"type\": \"track\", \"id\": 2640029, \"rank\": 10}]}',\n",
        " 'recommendation\\t2033704\\t-1\\t{}\\t{\"objects\":[{\"type\": \"track\", \"id\": 2402604, \"rank\": 0},{\"type\": \"track\", \"id\": 2402612, \"rank\": 1},{\"type\": \"track\", \"id\": 2402610, \"rank\": 2},{\"type\": \"track\", \"id\": 2402621, \"rank\": 3},{\"type\": \"track\", \"id\": 2402623, \"rank\": 4},{\"type\": \"track\", \"id\": 2402616, \"rank\": 5},{\"type\": \"track\", \"id\": 2402603, \"rank\": 6},{\"type\": \"track\", \"id\": 2402615, \"rank\": 7},{\"type\": \"track\", \"id\": 2402604, \"rank\": 8},{\"type\": \"track\", \"id\": 2402612, \"rank\": 9},{\"type\": \"track\", \"id\": 2402610, \"rank\": 10},{\"type\": \"track\", \"id\": 2402621, \"rank\": 11},{\"type\": \"track\", \"id\": 2402623, \"rank\": 12},{\"type\": \"track\", \"id\": 2402616, \"rank\": 13},{\"type\": \"track\", \"id\": 2402603, \"rank\": 14},{\"type\": \"track\", \"id\": 2402615, \"rank\": 15}]}',\n",
        " 'recommendation\\t996887\\t-1\\t{}\\t{\"objects\":[{\"type\": \"track\", \"id\": 2639850, \"rank\": 0},{\"type\": \"track\", \"id\": 2639990, \"rank\": 1},{\"type\": \"track\", \"id\": 2639990, \"rank\": 2},{\"type\": \"track\", \"id\": 2639990, \"rank\": 3},{\"type\": \"track\", \"id\": 2639990, \"rank\": 4},{\"type\": \"track\", \"id\": 2640035, \"rank\": 5},{\"type\": \"track\", \"id\": 2640132, \"rank\": 6},{\"type\": \"track\", \"id\": 2639961, \"rank\": 7},{\"type\": \"track\", \"id\": 2639961, \"rank\": 8},{\"type\": \"track\", \"id\": 2639995, \"rank\": 9},{\"type\": \"track\", \"id\": 2639995, \"rank\": 10},{\"type\": \"track\", \"id\": 2639850, \"rank\": 11},{\"type\": \"track\", \"id\": 2639990, \"rank\": 12},{\"type\": \"track\", \"id\": 2639990, \"rank\": 13},{\"type\": \"track\", \"id\": 2640035, \"rank\": 14},{\"type\": \"track\", \"id\": 2640132, \"rank\": 15},{\"type\": \"track\", \"id\": 2639961, \"rank\": 16},{\"type\": \"track\", \"id\": 2639995, \"rank\": 17}]}',\n",
        " 'recommendation\\t1283742\\t-1\\t{}\\t{\"objects\":[{\"type\": \"track\", \"id\": 2830204, \"rank\": 0},{\"type\": \"track\", \"id\": 2830193, \"rank\": 1},{\"type\": \"track\", \"id\": 2830197, \"rank\": 2},{\"type\": \"track\", \"id\": 2830206, \"rank\": 3},{\"type\": \"track\", \"id\": 2830208, \"rank\": 4},{\"type\": \"track\", \"id\": 2830207, \"rank\": 5},{\"type\": \"track\", \"id\": 2830192, \"rank\": 6},{\"type\": \"track\", \"id\": 2830198, \"rank\": 7},{\"type\": \"track\", \"id\": 2830203, \"rank\": 8},{\"type\": \"track\", \"id\": 2830197, \"rank\": 9},{\"type\": \"track\", \"id\": 2830206, \"rank\": 10},{\"type\": \"track\", \"id\": 2830204, \"rank\": 11},{\"type\": \"track\", \"id\": 2830192, \"rank\": 12},{\"type\": \"track\", \"id\": 2830193, \"rank\": 13},{\"type\": \"track\", \"id\": 2830207, \"rank\": 14},{\"type\": \"track\", \"id\": 2830198, \"rank\": 15},{\"type\": \"track\", \"id\": 2830203, \"rank\": 16},{\"type\": \"track\", \"id\": 2830208, \"rank\": 17}]}',\n",
        " 'recommendation\\t1376336\\t-1\\t{}\\t{\"objects\":[{\"type\": \"track\", \"id\": 3420661, \"rank\": 0},{\"type\": \"track\", \"id\": 3420293, \"rank\": 1},{\"type\": \"track\", \"id\": 887128, \"rank\": 2},{\"type\": \"track\", \"id\": 887141, \"rank\": 3},{\"type\": \"track\", \"id\": 1645189, \"rank\": 4},{\"type\": \"track\", \"id\": 1962862, \"rank\": 5},{\"type\": \"track\", \"id\": 3160000, \"rank\": 6},{\"type\": \"track\", \"id\": 1397276, \"rank\": 7},{\"type\": \"track\", \"id\": 3581687, \"rank\": 8},{\"type\": \"track\", \"id\": 2682059, \"rank\": 9},{\"type\": \"track\", \"id\": 1681676, \"rank\": 10},{\"type\": \"track\", \"id\": 3130058, \"rank\": 11},{\"type\": \"track\", \"id\": 3436246, \"rank\": 12},{\"type\": \"track\", \"id\": 2090289, \"rank\": 13},{\"type\": \"track\", \"id\": 1486357, \"rank\": 14},{\"type\": \"track\", \"id\": 1397364, \"rank\": 15},{\"type\": \"track\", \"id\": 2239983, \"rank\": 16},{\"type\": \"track\", \"id\": 3543342, \"rank\": 17},{\"type\": \"track\", \"id\": 1935152, \"rank\": 18},{\"type\": \"track\", \"id\": 519982, \"rank\": 19},{\"type\": \"track\", \"id\": 2794813, \"rank\": 20},{\"type\": \"track\", \"id\": 717236, \"rank\": 21},{\"type\": \"track\", \"id\": 3381068, \"rank\": 22},{\"type\": \"track\", \"id\": 3437182, \"rank\": 23},{\"type\": \"track\", \"id\": 2997744, \"rank\": 24},{\"type\": \"track\", \"id\": 3436302, \"rank\": 25},{\"type\": \"track\", \"id\": 3112898, \"rank\": 26},{\"type\": \"track\", \"id\": 1735484, \"rank\": 27},{\"type\": \"track\", \"id\": 3028657, \"rank\": 28},{\"type\": \"track\", \"id\": 1397346, \"rank\": 29},{\"type\": \"track\", \"id\": 2239959, \"rank\": 30},{\"type\": \"track\", \"id\": 1596523, \"rank\": 31},{\"type\": \"track\", \"id\": 2794897, \"rank\": 32},{\"type\": \"track\", \"id\": 668031, \"rank\": 33},{\"type\": \"track\", \"id\": 1397280, \"rank\": 34},{\"type\": \"track\", \"id\": 3436235, \"rank\": 35},{\"type\": \"track\", \"id\": 1801075, \"rank\": 36},{\"type\": \"track\", \"id\": 1819217, \"rank\": 37},{\"type\": \"track\", \"id\": 3543338, \"rank\": 38},{\"type\": \"track\", \"id\": 504880, \"rank\": 39},{\"type\": \"track\", \"id\": 3530867, \"rank\": 40},{\"type\": \"track\", \"id\": 1397253, \"rank\": 41},{\"type\": \"track\", \"id\": 3436257, \"rank\": 42},{\"type\": \"track\", \"id\": 3858213, \"rank\": 43},{\"type\": \"track\", \"id\": 134859, \"rank\": 44},{\"type\": \"track\", \"id\": 1493856, \"rank\": 45},{\"type\": \"track\", \"id\": 519990, \"rank\": 46},{\"type\": \"track\", \"id\": 1378455, \"rank\": 47},{\"type\": \"track\", \"id\": 3130066, \"rank\": 48},{\"type\": \"track\", \"id\": 1397306, \"rank\": 49},{\"type\": \"track\", \"id\": 2240049, \"rank\": 50},{\"type\": \"track\", \"id\": 3436266, \"rank\": 51},{\"type\": \"track\", \"id\": 84356, \"rank\": 52},{\"type\": \"track\", \"id\": 1681754, \"rank\": 53},{\"type\": \"track\", \"id\": 475138, \"rank\": 54},{\"type\": \"track\", \"id\": 2256144, \"rank\": 55},{\"type\": \"track\", \"id\": 2599555, \"rank\": 56},{\"type\": \"track\", \"id\": 1157837, \"rank\": 57},{\"type\": \"track\", \"id\": 1384907, \"rank\": 58},{\"type\": \"track\", \"id\": 2794893, \"rank\": 59},{\"type\": \"track\", \"id\": 1397289, \"rank\": 60},{\"type\": \"track\", \"id\": 2420764, \"rank\": 61},{\"type\": \"track\", \"id\": 1171821, \"rank\": 62},{\"type\": \"track\", \"id\": 1914417, \"rank\": 63},{\"type\": \"track\", \"id\": 2240044, \"rank\": 64},{\"type\": \"track\", \"id\": 1522, \"rank\": 65},{\"type\": \"track\", \"id\": 519834, \"rank\": 66},{\"type\": \"track\", \"id\": 1397247, \"rank\": 67},{\"type\": \"track\", \"id\": 3381250, \"rank\": 68},{\"type\": \"track\", \"id\": 3543459, \"rank\": 69},{\"type\": \"track\", \"id\": 3431439, \"rank\": 70},{\"type\": \"track\", \"id\": 1523075, \"rank\": 71},{\"type\": \"track\", \"id\": 2239934, \"rank\": 72},{\"type\": \"track\", \"id\": 3436389, \"rank\": 73},{\"type\": \"track\", \"id\": 3464185, \"rank\": 74},{\"type\": \"track\", \"id\": 3464185, \"rank\": 75},{\"type\": \"track\", \"id\": 1914417, \"rank\": 76},{\"type\": \"track\", \"id\": 852220, \"rank\": 77},{\"type\": \"track\", \"id\": 2240049, \"rank\": 78},{\"type\": \"track\", \"id\": 1801075, \"rank\": 79},{\"type\": \"track\", \"id\": 2794893, \"rank\": 80},{\"type\": \"track\", \"id\": 2340855, \"rank\": 81},{\"type\": \"track\", \"id\": 1681676, \"rank\": 82},{\"type\": \"track\", \"id\": 1155597, \"rank\": 83},{\"type\": \"track\", \"id\": 3436389, \"rank\": 84},{\"type\": \"track\", \"id\": 1397306, \"rank\": 85},{\"type\": \"track\", \"id\": 1596523, \"rank\": 86},{\"type\": \"track\", \"id\": 2090289, \"rank\": 87},{\"type\": \"track\", \"id\": 1384932, \"rank\": 88},{\"type\": \"track\", \"id\": 852217, \"rank\": 89},{\"type\": \"track\", \"id\": 3381250, \"rank\": 90},{\"type\": \"track\", \"id\": 475138, \"rank\": 91},{\"type\": \"track\", \"id\": 3431439, \"rank\": 92},{\"type\": \"track\", \"id\": 1397346, \"rank\": 93},{\"type\": \"track\", \"id\": 1171821, \"rank\": 94},{\"type\": \"track\", \"id\": 2239983, \"rank\": 95},{\"type\": \"track\", \"id\": 134859, \"rank\": 96},{\"type\": \"track\", \"id\": 2420764, \"rank\": 97},{\"type\": \"track\", \"id\": 852219, \"rank\": 98},{\"type\": \"track\", \"id\": 519982, \"rank\": 99}]}']"
       ]
      }
     ],
     "prompt_number": 57
    },
    {
     "cell_type": "code",
     "collapsed": false,
     "input": [],
     "language": "python",
     "metadata": {},
     "outputs": [],
     "prompt_number": 40
    }
   ],
   "metadata": {}
  }
 ]
}
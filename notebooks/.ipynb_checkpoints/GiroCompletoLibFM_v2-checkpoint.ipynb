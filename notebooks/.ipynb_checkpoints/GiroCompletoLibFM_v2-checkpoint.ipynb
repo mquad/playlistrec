{
 "metadata": {
  "name": "",
  "signature": "sha256:47b8834f246568885e7f0550f883e0959bcada1bfe64e18afff311e8c6881fb4"
 },
 "nbformat": 3,
 "nbformat_minor": 0,
 "worksheets": [
  {
   "cells": [
    {
     "cell_type": "code",
     "collapsed": false,
     "input": [
      "# load all the auxiliary functions\n",
      "execfile('/home/roberto/spark-scripts/music/scripts/ToBeUploaded/split.py')\n",
      "execfile('/home/roberto/spark-scripts/music/scripts/ToBeUploaded/utils.py')\n",
      "execfile('/home/roberto/spark-scripts/music/scripts/ToBeUploaded/FMAlgoFunctions_v2.py')\n",
      "execfile('/home/roberto/spark-scripts/music/scripts/ToBeUploaded/FMAlgoMain_v2.py')\n",
      "execfile('/home/roberto/spark-scripts/music/scripts/ToBeUploaded/eval.py')"
     ],
     "language": "python",
     "metadata": {},
     "outputs": [],
     "prompt_number": 1
    },
    {
     "cell_type": "code",
     "collapsed": false,
     "input": [
      "import json\n",
      "import copy\n",
      "\n",
      "conf = {}\n",
      "\n",
      "conf['split'] = {}\n",
      "conf['split']['reclistSize'] = 100\n",
      "conf['split']['callParams'] = {}\n",
      "conf['split']['excludeAlreadyListenedTest'] = True\n",
      "conf['split']['name'] = 'giroCompletoLibFMMultipleConfs'\n",
      "conf['split']['minEventsPerUser'] = 5\n",
      "conf['split']['inputData'] = 's3n://contentwise-research-poli/30musicdataset/newFormat/relations/sessions.idomaar/part-00000'\n",
      "#conf['split']['inputData'] = 's3n://contentwise-research-poli/30musicdataset/newFormat/relations/sessions.idomaar'\n",
      "conf['split']['bucketName'] = 'contentwise-research-poli'\n",
      "conf['split']['percUsTr'] = 0.05\n",
      "conf['split']['ts'] = int(0.75 * (1421745857 - 1390209860) + 1390209860) - 10000\n",
      "conf['split']['minEventPerSession'] = 5\n",
      "conf['split']['onlineTrainingLength'] = 5\n",
      "conf['split']['GTlength'] = 5\n",
      "conf['split']['minEventPerSessionTraining'] = 10\n",
      "conf['split']['minEventPerSessionTest'] = 11\n",
      "conf['split']['mode'] = 'session'\n",
      "conf['split']['forceSplitCreation'] = False\n",
      "\n",
      "conf['evaluation'] = {}\n",
      "conf['evaluation']['metric'] = {}\n",
      "conf['evaluation']['metric']['type'] = 'recall'\n",
      "conf['evaluation']['metric']['prop'] = {}\n",
      "conf['evaluation']['metric']['prop']['N'] = [1,2,5,10,15,20,25,50,100]\n",
      "conf['evaluation']['name'] = 'recall@N'\n",
      "\n",
      "conf['general'] = {}\n",
      "conf['general']['clientname'] = \"split\"\n",
      "conf['general']['bucketName'] = 'contentwise-research-poli'\n",
      "conf['general']['tmpDir'] = \"/tmp\"\n",
      "\n",
      "conf['algo'] = {}\n",
      "conf['algo']['name'] = 'LibFM'\n",
      "conf['algo']['props'] = {}\n",
      "# ***** EXAMPLE OF CONFIGURATION *****#\n",
      "conf['algo']['props']['collaborativity'] = 'knn' #individual, (all), knn\n",
      "conf['algo']['props']['neighborhoodSize'] = 2 #neighborhood size for the knn collaborativity (NOTE: it includes the user itself! set to 2 for the closest neighbor)\n",
      "conf['algo']['props']['duplicatePolicy'] = 'unique_max' #none, unique_max, unique_min\n",
      "conf['algo']['props']['historyAggrPolicy'] = 'count' #count, avg, max, min, [exp_decay and others to be implemented]\n",
      "conf['algo']['props']['trainGenPolicy'] = 'leaveoneout' #leaveoneout, sequential\n",
      "conf['algo']['props']['libFMbin'] = \"/opt/libfm-1.42.src/bin/./libFM\"\n",
      "conf['algo']['props']['libFMopt'] = \"-task r -dim '1,1,25' -iter 50\" \n",
      "# ****** END EXAMPLE ****************#\n",
      "\n",
      "historyAggrPolicies = ['count', 'avg', 'max', 'min']\n",
      "trainGenPolicies = ['leaveoneout', 'sequential']\n",
      "#collaborativityTypes = ['individual', 'knn', 'all']\n",
      "collaborativityTypes = ['individual', 'knn']\n",
      "neighSizes = [2**i for i in xrange(1,6)]\n",
      "latentSizes = [2**i for i in xrange(1,6)]\n",
      "\n",
      "coll_neigh = [(c, 1) for c in collaborativityTypes if c is not 'knn']\n",
      "coll_neigh += [('knn', s) for s in neighSizes]\n",
      "\n",
      "\n",
      "for exclude in [True,False]:\n",
      "    conf['split']['name'] = 'giroCompletoTestMultipleConfs_exclude%s' % exclude\n",
      "    splitter(conf)\n",
      "    train, est = loadDataset(conf)\n",
      "    \n",
      "    for historyAggrPolicy in historyAggrPolicies:\n",
      "        conf['algo']['props']['historyAggrPolicy'] = historyAggrPolicy\n",
      "        trainSessionHistoryAggr, testRequestsHistoryAggr = sessionAggregation(train, test, conf)\n",
      "        \n",
      "        for trainGenPolicy in trainGenPolicies:\n",
      "            print \n",
      "            conf['algo']['props']['trainGenPolicy'] = trainGenPolicy\n",
      "            training = generateTraining(trainSessionHistoryAggr, conf)\n",
      "            \n",
      "            for coll, neigh_size in coll_neigh:\n",
      "                conf['algo']['props']['collaborativity'] = coll\n",
      "                conf['algo']['props']['neighborhoodSize'] = neigh_size\n",
      "                trainSessionsPerUser, testRequestPerUser = filterTrainSessionsPerUser(training, trainSessionHistoryAggr, testRequestsHistoryAggr, conf)\n",
      "                \n",
      "                for latentSize in [2,4,8,16,32]:\n",
      "                    conf['algo']['props']['libFMopt'] = \"-task r -dim '1,1,%d' -iter 50\" % latentSize\n",
      "                    recomm = generateRecommendationsLibFM(trainSessionsPerUser, testRequestsPerUser, test, conf)\n",
      "                    saveRecommendations(conf, recomm, overwrite=False)\n",
      "                    computeMetrics(conf)\n"
     ],
     "language": "python",
     "metadata": {},
     "outputs": [
      {
       "metadata": {},
       "output_type": "pyout",
       "prompt_number": 4,
       "text": [
        "'\\nfor exclude in [True,False]:\\n    conf[\\'split\\'][\\'name\\'] = \\'giroCompletoTestMultipleConfs_exclude\\' + str(exclude)\\n    splitter(conf)\\n    train, est = loadDataset(conf)\\n    \\n    for historyAggrPolicy in historyAggrPolicies:\\n        conf[\\'algo\\'][\\'props\\'][\\'historyAggrPolicy\\'] = historyAggrPolicy\\n        trainSessionHistoryAggr, testRequestsHistoryAggr = sessionAggregation(train, test, conf)\\n        \\n        for trainGenPolicy in trainGenPolicies:\\n            conf[\\'algo\\'][\\'props\\'][\\'trainGenPolicy\\'] = trainGenPolicy\\n            training = generateTraining(trainSessionHistoryAggr, conf)\\n            \\n            for coll, neigh_size in coll_neigh:\\n                conf[\\'algo\\'][\\'props\\'][\\'collaborativity\\'] = coll\\n                conf[\\'algo\\'][\\'props\\'][\\'neighborhoodSize\\'] = neigh_size\\n                trainSessionsPerUser, testRequestPerUser = filterTrainSessionsPerUser(training, trainSessionHistoryAggr, testRequestsHistoryAggr, conf)\\n                \\n                for latentSize in [2,4,8,16,32]:\\n                    conf[\\'algo\\'][\\'props\\'][\\'libFMopt\\'] = \"-task r -dim \\'1,1,%d\\' -iter 50\" % latentSize\\n                    recomm = generateRecommendationsLibFM(trainSessionsPerUser, testRequestsPerUser, test, conf)\\n                    saveRecommendations(conf, recomm, overwrite=False)\\n                    computeMetrics(conf)\\n'"
       ]
      }
     ],
     "prompt_number": 4
    },
    {
     "cell_type": "code",
     "collapsed": false,
     "input": [
      "for exclude in [True,False]:\n",
      "    conf['split']['name'] = 'giroCompletoTestMultipleConfs_exclude' + str(exclude)\n",
      "    splitter(conf)\n",
      "    train, est = loadDataset(conf)\n",
      "    \n",
      "    for historyAggrPolicy in historyAggrPolicies:\n",
      "        conf['algo']['props']['historyAggrPolicy'] = historyAggrPolicy\n",
      "        trainSessionHistoryAggr, testRequestsHistoryAggr = sessionAggregation(train, test, conf)\n",
      "        \n",
      "        for trainGenPolicy in trainGenPolicies:\n",
      "            conf['algo']['props']['trainGenPolicy'] = trainGenPolicy\n",
      "            training = generateTraining(trainSessionHistoryAggr, conf)\n",
      "            \n",
      "            for coll, neigh_size in coll_neigh:\n",
      "                conf['algo']['props']['collaborativity'] = coll\n",
      "                conf['algo']['props']['neighborhoodSize'] = neigh_size\n",
      "                trainSessionsPerUser, testRequestPerUser = filterTrainSessionsPerUser(training, trainSessionHistoryAggr, testRequestsHistoryAggr, conf)\n",
      "                \n",
      "                for latentSize in [2,4,8,16,32]:\n",
      "                    conf['algo']['props']['libFMopt'] = \"-task r -dim '1,1,%d' -iter 50\" % latentSize\n",
      "                    recomm = generateRecommendationsLibFM(trainSessionsPerUser, testRequestsPerUser, test, conf)\n",
      "                    saveRecommendations(conf, recomm, overwrite=False)\n",
      "                    computeMetrics(conf)\n"
     ],
     "language": "python",
     "metadata": {},
     "outputs": []
    },
    {
     "cell_type": "heading",
     "level": 2,
     "metadata": {},
     "source": [
      "Evaluation"
     ]
    },
    {
     "cell_type": "code",
     "collapsed": false,
     "input": [
      "execfile('/home/roberto/spark-scripts/music/scripts/ToBeUploaded/eval.py')"
     ],
     "language": "python",
     "metadata": {},
     "outputs": []
    },
    {
     "cell_type": "code",
     "collapsed": false,
     "input": [
      "for conf in configList:\n",
      "    computeMetrics(conf)"
     ],
     "language": "python",
     "metadata": {},
     "outputs": []
    },
    {
     "cell_type": "code",
     "collapsed": false,
     "input": [
      "for conf in configList:\n",
      "    print sc.textFile(\"s3n://contentwise-research-poli/split/\" + conf['split']['name'] +  \"/Rec/\" + conf['algo']['name'] +\"/recall@N/metrics\").collect()"
     ],
     "language": "python",
     "metadata": {},
     "outputs": []
    },
    {
     "cell_type": "code",
     "collapsed": false,
     "input": [],
     "language": "python",
     "metadata": {},
     "outputs": []
    }
   ],
   "metadata": {}
  }
 ]
}
{
 "metadata": {
  "name": "",
  "signature": "sha256:fa5b75769198d5af1ada21c7e33bc3e5dce6e165016255ba0c7d019570b617ad"
 },
 "nbformat": 3,
 "nbformat_minor": 0,
 "worksheets": [
  {
   "cells": [
    {
     "cell_type": "code",
     "collapsed": false,
     "input": [
      "import json\n",
      "import boto\n",
      "conf = {}\n",
      "\n",
      "conf['split'] = {}\n",
      "conf['split']['reclistSize'] = 100\n",
      "conf['split']['callParams'] = {}\n",
      "conf['split']['excludeAlreadyListenedTest'] = True\n",
      "conf['split']['name'] = 'giroCompleto'\n",
      "conf['split']['minEventsPerUser'] = 5\n",
      "conf['split']['inputData'] = 's3n://contentwise-research-poli/30musicdataset/newFormat/relations/sessions.idomaar/part-00000'\n",
      "conf['split']['bucketName'] = 'contentwise-research-poli'\n",
      "conf['split']['percUsTr'] = 0.05\n",
      "conf['split']['ts'] = int(0.75 * (1421745857 - 1390209860) + 1390209860) - 10000\n",
      "conf['split']['minEventPerSession'] = 5\n",
      "conf['split']['onlineTrainingLength'] = 5\n",
      "conf['split']['GTlength'] = 5\n",
      "conf['split']['minEventPerSessionTraining'] = 10\n",
      "conf['split']['minEventPerSessionTest'] = 11\n",
      "conf['split']['mode'] = 'session'\n",
      "conf['split']['forceSplitCreation'] = True\n",
      "\n",
      "conf['evaluation'] = {}\n",
      "conf['evaluation']['metric'] = {}\n",
      "conf['evaluation']['metric']['type'] = 'recall'\n",
      "conf['evaluation']['metric']['prop'] = {}\n",
      "conf['evaluation']['metric']['prop']['N'] = [1,2,5,10,15,20,25,50,100]\n",
      "conf['evaluation']['name'] = 'recall@N'\n",
      "\n",
      "conf['general'] = {}\n",
      "conf['general']['clientname'] = \"split\"\n",
      "conf['general']['bucketName'] = 'contentwise-research-poli'\n",
      "\n",
      "conf['algo'] = {}\n",
      "conf['algo']['name'] = 'ImplicitPlaylist'\n",
      "conf['algo']['props'] = {}\n",
      "conf['algo']['props'][\"sessionJaccardShrinkage\"] = 5\n",
      "conf['algo']['props'][\"clusterSimilarityThreshold\"] = 0.5\n",
      "conf['algo']['props'][\"expDecayFactor\"] = 0.5\n",
      "\n",
      "configJson = json.dumps(conf)\n",
      "\n",
      "config = json.loads(configJson)\n",
      "print config[\"config\"][\"algoConfig\"][\"props\"][\"clusterSimilarityThreshold\"]\n",
      "print config[\"config\"][\"algoConfig\"][\"props\"][\"sessionJaccardShrinkage\"]"
     ],
     "language": "python",
     "metadata": {},
     "outputs": [
      {
       "output_type": "stream",
       "stream": "stdout",
       "text": [
        "0.5\n",
        "5\n"
       ]
      }
     ],
     "prompt_number": 30
    },
    {
     "cell_type": "code",
     "collapsed": false,
     "input": [
      "execfile('/home/roberto/spark-scripts/music/scripts/ToBeUploaded/utils.py')\n",
      "execfile('/home/roberto/spark-scripts/music/scripts/ToBeUploaded/implicitPlaylistAlgoFunctions.py')\n",
      "execfile('/home/roberto/spark-scripts/music/scripts/ToBeUploaded/implicitPlaylistAlgoMain.py')"
     ],
     "language": "python",
     "metadata": {},
     "outputs": [],
     "prompt_number": 35
    },
    {
     "cell_type": "code",
     "collapsed": false,
     "input": [
      "recJsonRDD = executeImplicitPlaylistAlgo(configJson)\n",
      "recJsonRDD.first()"
     ],
     "language": "python",
     "metadata": {},
     "outputs": [
      {
       "metadata": {},
       "output_type": "pyout",
       "prompt_number": 36,
       "text": [
        "'{\"linkedinfo\": {\"objects\": [{\"playratio\": 1.0, \"playstart\": 0, \"action\": \"play\", \"playtime\": 278, \"type\": \"track\", \"id\": 2657399}, {\"playratio\": 1.01, \"playstart\": 278, \"action\": \"play\", \"playtime\": 206, \"type\": \"track\", \"id\": 2844891}, {\"playratio\": 1.0, \"playstart\": 484, \"action\": \"play\", \"playtime\": 220, \"type\": \"track\", \"id\": 2844996}, {\"playratio\": 1.01, \"playstart\": 704, \"action\": \"play\", \"playtime\": 255, \"type\": \"track\", \"id\": 1197402}, {\"playratio\": 0.62, \"playstart\": 959, \"action\": \"play\", \"playtime\": 254, \"type\": \"track\", \"id\": 1197922}], \"subjects\": [{\"type\": \"user\", \"id\": 25635}], \"response\": [{\"type\": \"track\", \"id\": 1197984, \"rank\": 0}, {\"type\": \"track\", \"id\": 1197984, \"rank\": 1}, {\"type\": \"track\", \"id\": 1197812, \"rank\": 2}, {\"type\": \"track\", \"id\": 1197812, \"rank\": 3}, {\"type\": \"track\", \"id\": 1197378, \"rank\": 4}, {\"type\": \"track\", \"id\": 1197378, \"rank\": 5}, {\"type\": \"track\", \"id\": 1197530, \"rank\": 6}, {\"type\": \"track\", \"id\": 1197530, \"rank\": 7}, {\"type\": \"track\", \"id\": 1198045, \"rank\": 8}, {\"type\": \"track\", \"id\": 1198045, \"rank\": 9}, {\"type\": \"track\", \"id\": 1198107, \"rank\": 10}, {\"type\": \"track\", \"id\": 1198107, \"rank\": 11}, {\"type\": \"track\", \"id\": 1198228, \"rank\": 12}, {\"type\": \"track\", \"id\": 1198228, \"rank\": 13}, {\"type\": \"track\", \"id\": 1197621, \"rank\": 14}, {\"type\": \"track\", \"id\": 1197621, \"rank\": 15}, {\"type\": \"track\", \"id\": 1197843, \"rank\": 16}, {\"type\": \"track\", \"id\": 1197843, \"rank\": 17}, {\"type\": \"track\", \"id\": 1197510, \"rank\": 18}, {\"type\": \"track\", \"id\": 1197510, \"rank\": 19}, {\"type\": \"track\", \"id\": 1197984, \"rank\": 20}, {\"type\": \"track\", \"id\": 1197984, \"rank\": 21}, {\"type\": \"track\", \"id\": 1197812, \"rank\": 22}, {\"type\": \"track\", \"id\": 1197812, \"rank\": 23}, {\"type\": \"track\", \"id\": 1197812, \"rank\": 24}, {\"type\": \"track\", \"id\": 1197378, \"rank\": 25}, {\"type\": \"track\", \"id\": 1197378, \"rank\": 26}, {\"type\": \"track\", \"id\": 1197530, \"rank\": 27}, {\"type\": \"track\", \"id\": 1197530, \"rank\": 28}, {\"type\": \"track\", \"id\": 1198045, \"rank\": 29}, {\"type\": \"track\", \"id\": 1198045, \"rank\": 30}, {\"type\": \"track\", \"id\": 1198107, \"rank\": 31}, {\"type\": \"track\", \"id\": 1198228, \"rank\": 32}, {\"type\": \"track\", \"id\": 1198228, \"rank\": 33}, {\"type\": \"track\", \"id\": 1197621, \"rank\": 34}, {\"type\": \"track\", \"id\": 1197621, \"rank\": 35}, {\"type\": \"track\", \"id\": 1197843, \"rank\": 36}, {\"type\": \"track\", \"id\": 1197843, \"rank\": 37}, {\"type\": \"track\", \"id\": 1197510, \"rank\": 38}, {\"type\": \"track\", \"id\": 1197510, \"rank\": 39}, {\"type\": \"track\", \"id\": 1197984, \"rank\": 40}, {\"type\": \"track\", \"id\": 1197984, \"rank\": 41}, {\"type\": \"track\", \"id\": 1197812, \"rank\": 42}, {\"type\": \"track\", \"id\": 1197812, \"rank\": 43}, {\"type\": \"track\", \"id\": 1197378, \"rank\": 44}, {\"type\": \"track\", \"id\": 1197378, \"rank\": 45}, {\"type\": \"track\", \"id\": 1197530, \"rank\": 46}, {\"type\": \"track\", \"id\": 1197530, \"rank\": 47}, {\"type\": \"track\", \"id\": 1198045, \"rank\": 48}, {\"type\": \"track\", \"id\": 1197378, \"rank\": 49}, {\"type\": \"track\", \"id\": 1197378, \"rank\": 50}, {\"type\": \"track\", \"id\": 1197530, \"rank\": 51}, {\"type\": \"track\", \"id\": 1198045, \"rank\": 52}, {\"type\": \"track\", \"id\": 1198107, \"rank\": 53}, {\"type\": \"track\", \"id\": 1198228, \"rank\": 54}, {\"type\": \"track\", \"id\": 1197621, \"rank\": 55}, {\"type\": \"track\", \"id\": 1197621, \"rank\": 56}, {\"type\": \"track\", \"id\": 1197843, \"rank\": 57}, {\"type\": \"track\", \"id\": 1197843, \"rank\": 58}, {\"type\": \"track\", \"id\": 1197510, \"rank\": 59}, {\"type\": \"track\", \"id\": 1197984, \"rank\": 60}, {\"type\": \"track\", \"id\": 1197984, \"rank\": 61}, {\"type\": \"track\", \"id\": 1197812, \"rank\": 62}, {\"type\": \"track\", \"id\": 1197812, \"rank\": 63}, {\"type\": \"track\", \"id\": 1197378, \"rank\": 64}, {\"type\": \"track\", \"id\": 1197378, \"rank\": 65}, {\"type\": \"track\", \"id\": 1197530, \"rank\": 66}, {\"type\": \"track\", \"id\": 1197530, \"rank\": 67}, {\"type\": \"track\", \"id\": 1198045, \"rank\": 68}, {\"type\": \"track\", \"id\": 1198045, \"rank\": 69}, {\"type\": \"track\", \"id\": 1198107, \"rank\": 70}, {\"type\": \"track\", \"id\": 1198228, \"rank\": 71}, {\"type\": \"track\", \"id\": 1197621, \"rank\": 72}, {\"type\": \"track\", \"id\": 1197621, \"rank\": 73}, {\"type\": \"track\", \"id\": 1197843, \"rank\": 74}, {\"type\": \"track\", \"id\": 1197843, \"rank\": 75}, {\"type\": \"track\", \"id\": 1197510, \"rank\": 76}, {\"type\": \"track\", \"id\": 1197510, \"rank\": 77}, {\"type\": \"track\", \"id\": 1197984, \"rank\": 78}, {\"type\": \"track\", \"id\": 1197984, \"rank\": 79}]}, \"type\": \"request\", \"properties\": {\"reclistSize\": 100}, \"ts\": \"1421670888\", \"id\": 2563501421670888}'"
       ]
      }
     ],
     "prompt_number": 36
    },
    {
     "cell_type": "code",
     "collapsed": false,
     "input": [
      "recJsonRDD.count()"
     ],
     "language": "python",
     "metadata": {},
     "outputs": []
    },
    {
     "cell_type": "code",
     "collapsed": false,
     "input": [
      "outFile = \"s3n://contentwise-research-poli/split/mieProve3/Rec/myHashRec1Test1\"\n",
      "\n",
      "recJsonRDD.map(lambda x: json.dumps(x)).saveAsTextFile(outFile)"
     ],
     "language": "python",
     "metadata": {},
     "outputs": [],
     "prompt_number": 15
    },
    {
     "cell_type": "code",
     "collapsed": false,
     "input": [
      "outFile = \"/tmp/myHashRec1Test1\"\n",
      "\n",
      "recJsonRDD.map(lambda x: json.dumps(x)).saveAsTextFile(outFile)"
     ],
     "language": "python",
     "metadata": {},
     "outputs": [],
     "prompt_number": 21
    },
    {
     "cell_type": "code",
     "collapsed": false,
     "input": [],
     "language": "python",
     "metadata": {},
     "outputs": [],
     "prompt_number": 0
    },
    {
     "cell_type": "code",
     "collapsed": false,
     "input": [],
     "language": "python",
     "metadata": {},
     "outputs": []
    },
    {
     "cell_type": "code",
     "collapsed": false,
     "input": [
      "s3 = boto.connect_s3()\n",
      "mybucket = s3.get_bucket(\"contentwise-research-poli\")\n",
      "for key_list in mybucket.list():\n",
      "    if \"split/mieProve3/Rec/myHashRec1Test\" in key_list.name: \n",
      "        mybucket.delete_key(key_list)\n",
      "        "
     ],
     "language": "python",
     "metadata": {},
     "outputs": [],
     "prompt_number": 12
    },
    {
     "cell_type": "code",
     "collapsed": false,
     "input": [
      "pippo = sc.textFile(outFile)"
     ],
     "language": "python",
     "metadata": {},
     "outputs": []
    },
    {
     "cell_type": "code",
     "collapsed": false,
     "input": [
      "print json.loads(pippo.first())"
     ],
     "language": "python",
     "metadata": {},
     "outputs": [
      {
       "output_type": "stream",
       "stream": "stdout",
       "text": [
        "{\"linkedinfo\": {\"subjects\": [{\"type\": \"recId\", \"id\": 1069101421421457}], \"objects\": [{\"position\": {}, \"type\": \"track\", \"id\": 1924930, \"rank\": 0}, {\"position\": {}, \"type\": \"track\", \"id\": 548755, \"rank\": 1}, {\"position\": {}, \"type\": \"track\", \"id\": 1458600, \"rank\": 2}, {\"position\": {}, \"type\": \"track\", \"id\": 3511772, \"rank\": 3}, {\"position\": {}, \"type\": \"track\", \"id\": 668833, \"rank\": 4}, {\"position\": {}, \"type\": \"track\", \"id\": 3666620, \"rank\": 5}, {\"position\": {}, \"type\": \"track\", \"id\": 2185901, \"rank\": 6}, {\"position\": {}, \"type\": \"track\", \"id\": 2541854, \"rank\": 7}, {\"position\": {}, \"type\": \"track\", \"id\": 145680, \"rank\": 8}, {\"position\": {}, \"type\": \"track\", \"id\": 2409460, \"rank\": 9}, {\"position\": {}, \"type\": \"track\", \"id\": 3755256, \"rank\": 10}, {\"position\": {}, \"type\": \"track\", \"id\": 964725, \"rank\": 11}, {\"position\": {}, \"type\": \"track\", \"id\": 686343, \"rank\": 12}, {\"position\": {}, \"type\": \"track\", \"id\": 3082286, \"rank\": 13}, {\"position\": {}, \"type\": \"track\", \"id\": 2447746, \"rank\": 14}, {\"position\": {}, \"type\": \"track\", \"id\": 3509862, \"rank\": 15}, {\"position\": {}, \"type\": \"track\", \"id\": 685833, \"rank\": 16}, {\"position\": {}, \"type\": \"track\", \"id\": 2212089, \"rank\": 17}, {\"position\": {}, \"type\": \"track\", \"id\": 927152, \"rank\": 18}, {\"position\": {}, \"type\": \"track\", \"id\": 830485, \"rank\": 19}, {\"position\": {}, \"type\": \"track\", \"id\": 576739, \"rank\": 20}, {\"position\": {}, \"type\": \"track\", \"id\": 2079390, \"rank\": 21}, {\"position\": {}, \"type\": \"track\", \"id\": 2526042, \"rank\": 22}, {\"position\": {}, \"type\": \"track\", \"id\": 42094, \"rank\": 23}, {\"position\": {}, \"type\": \"track\", \"id\": 633121, \"rank\": 24}, {\"position\": {}, \"type\": \"track\", \"id\": 3156939, \"rank\": 25}, {\"position\": {}, \"type\": \"track\", \"id\": 3520492, \"rank\": 26}, {\"position\": {}, \"type\": \"track\", \"id\": 289207, \"rank\": 27}, {\"position\": {}, \"type\": \"track\", \"id\": 375509, \"rank\": 28}, {\"position\": {}, \"type\": \"track\", \"id\": 2133445, \"rank\": 29}, {\"position\": {}, \"type\": \"track\", \"id\": 232971, \"rank\": 30}, {\"position\": {}, \"type\": \"track\", \"id\": 2212215, \"rank\": 31}, {\"position\": {}, \"type\": \"track\", \"id\": 2369260, \"rank\": 32}, {\"position\": {}, \"type\": \"track\", \"id\": 2819847, \"rank\": 33}, {\"position\": {}, \"type\": \"track\", \"id\": 289298, \"rank\": 34}, {\"position\": {}, \"type\": \"track\", \"id\": 3520629, \"rank\": 35}, {\"position\": {}, \"type\": \"track\", \"id\": 3240566, \"rank\": 36}, {\"position\": {}, \"type\": \"track\", \"id\": 1682807, \"rank\": 37}, {\"position\": {}, \"type\": \"track\", \"id\": 289246, \"rank\": 38}, {\"position\": {}, \"type\": \"track\", \"id\": 1627749, \"rank\": 39}, {\"position\": {}, \"type\": \"track\", \"id\": 158151, \"rank\": 40}, {\"position\": {}, \"type\": \"track\", \"id\": 92862, \"rank\": 41}, {\"position\": {}, \"type\": \"track\", \"id\": 1348038, \"rank\": 42}, {\"position\": {}, \"type\": \"track\", \"id\": 1068996, \"rank\": 43}, {\"position\": {}, \"type\": \"track\", \"id\": 2514759, \"rank\": 44}, {\"position\": {}, \"type\": \"track\", \"id\": 1627676, \"rank\": 45}, {\"position\": {}, \"type\": \"track\", \"id\": 1168951, \"rank\": 46}, {\"position\": {}, \"type\": \"track\", \"id\": 3666654, \"rank\": 47}, {\"position\": {}, \"type\": \"track\", \"id\": 1502878, \"rank\": 48}, {\"position\": {}, \"type\": \"track\", \"id\": 1924930, \"rank\": 49}, {\"position\": {}, \"type\": \"track\", \"id\": 548755, \"rank\": 50}, {\"position\": {}, \"type\": \"track\", \"id\": 3511772, \"rank\": 51}, {\"position\": {}, \"type\": \"track\", \"id\": 1458600, \"rank\": 52}, {\"position\": {}, \"type\": \"track\", \"id\": 668833, \"rank\": 53}, {\"position\": {}, \"type\": \"track\", \"id\": 3666620, \"rank\": 54}, {\"position\": {}, \"type\": \"track\", \"id\": 2185901, \"rank\": 55}, {\"position\": {}, \"type\": \"track\", \"id\": 145680, \"rank\": 56}, {\"position\": {}, \"type\": \"track\", \"id\": 2541854, \"rank\": 57}, {\"position\": {}, \"type\": \"track\", \"id\": 2409460, \"rank\": 58}, {\"position\": {}, \"type\": \"track\", \"id\": 686343, \"rank\": 59}, {\"position\": {}, \"type\": \"track\", \"id\": 3755256, \"rank\": 60}, {\"position\": {}, \"type\": \"track\", \"id\": 3082286, \"rank\": 61}, {\"position\": {}, \"type\": \"track\", \"id\": 3509862, \"rank\": 62}, {\"position\": {}, \"type\": \"track\", \"id\": 2447746, \"rank\": 63}, {\"position\": {}, \"type\": \"track\", \"id\": 964725, \"rank\": 64}, {\"position\": {}, \"type\": \"track\", \"id\": 2212089, \"rank\": 65}, {\"position\": {}, \"type\": \"track\", \"id\": 685833, \"rank\": 66}, {\"position\": {}, \"type\": \"track\", \"id\": 927152, \"rank\": 67}, {\"position\": {}, \"type\": \"track\", \"id\": 830485, \"rank\": 68}, {\"position\": {}, \"type\": \"track\", \"id\": 576739, \"rank\": 69}, {\"position\": {}, \"type\": \"track\", \"id\": 2526042, \"rank\": 70}, {\"position\": {}, \"type\": \"track\", \"id\": 42094, \"rank\": 71}, {\"position\": {}, \"type\": \"track\", \"id\": 2079390, \"rank\": 72}, {\"position\": {}, \"type\": \"track\", \"id\": 3520492, \"rank\": 73}, {\"position\": {}, \"type\": \"track\", \"id\": 289207, \"rank\": 74}, {\"position\": {}, \"type\": \"track\", \"id\": 3156939, \"rank\": 75}, {\"position\": {}, \"type\": \"track\", \"id\": 633121, \"rank\": 76}, {\"position\": {}, \"type\": \"track\", \"id\": 2133445, \"rank\": 77}, {\"position\": {}, \"type\": \"track\", \"id\": 375509, \"rank\": 78}, {\"position\": {}, \"type\": \"track\", \"id\": 232971, \"rank\": 79}, {\"position\": {}, \"type\": \"track\", \"id\": 2819847, \"rank\": 80}, {\"position\": {}, \"type\": \"track\", \"id\": 3520629, \"rank\": 81}, {\"position\": {}, \"type\": \"track\", \"id\": 92862, \"rank\": 82}, {\"position\": {}, \"type\": \"track\", \"id\": 3240566, \"rank\": 83}, {\"position\": {}, \"type\": \"track\", \"id\": 289298, \"rank\": 84}, {\"position\": {}, \"type\": \"track\", \"id\": 1627749, \"rank\": 85}, {\"position\": {}, \"type\": \"track\", \"id\": 158151, \"rank\": 86}, {\"position\": {}, \"type\": \"track\", \"id\": 289246, \"rank\": 87}, {\"position\": {}, \"type\": \"track\", \"id\": 1682807, \"rank\": 88}, {\"position\": {}, \"type\": \"track\", \"id\": 1627676, \"rank\": 89}, {\"position\": {}, \"type\": \"track\", \"id\": 1502878, \"rank\": 90}, {\"position\": {}, \"type\": \"track\", \"id\": 1168951, \"rank\": 91}, {\"position\": {}, \"type\": \"track\", \"id\": 1040900, \"rank\": 92}, {\"position\": {}, \"type\": \"track\", \"id\": 1068996, \"rank\": 93}, {\"position\": {}, \"type\": \"track\", \"id\": 2514759, \"rank\": 94}, {\"position\": {}, \"type\": \"track\", \"id\": 1348038, \"rank\": 95}, {\"position\": {}, \"type\": \"track\", \"id\": 2384044, \"rank\": 96}, {\"position\": {}, \"type\": \"track\", \"id\": 2212215, \"rank\": 97}, {\"position\": {}, \"type\": \"track\", \"id\": 3462704, \"rank\": 98}, {\"position\": {}, \"type\": \"track\", \"id\": 3462727, \"rank\": 99}]}, \"properties\": {}, \"type\": \"response\", \"id\": 0, \"ts\": 1421421457}\n"
       ]
      }
     ],
     "prompt_number": 20
    },
    {
     "cell_type": "code",
     "collapsed": false,
     "input": [],
     "language": "python",
     "metadata": {},
     "outputs": []
    }
   ],
   "metadata": {}
  }
 ]
}
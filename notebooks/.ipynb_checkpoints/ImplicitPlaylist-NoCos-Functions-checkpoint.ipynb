{
 "metadata": {
  "name": "",
  "signature": "sha256:57cc7cd373c2db091398cace131478b837235f775b22966bccf1560f99c41ba9"
 },
 "nbformat": 3,
 "nbformat_minor": 0,
 "worksheets": [
  {
   "cells": [
    {
     "cell_type": "code",
     "collapsed": false,
     "input": [
      "import json\n",
      "configJson = json.dumps(\n",
      "\"\"\"\n",
      "{  \n",
      "   \"config\":{  \n",
      "      \"algoConfig\":{  \n",
      "         \"excludeAlreadyListenedTrain\":\"True\",\n",
      "         \"excludeAlreadyListenedTest\":\"True\",\n",
      "         \"scriptPath\":\"/tmp/...\",\n",
      "         \"forceAlgoExecution\":\"False\",\n",
      "    \"configName\" : \"name\",\n",
      "         \"props\":{  \n",
      "            \"sessionJaccardShrinkage\": 5,\n",
      "            \"clusterSimilarityThreshold\": 0.5,\n",
      "            \"expDecayFactor\": 0.5\n",
      "         }\n",
      "      },\n",
      "      \"splitConfig\":{  \n",
      "         \"percUsTr\":0.7,\n",
      "         \"maxTestUsers\":100,\n",
      "         \"maxTrainUsers\":100,\n",
      "         \"ts\":1391011733,\n",
      "         \"minSessionPerUser\":5,\n",
      "         \"onlineTrainingLength\":5,\n",
      "         \"gtLength\":5,\n",
      "         \"minEventPerSessionTraining\":5,\n",
      "         \"minEventPerSessionTest\":11,\n",
      "         \"forceSplitCreation\":\"False\",\n",
      "         \"scriptPath\":\"/tmp/...\",\n",
      "\t    \"reclistSize\":100\n",
      "      },\n",
      "      \"evaluationConfig\":{  \n",
      "         \"metric\":[  \n",
      "            {  \n",
      "               \"type\":\"recall\",\n",
      "               \"scriptPath\":\"/tmp/....\",\n",
      "               \"props\":{  \n",
      "                  \"N\":5\n",
      "               }\n",
      "            }\n",
      "         ],\n",
      "         \"excludeAlreadyListened\":\"True\",\n",
      "         \"forceAlgoEvaluation\":\"False\",\n",
      "         \"testLength\":[  \n",
      "            1,\n",
      "            5,\n",
      "            \"remaining\"\n",
      "         ]\n",
      "      }\n",
      "   }\n",
      "}\n",
      "\"\"\"\n",
      ")\n",
      "\n",
      "config = json.loads(json.loads(str(configJson)))\n",
      "print config[\"config\"][\"algoConfig\"][\"props\"][\"clusterSimilarityThreshold\"]\n",
      "print config[\"config\"][\"algoConfig\"][\"props\"][\"sessionJaccardShrinkage\"]"
     ],
     "language": "python",
     "metadata": {},
     "outputs": [
      {
       "output_type": "stream",
       "stream": "stdout",
       "text": [
        "0.5\n",
        "5\n"
       ]
      }
     ],
     "prompt_number": 161
    },
    {
     "cell_type": "code",
     "collapsed": false,
     "input": [
      "execfile('/home/roberto/spark-scripts/music/scripts/ToBeUploaded/utils.py')\n",
      "execfile('/home/roberto/spark-scripts/music/scripts/ToBeUploaded/implicitPlaylistAlgoFunctions.py')"
     ],
     "language": "python",
     "metadata": {},
     "outputs": [],
     "prompt_number": 198
    },
    {
     "cell_type": "code",
     "collapsed": false,
     "input": [
      "train,test = loadDataset(configJson)\n",
      "train.first()"
     ],
     "language": "python",
     "metadata": {},
     "outputs": [
      {
       "metadata": {},
       "output_type": "pyout",
       "prompt_number": 163,
       "text": [
        "u'{\"linkedinfo\": {\"subjects\": [{\"type\": \"user\", \"id\": 38984}], \"objects\": [{\"playratio\": 0.91, \"playstart\": 0, \"action\": \"play\", \"playtime\": 211, \"type\": \"track\", \"id\": 2466677}, {\"playratio\": 1.91, \"playstart\": 211, \"action\": \"play\", \"playtime\": 453, \"type\": \"track\", \"id\": 626052}, {\"playratio\": 1.0, \"playstart\": 664, \"action\": \"play\", \"playtime\": 245, \"type\": \"track\", \"id\": 625912}, {\"playratio\": 0.83, \"playstart\": 909, \"action\": \"play\", \"playtime\": 170, \"type\": \"track\", \"id\": 626234}, {\"playratio\": 1.01, \"playstart\": 1079, \"action\": \"play\", \"playtime\": 280, \"type\": \"track\", \"id\": 693104}, {\"playratio\": 1.0, \"playstart\": 1359, \"action\": \"play\", \"playtime\": 154, \"type\": \"track\", \"id\": 693063}, {\"playratio\": 1.01, \"playstart\": 1513, \"action\": \"play\", \"playtime\": 300, \"type\": \"track\", \"id\": 693216}, {\"playratio\": 1.54, \"playstart\": 1813, \"action\": \"play\", \"playtime\": 443, \"type\": \"track\", \"id\": 693055}, {\"playratio\": 1.09, \"playstart\": 2256, \"action\": \"play\", \"playtime\": 302, \"type\": \"track\", \"id\": 918024}, {\"playratio\": 1.0, \"playstart\": 2558, \"action\": \"play\", \"playtime\": 205, \"type\": \"track\", \"id\": 626234}, {\"playratio\": 0.72, \"playstart\": 2763, \"action\": \"play\", \"playtime\": 224, \"type\": \"track\", \"id\": 625884}, {\"playratio\": 1.0, \"playstart\": 2987, \"action\": \"play\", \"playtime\": 260, \"type\": \"track\", \"id\": 3443073}, {\"playratio\": 1.05, \"playstart\": 3247, \"action\": \"play\", \"playtime\": 195, \"type\": \"track\", \"id\": 3443058}, {\"playratio\": 1.07, \"playstart\": 3442, \"action\": \"play\", \"playtime\": 260, \"type\": \"track\", \"id\": 1245811}, {\"playratio\": 1.01, \"playstart\": 3702, \"action\": \"play\", \"playtime\": 270, \"type\": \"track\", \"id\": 1193370}, {\"playratio\": 1.11, \"playstart\": 3972, \"action\": \"play\", \"playtime\": 265, \"type\": \"track\", \"id\": 2675549}, {\"playratio\": 1.14, \"playstart\": 4237, \"action\": \"play\", \"playtime\": 385, \"type\": \"track\", \"id\": 3026315}, {\"playratio\": 1.03, \"playstart\": 4622, \"action\": \"play\", \"playtime\": 349, \"type\": \"track\", \"id\": 3103272}, {\"playratio\": 1.01, \"playstart\": 4971, \"action\": \"play\", \"playtime\": 387, \"type\": \"track\", \"id\": 3103266}, {\"playratio\": 1.01, \"playstart\": 5358, \"action\": \"play\", \"playtime\": 281, \"type\": \"track\", \"id\": 3103284}, {\"playratio\": null, \"playstart\": 5639, \"action\": null, \"playtime\": -1, \"type\": \"track\", \"id\": 3103299}]}, \"properties\": {\"playtime\": 5638, \"numtracks\": 21}, \"type\": \"event.session\", \"id\": \"1008377\", \"ts\": \"1420652314\"}'"
       ]
      }
     ],
     "prompt_number": 163
    },
    {
     "cell_type": "code",
     "collapsed": false,
     "input": [
      "userTrackCountRDD = getUserTrackCountRDD(train)\n",
      "userTrackCountRDD.persist()\n",
      "userTrackCountRDD.first()"
     ],
     "language": "python",
     "metadata": {},
     "outputs": [
      {
       "metadata": {},
       "output_type": "pyout",
       "prompt_number": 164,
       "text": [
        "((10055, 3629355), 1)"
       ]
      }
     ],
     "prompt_number": 164
    },
    {
     "cell_type": "code",
     "collapsed": false,
     "input": [
      "validSessions = getValidSessionIds(train, config[\"config\"][\"algoConfig\"][\"props\"][\"sessionJaccardShrinkage\"], config[\"config\"][\"algoConfig\"][\"props\"][\"clusterSimilarityThreshold\"])"
     ],
     "language": "python",
     "metadata": {},
     "outputs": [],
     "prompt_number": 165
    },
    {
     "cell_type": "code",
     "collapsed": false,
     "input": [
      "playlists = getImplicitPlaylists(train,validSessions)"
     ],
     "language": "python",
     "metadata": {},
     "outputs": [],
     "prompt_number": 166
    },
    {
     "cell_type": "code",
     "collapsed": false,
     "input": [
      "userPlaylistRDD = matmul_join(userTrackCountRDD, playlists)"
     ],
     "language": "python",
     "metadata": {},
     "outputs": [],
     "prompt_number": 167
    },
    {
     "cell_type": "code",
     "collapsed": false,
     "input": [
      "test.first()"
     ],
     "language": "python",
     "metadata": {},
     "outputs": [
      {
       "metadata": {},
       "output_type": "pyout",
       "prompt_number": 187,
       "text": [
        "u'{\"linkedinfo\": {\"objects\": [{\"playratio\": 0.98, \"playstart\": 0, \"action\": \"play\", \"playtime\": 244, \"type\": \"track\", \"id\": 260620}, {\"playratio\": 1.0, \"playstart\": 244, \"action\": \"play\", \"playtime\": 279, \"type\": \"track\", \"id\": 260633}, {\"playratio\": 1.1, \"playstart\": 523, \"action\": \"play\", \"playtime\": 269, \"type\": \"track\", \"id\": 260689}, {\"playratio\": null, \"playstart\": 792, \"action\": \"play\", \"playtime\": 364, \"type\": \"track\", \"id\": 4545450}, {\"playratio\": 1.17, \"playstart\": 1156, \"action\": \"play\", \"playtime\": 254, \"type\": \"track\", \"id\": 260664}], \"subjects\": [{\"type\": \"user\", \"id\": 40960}]}, \"properties\": {\"reclistSize\": 100}, \"type\": \"request\", \"id\": 4096001420015097, \"ts\": \"1420015097\"}'"
       ]
      }
     ],
     "prompt_number": 187
    },
    {
     "cell_type": "code",
     "collapsed": false,
     "input": [
      "#(((userid, sessionid, ts), trackid), weight)\n",
      "sessionTrackRDD = test.flatMap(lambda line : decay(line, config[\"config\"][\"algoConfig\"][\"props\"][\"expDecayFactor\"]))\n",
      "print '(((userid, sessionid, ts), trackid), weight)'\n",
      "sessionTrackRDD.take(10)"
     ],
     "language": "python",
     "metadata": {},
     "outputs": [
      {
       "output_type": "stream",
       "stream": "stdout",
       "text": [
        "(((userid, sessionid, ts), trackid), weight)\n"
       ]
      },
      {
       "metadata": {},
       "output_type": "pyout",
       "prompt_number": 200,
       "text": [
        "[(((40960, 4096001420015097, 1420015097), 260664), 1),\n",
        " (((40960, 4096001420015097, 1420015097), 4545450), 0.5),\n",
        " (((40960, 4096001420015097, 1420015097), 260689), 0.25),\n",
        " (((40960, 4096001420015097, 1420015097), 260633), 0.125),\n",
        " (((40960, 4096001420015097, 1420015097), 260620), 0.0625),\n",
        " (((40960, 4096001419887077, 1419887077), 3366320), 1),\n",
        " (((40960, 4096001419887077, 1419887077), 2581144), 0.5),\n",
        " (((40960, 4096001419887077, 1419887077), 1856997), 0.25),\n",
        " (((40960, 4096001419887077, 1419887077), 2581004), 0.125),\n",
        " (((40960, 4096001419887077, 1419887077), 438475), 0.0625)]"
       ]
      }
     ],
     "prompt_number": 200
    },
    {
     "cell_type": "code",
     "collapsed": false,
     "input": [
      "predictedPlaylistRDD = matmul_join(sessionTrackRDD, playlists)\n",
      "predictedPlaylistRDD.first()"
     ],
     "language": "python",
     "metadata": {},
     "outputs": [
      {
       "metadata": {},
       "output_type": "pyout",
       "prompt_number": 201,
       "text": [
        "(((21174, 2117401421220192, 1421220192), 45), 0.0625)"
       ]
      }
     ],
     "prompt_number": 201
    },
    {
     "cell_type": "code",
     "collapsed": false,
     "input": [
      "playlistTracksRDD = playlists.map(lambda x:(x[0][0], x[0][1])).groupByKey()\n",
      "playlistTracksRDD.first()"
     ],
     "language": "python",
     "metadata": {},
     "outputs": [
      {
       "metadata": {},
       "output_type": "pyout",
       "prompt_number": 202,
       "text": [
        "(0, <pyspark.resultiterable.ResultIterable at 0x7fb1c4f353d0>)"
       ]
      }
     ],
     "prompt_number": 202
    },
    {
     "cell_type": "code",
     "collapsed": false,
     "input": [
      "# maps playlist id to its tracks\n",
      "predictedTracksRDD = predictedPlaylistRDD.map(lambda x: (x[0][1], (x[0][0], x[1])))\\\n",
      "    .join(playlistTracksRDD).map(lambda x: ((x[1][0][0], x[1][1]), x[1][0][1]))\n",
      "predictedTracksRDD.first()"
     ],
     "language": "python",
     "metadata": {},
     "outputs": [
      {
       "metadata": {},
       "output_type": "pyout",
       "prompt_number": 203,
       "text": [
        "(((13699, 1369901414280005, 1414280005),\n",
        "  <pyspark.resultiterable.ResultIterable at 0x7fb1c4ef5cd0>),\n",
        " 0.125)"
       ]
      }
     ],
     "prompt_number": 203
    },
    {
     "cell_type": "code",
     "collapsed": false,
     "input": [
      "sessionPlaylistWeightedRDD = predictedTracksRDD.map(lambda x:(x[0][0],(x[0][1], x[1]))).groupByKey()\n",
      "print sessionPlaylistWeightedRDD.first()\n",
      "predictedTraksWithProfile = sessionTrackRDD.map(lambda x: x[0]).groupByKey().join(sessionPlaylistWeightedRDD)\n",
      "print predictedTraksWithProfile.first()\n",
      "\n",
      "\n",
      "if config[\"config\"][\"algoConfig\"][\"excludeAlreadyListenedTest\"] != 0:\n",
      "    predictedTracks = predictedTraksWithProfile.map(lambda x:(x[0], bestTracks(x[1][1],x[1][0], config[\"config\"][\"splitConfig\"][\"reclistSize\"])))\n",
      "else:\n",
      "    predictedTracks = predictedTraksWithProfile.map(lambda x:(x[0], bestTracks(x[1][1],[], config[\"config\"][\"splitConfig\"][\"reclistSize\"])))\n",
      "\n",
      "\n",
      "print predictedTracks.first()"
     ],
     "language": "python",
     "metadata": {},
     "outputs": [
      {
       "output_type": "stream",
       "stream": "stdout",
       "text": [
        "((9919, 991901421241327, 1421241327), <pyspark.resultiterable.ResultIterable object at 0x7fb1c4ed87d0>)\n",
        "((10691, 1069101421421457, 1421421457), (<pyspark.resultiterable.ResultIterable object at 0x7fb1c4fdb810>, <pyspark.resultiterable.ResultIterable object at 0x7fb1c4fdb950>))"
       ]
      },
      {
       "output_type": "stream",
       "stream": "stdout",
       "text": [
        "\n",
        "((10691, 1069101421421457, 1421421457), [(1924930, 0), (548755, 1), (1458600, 2), (3511772, 3), (668833, 4), (3666620, 5), (2185901, 6), (2541854, 7), (145680, 8), (2409460, 9), (3755256, 10), (964725, 11), (686343, 12), (3082286, 13), (2447746, 14), (3509862, 15), (685833, 16), (2212089, 17), (927152, 18), (830485, 19), (576739, 20), (2079390, 21), (2526042, 22), (42094, 23), (633121, 24), (3156939, 25), (3520492, 26), (289207, 27), (375509, 28), (2133445, 29), (232971, 30), (2212215, 31), (2369260, 32), (2819847, 33), (289298, 34), (3520629, 35), (3240566, 36), (1682807, 37), (289246, 38), (1627749, 39), (158151, 40), (92862, 41), (1348038, 42), (1068996, 43), (2514759, 44), (1627676, 45), (1168951, 46), (3666654, 47), (1502878, 48), (1924930, 49), (548755, 50), (3511772, 51), (1458600, 52), (668833, 53), (3666620, 54), (2185901, 55), (145680, 56), (2541854, 57), (2409460, 58), (686343, 59), (3755256, 60), (3082286, 61), (3509862, 62), (2447746, 63), (964725, 64), (2212089, 65), (685833, 66), (927152, 67), (830485, 68), (576739, 69), (2526042, 70), (42094, 71), (2079390, 72), (3520492, 73), (289207, 74), (3156939, 75), (633121, 76), (2133445, 77), (375509, 78), (232971, 79), (2819847, 80), (3520629, 81), (92862, 82), (3240566, 83), (289298, 84), (1627749, 85), (158151, 86), (289246, 87), (1682807, 88), (1627676, 89), (1502878, 90), (1168951, 91), (1040900, 92), (1068996, 93), (2514759, 94), (1348038, 95), (2384044, 96), (2212215, 97), (3462704, 98), (3462727, 99)])"
       ]
      },
      {
       "output_type": "stream",
       "stream": "stdout",
       "text": [
        "\n"
       ]
      }
     ],
     "prompt_number": 204
    },
    {
     "cell_type": "code",
     "collapsed": false,
     "input": [
      "recJsonRDD = predictedTracks.zipWithIndex().map(lambda x: recToJson(x))\n",
      "recJsonRDD.first()"
     ],
     "language": "python",
     "metadata": {},
     "outputs": [
      {
       "metadata": {},
       "output_type": "pyout",
       "prompt_number": 211,
       "text": [
        "'{\"linkedinfo\": {\"subjects\": [{\"type\": \"recId\", \"id\": 1069101421421457}], \"objects\": [{\"position\": {}, \"type\": \"track\", \"id\": 1924930, \"rank\": 0}, {\"position\": {}, \"type\": \"track\", \"id\": 548755, \"rank\": 1}, {\"position\": {}, \"type\": \"track\", \"id\": 1458600, \"rank\": 2}, {\"position\": {}, \"type\": \"track\", \"id\": 3511772, \"rank\": 3}, {\"position\": {}, \"type\": \"track\", \"id\": 668833, \"rank\": 4}, {\"position\": {}, \"type\": \"track\", \"id\": 3666620, \"rank\": 5}, {\"position\": {}, \"type\": \"track\", \"id\": 2185901, \"rank\": 6}, {\"position\": {}, \"type\": \"track\", \"id\": 2541854, \"rank\": 7}, {\"position\": {}, \"type\": \"track\", \"id\": 145680, \"rank\": 8}, {\"position\": {}, \"type\": \"track\", \"id\": 2409460, \"rank\": 9}, {\"position\": {}, \"type\": \"track\", \"id\": 3755256, \"rank\": 10}, {\"position\": {}, \"type\": \"track\", \"id\": 964725, \"rank\": 11}, {\"position\": {}, \"type\": \"track\", \"id\": 686343, \"rank\": 12}, {\"position\": {}, \"type\": \"track\", \"id\": 3082286, \"rank\": 13}, {\"position\": {}, \"type\": \"track\", \"id\": 2447746, \"rank\": 14}, {\"position\": {}, \"type\": \"track\", \"id\": 3509862, \"rank\": 15}, {\"position\": {}, \"type\": \"track\", \"id\": 685833, \"rank\": 16}, {\"position\": {}, \"type\": \"track\", \"id\": 2212089, \"rank\": 17}, {\"position\": {}, \"type\": \"track\", \"id\": 927152, \"rank\": 18}, {\"position\": {}, \"type\": \"track\", \"id\": 830485, \"rank\": 19}, {\"position\": {}, \"type\": \"track\", \"id\": 576739, \"rank\": 20}, {\"position\": {}, \"type\": \"track\", \"id\": 2079390, \"rank\": 21}, {\"position\": {}, \"type\": \"track\", \"id\": 2526042, \"rank\": 22}, {\"position\": {}, \"type\": \"track\", \"id\": 42094, \"rank\": 23}, {\"position\": {}, \"type\": \"track\", \"id\": 633121, \"rank\": 24}, {\"position\": {}, \"type\": \"track\", \"id\": 3156939, \"rank\": 25}, {\"position\": {}, \"type\": \"track\", \"id\": 3520492, \"rank\": 26}, {\"position\": {}, \"type\": \"track\", \"id\": 289207, \"rank\": 27}, {\"position\": {}, \"type\": \"track\", \"id\": 375509, \"rank\": 28}, {\"position\": {}, \"type\": \"track\", \"id\": 2133445, \"rank\": 29}, {\"position\": {}, \"type\": \"track\", \"id\": 232971, \"rank\": 30}, {\"position\": {}, \"type\": \"track\", \"id\": 2212215, \"rank\": 31}, {\"position\": {}, \"type\": \"track\", \"id\": 2369260, \"rank\": 32}, {\"position\": {}, \"type\": \"track\", \"id\": 2819847, \"rank\": 33}, {\"position\": {}, \"type\": \"track\", \"id\": 289298, \"rank\": 34}, {\"position\": {}, \"type\": \"track\", \"id\": 3520629, \"rank\": 35}, {\"position\": {}, \"type\": \"track\", \"id\": 3240566, \"rank\": 36}, {\"position\": {}, \"type\": \"track\", \"id\": 1682807, \"rank\": 37}, {\"position\": {}, \"type\": \"track\", \"id\": 289246, \"rank\": 38}, {\"position\": {}, \"type\": \"track\", \"id\": 1627749, \"rank\": 39}, {\"position\": {}, \"type\": \"track\", \"id\": 158151, \"rank\": 40}, {\"position\": {}, \"type\": \"track\", \"id\": 92862, \"rank\": 41}, {\"position\": {}, \"type\": \"track\", \"id\": 1348038, \"rank\": 42}, {\"position\": {}, \"type\": \"track\", \"id\": 1068996, \"rank\": 43}, {\"position\": {}, \"type\": \"track\", \"id\": 2514759, \"rank\": 44}, {\"position\": {}, \"type\": \"track\", \"id\": 1627676, \"rank\": 45}, {\"position\": {}, \"type\": \"track\", \"id\": 1168951, \"rank\": 46}, {\"position\": {}, \"type\": \"track\", \"id\": 3666654, \"rank\": 47}, {\"position\": {}, \"type\": \"track\", \"id\": 1502878, \"rank\": 48}, {\"position\": {}, \"type\": \"track\", \"id\": 1924930, \"rank\": 49}, {\"position\": {}, \"type\": \"track\", \"id\": 548755, \"rank\": 50}, {\"position\": {}, \"type\": \"track\", \"id\": 3511772, \"rank\": 51}, {\"position\": {}, \"type\": \"track\", \"id\": 1458600, \"rank\": 52}, {\"position\": {}, \"type\": \"track\", \"id\": 668833, \"rank\": 53}, {\"position\": {}, \"type\": \"track\", \"id\": 3666620, \"rank\": 54}, {\"position\": {}, \"type\": \"track\", \"id\": 2185901, \"rank\": 55}, {\"position\": {}, \"type\": \"track\", \"id\": 145680, \"rank\": 56}, {\"position\": {}, \"type\": \"track\", \"id\": 2541854, \"rank\": 57}, {\"position\": {}, \"type\": \"track\", \"id\": 2409460, \"rank\": 58}, {\"position\": {}, \"type\": \"track\", \"id\": 686343, \"rank\": 59}, {\"position\": {}, \"type\": \"track\", \"id\": 3755256, \"rank\": 60}, {\"position\": {}, \"type\": \"track\", \"id\": 3082286, \"rank\": 61}, {\"position\": {}, \"type\": \"track\", \"id\": 3509862, \"rank\": 62}, {\"position\": {}, \"type\": \"track\", \"id\": 2447746, \"rank\": 63}, {\"position\": {}, \"type\": \"track\", \"id\": 964725, \"rank\": 64}, {\"position\": {}, \"type\": \"track\", \"id\": 2212089, \"rank\": 65}, {\"position\": {}, \"type\": \"track\", \"id\": 685833, \"rank\": 66}, {\"position\": {}, \"type\": \"track\", \"id\": 927152, \"rank\": 67}, {\"position\": {}, \"type\": \"track\", \"id\": 830485, \"rank\": 68}, {\"position\": {}, \"type\": \"track\", \"id\": 576739, \"rank\": 69}, {\"position\": {}, \"type\": \"track\", \"id\": 2526042, \"rank\": 70}, {\"position\": {}, \"type\": \"track\", \"id\": 42094, \"rank\": 71}, {\"position\": {}, \"type\": \"track\", \"id\": 2079390, \"rank\": 72}, {\"position\": {}, \"type\": \"track\", \"id\": 3520492, \"rank\": 73}, {\"position\": {}, \"type\": \"track\", \"id\": 289207, \"rank\": 74}, {\"position\": {}, \"type\": \"track\", \"id\": 3156939, \"rank\": 75}, {\"position\": {}, \"type\": \"track\", \"id\": 633121, \"rank\": 76}, {\"position\": {}, \"type\": \"track\", \"id\": 2133445, \"rank\": 77}, {\"position\": {}, \"type\": \"track\", \"id\": 375509, \"rank\": 78}, {\"position\": {}, \"type\": \"track\", \"id\": 232971, \"rank\": 79}, {\"position\": {}, \"type\": \"track\", \"id\": 2819847, \"rank\": 80}, {\"position\": {}, \"type\": \"track\", \"id\": 3520629, \"rank\": 81}, {\"position\": {}, \"type\": \"track\", \"id\": 92862, \"rank\": 82}, {\"position\": {}, \"type\": \"track\", \"id\": 3240566, \"rank\": 83}, {\"position\": {}, \"type\": \"track\", \"id\": 289298, \"rank\": 84}, {\"position\": {}, \"type\": \"track\", \"id\": 1627749, \"rank\": 85}, {\"position\": {}, \"type\": \"track\", \"id\": 158151, \"rank\": 86}, {\"position\": {}, \"type\": \"track\", \"id\": 289246, \"rank\": 87}, {\"position\": {}, \"type\": \"track\", \"id\": 1682807, \"rank\": 88}, {\"position\": {}, \"type\": \"track\", \"id\": 1627676, \"rank\": 89}, {\"position\": {}, \"type\": \"track\", \"id\": 1502878, \"rank\": 90}, {\"position\": {}, \"type\": \"track\", \"id\": 1168951, \"rank\": 91}, {\"position\": {}, \"type\": \"track\", \"id\": 1040900, \"rank\": 92}, {\"position\": {}, \"type\": \"track\", \"id\": 1068996, \"rank\": 93}, {\"position\": {}, \"type\": \"track\", \"id\": 2514759, \"rank\": 94}, {\"position\": {}, \"type\": \"track\", \"id\": 1348038, \"rank\": 95}, {\"position\": {}, \"type\": \"track\", \"id\": 2384044, \"rank\": 96}, {\"position\": {}, \"type\": \"track\", \"id\": 2212215, \"rank\": 97}, {\"position\": {}, \"type\": \"track\", \"id\": 3462704, \"rank\": 98}, {\"position\": {}, \"type\": \"track\", \"id\": 3462727, \"rank\": 99}]}, \"properties\": {}, \"type\": \"response\", \"id\": 0, \"ts\": 1421421457}'"
       ]
      }
     ],
     "prompt_number": 211
    },
    {
     "cell_type": "code",
     "collapsed": false,
     "input": [],
     "language": "python",
     "metadata": {},
     "outputs": []
    }
   ],
   "metadata": {}
  }
 ]
}
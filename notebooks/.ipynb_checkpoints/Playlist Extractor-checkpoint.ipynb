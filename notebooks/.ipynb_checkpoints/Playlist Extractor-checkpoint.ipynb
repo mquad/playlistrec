{
 "metadata": {
  "name": "",
  "signature": "sha256:0161f79192ef14d280a9359e93fc19f6a19262f260c13842ef2809231b27ee51"
 },
 "nbformat": 3,
 "nbformat_minor": 0,
 "worksheets": [
  {
   "cells": [
    {
     "cell_type": "heading",
     "level": 1,
     "metadata": {},
     "source": [
      "Explicit Playlist Extraction"
     ]
    },
    {
     "cell_type": "code",
     "collapsed": false,
     "input": [
      "import json\n",
      "\n",
      "def readJson(data,field):\n",
      "    return json.loads(data)[field]\n",
      "\n",
      "def returnTrackIdListTuple(line):\n",
      "    #user = readJson(firstE.split(\"\\t\")[4],\"subjects\")[0]['id']\n",
      "    tracks = []\n",
      "    for i in readJson(firstE.split(\"\\t\")[4],\"objects\"):\n",
      "        tracks.append(\"t_\"+str(i['id']))\n",
      "    return tracks\n",
      "\n",
      "def unrollPlayListAndAssignCounter(listOfLists):\n",
      "    count = 0\n",
      "    resList = []\n",
      "    for pl in listOfLists:\n",
      "        pl_id = \"p_\"+str(count)\n",
      "        count += 1\n",
      "        for t in pl:\n",
      "            resList.append( (pl_id,t) )\n",
      "    return resList\n",
      "    \n",
      "    \n",
      "playlistFilename = 's3n://contentwise-research-poli/30musicdataset/entities/playlist.idomaar'\n",
      "\n",
      "pl_raw_rdd = sc.textFile(playlistFilename)\n",
      "\n",
      "playlists = pl_raw_rdd.map(lambda line: (1,returnTrackIdListTuple(line) )).groupByKey()\\\n",
      "    .flatMap(lambda x: unrollPlayListAndAssignCounter(x[1]))"
     ],
     "language": "python",
     "metadata": {},
     "outputs": [],
     "prompt_number": 43
    }
   ],
   "metadata": {}
  }
 ]
}
{
 "metadata": {
  "name": "",
  "signature": "sha256:0ab2e0f1ee7905c8e8e6d858c9384d3210fa34919cfcc2c8e7884c4a5f8e6b30"
 },
 "nbformat": 3,
 "nbformat_minor": 0,
 "worksheets": [
  {
   "cells": [
    {
     "cell_type": "heading",
     "level": 1,
     "metadata": {},
     "source": [
      "Reading the conf file"
     ]
    },
    {
     "cell_type": "code",
     "collapsed": false,
     "input": [
      "import json\n",
      "import copy\n",
      "\n",
      "conf = {}\n",
      "\n",
      "conf['split'] = {}\n",
      "conf['split']['reclistSize'] = 100\n",
      "conf['split']['callParams'] = {}\n",
      "conf['split']['excludeAlreadyListenedTest'] = True\n",
      "#conf['split']['name'] = 'ImplicitPlaylist_exp_0.5_clustSim_0.3'\n",
      "conf['split']['name'] = 'giroCompletoTestLibFM'\n",
      "conf['split']['minEventsPerUser'] = 5\n",
      "conf['split']['inputData'] = 's3n://contentwise-research-poli/30musicdataset/newFormat/relations/sessions.idomaar/part-00000'\n",
      "#conf['split']['inputData'] = 's3n://contentwise-research-poli/30musicdataset/newFormat/relations/sessions.idomaar'\n",
      "conf['split']['bucketName'] = 'contentwise-research-poli'\n",
      "conf['split']['percUsTr'] = 0.05\n",
      "conf['split']['ts'] = int(0.75 * (1421745857 - 1390209860) + 1390209860) - 10000\n",
      "conf['split']['minEventPerSession'] = 5\n",
      "conf['split']['onlineTrainingLength'] = 5\n",
      "conf['split']['GTlength'] = 5\n",
      "conf['split']['minEventPerSessionTraining'] = 10\n",
      "conf['split']['minEventPerSessionTest'] = 11\n",
      "conf['split']['mode'] = 'session'\n",
      "conf['split']['forceSplitCreation'] = False\n",
      "\n",
      "conf['evaluation'] = {}\n",
      "conf['evaluation']['metric'] = {}\n",
      "conf['evaluation']['metric']['type'] = 'recall'\n",
      "conf['evaluation']['metric']['prop'] = {}\n",
      "conf['evaluation']['metric']['prop']['N'] = [1,2,5,10,15,20,25,50,100]\n",
      "conf['evaluation']['name'] = 'recall@N'\n",
      "\n",
      "conf['general'] = {}\n",
      "conf['general']['clientname'] = \"split\"\n",
      "conf['general']['bucketName'] = 'contentwise-research-poli'\n",
      "\n",
      "conf['algo'] = {}\n",
      "conf['algo']['name'] = 'LibFM'\n",
      "conf['algo']['props'] = {}\n",
      "conf['algo']['props']['collaborativity'] = 'individual' #collaborative-all, collaborative-knn (only individual implemented)\n",
      "conf['algo']['props']['trainCreation'] = 'leaveoneout' #leaveoneout,sequential implemented\n",
      "conf['algo']['props']['trainFileDir'] = \"/home/roberto/Desktop/testSparkLibFM/trains/\" #has to be a valid dir\n",
      "conf['algo']['props']['libFMCallAndOptions'] = \"/opt/libfm-1.42.src/bin/./libFM -task r -dim '1,1,8' \"#contains also libFM parameters\n",
      "\n",
      "configJson = json.dumps(conf)\n",
      "\n",
      "\n"
     ],
     "language": "python",
     "metadata": {},
     "outputs": [],
     "prompt_number": 1
    },
    {
     "cell_type": "code",
     "collapsed": false,
     "input": [
      "print conf['algo']['name'] + \" \" + conf['split']['name']\n",
      "    \n"
     ],
     "language": "python",
     "metadata": {},
     "outputs": [
      {
       "output_type": "stream",
       "stream": "stdout",
       "text": [
        "LibFM giroCompletoTestLibFM\n"
       ]
      }
     ],
     "prompt_number": 2
    },
    {
     "cell_type": "heading",
     "level": 2,
     "metadata": {},
     "source": [
      "Splitting"
     ]
    },
    {
     "cell_type": "code",
     "collapsed": false,
     "input": [
      "execfile('/home/roberto/spark-scripts/music/scripts/ToBeUploaded/split.py')"
     ],
     "language": "python",
     "metadata": {},
     "outputs": [],
     "prompt_number": 3
    },
    {
     "cell_type": "code",
     "collapsed": false,
     "input": [
      "splitter(conf)"
     ],
     "language": "python",
     "metadata": {},
     "outputs": [
      {
       "output_type": "stream",
       "stream": "stdout",
       "text": [
        "Split already done\n"
       ]
      }
     ],
     "prompt_number": 4
    },
    {
     "cell_type": "heading",
     "level": 2,
     "metadata": {},
     "source": [
      "Recommend!"
     ]
    },
    {
     "cell_type": "code",
     "collapsed": false,
     "input": [
      "execfile('/home/roberto/spark-scripts/music/scripts/ToBeUploaded/utils.py')\n",
      "execfile('/home/roberto/spark-scripts/music/scripts/ToBeUploaded/FMAlgoFunctions.py')\n",
      "execfile('/home/roberto/spark-scripts/music/scripts/ToBeUploaded/FMAlgoMain.py')"
     ],
     "language": "python",
     "metadata": {},
     "outputs": [],
     "prompt_number": 5
    },
    {
     "cell_type": "code",
     "collapsed": false,
     "input": [
      "#recommendations = executeFMAlgo(configJson)\n",
      "recommendations = executeFMAlgoDistributed(configJson)\n",
      "saveRecommendations(configJson,recommendations)"
     ],
     "language": "python",
     "metadata": {},
     "outputs": [],
     "prompt_number": 6
    },
    {
     "cell_type": "heading",
     "level": 2,
     "metadata": {},
     "source": [
      "Evaluation"
     ]
    },
    {
     "cell_type": "code",
     "collapsed": false,
     "input": [
      "execfile('/home/roberto/spark-scripts/music/scripts/ToBeUploaded/eval.py')"
     ],
     "language": "python",
     "metadata": {},
     "outputs": []
    },
    {
     "cell_type": "code",
     "collapsed": false,
     "input": [
      "computeMetrics(conf)"
     ],
     "language": "python",
     "metadata": {},
     "outputs": []
    },
    {
     "cell_type": "code",
     "collapsed": false,
     "input": [
      "print sc.textFile(\"s3n://contentwise-research-poli/split/\" + conf['split']['name'] +  \"/Rec/\" + conf['algo']['name'] +\"/recall@N/metrics\").collect()"
     ],
     "language": "python",
     "metadata": {},
     "outputs": []
    },
    {
     "cell_type": "code",
     "collapsed": false,
     "input": [],
     "language": "python",
     "metadata": {},
     "outputs": []
    }
   ],
   "metadata": {}
  }
 ]
}
{
 "metadata": {
  "name": "",
  "signature": "sha256:66c8c821529d363a93204b16626f782cf00a94b3c6d9b540aa37d3b2a606a565"
 },
 "nbformat": 3,
 "nbformat_minor": 0,
 "worksheets": [
  {
   "cells": [
    {
     "cell_type": "code",
     "collapsed": false,
     "input": [
      "import json\n",
      "import numpy as np"
     ],
     "language": "python",
     "metadata": {},
     "outputs": [],
     "prompt_number": 52
    },
    {
     "cell_type": "code",
     "collapsed": false,
     "input": [
      "# rdd1,rdd2 in the form ((row_idx, col_idx), value)\n",
      "def matmul_join(rdd1, rdd2):\n",
      "    rdd1mult = rdd1.map(lambda x: (x[0][1], (x[0][0], x[1])))\n",
      "    rdd2mult = rdd2.map(lambda x: (x[0][1], (x[0][0], x[1])))\n",
      "    return rdd1mult.join(rdd2mult)\\\n",
      "        .map(lambda x: ((x[1][0][0], x[1][1][0]), x[1][0][1] * x[1][1][1]))\\\n",
      "        .reduceByKey(lambda x,y:x+y)\n",
      "\n",
      "def transpose(rdd):\n",
      "    return rdd.map(lambda x:((x[0][1], x[0][0]), x[1]))\n",
      "        \n",
      "def colsim_join(rdd):\n",
      "    rddmult1 = rdd.map(lambda x: (x[0][0], (x[0][1], x[1])))\n",
      "    rddmult2 = rdd.map(lambda x: (x[0][0], (x[0][1], x[1])))\n",
      "    return rddmult1.join(rddmult2).filter(lambda x: x[1][0][0] != x[1][1][0])\\\n",
      "        .map(lambda x: ((x[1][0][0], x[1][1][0]), x[1][0][1] * x[1][1][1]))\\\n",
      "        .reduceByKey(lambda x,y:x+y)\n"
     ],
     "language": "python",
     "metadata": {},
     "outputs": [],
     "prompt_number": 53
    },
    {
     "cell_type": "code",
     "collapsed": false,
     "input": [
      "percUsTr = 0.7\n",
      "TS = 1391011733\n",
      "minSessionPerUser = 5\n",
      "minEventPerSession = 5\n",
      "onlineTrainingLength = 5\n",
      "GTlength = 5 \n",
      "n = 5\n",
      "minEventPerSessionTraining = 5\n",
      "minEventPerSessionTest = n if n >= onlineTrainingLength + GTlength else onlineTrainingLength + GTlength+1\n",
      "inFile = str('s3n://contentwise-research-poli/split/'+str(TS)+\"_\"+str(percUsTr)+\"_\"+str(minEventPerSessionTraining)\n",
      "            +\"_\"+str(minEventPerSessionTest)+\"/\")"
     ],
     "language": "python",
     "metadata": {},
     "outputs": [],
     "prompt_number": 54
    },
    {
     "cell_type": "code",
     "collapsed": false,
     "input": [
      "# RECOMMENDER ALGORITHM PARAMETERS\n",
      "COS_SHRINKAGE = .5\n",
      "EXP_DECAY_FACTOR = .5\n",
      "REC_LIST_SIZE = 100"
     ],
     "language": "python",
     "metadata": {},
     "outputs": [],
     "prompt_number": 55
    },
    {
     "cell_type": "code",
     "collapsed": false,
     "input": [
      "trainBatch = sc.textFile(inFile+\"train/batchTraining/\").cache()\n",
      "testBatch = sc.textFile(inFile+\"test/batchTraining/\").cache()\n",
      "testOnline = sc.textFile(inFile+\"test/onlineTraining/\").cache()"
     ],
     "language": "python",
     "metadata": {},
     "outputs": [],
     "prompt_number": 56
    },
    {
     "cell_type": "code",
     "collapsed": false,
     "input": [
      "batch = trainBatch.union(testBatch)\n",
      "batch.first()"
     ],
     "language": "python",
     "metadata": {},
     "outputs": [
      {
       "metadata": {},
       "output_type": "pyout",
       "prompt_number": 57,
       "text": [
        "u'event.session\\t1979597\\t1421592330\\t{\"numtracks\":9,\"playtime\":1931}\\t{\"subjects\":[{\"type\":\"user\",\"id\":13312}],\"objects\":[{\"type\":\"track\",\"id\":3532358,\"playstart\":0,\"playtime\":282,\"playratio\":1.00,\"action\":\"play\"},{\"type\":\"track\",\"id\":3532560,\"playstart\":282,\"playtime\":296,\"playratio\":1.14,\"action\":\"play\"},{\"type\":\"track\",\"id\":3532606,\"playstart\":578,\"playtime\":238,\"playratio\":1.00,\"action\":\"play\"},{\"type\":\"track\",\"id\":3532372,\"playstart\":816,\"playtime\":208,\"playratio\":0.99,\"action\":\"play\"},{\"type\":\"track\",\"id\":3532590,\"playstart\":1024,\"playtime\":301,\"playratio\":1.00,\"action\":\"play\"},{\"type\":\"track\",\"id\":3532357,\"playstart\":1325,\"playtime\":197,\"playratio\":1.01,\"action\":\"play\"},{\"type\":\"track\",\"id\":3532619,\"playstart\":1522,\"playtime\":194,\"playratio\":1.00,\"action\":\"play\"},{\"type\":\"track\",\"id\":3532614,\"playstart\":1716,\"playtime\":216,\"playratio\":1.01,\"action\":\"play\"},{\"type\":\"track\",\"id\":3532333,\"playstart\":1932,\"playtime\":-1,\"playratio\":null,\"action\":null}]}'"
       ]
      }
     ],
     "prompt_number": 57
    },
    {
     "cell_type": "code",
     "collapsed": false,
     "input": [
      "tabSplit = lambda x: x.split(\"\\t\")\n",
      "def readJson(x):\n",
      "    return json.loads(x)\n",
      "def flattener(x):\n",
      "    l = list()\n",
      "    uid = int(x['subjects'][0]['id'])\n",
      "    for t in x['objects']:\n",
      "        tid = int(t['id'])\n",
      "        l.append(((uid, tid), 1))\n",
      "    return l\n",
      "userTrackCountRDD = batch.map(tabSplit).map(lambda x: readJson(x[4]))\\\n",
      "        .flatMap(lambda x: flattener(x)).reduceByKey(lambda x,y: x+y)\n",
      "userTrackCountRDD.persist()\n",
      "userTrackCountRDD.first()"
     ],
     "language": "python",
     "metadata": {},
     "outputs": [
      {
       "metadata": {},
       "output_type": "pyout",
       "prompt_number": 58,
       "text": [
        "((3115, 1866719), 1)"
       ]
      }
     ],
     "prompt_number": 58
    },
    {
     "cell_type": "code",
     "collapsed": false,
     "input": [
      "nusers = userTrackCountRDD.map(lambda x:x[0][0]).distinct().count()\n",
      "ntracks = userTrackCountRDD.map(lambda x:x[0][1]).distinct().count()\n",
      "print \"Num.users: \", nusers\n",
      "print \"Num.tracks: \", ntracks"
     ],
     "language": "python",
     "metadata": {},
     "outputs": [
      {
       "output_type": "stream",
       "stream": "stdout",
       "text": [
        "Num.users:  212\n",
        "Num.tracks:  14598\n"
       ]
      }
     ],
     "prompt_number": 59
    },
    {
     "cell_type": "heading",
     "level": 4,
     "metadata": {},
     "source": [
      "Top Popular Tracks"
     ]
    },
    {
     "cell_type": "code",
     "collapsed": false,
     "input": [
      "'''\n",
      "topPopTracksRDD = userTrackCountRDD.map(lambda x: (x[0][1], x[1]))\\\n",
      "    .reduceByKey(lambda x,y: x+y).map(lambda x:(x[1], x[0])).sortByKey(False)\n",
      "topPopTracksRDD.first()\n",
      "'''"
     ],
     "language": "python",
     "metadata": {},
     "outputs": [
      {
       "metadata": {},
       "output_type": "pyout",
       "prompt_number": 60,
       "text": [
        "'\\ntopPopTracksRDD = userTrackCountRDD.map(lambda x: (x[0][1], x[1]))    .reduceByKey(lambda x,y: x+y).map(lambda x:(x[1], x[0])).sortByKey(False)\\ntopPopTracksRDD.first()\\n'"
       ]
      }
     ],
     "prompt_number": 60
    },
    {
     "cell_type": "heading",
     "level": 1,
     "metadata": {},
     "source": [
      "Explicit Playlist Extraction"
     ]
    },
    {
     "cell_type": "code",
     "collapsed": false,
     "input": [
      "def readJson(data,field):\n",
      "    return json.loads(data)[field]\n",
      "\n",
      "def returnTrackIdListTuple(line):\n",
      "    tracks = []\n",
      "    for i in readJson(line.split(\"\\t\")[4],\"objects\"):\n",
      "        if len(i) > 0:\n",
      "            tracks.append(int(i['id']))\n",
      "    return tracks\n",
      "\n",
      "def unrollPlayListAndAssignCounter(listOfLists):\n",
      "    count = 0\n",
      "    resList = []\n",
      "    for pl in listOfLists:\n",
      "        if len(pl) == 0:\n",
      "            continue\n",
      "        pl_id = int(count)\n",
      "        count += 1\n",
      "        for t in pl:\n",
      "            resList.append( ((pl_id, t), 1) )\n",
      "    return resList\n",
      "    \n",
      "    \n",
      "playlistFilename = 's3n://contentwise-research-poli/30musicdataset/entities/playlist.idomaar'\n",
      "\n",
      "pl_raw_rdd = sc.textFile(playlistFilename)\n",
      "\n",
      "playlists = pl_raw_rdd.map(lambda line: (1,returnTrackIdListTuple(line) )).groupByKey()\\\n",
      "    .flatMap(lambda x: unrollPlayListAndAssignCounter(x[1]))\n",
      "playlists.persist()\n",
      "nplaylists = playlists.map(lambda x: x[0]).distinct().count()\n",
      "print \"Num.playlists: \", nplaylists"
     ],
     "language": "python",
     "metadata": {},
     "outputs": [
      {
       "output_type": "stream",
       "stream": "stdout",
       "text": [
        "Num.playlists:  1602290\n"
       ]
      }
     ],
     "prompt_number": 61
    },
    {
     "cell_type": "code",
     "collapsed": false,
     "input": [
      "playlists.take(10)"
     ],
     "language": "python",
     "metadata": {},
     "outputs": [
      {
       "metadata": {},
       "output_type": "pyout",
       "prompt_number": 62,
       "text": [
        "[((0, 3006631), 1),\n",
        " ((0, 1885124), 1),\n",
        " ((0, 2548942), 1),\n",
        " ((0, 1350486), 1),\n",
        " ((0, 3734368), 1),\n",
        " ((0, 3559010), 1),\n",
        " ((0, 1843196), 1),\n",
        " ((0, 1480428), 1),\n",
        " ((0, 3287322), 1),\n",
        " ((0, 2289919), 1)]"
       ]
      }
     ],
     "prompt_number": 62
    },
    {
     "cell_type": "heading",
     "level": 1,
     "metadata": {},
     "source": [
      "User-Playlist Matrix Generation"
     ]
    },
    {
     "cell_type": "code",
     "collapsed": false,
     "input": [
      "userPlaylistRDD = matmul_join(userTrackCountRDD, playlists)"
     ],
     "language": "python",
     "metadata": {},
     "outputs": [],
     "prompt_number": 63
    },
    {
     "cell_type": "code",
     "collapsed": false,
     "input": [
      "userPlaylistRDD.count()"
     ],
     "language": "python",
     "metadata": {},
     "outputs": [
      {
       "metadata": {},
       "output_type": "pyout",
       "prompt_number": 64,
       "text": [
        "119702"
       ]
      }
     ],
     "prompt_number": 64
    },
    {
     "cell_type": "code",
     "collapsed": false,
     "input": [
      "nusers = userPlaylistRDD.map(lambda x:x[0][0]).distinct().count()\n",
      "nplaylists = userPlaylistRDD.map(lambda x:x[0][1]).distinct().count()\n",
      "print 'Num.users: ', nusers\n",
      "print 'Num.playlists: ', nplaylists"
     ],
     "language": "python",
     "metadata": {},
     "outputs": [
      {
       "output_type": "stream",
       "stream": "stdout",
       "text": [
        "Num.users:  207\n",
        "Num.playlists:  26567\n"
       ]
      }
     ],
     "prompt_number": 65
    },
    {
     "cell_type": "heading",
     "level": 1,
     "metadata": {},
     "source": [
      "Playlist-Playlist Cosine Similarity"
     ]
    },
    {
     "cell_type": "code",
     "collapsed": false,
     "input": [
      "## norm(line) = sqrt ( sum ( a_i ^2)) for a_i from line\n",
      "normMatrixRDD = userPlaylistRDD.map(lambda x: (x[0][1], x[1]))\\\n",
      "                    .map(lambda x: (x[0], x[1]*x[1]))\\\n",
      "                    .reduceByKey(lambda x,y: x+y)\\\n",
      "                    .map(lambda x: (x[0],np.sqrt(x[1])))\n",
      "normMatrixRDD.first()"
     ],
     "language": "python",
     "metadata": {},
     "outputs": [
      {
       "metadata": {},
       "output_type": "pyout",
       "prompt_number": 66,
       "text": [
        "(0, 1.4142135623730951)"
       ]
      }
     ],
     "prompt_number": 66
    },
    {
     "cell_type": "code",
     "collapsed": false,
     "input": [
      "userPlaylistRDD.map(lambda x:(x[0][1], (x[0][0], x[1]))).join(normMatrixRDD).first()"
     ],
     "language": "python",
     "metadata": {},
     "outputs": [
      {
       "metadata": {},
       "output_type": "pyout",
       "prompt_number": 67,
       "text": [
        "(18432, ((43812, 1), 3.1622776601683795))"
       ]
      }
     ],
     "prompt_number": 67
    },
    {
     "cell_type": "code",
     "collapsed": false,
     "input": [
      "normSparseMatrixRDDelements = userPlaylistRDD.map(lambda x:(x[0][1], (x[0][0], x[1]))).join(normMatrixRDD)  \\\n",
      "                                .map(lambda x: ((x[1][0][0], x[0]), x[1][0][1] / (COS_SHRINKAGE + x[1][1] ))) \n",
      "normSparseMatrixRDDelements.first()"
     ],
     "language": "python",
     "metadata": {},
     "outputs": [
      {
       "metadata": {},
       "output_type": "pyout",
       "prompt_number": 68,
       "text": [
        "((43812, 18432), 0.27305411899162862)"
       ]
      }
     ],
     "prompt_number": 68
    },
    {
     "cell_type": "code",
     "collapsed": false,
     "input": [
      "'''\n",
      "item_itemRDDelements = normSparseMatrixRDDelements.cartesian(normSparseMatrixRDDelements)\\\n",
      "        .filter(lambda x: x[0][0] != x[1][0] and x[0][1][0] == x[1][1][0]).coalesce(8)\\\n",
      "        .map(lambda x: (x[0][0]+\"_\"+x[1][0], x[0][1][1] * x[1][1][1]))\\\n",
      "        .reduceByKey(lambda x,y: x+y)\n",
      "\n",
      "item_itemRDDelements.first()\n",
      "'''"
     ],
     "language": "python",
     "metadata": {},
     "outputs": [
      {
       "metadata": {},
       "output_type": "pyout",
       "prompt_number": 69,
       "text": [
        "'\\nitem_itemRDDelements = normSparseMatrixRDDelements.cartesian(normSparseMatrixRDDelements)        .filter(lambda x: x[0][0] != x[1][0] and x[0][1][0] == x[1][1][0]).coalesce(8)        .map(lambda x: (x[0][0]+\"_\"+x[1][0], x[0][1][1] * x[1][1][1]))        .reduceByKey(lambda x,y: x+y)\\n\\nitem_itemRDDelements.first()\\n'"
       ]
      }
     ],
     "prompt_number": 69
    },
    {
     "cell_type": "code",
     "collapsed": false,
     "input": [
      "'''\n",
      "from scipy.sparse import csc_matrix\n",
      "\n",
      "def tosparse(l, max_row_id):\n",
      "    data =[i[0] for i in l]\n",
      "    col = [i[1] for i in l]\n",
      "    row = np.zeros(len(col))\n",
      "    return csc_matrix((data, (row, col)), shape=(1, max_row_id+1))\n",
      "\n",
      "def colsim(rdd):\n",
      "    max_row_id = rdd.map(lambda x:x[0][0]).max()\n",
      "    colRowVect = rdd.map(lambda x: (x[0][1],(x[1], x[0][0]))).groupByKey()\\\n",
      "        .map(lambda x: (x[0], tosparse(x[1], max_row_id)))        \n",
      "    return colRowVect.cartesian(colRowVect).map(lambda x: ((x[0][0],x[1][0]), x[0][1].dot(x[1][1].T)[0,0]))\n",
      "\n",
      "playlistSimilarityRDD = colsim(normSparseMatrixRDDelements).filter(lambda x:x[0][0] != x[0][1])\n",
      "'''"
     ],
     "language": "python",
     "metadata": {},
     "outputs": [
      {
       "metadata": {},
       "output_type": "pyout",
       "prompt_number": 70,
       "text": [
        "'\\nfrom scipy.sparse import csc_matrix\\n\\ndef tosparse(l, max_row_id):\\n    data =[i[0] for i in l]\\n    col = [i[1] for i in l]\\n    row = np.zeros(len(col))\\n    return csc_matrix((data, (row, col)), shape=(1, max_row_id+1))\\n\\ndef colsim(rdd):\\n    max_row_id = rdd.map(lambda x:x[0][0]).max()\\n    colRowVect = rdd.map(lambda x: (x[0][1],(x[1], x[0][0]))).groupByKey()        .map(lambda x: (x[0], tosparse(x[1], max_row_id)))        \\n    return colRowVect.cartesian(colRowVect).map(lambda x: ((x[0][0],x[1][0]), x[0][1].dot(x[1][1].T)[0,0]))\\n\\nplaylistSimilarityRDD = colsim(normSparseMatrixRDDelements).filter(lambda x:x[0][0] != x[0][1])\\n'"
       ]
      }
     ],
     "prompt_number": 70
    },
    {
     "cell_type": "code",
     "collapsed": false,
     "input": [
      "playlistSimilarityRDD = colsim_join(normSparseMatrixRDDelements)"
     ],
     "language": "python",
     "metadata": {},
     "outputs": []
    },
    {
     "cell_type": "code",
     "collapsed": false,
     "input": [
      "playlistSimilarityRDD.take(10)"
     ],
     "language": "python",
     "metadata": {},
     "outputs": []
    },
    {
     "cell_type": "heading",
     "level": 1,
     "metadata": {},
     "source": [
      "UserSession-Playlist Profile"
     ]
    },
    {
     "cell_type": "code",
     "collapsed": false,
     "input": [
      "testOnline.first()"
     ],
     "language": "python",
     "metadata": {},
     "outputs": []
    },
    {
     "cell_type": "code",
     "collapsed": false,
     "input": [
      "def readJson(x):\n",
      "    return json.loads(x)\n",
      "\n",
      "def decay(tracks, factor=.5):\n",
      "    w = 1\n",
      "    l = list()\n",
      "    user_session = tracks[0]\n",
      "    print tracks[1][0]['object']\n",
      "    for t in tracks[1][0]['object'][::-1]:\n",
      "        track_id = t['id']\n",
      "        l.append(((user_session, track_id), w))\n",
      "        w *= factor\n",
      "    return l \n",
      "\n",
      "#(((userid, sessionid), trackid), weight)\n",
      "sessionTrackRDD = testOnline.map(lambda x: x.split('\\t'))\\\n",
      "    .map(lambda x:((readJson(x[4])[0]['subjects'][0]['id'], int(x[1])), readJson(x[4])))\\\n",
      "    .flatMap(lambda x:decay(x, EXP_DECAY_FACTOR))\n",
      "print '(((userid, sessionid), trackid), weight)'\n",
      "sessionTrackRDD.take(10)"
     ],
     "language": "python",
     "metadata": {},
     "outputs": []
    },
    {
     "cell_type": "code",
     "collapsed": false,
     "input": [
      "sessionPlaylistRDD = matmul_join(sessionTrackRDD, playlists)\n",
      "sessionPlaylistRDD.persist()"
     ],
     "language": "python",
     "metadata": {},
     "outputs": []
    },
    {
     "cell_type": "code",
     "collapsed": false,
     "input": [
      "sessionPlaylistRDD.take(10)"
     ],
     "language": "python",
     "metadata": {},
     "outputs": []
    },
    {
     "cell_type": "heading",
     "level": 1,
     "metadata": {},
     "source": [
      "userProfile * PlaylistSimilarityMatrix"
     ]
    },
    {
     "cell_type": "code",
     "collapsed": false,
     "input": [
      "predictedPlaylistRDD = matmul_join(sessionPlaylistRDD, playlistSimilarityRDD)"
     ],
     "language": "python",
     "metadata": {},
     "outputs": []
    },
    {
     "cell_type": "code",
     "collapsed": false,
     "input": [
      "predictedPlaylistRDD.take(10)"
     ],
     "language": "python",
     "metadata": {},
     "outputs": []
    },
    {
     "cell_type": "code",
     "collapsed": false,
     "input": [
      "playlistTracksRDD = playlists.map(lambda x:(x[0][0], x[0][1])).groupByKey()\n",
      "playlistTracksRDD.first()"
     ],
     "language": "python",
     "metadata": {},
     "outputs": []
    },
    {
     "cell_type": "code",
     "collapsed": false,
     "input": [
      "# maps playlist id to its tracks\n",
      "predictedTracksRDD = predictedPlaylistRDD.map(lambda x: (x[0][1], (x[0][0], x[1])))\\\n",
      "    .join(playlistTracksRDD).map(lambda x: ((x[1][0][0], x[1][1]), x[1][0][1]))"
     ],
     "language": "python",
     "metadata": {},
     "outputs": []
    },
    {
     "cell_type": "code",
     "collapsed": false,
     "input": [
      "predictedTracksRDD.first()"
     ],
     "language": "python",
     "metadata": {},
     "outputs": []
    },
    {
     "cell_type": "code",
     "collapsed": false,
     "input": [
      "#computes the recommendation list, by picking the first N tracks from the top scored playlists\n",
      "def bestTracks(pl_rec,excluded_tracks, N=100):\n",
      "    excluded_tracks_set = set(excluded_tracks)\n",
      "    l = list(pl_rec)\n",
      "    l.sort(key=lambda x:float(x[1]), reverse=True)\n",
      "    resList = []\n",
      "    rank = 0\n",
      "    for i in l:\n",
      "        tracks = []\n",
      "        for t in i[0]:\n",
      "            if t not in excluded_tracks_set:\n",
      "                tracks.append((t, rank))\n",
      "                rank += 1\n",
      "        resList.extend(tracks)\n",
      "        if len(resList) >= N:\n",
      "            break\n",
      "    return resList[0:N]\n",
      "\n",
      "\n",
      "sessionPlaylistWeightedRDD = predictedTracksRDD.map(lambda x:(x[0][0],(x[0][1], x[1]))).groupByKey()\n",
      "predictedTraksWithProfile = sessionTrackRDD.map(lambda x: x[0]).groupByKey().join(sessionPlaylistWeightedRDD)\n",
      "\n",
      "\n",
      "predictedTracks = predictedTraksWithProfile.map(lambda x:(x[0], bestTracks(x[1][1],x[1][0], REC_LIST_SIZE)))\n",
      "predictedTracks.first()"
     ],
     "language": "python",
     "metadata": {},
     "outputs": []
    },
    {
     "cell_type": "code",
     "collapsed": false,
     "input": [
      "#convert the recommended tracks into the required JSON format\n",
      "def recToJson(x):\n",
      "    sep = \"\\t\"\n",
      "    res = \"recommendation\" + sep\n",
      "    res += str(x[0][1]) + sep + \"-1\" + sep + \"{}\" + sep + '{\"objects\":['\n",
      "    trlist = ['{\"type\": \"track\", \"id\": %i, \"rank\": %i}' % (t[0],t[1]) for t in x[1]]\n",
      "    res += \",\".join(trlist)\n",
      "    res += \"]}\"\n",
      "    return res\n",
      "recJsonRDD = predictedTracks.map(lambda x: recToJson(x))"
     ],
     "language": "python",
     "metadata": {},
     "outputs": []
    },
    {
     "cell_type": "code",
     "collapsed": false,
     "input": [
      "recJsonRDD.first()"
     ],
     "language": "python",
     "metadata": {},
     "outputs": []
    },
    {
     "cell_type": "code",
     "collapsed": false,
     "input": [],
     "language": "python",
     "metadata": {},
     "outputs": []
    }
   ],
   "metadata": {}
  }
 ]
}
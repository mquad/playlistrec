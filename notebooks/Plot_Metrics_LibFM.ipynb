{
 "metadata": {
  "name": ""
 },
 "nbformat": 3,
 "nbformat_minor": 0,
 "worksheets": [
  {
   "cells": [
    {
     "cell_type": "code",
     "collapsed": false,
     "input": [
      "import json\n",
      "import copy\n",
      "\n",
      "conf = {}\n",
      "\n",
      "conf['split'] = {}\n",
      "conf['split']['reclistSize'] = 100\n",
      "conf['split']['callParams'] = {}\n",
      "conf['split']['excludeAlreadyListenedTest'] = True\n",
      "conf['split']['name'] = '0_1SPLIT_1413851857_sessionsession_1413851857'\n",
      "conf['split']['minEventsPerUser'] = 5\n",
      "conf['split']['inputData'] = 's3n://contentwise-research-poli/split2.split/0_1SPLIT_1413851857_sessionsession_1413851857/'\n",
      "#conf['split']['inputData'] = 's3n://contentwise-research-poli/30musicdataset/newFormat/relations/sessions.idomaar'\n",
      "conf['split']['bucketName'] = 'contentwise-research-poli'\n",
      "conf['split']['percUsTr'] = 0.05\n",
      "conf['split']['ts'] = int(0.75 * (1421745857 - 1390209860) + 1390209860) - 10000\n",
      "conf['split']['minEventPerSession'] = 5\n",
      "conf['split']['onlineTrainingLength'] = 5\n",
      "conf['split']['GTlength'] = 5\n",
      "conf['split']['minEventPerSessionTraining'] = 10\n",
      "conf['split']['minEventPerSessionTest'] = 11\n",
      "conf['split']['mode'] = 'session'\n",
      "conf['split']['forceSplitCreation'] = False\n",
      "\n",
      "conf['evaluation'] = {}\n",
      "conf['evaluation']['metric'] = {}\n",
      "conf['evaluation']['metric']['type'] = 'recall'\n",
      "conf['evaluation']['metric']['prop'] = {}\n",
      "conf['evaluation']['metric']['prop']['N'] = [1,2,5,10,15,20,25,50,100]\n",
      "conf['evaluation']['name'] = 'recall@N'\n",
      "\n",
      "conf['general'] = {}\n",
      "conf['general']['clientname'] = \"split2.split\"\n",
      "conf['general']['bucketName'] = 'contentwise-research-poli'\n",
      "conf['general']['tmpDir'] = \"/tmp\"\n",
      "\n",
      "conf['algo'] = {}\n",
      "conf['algo']['name'] = 'LibFM_fixed'\n",
      "conf['algo']['props'] = {}\n",
      "conf['algo']['props']['libFMbin'] = \"/mnt/xvdf/libfm/bin/./libFM\"\n",
      "conf['algo']['props']['shuffleTraining'] = True\n",
      "conf['algo']['props']['maxRequestsPerUser'] = 1\n",
      "# ***** EXAMPLE OF CONFIGURATION *****#\n",
      "conf['algo']['props']['collaborativity'] = 'knn' #individual, (all), knn\n",
      "conf['algo']['props']['neighborhoodSize'] = 2 #neighborhood size for the knn collaborativity (NOTE: it includes the user itself! set to 2 for the closest neighbor)\n",
      "conf['algo']['props']['duplicatePolicy'] = 'unique_max' #none, unique_max, unique_min\n",
      "conf['algo']['props']['historyAggrPolicy'] = 'count' #count, avg, max, min, [exp_decay and others to be implemented]\n",
      "conf['algo']['props']['trainGenPolicy'] = 'leaveoneout' #leaveoneout, sequential\n",
      "conf['algo']['props']['latentSize'] = 2\n",
      "conf['algo']['props']['libFMopt'] = \"-task c -dim '1,1,25' -iter 50\"\n",
      "# ****** END EXAMPLE ****************#"
     ],
     "language": "python",
     "metadata": {},
     "outputs": [],
     "prompt_number": 1
    },
    {
     "cell_type": "code",
     "collapsed": false,
     "input": [
      "import matplotlib.pyplot as plt\n",
      "from matplotlib import cm\n",
      "\n",
      "def bar_plot(x, y, labels, metric):\n",
      "    n_groups = len(x)\n",
      "    \n",
      "    fig, ax = plt.subplots()\n",
      "    \n",
      "    index = np.arange(n_groups)\n",
      "    bar_width = float(1)/len(y)\n",
      "    \n",
      "    opacity = 0.4\n",
      "    \n",
      "    for idx, label_y in enumerate(zip(labels, y)):\n",
      "        label, values = label_y\n",
      "        plt.bar(index + idx*bar_width, values, bar_width,\n",
      "                alpha=opacity,\n",
      "                color=cm.jet(float(idx)/len(y)),\n",
      "                label=label)\n",
      "\n",
      "    plt.xlabel('N')\n",
      "    plt.ylabel(metric)\n",
      "    plt.xticks(index, x)\n",
      "    plt.legend()\n",
      "    \n",
      "    plt.tight_layout()\n",
      "    plt.show()\n"
     ],
     "language": "python",
     "metadata": {},
     "outputs": [],
     "prompt_number": 2
    },
    {
     "cell_type": "code",
     "collapsed": false,
     "input": [
      "import boto\n",
      "import json\n",
      "import numpy as np\n",
      "from os import path\n",
      "\n",
      "s3 = boto.connect_s3()\n",
      "mybucket = s3.get_bucket(conf['general']['bucketName'])\n",
      "base_path = path.join('s3n://', conf['general']['bucketName'])\n",
      "rec_path = path.join(conf['general']['clientname'], conf['split'][\"name\"], 'Rec')\n",
      "algo_path = path.join(rec_path, conf['algo']['name'])\n",
      "print algo_path"
     ],
     "language": "python",
     "metadata": {},
     "outputs": [
      {
       "output_type": "stream",
       "stream": "stdout",
       "text": [
        "split2.split/0_1SPLIT_1413851857_sessionsession_1413851857/Rec/LibFM_fixed\n"
       ]
      }
     ],
     "prompt_number": 3
    },
    {
     "cell_type": "code",
     "collapsed": false,
     "input": [
      "# list all /metrics folders for the given algorithm\n",
      "metrics_end = path.join(conf['evaluation']['name'], 'metrics', '_SUCCESS')\n",
      "_success_len = len('_SUCCESS')\n",
      "metric_folders = [k.name[:-_success_len] for k in mybucket.list(prefix=algo_path) if k.name.endswith(metrics_end)]"
     ],
     "language": "python",
     "metadata": {},
     "outputs": [],
     "prompt_number": 4
    },
    {
     "cell_type": "code",
     "collapsed": false,
     "input": [
      "print metric_folders[:10]"
     ],
     "language": "python",
     "metadata": {},
     "outputs": [
      {
       "output_type": "stream",
       "stream": "stdout",
       "text": [
        "[u'split2.split/0_1SPLIT_1413851857_sessionsession_1413851857/Rec/LibFM_fixed_leaveoneout#True#unique_max#16#avg#1#individual#1/recall@N/metrics/', u'split2.split/0_1SPLIT_1413851857_sessionsession_1413851857/Rec/LibFM_fixed_leaveoneout#True#unique_max#16#count#1#individual#5/recall@N/metrics/', u'split2.split/0_1SPLIT_1413851857_sessionsession_1413851857/Rec/LibFM_fixed_leaveoneout#True#unique_max#16#count#2#knn#5/recall@N/metrics/']\n"
       ]
      }
     ],
     "prompt_number": 5
    },
    {
     "cell_type": "code",
     "collapsed": false,
     "input": [
      "len(metric_folders)"
     ],
     "language": "python",
     "metadata": {},
     "outputs": [
      {
       "metadata": {},
       "output_type": "pyout",
       "prompt_number": 6,
       "text": [
        "3"
       ]
      }
     ],
     "prompt_number": 6
    },
    {
     "cell_type": "code",
     "collapsed": false,
     "input": [
      "metrics = [\n",
      "    (mf.split('/')[-4],\n",
      "    sc.textFile(path.join(base_path, mf))\\\n",
      "    .map(lambda x : json.loads(x))\\\n",
      "    .map(lambda x: x['evaluation']['value'])\\\n",
      "    .collect()\n",
      "    )\n",
      "    for mf in metric_folders\n",
      "    ]"
     ],
     "language": "python",
     "metadata": {},
     "outputs": [],
     "prompt_number": 7
    },
    {
     "cell_type": "code",
     "collapsed": false,
     "input": [
      "print metrics"
     ],
     "language": "python",
     "metadata": {},
     "outputs": [
      {
       "output_type": "stream",
       "stream": "stdout",
       "text": [
        "[(u'LibFM_fixed_leaveoneout#True#unique_max#16#avg#1#individual#1', [4.5639771801141e-05, 6.519967400162999e-05, 0.00016299918500407498, 0.00044335778321108395, 0.0006911165444172779, 0.0009388753056234719, 0.0011149144254278729, 0.0020537897310513448, 0.0034360228198859004]), (u'LibFM_fixed_leaveoneout#True#unique_max#16#count#1#individual#5', [0.00022167889160554198, 0.00038467807660961693, 0.001023634881825591, 0.002034229828850856, 0.0028361858190709046, 0.0037033414832925837, 0.004427057864710676, 0.008247758761206194, 0.01384841075794621]), (u'LibFM_fixed_leaveoneout#True#unique_max#16#count#2#knn#5', [5.867970660146699e-05, 0.00013039934800325998, 0.000410757946210269, 0.0008475957620211899, 0.0012322738386308068, 0.0016104319478402608, 0.0019233903830480847, 0.004198859005704971, 0.008645476772616137])]\n"
       ]
      }
     ],
     "prompt_number": 8
    },
    {
     "cell_type": "code",
     "collapsed": false,
     "input": [
      "labels, y = zip(*metrics)"
     ],
     "language": "python",
     "metadata": {},
     "outputs": [],
     "prompt_number": 9
    },
    {
     "cell_type": "code",
     "collapsed": false,
     "input": [
      "N=6\n",
      "x_up_to_N = conf['evaluation']['metric']['prop']['N'][:N]\n",
      "y_up_to_N = [v[:N] for v in y]\n",
      "x_up_to_N"
     ],
     "language": "python",
     "metadata": {},
     "outputs": [
      {
       "metadata": {},
       "output_type": "pyout",
       "prompt_number": 12,
       "text": [
        "[1, 2, 5, 10, 15, 20]"
       ]
      }
     ],
     "prompt_number": 12
    },
    {
     "cell_type": "code",
     "collapsed": false,
     "input": [
      "import matplotlib.pylab as pylab\n",
      "pylab.rcParams['figure.figsize'] = 16, 12  # that's default image size for this interactive session\n",
      "bar_plot(x_up_to_N, y_up_to_N, labels, conf['evaluation']['name'])"
     ],
     "language": "python",
     "metadata": {},
     "outputs": [
      {
       "metadata": {},
       "output_type": "display_data",
       "png": "[encoded data removed]",
       "text": [
        "<matplotlib.figure.Figure at 0x7f5a78d6a690>"
       ]
      }
     ],
     "prompt_number": 13
    },
    {
     "cell_type": "code",
     "collapsed": false,
     "input": [],
     "language": "python",
     "metadata": {},
     "outputs": [],
     "prompt_number": 121
    }
   ],
   "metadata": {}
  }
 ]
}
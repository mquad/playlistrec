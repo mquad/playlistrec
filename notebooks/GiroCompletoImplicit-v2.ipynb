{
 "metadata": {
  "name": "",
  "signature": "sha256:0b4485798711753e1d0c8eecf41aded29c9c54a56bdcc165e93326506bba4128"
 },
 "nbformat": 3,
 "nbformat_minor": 0,
 "worksheets": [
  {
   "cells": [
    {
     "cell_type": "code",
     "collapsed": false,
     "input": [
      "execfile('/home/massimo/workspace/spark-scripts/music/scripts/ToBeUploaded/split.py')\n",
      "execfile('/home/massimo/workspace/spark-scripts/music/scripts/ToBeUploaded/utils.py')\n",
      "execfile('/home/massimo/workspace/spark-scripts/music/scripts/ToBeUploaded/implicitPlaylistAlgoFunctions.py')\n",
      "execfile('/home/massimo/workspace/spark-scripts/music/scripts/ToBeUploaded/implicitPlaylistAlgoMain.py')\n",
      "execfile('/home/massimo/workspace/spark-scripts/music/scripts/ToBeUploaded/eval.py')"
     ],
     "language": "python",
     "metadata": {},
     "outputs": [],
     "prompt_number": 11
    },
    {
     "cell_type": "heading",
     "level": 1,
     "metadata": {},
     "source": [
      "Reading the conf file"
     ]
    },
    {
     "cell_type": "code",
     "collapsed": false,
     "input": [
      "import json\n",
      "import copy\n",
      "\n",
      "conf = {}\n",
      "\n",
      "conf['split'] = {}\n",
      "conf['split']['reclistSize'] = 100\n",
      "conf['split']['callParams'] = {}\n",
      "conf['split']['excludeAlreadyListenedTest'] = True\n",
      "conf['split']['name'] = 'giroCompletoImplicitMultipleConfs'\n",
      "conf['split']['minEventsPerUser'] = 5\n",
      "#conf['split']['inputData'] = 's3n://contentwise-research-poli/30musicdataset/newFormat/relations/sessions.idomaar/part-00000'\n",
      "conf['split']['inputData'] = 's3n://contentwise-research-poli/30musicdataset/newFormat/relations/sessions.idomaar'\n",
      "conf['split']['bucketName'] = 'contentwise-research-poli'\n",
      "conf['split']['percUsTr'] = 0.05\n",
      "conf['split']['ts'] = int(0.75 * (1421745857 - 1390209860) + 1390209860) - 10000\n",
      "conf['split']['minEventPerSession'] = 5\n",
      "conf['split']['onlineTrainingLength'] = 5\n",
      "conf['split']['GTlength'] = 5\n",
      "conf['split']['minEventPerSessionTraining'] = 10\n",
      "conf['split']['minEventPerSessionTest'] = 11\n",
      "conf['split']['mode'] = 'session'\n",
      "conf['split']['forceSplitCreation'] = False\n",
      "\n",
      "conf['evaluation'] = {}\n",
      "conf['evaluation']['metric'] = {}\n",
      "conf['evaluation']['metric']['type'] = 'recall'\n",
      "conf['evaluation']['metric']['prop'] = {}\n",
      "conf['evaluation']['metric']['prop']['N'] = [1,2,5,10,15,20,25,50,100]\n",
      "conf['evaluation']['name'] = 'recall@N'\n",
      "\n",
      "conf['general'] = {}\n",
      "conf['general']['clientname'] = \"split\"\n",
      "conf['general']['bucketName'] = 'contentwise-research-poli'\n",
      "\n",
      "conf['algo'] = {}\n",
      "conf['algo']['name'] = 'ImplicitPlaylist'\n",
      "conf['algo']['props'] = {}\n",
      "# ***** EXAMPLE OF CONFIGURATION *****#\n",
      "conf['algo']['props'][\"sessionJaccardShrinkage\"] = 5\n",
      "conf['algo']['props'][\"clusterSimilarityThreshold\"] = 0.5\n",
      "conf['algo']['props'][\"expDecayFactor\"] = 0.5\n",
      "# ****** END EXAMPLE ****************#"
     ],
     "language": "python",
     "metadata": {},
     "outputs": [],
     "prompt_number": 12
    },
    {
     "cell_type": "code",
     "collapsed": false,
     "input": [
      "from os import path\n",
      "basePath = path.join(\"s3n://\", conf['general']['bucketName'], conf['general']['clientname'])\n",
      "splitPath = path.join(basePath, conf['split']['name'])\n",
      "\n",
      "expDecayList = [0.5, 0.7, 0.9]\n",
      "clusterSimList = [0.3, 0.5, 0.7]\n",
      "\n",
      "expDecayList = [0.5]\n",
      "clusterSimList = [0.3]\n",
      "\n",
      "\n",
      "for exclude in [True]:\n",
      "    conf['split']['excludeAlreadyListenedTest'] = str(exclude)\n",
      "    conf['split']['name'] = 'giroCompletoTestMultipleConfs_exclude%s' % exclude\n",
      "    #splitter(conf)\n",
      "    for expDecay in expDecayList:\n",
      "        conf['algo']['props'][\"expDecayFactor\"] = expDecay\n",
      "        for clusterSim in clusterSimList:\n",
      "            conf['algo']['props'][\"clusterSimilarityThreshold\"] = clusterSim\n",
      "            conf['algo']['name'] = 'ImplicitPlaylist_exp_%f_clustSim_%f' %(expDecay, clusterSim)\n",
      "            \n",
      "            recJsonRDD = executeImplicitPlaylistAlgo(conf)\n",
      "            \n",
      "            algo_conf = conf['algo']['name'] + '_' + \\\n",
      "            '#'.join([str(v) for k, v in conf['algo']['props'].iteritems()])\n",
      "\n",
      "            outfile = path.join(splitPath, \"Rec\", algo_conf, \"recommendations\")\n",
      "            recJsonRDD.repartition(10).saveAsTextFile(outfile)\n",
      "            computeMetrics(conf)            "
     ],
     "language": "python",
     "metadata": {},
     "outputs": [
      {
       "output_type": "stream",
       "stream": "stdout",
       "text": [
        "recall@N successfully written to s3n://contentwise-research-poli/split/giroCompletoTestMultipleConfs_excludeTrue/Rec/ImplicitPlaylist_exp_0.500000_clustSim_0.300000_5#0.5#0.3/recall@N/metrics\n"
       ]
      }
     ],
     "prompt_number": 15
    },
    {
     "cell_type": "code",
     "collapsed": false,
     "input": [],
     "language": "python",
     "metadata": {},
     "outputs": []
    }
   ],
   "metadata": {}
  }
 ]
}